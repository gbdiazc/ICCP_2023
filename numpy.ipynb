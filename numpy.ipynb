{
 "cells": [
  {
   "cell_type": "markdown",
   "id": "4241affc",
   "metadata": {},
   "source": [
    "##  Librería de numpy\n",
    "\n",
    "# np.where (condición)\n",
    "\n",
    "Regresa una tupla con los indices del arreglo numpy en donde se cumple la condición."
   ]
  },
  {
   "cell_type": "code",
   "execution_count": 1,
   "id": "9d55931f",
   "metadata": {},
   "outputs": [
    {
     "name": "stdout",
     "output_type": "stream",
     "text": [
      "[2 6 5 9 3 9 4 6 1 8] x\n"
     ]
    },
    {
     "data": {
      "text/plain": [
       "(array([1, 3, 5, 7, 9], dtype=int64),)"
      ]
     },
     "execution_count": 1,
     "metadata": {},
     "output_type": "execute_result"
    }
   ],
   "source": [
    "import numpy as np\n",
    "import random\n",
    "\n",
    "x= np.array([2 , 6, 5, 9, 3, 9, 4, 6, 1, 8])\n",
    "print(x, 'x')\n",
    "np.where(x>5)\n",
    "\n",
    "\n"
   ]
  },
  {
   "cell_type": "code",
   "execution_count": 5,
   "id": "c6d75a3a",
   "metadata": {},
   "outputs": [
    {
     "data": {
      "text/plain": [
       "(array([1, 7, 9], dtype=int64),)"
      ]
     },
     "execution_count": 5,
     "metadata": {},
     "output_type": "execute_result"
    }
   ],
   "source": [
    "np.where((x>5) & (x<9))"
   ]
  },
  {
   "cell_type": "code",
   "execution_count": 6,
   "id": "7d0415bc",
   "metadata": {},
   "outputs": [
    {
     "data": {
      "text/plain": [
       "array([6, 6, 8])"
      ]
     },
     "execution_count": 6,
     "metadata": {},
     "output_type": "execute_result"
    }
   ],
   "source": [
    "x[np.where((x>5) & (x<9))]"
   ]
  },
  {
   "cell_type": "code",
   "execution_count": 7,
   "id": "6b4d0074",
   "metadata": {},
   "outputs": [
    {
     "name": "stdout",
     "output_type": "stream",
     "text": [
      "[2 0 5 9 3 9 4 0 1 0] x\n"
     ]
    }
   ],
   "source": [
    "x[np.where((x>5) & (x<9))]=0\n",
    "print(x, 'x')"
   ]
  },
  {
   "cell_type": "markdown",
   "id": "d78767ab",
   "metadata": {},
   "source": [
    "# np.where (condicion, [x, y]/)\n",
    "\n",
    "Donde la condición es verdadera, produce x, donde no produce y"
   ]
  },
  {
   "cell_type": "code",
   "execution_count": 8,
   "id": "fa340588",
   "metadata": {},
   "outputs": [
    {
     "name": "stdout",
     "output_type": "stream",
     "text": [
      "[2 6 5 9 3 9 4 6 1 8] x\n"
     ]
    },
    {
     "data": {
      "text/plain": [
       "array([2, 0, 5, 9, 3, 9, 4, 0, 1, 0])"
      ]
     },
     "execution_count": 8,
     "metadata": {},
     "output_type": "execute_result"
    }
   ],
   "source": [
    "x= np.array([2 , 6, 5, 9, 3, 9, 4, 6, 1, 8])\n",
    "print(x, 'x')\n",
    "np.where((x>5) & (x<9), 0, x)"
   ]
  },
  {
   "cell_type": "code",
   "execution_count": 9,
   "id": "d6a68d96",
   "metadata": {},
   "outputs": [
    {
     "name": "stdout",
     "output_type": "stream",
     "text": [
      "[2 6 5 9 3 9 4 6 1 8] x\n"
     ]
    },
    {
     "data": {
      "text/plain": [
       "array([0, 6, 0, 0, 0, 0, 0, 6, 0, 8])"
      ]
     },
     "execution_count": 9,
     "metadata": {},
     "output_type": "execute_result"
    }
   ],
   "source": [
    "x= np.array([2 , 6, 5, 9, 3, 9, 4, 6, 1, 8])\n",
    "print(x, 'x')\n",
    "np.where((x>5) & (x<9), x, 0)"
   ]
  },
  {
   "cell_type": "markdown",
   "id": "00d495f1",
   "metadata": {},
   "source": [
    "## Se pueden comparar dos arreglos"
   ]
  },
  {
   "cell_type": "code",
   "execution_count": 10,
   "id": "48ccf87c",
   "metadata": {},
   "outputs": [
    {
     "name": "stdout",
     "output_type": "stream",
     "text": [
      "(array([1, 3, 5, 7], dtype=int64),) <class 'tuple'>\n"
     ]
    }
   ],
   "source": [
    "a = np.array([1,2,3,2,3,4,3,4,5,6])\n",
    "b = np.array([7,2,10,2,7,4,9,4,9,8])\n",
    "\n",
    "print(np.where(a==b), type(np.where(a==b)))"
   ]
  },
  {
   "cell_type": "code",
   "execution_count": 11,
   "id": "e94fc371",
   "metadata": {},
   "outputs": [
    {
     "name": "stdout",
     "output_type": "stream",
     "text": [
      "[2 2 4 4]\n"
     ]
    }
   ],
   "source": [
    "print(b[np.where(a==b)])"
   ]
  },
  {
   "cell_type": "code",
   "execution_count": 12,
   "id": "10c3f79a",
   "metadata": {},
   "outputs": [],
   "source": [
    "b[np.where(a==b)]=10"
   ]
  },
  {
   "cell_type": "code",
   "execution_count": 13,
   "id": "a39c452e",
   "metadata": {},
   "outputs": [
    {
     "name": "stdout",
     "output_type": "stream",
     "text": [
      "[ 7 10 10 10  7 10  9 10  9  8]\n"
     ]
    }
   ],
   "source": [
    "print(b)"
   ]
  },
  {
   "cell_type": "code",
   "execution_count": 14,
   "id": "7b405793",
   "metadata": {},
   "outputs": [],
   "source": [
    "e=np.where(b==10, 6,b)"
   ]
  },
  {
   "cell_type": "code",
   "execution_count": 15,
   "id": "ce6017f8",
   "metadata": {},
   "outputs": [
    {
     "name": "stdout",
     "output_type": "stream",
     "text": [
      "[7 6 6 6 7 6 9 6 9 8]\n"
     ]
    }
   ],
   "source": [
    "print(e)"
   ]
  },
  {
   "cell_type": "code",
   "execution_count": 16,
   "id": "79b2a767",
   "metadata": {},
   "outputs": [
    {
     "name": "stdout",
     "output_type": "stream",
     "text": [
      "[ 6 10 10 10  6 10  6 10  6  6]\n"
     ]
    }
   ],
   "source": [
    "f= np.where(b==10, b,6)\n",
    "print(f)"
   ]
  },
  {
   "cell_type": "markdown",
   "id": "6fa1a854",
   "metadata": {},
   "source": [
    "## Numpy y máscaras "
   ]
  },
  {
   "cell_type": "code",
   "execution_count": 17,
   "id": "2e201296",
   "metadata": {},
   "outputs": [
    {
     "name": "stdout",
     "output_type": "stream",
     "text": [
      "[False  True False False False False False  True False  True]\n"
     ]
    }
   ],
   "source": [
    "x= np.array([2 , 6, 5, 9, 3, 9, 4, 6, 1, 8])\n",
    "print((x>5) & (x<9))"
   ]
  },
  {
   "cell_type": "code",
   "execution_count": 18,
   "id": "0bb3d8ab",
   "metadata": {},
   "outputs": [
    {
     "data": {
      "text/plain": [
       "array([6, 6, 8])"
      ]
     },
     "execution_count": 18,
     "metadata": {},
     "output_type": "execute_result"
    }
   ],
   "source": [
    "x[(x>5) & (x<9)]"
   ]
  },
  {
   "cell_type": "code",
   "execution_count": 19,
   "id": "b5664a99",
   "metadata": {},
   "outputs": [
    {
     "name": "stdout",
     "output_type": "stream",
     "text": [
      "[2 0 5 9 3 9 4 0 1 0] x\n"
     ]
    }
   ],
   "source": [
    "x[(x>5) & (x<9)]=0\n",
    "print(x, 'x')"
   ]
  },
  {
   "cell_type": "markdown",
   "id": "58847496",
   "metadata": {},
   "source": [
    "## Comparación entre arreglos bi dimensionales"
   ]
  },
  {
   "cell_type": "code",
   "execution_count": 20,
   "id": "b5c3bcb0",
   "metadata": {},
   "outputs": [],
   "source": [
    "a = np.random.randint(1,10,(3,3))\n",
    "b = np.random.randint(1,10,(3,3))"
   ]
  },
  {
   "cell_type": "code",
   "execution_count": 21,
   "id": "8aac37f7",
   "metadata": {},
   "outputs": [
    {
     "name": "stdout",
     "output_type": "stream",
     "text": [
      "[[7 5 1]\n",
      " [2 8 2]\n",
      " [4 3 6]] a\n",
      " [[1 8 5]\n",
      " [9 4 3]\n",
      " [8 3 9]] b\n"
     ]
    }
   ],
   "source": [
    "print(a,'a\\n', b, 'b')"
   ]
  },
  {
   "cell_type": "code",
   "execution_count": 22,
   "id": "8c08da27",
   "metadata": {},
   "outputs": [],
   "source": [
    "d= a==b"
   ]
  },
  {
   "cell_type": "code",
   "execution_count": 23,
   "id": "25c52774",
   "metadata": {},
   "outputs": [
    {
     "name": "stdout",
     "output_type": "stream",
     "text": [
      "[[False False False]\n",
      " [False False False]\n",
      " [False  True False]]\n"
     ]
    }
   ],
   "source": [
    "print(d)"
   ]
  },
  {
   "cell_type": "code",
   "execution_count": 24,
   "id": "741d0caa",
   "metadata": {},
   "outputs": [
    {
     "data": {
      "text/plain": [
       "numpy.ndarray"
      ]
     },
     "execution_count": 24,
     "metadata": {},
     "output_type": "execute_result"
    }
   ],
   "source": [
    "type(d)"
   ]
  },
  {
   "cell_type": "code",
   "execution_count": 25,
   "id": "7dc7899d",
   "metadata": {},
   "outputs": [
    {
     "data": {
      "text/plain": [
       "array([3])"
      ]
     },
     "execution_count": 25,
     "metadata": {},
     "output_type": "execute_result"
    }
   ],
   "source": [
    "a[a==b]"
   ]
  },
  {
   "cell_type": "code",
   "execution_count": 26,
   "id": "36856ae6",
   "metadata": {},
   "outputs": [
    {
     "data": {
      "text/plain": [
       "(array([2], dtype=int64), array([1], dtype=int64))"
      ]
     },
     "execution_count": 26,
     "metadata": {},
     "output_type": "execute_result"
    }
   ],
   "source": [
    "np.where(a==b)\n"
   ]
  },
  {
   "cell_type": "code",
   "execution_count": 27,
   "id": "71f0a5ee",
   "metadata": {},
   "outputs": [
    {
     "name": "stdout",
     "output_type": "stream",
     "text": [
      "[[7 5 0]\n",
      " [0 8 0]\n",
      " [0 0 6]]\n"
     ]
    }
   ],
   "source": [
    "a[a<5]=0\n",
    "print(a)"
   ]
  },
  {
   "cell_type": "markdown",
   "id": "cc0ec966",
   "metadata": {},
   "source": [
    "## np.where con arreglos bidimensionales"
   ]
  },
  {
   "cell_type": "code",
   "execution_count": 28,
   "id": "3fe161ee",
   "metadata": {},
   "outputs": [
    {
     "name": "stdout",
     "output_type": "stream",
     "text": [
      "[[7 6 4]\n",
      " [2 1 8]\n",
      " [4 4 4]] c\n",
      " [[7 1 4]\n",
      " [8 9 2]\n",
      " [8 1 9]] d\n"
     ]
    }
   ],
   "source": [
    "c = np.random.randint(1,10,(3,3))\n",
    "d = np.random.randint(1,10,(3,3))\n",
    "print(c,'c\\n', d, 'd')"
   ]
  },
  {
   "cell_type": "code",
   "execution_count": 29,
   "id": "2006f5e4",
   "metadata": {},
   "outputs": [
    {
     "data": {
      "text/plain": [
       "array([[ 7, 10,  4],\n",
       "       [10, 10, 10],\n",
       "       [10, 10, 10]])"
      ]
     },
     "execution_count": 29,
     "metadata": {},
     "output_type": "execute_result"
    }
   ],
   "source": [
    "np.where(c==d, c, 10)"
   ]
  },
  {
   "cell_type": "code",
   "execution_count": 30,
   "id": "d58edd00",
   "metadata": {},
   "outputs": [
    {
     "data": {
      "text/plain": [
       "array([[10,  0,  0],\n",
       "       [10, 10,  0],\n",
       "       [10,  0, 10]])"
      ]
     },
     "execution_count": 30,
     "metadata": {},
     "output_type": "execute_result"
    }
   ],
   "source": [
    "np.where(d<5, 0, 10)"
   ]
  },
  {
   "cell_type": "code",
   "execution_count": null,
   "id": "5d4764bf",
   "metadata": {},
   "outputs": [],
   "source": []
  }
 ],
 "metadata": {
  "kernelspec": {
   "display_name": "Python 3 (ipykernel)",
   "language": "python",
   "name": "python3"
  },
  "language_info": {
   "codemirror_mode": {
    "name": "ipython",
    "version": 3
   },
   "file_extension": ".py",
   "mimetype": "text/x-python",
   "name": "python",
   "nbconvert_exporter": "python",
   "pygments_lexer": "ipython3",
   "version": "3.9.7"
  }
 },
 "nbformat": 4,
 "nbformat_minor": 5
}
