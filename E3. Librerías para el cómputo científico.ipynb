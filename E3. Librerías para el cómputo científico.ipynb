{
 "cells": [
  {
   "cell_type": "markdown",
   "metadata": {
    "id": "HU3My6Mi8nwS"
   },
   "source": [
    "## Ejercicio 3. Librerías para el cómputo científico\n",
    "\n",
    "1.1 Crea un arreglo de numpy que contenga los primeros 9 número naturales. Considera el cero como un número natural. \n",
    "\n",
    "1.2 Modifica el arreglo para que en las posiciones impares se le asigne el número -1\n",
    "\n",
    "1.3 Modifica el arreglo unidimensional en un arreglo de 2 dimensiones de 3x3, en donde los primeros 3 elementos del arreglo unidimensional sería el primer reglón del arreglo de 2 dimensiones"
   ]
  },
  {
   "cell_type": "code",
   "execution_count": null,
   "metadata": {
    "id": "qrMDCvsi7_NP"
   },
   "outputs": [],
   "source": []
  },
  {
   "cell_type": "markdown",
   "metadata": {
    "id": "XC3lapXV83Sw"
   },
   "source": [
    " Considera los siguientes arreglos de numpy\n",
    "\n",
    "a = np.array([1,2,3,2,3,4,3,4,5,6])\n",
    "\n",
    "b = np.array([7,2,10,2,7,4,9,4,9,8])\n",
    "\n",
    "2.1 ¿Que se obtiene al aplicar el comando np.where(a==b)?\n",
    "\n",
    "2.2 Explica el significado de lo que resulta al aplicar el comando anterior\n",
    "\n",
    "2.3 Escribe los elementos del arreglo numpy b, que se encuentran entre 2 y 5"
   ]
  },
  {
   "cell_type": "code",
   "execution_count": null,
   "metadata": {
    "id": "dqaw4ids87g7"
   },
   "outputs": [],
   "source": []
  },
  {
   "cell_type": "markdown",
   "metadata": {
    "id": "hvzyw2Ow9CQZ"
   },
   "source": [
    "3.1 Crear un vector con valores dentro del rango 10 a 100 en pasos de 5\n",
    "\n",
    "3.2 Invierte el vetor que creaste en el ejercicio anterior"
   ]
  },
  {
   "cell_type": "code",
   "execution_count": null,
   "metadata": {
    "id": "fQxbUPIr9VCB"
   },
   "outputs": [],
   "source": []
  },
  {
   "cell_type": "code",
   "execution_count": null,
   "metadata": {
    "id": "rvaKskBc2w8e"
   },
   "outputs": [],
   "source": []
  },
  {
   "cell_type": "markdown",
   "metadata": {
    "id": "l6A9tQ8M2w8f"
   },
   "source": [
    "4. Crea una matriz de 10x10 que tenga como elementos 1's en los bordes y 0 en el interior"
   ]
  },
  {
   "cell_type": "code",
   "execution_count": null,
   "metadata": {
    "id": "Q3xkCdA22w8f"
   },
   "outputs": [],
   "source": []
  },
  {
   "cell_type": "markdown",
   "metadata": {
    "id": "fjpQrAzJ2w8f"
   },
   "source": [
    "5. Crea una matriz de 5x5 con valores en las columnas que vayan de 0 a 4"
   ]
  },
  {
   "cell_type": "code",
   "execution_count": null,
   "metadata": {
    "id": "TWSmYOKo2w8f"
   },
   "outputs": [],
   "source": []
  },
  {
   "cell_type": "markdown",
   "metadata": {
    "id": "Nnd8Ltm22w8g"
   },
   "source": [
    "6.1 Crea dos arreglos al azar A y B de tamaño 3x3, verificar si los arreglos son iguales componente a componente.\n",
    "\n",
    "6.2 Verifica si los arreglos son iguales\n"
   ]
  },
  {
   "cell_type": "code",
   "execution_count": null,
   "metadata": {
    "id": "1Q7WKp5d2w8g"
   },
   "outputs": [],
   "source": []
  },
  {
   "cell_type": "code",
   "execution_count": null,
   "metadata": {
    "id": "DzPjyRY22w8g"
   },
   "outputs": [],
   "source": []
  },
  {
   "cell_type": "markdown",
   "metadata": {
    "id": "cJe2Bwg42w8h"
   },
   "source": [
    "7.1  Crea un vector con puntos equidistantes de 0 a 5, calcula la función $f(x) =cos(x^2/3+4) $ y grafica los datos\n",
    "\n",
    "7.2 Interpola la función dada con una función lineal y una cúbica\n",
    "\n",
    "7.3 Grafica los puntos y las interpolaciones con distintos colores y formas el intervalo [0,5], recuerda ponerle etiquetas a tus resultados\n"
   ]
  },
  {
   "cell_type": "code",
   "execution_count": null,
   "metadata": {
    "id": "BKa1wPjK2w8h"
   },
   "outputs": [],
   "source": []
  },
  {
   "cell_type": "code",
   "execution_count": null,
   "metadata": {
    "id": "OJfxGNge2w8i"
   },
   "outputs": [],
   "source": []
  },
  {
   "cell_type": "markdown",
   "metadata": {
    "id": "apb9t1T-2w8j"
   },
   "source": [
    "8.1 Resuelve el siguiente sistema lineal con scipy\n",
    "\n",
    "\\begin{array}\n",
    ".x + 2y - 3z &= -3 \\\\\n",
    "2x - 5y + 4z &= 13  \\\\\n",
    "5x + 4y - z &= 5  \n",
    "\\end{array}\n",
    "\n",
    "8.2 Verifica que tu resultado este correcto"
   ]
  },
  {
   "cell_type": "code",
   "execution_count": null,
   "metadata": {
    "id": "tgW974Kg2w8k"
   },
   "outputs": [],
   "source": []
  },
  {
   "cell_type": "markdown",
   "metadata": {
    "id": "ZEqFKezJ2w8l"
   },
   "source": [
    "9.1 Encuentra el eigenvalor mas grande y más pequeño de la matriz siguiente \n",
    "\n",
    "$A = \\begin{bmatrix}\n",
    "2  & -1 &  0 &  0 &  0 &  0\\\\\n",
    "-1 &  2 & -1 &  0 &  0 &  0\\\\\n",
    "0  & -1 &  2 & -1 &  0 &  0\\\\\n",
    "0  &  0 & -1 &  2 & -1 &  0\\\\\n",
    "0  &  0  &  0 & -1 &  2 & -1\\\\\n",
    "0  &  0  &  0  &  0 & -1 &  2\\\\\n",
    "\\end{bmatrix}$ \n",
    "\n",
    "9.2 Calcula los eigenvalores de la matriz identidad del mismo tamaño que la anterior y grafica los eigenvalores de ambas matrices en una misma gráfica. "
   ]
  },
  {
   "cell_type": "code",
   "execution_count": null,
   "metadata": {
    "id": "IxtwoNiD2w8m"
   },
   "outputs": [],
   "source": []
  },
  {
   "cell_type": "code",
   "execution_count": null,
   "metadata": {
    "id": "JOk_WolI3Be7"
   },
   "outputs": [],
   "source": []
  },
  {
   "cell_type": "code",
   "execution_count": null,
   "metadata": {
    "id": "wbSUM40GsPjR"
   },
   "outputs": [],
   "source": []
  },
  {
   "cell_type": "markdown",
   "metadata": {
    "id": "nz9DlHei28nv"
   },
   "source": [
    "10. Resolver la siguiente ecuación para x y y con sympy\n",
    "\n",
    "$x + 5y - 2, -3x + 6y - 15$"
   ]
  },
  {
   "cell_type": "code",
   "execution_count": null,
   "metadata": {
    "id": "yGAe-c7J2w8n"
   },
   "outputs": [],
   "source": []
  },
  {
   "cell_type": "markdown",
   "metadata": {
    "id": "-9OjwF2QxHKd"
   },
   "source": [
    "11. Calcula y grafica las funciones siguientes con sus rectas tangente, en los puntos especifícados:\n",
    "\n",
    "A) La función $\\frac{x^3}{x^2-1}$ en el intervalo $[-0.9,0.9]$, con tangente en el punto $x = 0.3, $.\n",
    "\n",
    "B) La función $x^4-12x^3+48x^2-64x$ en el intervalo $[-2,1]$, con tangente en el punto $x = -1, $."
   ]
  },
  {
   "cell_type": "code",
   "execution_count": null,
   "metadata": {
    "id": "LutHB1IFxP_m"
   },
   "outputs": [],
   "source": []
  },
  {
   "cell_type": "code",
   "execution_count": null,
   "metadata": {
    "id": "NRkfSxFlxSg4"
   },
   "outputs": [],
   "source": []
  },
  {
   "cell_type": "markdown",
   "metadata": {
    "id": "xmhlcemV02gi"
   },
   "source": [
    "12. Las funciones de ingresos, $I$ y costos, $C$ anuales por la fabricación y venta de q unidades de un determinado producto vienen dados por:\n",
    "\n",
    "$$I(q) = 2000 q - 0.04 q $$ \n",
    "\n",
    "$$C(q) = 1 000 000 + 100 q + 0.001 q$$\n",
    "\n",
    "Encuentra:\n",
    "A) La función que da el beneficio anual\n",
    "\n",
    "B) ¿Cuántas unidades hay que producir y vender para que el beneficio\n",
    "sea máximo? ¿cuál es ese beneficio?"
   ]
  },
  {
   "cell_type": "code",
   "execution_count": null,
   "metadata": {
    "id": "-f5pRjUI1L5J"
   },
   "outputs": [],
   "source": []
  },
  {
   "cell_type": "markdown",
   "metadata": {
    "id": "htI6_EjLJBF8"
   },
   "source": [
    "Aproximación del número Pi. La fórmula de Leibniz para aproximar el valor de Pi es:\n",
    "$ \\pi =4-4/3 + 4/5 -4/7 + 4/9 -4/11 + ...$ \n",
    "\n",
    "13.1 Crea una función que calcule la aproximación de pi, usando la fórmula de Leibniz y utilizando solo ciclos for.\n",
    "\n",
    "13.2 Crea una función que calcule la aproximación de pi, usando la fórmula de Leibniz y utilizando el comando np.sum de numpy."
   ]
  },
  {
   "cell_type": "code",
   "execution_count": null,
   "metadata": {
    "id": "bYHSG-WVJqlw"
   },
   "outputs": [],
   "source": []
  },
  {
   "cell_type": "code",
   "execution_count": null,
   "metadata": {
    "id": "M3PBPXt7jtC2"
   },
   "outputs": [],
   "source": []
  },
  {
   "cell_type": "markdown",
   "metadata": {
    "id": "9Si4Ny89m4M6"
   },
   "source": [
    "14. Calcula el area limitada por la curva $$y= x^3-2x^2+x-1$$ y el eje x, en el intervalo [-1,3]\n"
   ]
  },
  {
   "cell_type": "code",
   "execution_count": null,
   "metadata": {
    "id": "YcJzNDAbndWY"
   },
   "outputs": [],
   "source": []
  },
  {
   "cell_type": "code",
   "execution_count": null,
   "metadata": {
    "id": "aaTjkvGbnl4o"
   },
   "outputs": [],
   "source": []
  },
  {
   "cell_type": "markdown",
   "metadata": {
    "id": "ht2wkCcOp5su"
   },
   "source": [
    "15. Calcula los siguientes límites.\n",
    "\n",
    " $lim_{x\\rightarrow 0} 5^{1/x}$\n",
    "\n",
    " $lim_{x\\rightarrow 2} \\frac{x^2-4}{x-2}$"
   ]
  },
  {
   "cell_type": "code",
   "execution_count": null,
   "metadata": {
    "id": "ABNmp1VEn3th"
   },
   "outputs": [],
   "source": []
  }
 ],
 "metadata": {
  "colab": {
   "provenance": []
  },
  "kernelspec": {
   "display_name": "Python 3 (ipykernel)",
   "language": "python",
   "name": "python3"
  },
  "language_info": {
   "codemirror_mode": {
    "name": "ipython",
    "version": 3
   },
   "file_extension": ".py",
   "mimetype": "text/x-python",
   "name": "python",
   "nbconvert_exporter": "python",
   "pygments_lexer": "ipython3",
   "version": "3.9.7"
  }
 },
 "nbformat": 4,
 "nbformat_minor": 1
}
