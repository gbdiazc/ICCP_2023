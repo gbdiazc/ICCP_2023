{
 "cells": [
  {
   "cell_type": "markdown",
   "metadata": {
    "id": "AepNAZLxspn0"
   },
   "source": [
    "# La estructura de datos en serie"
   ]
  },
  {
   "cell_type": "markdown",
   "metadata": {
    "id": "S2hmDUl_IiZj"
   },
   "source": [
    "Una serie es un n-arreglo unidimensional con etiquetas.\n",
    "\n",
    "Es un arreglo que te permite almacenar información de diferentes tipos sea por medio de cadenas de texto, flotantes o enteros, entre otros."
   ]
  },
  {
   "cell_type": "code",
   "execution_count": 1,
   "metadata": {
    "id": "jaALG1qQspn2"
   },
   "outputs": [],
   "source": [
    "import pandas as pd\n",
    "pd.Series?"
   ]
  },
  {
   "cell_type": "code",
   "execution_count": 3,
   "metadata": {
    "colab": {
     "base_uri": "https://localhost:8080/"
    },
    "id": "u1mggkP-spoJ",
    "outputId": "1cb7bb71-4161-40bc-fbc2-94a9b1723d2c"
   },
   "outputs": [
    {
     "data": {
      "text/plain": [
       "pandas.core.series.Series"
      ]
     },
     "execution_count": 3,
     "metadata": {},
     "output_type": "execute_result"
    }
   ],
   "source": [
    "animals = ['Tiger', 'Bear', 'Moose']\n",
    "s = pd.Series(animals)\n",
    "type(s)"
   ]
  },
  {
   "cell_type": "code",
   "execution_count": 4,
   "metadata": {
    "colab": {
     "base_uri": "https://localhost:8080/"
    },
    "id": "Zf7M94Anspof",
    "outputId": "5ccf0ecd-42de-4991-ee70-7a9c0c85629f"
   },
   "outputs": [
    {
     "data": {
      "text/plain": [
       "0    1\n",
       "1    2\n",
       "2    3\n",
       "dtype: int64"
      ]
     },
     "execution_count": 4,
     "metadata": {},
     "output_type": "execute_result"
    }
   ],
   "source": [
    "numbers = [1, 2, 3]\n",
    "pd.Series(numbers)"
   ]
  },
  {
   "cell_type": "code",
   "execution_count": 5,
   "metadata": {
    "colab": {
     "base_uri": "https://localhost:8080/"
    },
    "id": "2cdVT9_Wspo6",
    "outputId": "3f331911-31b7-4c8e-8115-61b08cff1a9d"
   },
   "outputs": [
    {
     "data": {
      "text/plain": [
       "0    Tiger\n",
       "1     Bear\n",
       "2     None\n",
       "dtype: object"
      ]
     },
     "execution_count": 5,
     "metadata": {},
     "output_type": "execute_result"
    }
   ],
   "source": [
    "animals = ['Tiger', 'Bear', None]\n",
    "pd.Series(animals)"
   ]
  },
  {
   "cell_type": "code",
   "execution_count": 6,
   "metadata": {
    "colab": {
     "base_uri": "https://localhost:8080/"
    },
    "id": "e--Zm3SBsppD",
    "outputId": "a0e5265e-5f46-401a-acf1-55aa56e9a299"
   },
   "outputs": [
    {
     "data": {
      "text/plain": [
       "0      1\n",
       "1     -2\n",
       "2      3\n",
       "3     -4\n",
       "4      5\n",
       "5     -6\n",
       "6      7\n",
       "7     -7\n",
       "8      7\n",
       "9     -7\n",
       "10     8\n",
       "11    -9\n",
       "12    10\n",
       "13   -11\n",
       "14    12\n",
       "dtype: int64"
      ]
     },
     "execution_count": 6,
     "metadata": {},
     "output_type": "execute_result"
    }
   ],
   "source": [
    "numbers = [1, -2, 3, -4, 5, -6, 7, -7, 7, -7, 8, -9, 10, -11, 12]\n",
    "serie = pd.Series(numbers)\n",
    "serie"
   ]
  },
  {
   "cell_type": "code",
   "execution_count": 7,
   "metadata": {
    "colab": {
     "base_uri": "https://localhost:8080/"
    },
    "id": "ptECui_fbuRo",
    "outputId": "ecdc3918-42c7-4b27-b8b1-94c78cbb0345"
   },
   "outputs": [
    {
     "data": {
      "text/plain": [
       "count    15.000000\n",
       "mean      0.466667\n",
       "std       7.529624\n",
       "min     -11.000000\n",
       "25%      -6.500000\n",
       "50%       1.000000\n",
       "75%       7.000000\n",
       "max      12.000000\n",
       "dtype: float64"
      ]
     },
     "execution_count": 7,
     "metadata": {},
     "output_type": "execute_result"
    }
   ],
   "source": [
    "serie.describe()"
   ]
  },
  {
   "cell_type": "code",
   "execution_count": 8,
   "metadata": {
    "colab": {
     "base_uri": "https://localhost:8080/"
    },
    "id": "3CWwT37cdkvw",
    "outputId": "fcf99372-0fe2-4975-c65a-d8f821afc809"
   },
   "outputs": [
    {
     "data": {
      "text/plain": [
       "-11"
      ]
     },
     "execution_count": 8,
     "metadata": {},
     "output_type": "execute_result"
    }
   ],
   "source": [
    "serie.min()"
   ]
  },
  {
   "cell_type": "code",
   "execution_count": 9,
   "metadata": {
    "colab": {
     "base_uri": "https://localhost:8080/"
    },
    "id": "WxlWpCVsdnkW",
    "outputId": "e294c85f-c01a-43b8-b612-c6eae3a1d519"
   },
   "outputs": [
    {
     "data": {
      "text/plain": [
       "12"
      ]
     },
     "execution_count": 9,
     "metadata": {},
     "output_type": "execute_result"
    }
   ],
   "source": [
    "serie.max()"
   ]
  },
  {
   "cell_type": "code",
   "execution_count": 10,
   "metadata": {
    "colab": {
     "base_uri": "https://localhost:8080/"
    },
    "id": "OawlsM7Jd_ef",
    "outputId": "3af08802-4899-4a11-bd62-1824c1aa2c66"
   },
   "outputs": [
    {
     "data": {
      "text/plain": [
       "0      1\n",
       "1      2\n",
       "2      3\n",
       "3      4\n",
       "4      5\n",
       "5      6\n",
       "6      7\n",
       "7      7\n",
       "8      7\n",
       "9      7\n",
       "10     8\n",
       "11     9\n",
       "12    10\n",
       "13    11\n",
       "14    12\n",
       "dtype: int64"
      ]
     },
     "execution_count": 10,
     "metadata": {},
     "output_type": "execute_result"
    }
   ],
   "source": [
    "serie.abs()"
   ]
  },
  {
   "cell_type": "code",
   "execution_count": 11,
   "metadata": {
    "colab": {
     "base_uri": "https://localhost:8080/"
    },
    "id": "ggGPS7_rfCVG",
    "outputId": "be936420-682b-4899-998a-602f402f7cc5"
   },
   "outputs": [
    {
     "data": {
      "text/plain": [
       "0      NaN\n",
       "1      NaN\n",
       "2      3.0\n",
       "3      NaN\n",
       "4      5.0\n",
       "5      NaN\n",
       "6      7.0\n",
       "7      NaN\n",
       "8      7.0\n",
       "9      NaN\n",
       "10     8.0\n",
       "11     NaN\n",
       "12    10.0\n",
       "13     NaN\n",
       "14    12.0\n",
       "dtype: float64"
      ]
     },
     "execution_count": 11,
     "metadata": {},
     "output_type": "execute_result"
    }
   ],
   "source": [
    "serie.where(serie > 1)"
   ]
  },
  {
   "cell_type": "code",
   "execution_count": 12,
   "metadata": {
    "colab": {
     "base_uri": "https://localhost:8080/"
    },
    "id": "6KTLgl71fft6",
    "outputId": "236de0d9-dc5a-498a-f23f-bbe380c4d414"
   },
   "outputs": [
    {
     "data": {
      "text/plain": [
       "0      0\n",
       "1      0\n",
       "2      3\n",
       "3      0\n",
       "4      5\n",
       "5      0\n",
       "6      7\n",
       "7      0\n",
       "8      7\n",
       "9      0\n",
       "10     8\n",
       "11     0\n",
       "12    10\n",
       "13     0\n",
       "14    12\n",
       "dtype: int64"
      ]
     },
     "execution_count": 12,
     "metadata": {},
     "output_type": "execute_result"
    }
   ],
   "source": [
    "serie.where(serie > 1, 0)"
   ]
  },
  {
   "cell_type": "code",
   "execution_count": 13,
   "metadata": {
    "colab": {
     "base_uri": "https://localhost:8080/"
    },
    "id": "IlmpTsptfmfW",
    "outputId": "ad5dcb6c-ba8c-421f-aea1-a0f125f10e2b"
   },
   "outputs": [
    {
     "data": {
      "text/plain": [
       "2      3.0\n",
       "4      5.0\n",
       "6      7.0\n",
       "8      7.0\n",
       "10     8.0\n",
       "12    10.0\n",
       "14    12.0\n",
       "dtype: float64"
      ]
     },
     "execution_count": 13,
     "metadata": {},
     "output_type": "execute_result"
    }
   ],
   "source": [
    "serie.where(serie > 1).dropna()"
   ]
  },
  {
   "cell_type": "code",
   "execution_count": 14,
   "metadata": {
    "id": "sN0BFdvfcWIm"
   },
   "outputs": [],
   "source": [
    "serie1 = pd.Series([1, 2, 3, 5, 7])\n",
    "serie2 = pd.Series([13, 17, 11, 5, 3])"
   ]
  },
  {
   "cell_type": "code",
   "execution_count": 15,
   "metadata": {
    "colab": {
     "base_uri": "https://localhost:8080/"
    },
    "id": "KUrG1vx_cXiZ",
    "outputId": "05d2826d-bcee-4d0d-9a2d-6ac6eae12672"
   },
   "outputs": [
    {
     "data": {
      "text/plain": [
       "0     True\n",
       "1     True\n",
       "2     True\n",
       "3    False\n",
       "4    False\n",
       "dtype: bool"
      ]
     },
     "execution_count": 15,
     "metadata": {},
     "output_type": "execute_result"
    }
   ],
   "source": [
    "serie1 < serie2"
   ]
  },
  {
   "cell_type": "code",
   "execution_count": 16,
   "metadata": {
    "colab": {
     "base_uri": "https://localhost:8080/"
    },
    "id": "_2ras5g2caYf",
    "outputId": "30d3a4a7-1eb3-40f2-d7e7-f46ea8399d29"
   },
   "outputs": [
    {
     "data": {
      "text/plain": [
       "0    False\n",
       "1    False\n",
       "2    False\n",
       "3    False\n",
       "4     True\n",
       "dtype: bool"
      ]
     },
     "execution_count": 16,
     "metadata": {},
     "output_type": "execute_result"
    }
   ],
   "source": [
    "serie1 > serie2"
   ]
  },
  {
   "cell_type": "code",
   "execution_count": 17,
   "metadata": {
    "colab": {
     "base_uri": "https://localhost:8080/"
    },
    "id": "THS2pp5DcdgB",
    "outputId": "f99b280c-10de-456c-e80d-807724c827a4"
   },
   "outputs": [
    {
     "data": {
      "text/plain": [
       "0    False\n",
       "1    False\n",
       "2    False\n",
       "3     True\n",
       "4    False\n",
       "dtype: bool"
      ]
     },
     "execution_count": 17,
     "metadata": {},
     "output_type": "execute_result"
    }
   ],
   "source": [
    "serie1 == serie2"
   ]
  },
  {
   "cell_type": "markdown",
   "metadata": {
    "id": "TPfvt1sFcjDX"
   },
   "source": [
    "Los diccionarios se pueden convertir en series"
   ]
  },
  {
   "cell_type": "code",
   "execution_count": 18,
   "metadata": {
    "colab": {
     "base_uri": "https://localhost:8080/"
    },
    "id": "0wDAcAE4cg6l",
    "outputId": "2c5baed4-25cc-4ff9-c499-605b8b72f94e"
   },
   "outputs": [
    {
     "data": {
      "text/plain": [
       "a    10\n",
       "b    20\n",
       "c    30\n",
       "d    40\n",
       "dtype: int64"
      ]
     },
     "execution_count": 18,
     "metadata": {},
     "output_type": "execute_result"
    }
   ],
   "source": [
    "datos = {'a': 10, 'b': 20, 'c': 30, 'd': 40}\n",
    "\n",
    "serie = pd.Series(datos)\n",
    "serie"
   ]
  },
  {
   "cell_type": "code",
   "execution_count": 19,
   "metadata": {
    "colab": {
     "base_uri": "https://localhost:8080/"
    },
    "id": "1zMpngpjciSG",
    "outputId": "92ddd14e-da04-4e0e-a11d-2de3ea78f1d1"
   },
   "outputs": [
    {
     "data": {
      "text/plain": [
       "10"
      ]
     },
     "execution_count": 19,
     "metadata": {},
     "output_type": "execute_result"
    }
   ],
   "source": [
    "serie['a']"
   ]
  },
  {
   "cell_type": "code",
   "execution_count": 20,
   "metadata": {
    "colab": {
     "base_uri": "https://localhost:8080/"
    },
    "id": "5q8ljulzsppS",
    "outputId": "265ae8d9-2987-49f6-97cc-ef70f19c367c"
   },
   "outputs": [
    {
     "data": {
      "text/plain": [
       "False"
      ]
     },
     "execution_count": 20,
     "metadata": {},
     "output_type": "execute_result"
    }
   ],
   "source": [
    "import numpy as np\n",
    "np.nan == None"
   ]
  },
  {
   "cell_type": "code",
   "execution_count": 21,
   "metadata": {
    "colab": {
     "base_uri": "https://localhost:8080/"
    },
    "id": "PYvaUyS0sppa",
    "outputId": "44a1c9db-5bde-44af-aa37-50e58f774636"
   },
   "outputs": [
    {
     "data": {
      "text/plain": [
       "False"
      ]
     },
     "execution_count": 21,
     "metadata": {},
     "output_type": "execute_result"
    }
   ],
   "source": [
    "np.nan == np.nan"
   ]
  },
  {
   "cell_type": "code",
   "execution_count": 24,
   "metadata": {
    "colab": {
     "base_uri": "https://localhost:8080/"
    },
    "id": "rmbJfbvLsppi",
    "outputId": "1df2f3f0-edee-405e-d99a-e78dc4e2a620"
   },
   "outputs": [
    {
     "data": {
      "text/plain": [
       "True"
      ]
     },
     "execution_count": 24,
     "metadata": {},
     "output_type": "execute_result"
    }
   ],
   "source": [
    "np.isnan(np.nan)"
   ]
  },
  {
   "cell_type": "code",
   "execution_count": 25,
   "metadata": {
    "colab": {
     "base_uri": "https://localhost:8080/"
    },
    "id": "XWUMPY1DuUHB",
    "outputId": "d9f0eaf5-56d8-4b34-f5ba-866a36c8d1f2"
   },
   "outputs": [
    {
     "data": {
      "text/plain": [
       "False"
      ]
     },
     "execution_count": 25,
     "metadata": {},
     "output_type": "execute_result"
    }
   ],
   "source": [
    "np.isnan(1)"
   ]
  },
  {
   "cell_type": "code",
   "execution_count": 26,
   "metadata": {
    "colab": {
     "base_uri": "https://localhost:8080/"
    },
    "id": "27RyHmuldw72",
    "outputId": "28ccc0fd-3b92-435c-fa87-c5058b69e67d"
   },
   "outputs": [
    {
     "data": {
      "text/plain": [
       "0       2.3\n",
       "1    Python\n",
       "2        90\n",
       "3       100\n",
       "4       NaN\n",
       "5       0.5\n",
       "6        .9\n",
       "dtype: object"
      ]
     },
     "execution_count": 26,
     "metadata": {},
     "output_type": "execute_result"
    }
   ],
   "source": [
    "datos = ['2.3', 'Python', '90', '100', np.nan, '0.5', '.9']\n",
    "\n",
    "serie = pd.Series(datos)\n",
    "\n",
    "serie"
   ]
  },
  {
   "cell_type": "code",
   "execution_count": 27,
   "metadata": {
    "colab": {
     "base_uri": "https://localhost:8080/"
    },
    "id": "gjRhDv83d4VN",
    "outputId": "35c4d439-59dd-4786-b8b2-25434e1e9585"
   },
   "outputs": [
    {
     "data": {
      "text/plain": [
       "0       2.3\n",
       "1    Python\n",
       "2        90\n",
       "3       100\n",
       "5       0.5\n",
       "6        .9\n",
       "dtype: object"
      ]
     },
     "execution_count": 27,
     "metadata": {},
     "output_type": "execute_result"
    }
   ],
   "source": [
    "serie = serie.dropna()\n",
    "serie"
   ]
  },
  {
   "cell_type": "code",
   "execution_count": 28,
   "metadata": {
    "colab": {
     "base_uri": "https://localhost:8080/"
    },
    "id": "Ewt1RbDwehj7",
    "outputId": "9ebe5cc3-a2ce-4cdb-cf79-65327548fa76"
   },
   "outputs": [
    {
     "data": {
      "text/plain": [
       "0         1\n",
       "1         3\n",
       "2         7\n",
       "3        11\n",
       "4    Python\n",
       "5      -0.5\n",
       "6       NaN\n",
       "dtype: object"
      ]
     },
     "execution_count": 28,
     "metadata": {},
     "output_type": "execute_result"
    }
   ],
   "source": [
    "datos = [1, 3, 7, 11, 'Python', '-0.5', np.nan]\n",
    "\n",
    "serie = pd.Series(datos)\n",
    "\n",
    "serie"
   ]
  },
  {
   "cell_type": "code",
   "execution_count": 29,
   "metadata": {
    "colab": {
     "base_uri": "https://localhost:8080/"
    },
    "id": "mc5Sk5_aekh5",
    "outputId": "dc598d7b-ff5f-47e8-bed0-7fed19494bdd"
   },
   "outputs": [
    {
     "data": {
      "text/plain": [
       "0         1\n",
       "1         3\n",
       "2         7\n",
       "3        11\n",
       "4    Python\n",
       "5      -0.5\n",
       "6         0\n",
       "dtype: object"
      ]
     },
     "execution_count": 29,
     "metadata": {},
     "output_type": "execute_result"
    }
   ],
   "source": [
    "serie.fillna(0, inplace=True)\n",
    "\n",
    "serie"
   ]
  },
  {
   "cell_type": "markdown",
   "metadata": {
    "collapsed": true,
    "id": "2uvvyKH_spti"
   },
   "source": [
    "# La estructura de datos Data Frame\n",
    "\n",
    "Pandas DataFrame es una estructura de datos como cualquier tabla con filas y columnas. Los valores de la dataframe pueden ser modficados. Por ello es el objeto de pandas mas comunmente usado. Existen distintas maneras de crear Data Frames. Entre ellas esta la funcion DataFrame().\n",
    "\n",
    "\n",
    "\n",
    "```\n",
    "import pandas as pd\n",
    "pd.DataFrame(data, index, columns)\n",
    "```\n",
    "\n"
   ]
  },
  {
   "cell_type": "markdown",
   "metadata": {
    "id": "0fHF7ymKIiZ8"
   },
   "source": [
    "\n",
    "Para crear un data frame se usa la siguiente sintaxis\n",
    "data: Es el conjunto de datos con el que se crea el Data Frame. Pueden ser una lista, un diccionario, un valor escalar, una serie, un arreglo ndarray, etc.\n",
    "\n",
    "index: Es opcional, por defecto, el indice empieza en 0 y termina en n-1 para una lista de n valores. Define de manera explicita la etiqueta de las filas.\n",
    "\n",
    "columns: Se usa para crear los nombres de las columnas. Si no se define el nombre de las columnas, de manera similar toma valores de 0 a n-1"
   ]
  },
  {
   "cell_type": "code",
   "execution_count": 30,
   "metadata": {
    "colab": {
     "base_uri": "https://localhost:8080/"
    },
    "id": "U6p7zTOYIiZ8",
    "outputId": "a9f9cf0d-7b96-4b91-e04a-83f9fd711236"
   },
   "outputs": [
    {
     "name": "stdout",
     "output_type": "stream",
     "text": [
      "Empty DataFrame\n",
      "Columns: []\n",
      "Index: []\n"
     ]
    }
   ],
   "source": [
    "# Importing Pandas to create DataFrame\n",
    "import pandas as pd\n",
    "  \n",
    "# Creating Empty DataFrame and Storing it in variable df\n",
    "df = pd.DataFrame()\n",
    "  \n",
    "# Printing Empty DataFrame\n",
    "print(df)"
   ]
  },
  {
   "cell_type": "code",
   "execution_count": 31,
   "metadata": {
    "colab": {
     "base_uri": "https://localhost:8080/",
     "height": 49
    },
    "id": "SLc8LOHtIiZ8",
    "outputId": "a7045474-9f6f-4ef9-d29b-5f55d1f5ee39"
   },
   "outputs": [
    {
     "data": {
      "text/html": [
       "<div>\n",
       "<style scoped>\n",
       "    .dataframe tbody tr th:only-of-type {\n",
       "        vertical-align: middle;\n",
       "    }\n",
       "\n",
       "    .dataframe tbody tr th {\n",
       "        vertical-align: top;\n",
       "    }\n",
       "\n",
       "    .dataframe thead th {\n",
       "        text-align: right;\n",
       "    }\n",
       "</style>\n",
       "<table border=\"1\" class=\"dataframe\">\n",
       "  <thead>\n",
       "    <tr style=\"text-align: right;\">\n",
       "      <th></th>\n",
       "    </tr>\n",
       "  </thead>\n",
       "  <tbody>\n",
       "  </tbody>\n",
       "</table>\n",
       "</div>"
      ],
      "text/plain": [
       "Empty DataFrame\n",
       "Columns: []\n",
       "Index: []"
      ]
     },
     "execution_count": 31,
     "metadata": {},
     "output_type": "execute_result"
    }
   ],
   "source": [
    "df"
   ]
  },
  {
   "cell_type": "markdown",
   "metadata": {
    "id": "fe5hvxKKIiZ8"
   },
   "source": [
    "Ahora vamos a crear un Data Frame con los datos de la primer tarea"
   ]
  },
  {
   "cell_type": "code",
   "execution_count": 32,
   "metadata": {
    "colab": {
     "base_uri": "https://localhost:8080/",
     "height": 856
    },
    "id": "rCFMIAxqIiZ9",
    "outputId": "00fcb4e2-fdd0-47f6-f693-63a3a668d00f"
   },
   "outputs": [
    {
     "data": {
      "text/html": [
       "<div>\n",
       "<style scoped>\n",
       "    .dataframe tbody tr th:only-of-type {\n",
       "        vertical-align: middle;\n",
       "    }\n",
       "\n",
       "    .dataframe tbody tr th {\n",
       "        vertical-align: top;\n",
       "    }\n",
       "\n",
       "    .dataframe thead th {\n",
       "        text-align: right;\n",
       "    }\n",
       "</style>\n",
       "<table border=\"1\" class=\"dataframe\">\n",
       "  <thead>\n",
       "    <tr style=\"text-align: right;\">\n",
       "      <th></th>\n",
       "      <th>1</th>\n",
       "      <th>2</th>\n",
       "      <th>3</th>\n",
       "      <th>4</th>\n",
       "      <th>5</th>\n",
       "      <th>6</th>\n",
       "      <th>7</th>\n",
       "      <th>8</th>\n",
       "      <th>A.</th>\n",
       "      <th>Apellidos</th>\n",
       "      <th>...</th>\n",
       "      <th>H</th>\n",
       "      <th>Licenciatura</th>\n",
       "      <th>Nombre</th>\n",
       "      <th>Nombres</th>\n",
       "      <th>Proyecto</th>\n",
       "      <th>Pryecto</th>\n",
       "      <th>Tutor</th>\n",
       "      <th>e-mail</th>\n",
       "      <th>edad</th>\n",
       "      <th>nombres</th>\n",
       "    </tr>\n",
       "  </thead>\n",
       "  <tbody>\n",
       "    <tr>\n",
       "      <th>0</th>\n",
       "      <td>NaN</td>\n",
       "      <td>NaN</td>\n",
       "      <td>NaN</td>\n",
       "      <td>NaN</td>\n",
       "      <td>NaN</td>\n",
       "      <td>NaN</td>\n",
       "      <td>NaN</td>\n",
       "      <td>NaN</td>\n",
       "      <td>NaN</td>\n",
       "      <td>López Morales</td>\n",
       "      <td>...</td>\n",
       "      <td>NaN</td>\n",
       "      <td>Ingeniero en tecnología ambiental</td>\n",
       "      <td>NaN</td>\n",
       "      <td>Diana Laura</td>\n",
       "      <td>D-92011</td>\n",
       "      <td>NaN</td>\n",
       "      <td>Gusavo Sosa Iglesias</td>\n",
       "      <td>NaN</td>\n",
       "      <td>26.0</td>\n",
       "      <td>NaN</td>\n",
       "    </tr>\n",
       "    <tr>\n",
       "      <th>1</th>\n",
       "      <td>NaN</td>\n",
       "      <td>NaN</td>\n",
       "      <td>NaN</td>\n",
       "      <td>NaN</td>\n",
       "      <td>NaN</td>\n",
       "      <td>NaN</td>\n",
       "      <td>NaN</td>\n",
       "      <td>NaN</td>\n",
       "      <td>NaN</td>\n",
       "      <td>Paredes Marcial</td>\n",
       "      <td>...</td>\n",
       "      <td>NaN</td>\n",
       "      <td>NaN</td>\n",
       "      <td>Carlos</td>\n",
       "      <td>NaN</td>\n",
       "      <td>Recuperacion de aceite por inyeccion de flujo ...</td>\n",
       "      <td>NaN</td>\n",
       "      <td>Rodrigo Salazar</td>\n",
       "      <td>NaN</td>\n",
       "      <td>NaN</td>\n",
       "      <td>NaN</td>\n",
       "    </tr>\n",
       "    <tr>\n",
       "      <th>2</th>\n",
       "      <td>NaN</td>\n",
       "      <td>NaN</td>\n",
       "      <td>NaN</td>\n",
       "      <td>NaN</td>\n",
       "      <td>NaN</td>\n",
       "      <td>NaN</td>\n",
       "      <td>NaN</td>\n",
       "      <td>NaN</td>\n",
       "      <td>NaN</td>\n",
       "      <td>Vázquez Contreras</td>\n",
       "      <td>...</td>\n",
       "      <td>NaN</td>\n",
       "      <td>Ing.Petrolera</td>\n",
       "      <td>Alberto</td>\n",
       "      <td>NaN</td>\n",
       "      <td>NaN</td>\n",
       "      <td>IA aplicada en la Ingeniería de Yacimientos</td>\n",
       "      <td>Dr.Leonid Shemeretov</td>\n",
       "      <td>NaN</td>\n",
       "      <td>NaN</td>\n",
       "      <td>NaN</td>\n",
       "    </tr>\n",
       "    <tr>\n",
       "      <th>3</th>\n",
       "      <td>NaN</td>\n",
       "      <td>NaN</td>\n",
       "      <td>NaN</td>\n",
       "      <td>NaN</td>\n",
       "      <td>NaN</td>\n",
       "      <td>NaN</td>\n",
       "      <td>NaN</td>\n",
       "      <td>NaN</td>\n",
       "      <td>NaN</td>\n",
       "      <td>Brena Hernandez</td>\n",
       "      <td>...</td>\n",
       "      <td>NaN</td>\n",
       "      <td>Geofisica</td>\n",
       "      <td>Alejandro</td>\n",
       "      <td>NaN</td>\n",
       "      <td>Clasificacion de sismofacies con ML</td>\n",
       "      <td>NaN</td>\n",
       "      <td>Dr. Luis Velasquillo</td>\n",
       "      <td>brenaalejandro@hotmail.com</td>\n",
       "      <td>NaN</td>\n",
       "      <td>NaN</td>\n",
       "    </tr>\n",
       "    <tr>\n",
       "      <th>4</th>\n",
       "      <td>NaN</td>\n",
       "      <td>NaN</td>\n",
       "      <td>NaN</td>\n",
       "      <td>NaN</td>\n",
       "      <td>NaN</td>\n",
       "      <td>NaN</td>\n",
       "      <td>NaN</td>\n",
       "      <td>NaN</td>\n",
       "      <td>NaN</td>\n",
       "      <td>Martinez Angel</td>\n",
       "      <td>...</td>\n",
       "      <td>NaN</td>\n",
       "      <td>Ingenieria Quimica Petrolera</td>\n",
       "      <td>Eliseo Andrei</td>\n",
       "      <td>NaN</td>\n",
       "      <td>Sintesis. Evaluacion y Caracterizacion de liqu...</td>\n",
       "      <td>NaN</td>\n",
       "      <td>Dr. Rafael Mtz Palou</td>\n",
       "      <td>NaN</td>\n",
       "      <td>NaN</td>\n",
       "      <td>NaN</td>\n",
       "    </tr>\n",
       "    <tr>\n",
       "      <th>5</th>\n",
       "      <td>Nombres</td>\n",
       "      <td>Apellidos</td>\n",
       "      <td>E-mail</td>\n",
       "      <td>Edad</td>\n",
       "      <td>Grado</td>\n",
       "      <td>Licenciatura</td>\n",
       "      <td>Proyecto</td>\n",
       "      <td>Tutor</td>\n",
       "      <td>NaN</td>\n",
       "      <td>NaN</td>\n",
       "      <td>...</td>\n",
       "      <td>NaN</td>\n",
       "      <td>NaN</td>\n",
       "      <td>NaN</td>\n",
       "      <td>NaN</td>\n",
       "      <td>NaN</td>\n",
       "      <td>NaN</td>\n",
       "      <td>NaN</td>\n",
       "      <td>NaN</td>\n",
       "      <td>NaN</td>\n",
       "      <td>NaN</td>\n",
       "    </tr>\n",
       "    <tr>\n",
       "      <th>6</th>\n",
       "      <td>NaN</td>\n",
       "      <td>NaN</td>\n",
       "      <td>NaN</td>\n",
       "      <td>NaN</td>\n",
       "      <td>NaN</td>\n",
       "      <td>NaN</td>\n",
       "      <td>NaN</td>\n",
       "      <td>NaN</td>\n",
       "      <td>Emilio</td>\n",
       "      <td>NaN</td>\n",
       "      <td>...</td>\n",
       "      <td>Dr. Jorge Ancheyta y Dr. Pablo Torres</td>\n",
       "      <td>NaN</td>\n",
       "      <td>NaN</td>\n",
       "      <td>NaN</td>\n",
       "      <td>NaN</td>\n",
       "      <td>NaN</td>\n",
       "      <td>NaN</td>\n",
       "      <td>NaN</td>\n",
       "      <td>NaN</td>\n",
       "      <td>NaN</td>\n",
       "    </tr>\n",
       "    <tr>\n",
       "      <th>7</th>\n",
       "      <td>NaN</td>\n",
       "      <td>NaN</td>\n",
       "      <td>NaN</td>\n",
       "      <td>NaN</td>\n",
       "      <td>NaN</td>\n",
       "      <td>NaN</td>\n",
       "      <td>NaN</td>\n",
       "      <td>NaN</td>\n",
       "      <td>NaN</td>\n",
       "      <td>giron</td>\n",
       "      <td>...</td>\n",
       "      <td>NaN</td>\n",
       "      <td>geofisica</td>\n",
       "      <td>NaN</td>\n",
       "      <td>NaN</td>\n",
       "      <td>rn</td>\n",
       "      <td>NaN</td>\n",
       "      <td>velasquillo</td>\n",
       "      <td>NaN</td>\n",
       "      <td>NaN</td>\n",
       "      <td>rosario</td>\n",
       "    </tr>\n",
       "    <tr>\n",
       "      <th>8</th>\n",
       "      <td>NaN</td>\n",
       "      <td>NaN</td>\n",
       "      <td>NaN</td>\n",
       "      <td>NaN</td>\n",
       "      <td>NaN</td>\n",
       "      <td>NaN</td>\n",
       "      <td>NaN</td>\n",
       "      <td>NaN</td>\n",
       "      <td>NaN</td>\n",
       "      <td>de la Cruz</td>\n",
       "      <td>...</td>\n",
       "      <td>NaN</td>\n",
       "      <td>Ing. Petrolera</td>\n",
       "      <td>NaN</td>\n",
       "      <td>Sergio Enrique</td>\n",
       "      <td>Diseño de BN para AF</td>\n",
       "      <td>NaN</td>\n",
       "      <td>CLG</td>\n",
       "      <td>NaN</td>\n",
       "      <td>NaN</td>\n",
       "      <td>NaN</td>\n",
       "    </tr>\n",
       "    <tr>\n",
       "      <th>9</th>\n",
       "      <td>NaN</td>\n",
       "      <td>NaN</td>\n",
       "      <td>NaN</td>\n",
       "      <td>NaN</td>\n",
       "      <td>NaN</td>\n",
       "      <td>NaN</td>\n",
       "      <td>NaN</td>\n",
       "      <td>NaN</td>\n",
       "      <td>NaN</td>\n",
       "      <td>Piña Fernández</td>\n",
       "      <td>...</td>\n",
       "      <td>NaN</td>\n",
       "      <td>Ingeniería Química</td>\n",
       "      <td>Mariana Yesenia</td>\n",
       "      <td>NaN</td>\n",
       "      <td>Síntesis de catalizadores base líquidos iónico...</td>\n",
       "      <td>NaN</td>\n",
       "      <td>Natalya V. Likhanova</td>\n",
       "      <td>NaN</td>\n",
       "      <td>NaN</td>\n",
       "      <td>NaN</td>\n",
       "    </tr>\n",
       "  </tbody>\n",
       "</table>\n",
       "<p>10 rows × 30 columns</p>\n",
       "</div>"
      ],
      "text/plain": [
       "         1          2       3     4      5             6         7      8  \\\n",
       "0      NaN        NaN     NaN   NaN    NaN           NaN       NaN    NaN   \n",
       "1      NaN        NaN     NaN   NaN    NaN           NaN       NaN    NaN   \n",
       "2      NaN        NaN     NaN   NaN    NaN           NaN       NaN    NaN   \n",
       "3      NaN        NaN     NaN   NaN    NaN           NaN       NaN    NaN   \n",
       "4      NaN        NaN     NaN   NaN    NaN           NaN       NaN    NaN   \n",
       "5  Nombres  Apellidos  E-mail  Edad  Grado  Licenciatura  Proyecto  Tutor   \n",
       "6      NaN        NaN     NaN   NaN    NaN           NaN       NaN    NaN   \n",
       "7      NaN        NaN     NaN   NaN    NaN           NaN       NaN    NaN   \n",
       "8      NaN        NaN     NaN   NaN    NaN           NaN       NaN    NaN   \n",
       "9      NaN        NaN     NaN   NaN    NaN           NaN       NaN    NaN   \n",
       "\n",
       "       A.          Apellidos  ...                                      H  \\\n",
       "0     NaN      López Morales  ...                                    NaN   \n",
       "1     NaN    Paredes Marcial  ...                                    NaN   \n",
       "2     NaN  Vázquez Contreras  ...                                    NaN   \n",
       "3     NaN    Brena Hernandez  ...                                    NaN   \n",
       "4     NaN     Martinez Angel  ...                                    NaN   \n",
       "5     NaN                NaN  ...                                    NaN   \n",
       "6  Emilio                NaN  ...  Dr. Jorge Ancheyta y Dr. Pablo Torres   \n",
       "7     NaN              giron  ...                                    NaN   \n",
       "8     NaN         de la Cruz  ...                                    NaN   \n",
       "9     NaN     Piña Fernández  ...                                    NaN   \n",
       "\n",
       "                        Licenciatura           Nombre         Nombres  \\\n",
       "0  Ingeniero en tecnología ambiental              NaN     Diana Laura   \n",
       "1                                NaN           Carlos             NaN   \n",
       "2                      Ing.Petrolera          Alberto             NaN   \n",
       "3                          Geofisica        Alejandro             NaN   \n",
       "4       Ingenieria Quimica Petrolera    Eliseo Andrei             NaN   \n",
       "5                                NaN              NaN             NaN   \n",
       "6                                NaN              NaN             NaN   \n",
       "7                          geofisica              NaN             NaN   \n",
       "8                     Ing. Petrolera              NaN  Sergio Enrique   \n",
       "9                 Ingeniería Química  Mariana Yesenia             NaN   \n",
       "\n",
       "                                            Proyecto  \\\n",
       "0                                            D-92011   \n",
       "1  Recuperacion de aceite por inyeccion de flujo ...   \n",
       "2                                                NaN   \n",
       "3                Clasificacion de sismofacies con ML   \n",
       "4  Sintesis. Evaluacion y Caracterizacion de liqu...   \n",
       "5                                                NaN   \n",
       "6                                                NaN   \n",
       "7                                                 rn   \n",
       "8                               Diseño de BN para AF   \n",
       "9  Síntesis de catalizadores base líquidos iónico...   \n",
       "\n",
       "                                       Pryecto                 Tutor  \\\n",
       "0                                          NaN  Gusavo Sosa Iglesias   \n",
       "1                                          NaN       Rodrigo Salazar   \n",
       "2  IA aplicada en la Ingeniería de Yacimientos  Dr.Leonid Shemeretov   \n",
       "3                                          NaN  Dr. Luis Velasquillo   \n",
       "4                                          NaN  Dr. Rafael Mtz Palou   \n",
       "5                                          NaN                   NaN   \n",
       "6                                          NaN                   NaN   \n",
       "7                                          NaN           velasquillo   \n",
       "8                                          NaN                   CLG   \n",
       "9                                          NaN  Natalya V. Likhanova   \n",
       "\n",
       "                       e-mail  edad  nombres  \n",
       "0                         NaN  26.0      NaN  \n",
       "1                         NaN   NaN      NaN  \n",
       "2                         NaN   NaN      NaN  \n",
       "3  brenaalejandro@hotmail.com   NaN      NaN  \n",
       "4                         NaN   NaN      NaN  \n",
       "5                         NaN   NaN      NaN  \n",
       "6                         NaN   NaN      NaN  \n",
       "7                         NaN   NaN  rosario  \n",
       "8                         NaN   NaN      NaN  \n",
       "9                         NaN   NaN      NaN  \n",
       "\n",
       "[10 rows x 30 columns]"
      ]
     },
     "execution_count": 32,
     "metadata": {},
     "output_type": "execute_result"
    }
   ],
   "source": [
    "import pandas as pd\n",
    "my_data_1 = pd.Series({'Nombres': 'Diana Laura', 'Apellidos': 'López Morales', \n",
    "           'E-mail': 'ita.dianalopez@gmail.com', 'edad': 26, \n",
    "           'Grado':'Maestría', 'Licenciatura': 'Ingeniero en tecnología ambiental', \n",
    "           'Proyecto': 'D-92011', 'Tutor': 'Gusavo Sosa Iglesias'})\n",
    "my_data_2 = pd.Series({'Nombre':'Carlos', 'Apellidos':'Paredes Marcial', 'E-mail':'cpm199660@gmail.com', \n",
    "           'Edad':'26 años', 'Grado':'Licenciatura', \n",
    "           'Proyecto':'Recuperacion de aceite por inyeccion de flujo bifasico de surfractante y agua de baja salinidad', \n",
    "           'Tutor':'Rodrigo Salazar'})\n",
    "my_data_3 = pd.Series({'Nombre':'Alberto','Apellidos':'Vázquez Contreras',\n",
    "           'Email':'posavazquez@imp.mx','Edad':'29','Grado':'1erSemestre',\n",
    "           'Licenciatura':'Ing.Petrolera','Pryecto':'IA aplicada en la Ingeniería de Yacimientos',\n",
    "           'Tutor':'Dr.Leonid Shemeretov'})\n",
    "my_data_4 = pd.Series({'Nombre':'Alejandro','Apellidos':'Brena Hernandez', 'e-mail': 'brenaalejandro@hotmail.com','Edad':'26',\n",
    "       'Grado':'Maestria', 'Licenciatura':'Geofisica','Proyecto':'Clasificacion de sismofacies con ML',\n",
    "       'Tutor':'Dr. Luis Velasquillo'})\n",
    "my_data_5 = pd.Series({'Nombre':'Eliseo Andrei', 'Apellidos':'Martinez Angel', \n",
    "         'E-mail':'eliseoandrei@live.com.mx','Edad':'18 años',\n",
    "         'Grado':'Licenciatura','Licenciatura':'Ingenieria Quimica Petrolera',\n",
    "         'Proyecto':'Sintesis. Evaluacion y Caracterizacion de liquidos ionicos como catalizadores', \n",
    "         'Tutor':'Dr. Rafael Mtz Palou'})\n",
    "my_data_6 = pd.Series({1:'Nombres',2:'Apellidos',3:'E-mail',4:'Edad',5:'Grado',6:'Licenciatura',7:'Proyecto',8:'Tutor'})\n",
    "my_data_7 = pd.Series({\"A.\":\"Emilio\",\n",
    "        \"B.\":\"Leal Gómez\",\n",
    "        \"C\":\"em.lego1603@gmail.com\",\n",
    "        \"D\":30,\n",
    "          \"E\":\"Doctorado\",\n",
    "          \"F\":\"Química\",\n",
    "          \"G\":\"Síntesis, caracterización y evaluación de un agente de transferencia de hidrógeno sólido para la producción de diésel de ultra bajo azufre\",\n",
    "          \"H\":\"Dr. Jorge Ancheyta y Dr. Pablo Torres\"})\n",
    "my_data_8 = pd.Series({'nombres':'rosario','Apellidos': 'giron','E-mail': 'xaiio_@hotmail.com',\n",
    "                       'Edad':26,'Grado':3,'Licenciatura':'geofisica','Proyecto': 'rn','Tutor': 'velasquillo'})\n",
    "my_data_9 = pd.Series({\n",
    "           'Nombres':'Sergio Enrique',\n",
    "           'Apellidos':'de la Cruz',\n",
    "           'E-mail':'sdelacruzchable@gmail.com',\n",
    "           'Edad':26,\n",
    "           'Grado':'Lecenciatura',\n",
    "           'Licenciatura':'Ing. Petrolera',\n",
    "           'Proyecto':'Diseño de BN para AF',\n",
    "           'Tutor':'CLG'\n",
    "          })\n",
    "my_data_10 = pd.Series({\n",
    "    'Nombre':'Mariana Yesenia',\n",
    "    'Apellidos':'Piña Fernández',\n",
    "    'E-mail':'mayepifer@hotmail.com',\n",
    "    'Edad':28,\n",
    "    'Grado':'Licenciatura',\n",
    "    'Licenciatura':'Ingeniería Química',\n",
    "    'Proyecto':'Síntesis de catalizadores base líquidos iónicos para la reacción de alquilación',\n",
    "    'Tutor':'Natalya V. Likhanova'\n",
    "})\n",
    "df = pd.DataFrame([my_data_1, my_data_2, my_data_3,my_data_4,my_data_5,my_data_6,my_data_7,my_data_8,my_data_9,my_data_10])\n",
    "df"
   ]
  },
  {
   "cell_type": "code",
   "execution_count": 33,
   "metadata": {
    "colab": {
     "base_uri": "https://localhost:8080/"
    },
    "id": "usjdr4EWa64_",
    "outputId": "5576f086-78da-4bb3-e14e-639e1622f991"
   },
   "outputs": [
    {
     "data": {
      "text/plain": [
       "pandas.core.frame.DataFrame"
      ]
     },
     "execution_count": 33,
     "metadata": {},
     "output_type": "execute_result"
    }
   ],
   "source": [
    "type(df)"
   ]
  },
  {
   "cell_type": "code",
   "execution_count": 34,
   "metadata": {
    "colab": {
     "base_uri": "https://localhost:8080/"
    },
    "id": "iJVx1Nc6dJ6I",
    "outputId": "ab4d077b-591a-4aef-9b3c-74e903fc46b6"
   },
   "outputs": [
    {
     "name": "stdout",
     "output_type": "stream",
     "text": [
      "<class 'pandas.core.frame.DataFrame'>\n",
      "RangeIndex: 10 entries, 0 to 9\n",
      "Data columns (total 30 columns):\n",
      " #   Column        Non-Null Count  Dtype  \n",
      "---  ------        --------------  -----  \n",
      " 0   1             1 non-null      object \n",
      " 1   2             1 non-null      object \n",
      " 2   3             1 non-null      object \n",
      " 3   4             1 non-null      object \n",
      " 4   5             1 non-null      object \n",
      " 5   6             1 non-null      object \n",
      " 6   7             1 non-null      object \n",
      " 7   8             1 non-null      object \n",
      " 8   A.            1 non-null      object \n",
      " 9   Apellidos     8 non-null      object \n",
      " 10  B.            1 non-null      object \n",
      " 11  C             1 non-null      object \n",
      " 12  D             1 non-null      float64\n",
      " 13  E             1 non-null      object \n",
      " 14  E-mail        6 non-null      object \n",
      " 15  Edad          7 non-null      object \n",
      " 16  Email         1 non-null      object \n",
      " 17  F             1 non-null      object \n",
      " 18  G             1 non-null      object \n",
      " 19  Grado         8 non-null      object \n",
      " 20  H             1 non-null      object \n",
      " 21  Licenciatura  7 non-null      object \n",
      " 22  Nombre        5 non-null      object \n",
      " 23  Nombres       2 non-null      object \n",
      " 24  Proyecto      7 non-null      object \n",
      " 25  Pryecto       1 non-null      object \n",
      " 26  Tutor         8 non-null      object \n",
      " 27  e-mail        1 non-null      object \n",
      " 28  edad          1 non-null      float64\n",
      " 29  nombres       1 non-null      object \n",
      "dtypes: float64(2), object(28)\n",
      "memory usage: 2.5+ KB\n"
     ]
    }
   ],
   "source": [
    "df.info()"
   ]
  },
  {
   "cell_type": "code",
   "execution_count": 35,
   "metadata": {
    "colab": {
     "base_uri": "https://localhost:8080/",
     "height": 677
    },
    "id": "39llWtDYIiZ9",
    "outputId": "edfeac55-e33d-45a2-c138-be19d6e2988a"
   },
   "outputs": [
    {
     "data": {
      "text/html": [
       "<div>\n",
       "<style scoped>\n",
       "    .dataframe tbody tr th:only-of-type {\n",
       "        vertical-align: middle;\n",
       "    }\n",
       "\n",
       "    .dataframe tbody tr th {\n",
       "        vertical-align: top;\n",
       "    }\n",
       "\n",
       "    .dataframe thead th {\n",
       "        text-align: right;\n",
       "    }\n",
       "</style>\n",
       "<table border=\"1\" class=\"dataframe\">\n",
       "  <thead>\n",
       "    <tr style=\"text-align: right;\">\n",
       "      <th></th>\n",
       "      <th>Nombres</th>\n",
       "      <th>Apellidos</th>\n",
       "      <th>E-mail</th>\n",
       "      <th>edad</th>\n",
       "      <th>Grado</th>\n",
       "      <th>Licenciatura</th>\n",
       "      <th>Proyecto</th>\n",
       "      <th>Tutor</th>\n",
       "      <th>Nombre</th>\n",
       "      <th>Edad</th>\n",
       "      <th>Email</th>\n",
       "      <th>Pryecto</th>\n",
       "      <th>e-mail</th>\n",
       "      <th>nombres</th>\n",
       "    </tr>\n",
       "  </thead>\n",
       "  <tbody>\n",
       "    <tr>\n",
       "      <th>0</th>\n",
       "      <td>Diana Laura</td>\n",
       "      <td>López Morales</td>\n",
       "      <td>ita.dianalopez@gmail.com</td>\n",
       "      <td>26.0</td>\n",
       "      <td>Maestría</td>\n",
       "      <td>Ingeniero en tecnología ambiental</td>\n",
       "      <td>D-92011</td>\n",
       "      <td>Gusavo Sosa Iglesias</td>\n",
       "      <td>NaN</td>\n",
       "      <td>NaN</td>\n",
       "      <td>NaN</td>\n",
       "      <td>NaN</td>\n",
       "      <td>NaN</td>\n",
       "      <td>NaN</td>\n",
       "    </tr>\n",
       "    <tr>\n",
       "      <th>1</th>\n",
       "      <td>NaN</td>\n",
       "      <td>Paredes Marcial</td>\n",
       "      <td>cpm199660@gmail.com</td>\n",
       "      <td>NaN</td>\n",
       "      <td>Licenciatura</td>\n",
       "      <td>NaN</td>\n",
       "      <td>Recuperacion de aceite por inyeccion de flujo ...</td>\n",
       "      <td>Rodrigo Salazar</td>\n",
       "      <td>Carlos</td>\n",
       "      <td>26 años</td>\n",
       "      <td>NaN</td>\n",
       "      <td>NaN</td>\n",
       "      <td>NaN</td>\n",
       "      <td>NaN</td>\n",
       "    </tr>\n",
       "    <tr>\n",
       "      <th>2</th>\n",
       "      <td>NaN</td>\n",
       "      <td>Vázquez Contreras</td>\n",
       "      <td>NaN</td>\n",
       "      <td>NaN</td>\n",
       "      <td>1erSemestre</td>\n",
       "      <td>Ing.Petrolera</td>\n",
       "      <td>NaN</td>\n",
       "      <td>Dr.Leonid Shemeretov</td>\n",
       "      <td>Alberto</td>\n",
       "      <td>29</td>\n",
       "      <td>posavazquez@imp.mx</td>\n",
       "      <td>IA aplicada en la Ingeniería de Yacimientos</td>\n",
       "      <td>NaN</td>\n",
       "      <td>NaN</td>\n",
       "    </tr>\n",
       "    <tr>\n",
       "      <th>3</th>\n",
       "      <td>NaN</td>\n",
       "      <td>Brena Hernandez</td>\n",
       "      <td>NaN</td>\n",
       "      <td>NaN</td>\n",
       "      <td>Maestria</td>\n",
       "      <td>Geofisica</td>\n",
       "      <td>Clasificacion de sismofacies con ML</td>\n",
       "      <td>Dr. Luis Velasquillo</td>\n",
       "      <td>Alejandro</td>\n",
       "      <td>26</td>\n",
       "      <td>NaN</td>\n",
       "      <td>NaN</td>\n",
       "      <td>brenaalejandro@hotmail.com</td>\n",
       "      <td>NaN</td>\n",
       "    </tr>\n",
       "    <tr>\n",
       "      <th>4</th>\n",
       "      <td>NaN</td>\n",
       "      <td>Martinez Angel</td>\n",
       "      <td>eliseoandrei@live.com.mx</td>\n",
       "      <td>NaN</td>\n",
       "      <td>Licenciatura</td>\n",
       "      <td>Ingenieria Quimica Petrolera</td>\n",
       "      <td>Sintesis. Evaluacion y Caracterizacion de liqu...</td>\n",
       "      <td>Dr. Rafael Mtz Palou</td>\n",
       "      <td>Eliseo Andrei</td>\n",
       "      <td>18 años</td>\n",
       "      <td>NaN</td>\n",
       "      <td>NaN</td>\n",
       "      <td>NaN</td>\n",
       "      <td>NaN</td>\n",
       "    </tr>\n",
       "    <tr>\n",
       "      <th>5</th>\n",
       "      <td>NaN</td>\n",
       "      <td>giron</td>\n",
       "      <td>xaiio_@hotmail.com</td>\n",
       "      <td>NaN</td>\n",
       "      <td>3</td>\n",
       "      <td>geofisica</td>\n",
       "      <td>rn</td>\n",
       "      <td>velasquillo</td>\n",
       "      <td>NaN</td>\n",
       "      <td>26</td>\n",
       "      <td>NaN</td>\n",
       "      <td>NaN</td>\n",
       "      <td>NaN</td>\n",
       "      <td>rosario</td>\n",
       "    </tr>\n",
       "    <tr>\n",
       "      <th>6</th>\n",
       "      <td>Sergio Enrique</td>\n",
       "      <td>de la Cruz</td>\n",
       "      <td>sdelacruzchable@gmail.com</td>\n",
       "      <td>NaN</td>\n",
       "      <td>Lecenciatura</td>\n",
       "      <td>Ing. Petrolera</td>\n",
       "      <td>Diseño de BN para AF</td>\n",
       "      <td>CLG</td>\n",
       "      <td>NaN</td>\n",
       "      <td>26</td>\n",
       "      <td>NaN</td>\n",
       "      <td>NaN</td>\n",
       "      <td>NaN</td>\n",
       "      <td>NaN</td>\n",
       "    </tr>\n",
       "    <tr>\n",
       "      <th>7</th>\n",
       "      <td>NaN</td>\n",
       "      <td>Piña Fernández</td>\n",
       "      <td>mayepifer@hotmail.com</td>\n",
       "      <td>NaN</td>\n",
       "      <td>Licenciatura</td>\n",
       "      <td>Ingeniería Química</td>\n",
       "      <td>Síntesis de catalizadores base líquidos iónico...</td>\n",
       "      <td>Natalya V. Likhanova</td>\n",
       "      <td>Mariana Yesenia</td>\n",
       "      <td>28</td>\n",
       "      <td>NaN</td>\n",
       "      <td>NaN</td>\n",
       "      <td>NaN</td>\n",
       "      <td>NaN</td>\n",
       "    </tr>\n",
       "  </tbody>\n",
       "</table>\n",
       "</div>"
      ],
      "text/plain": [
       "          Nombres          Apellidos                     E-mail  edad  \\\n",
       "0     Diana Laura      López Morales   ita.dianalopez@gmail.com  26.0   \n",
       "1             NaN    Paredes Marcial        cpm199660@gmail.com   NaN   \n",
       "2             NaN  Vázquez Contreras                        NaN   NaN   \n",
       "3             NaN    Brena Hernandez                        NaN   NaN   \n",
       "4             NaN     Martinez Angel   eliseoandrei@live.com.mx   NaN   \n",
       "5             NaN              giron         xaiio_@hotmail.com   NaN   \n",
       "6  Sergio Enrique         de la Cruz  sdelacruzchable@gmail.com   NaN   \n",
       "7             NaN     Piña Fernández      mayepifer@hotmail.com   NaN   \n",
       "\n",
       "          Grado                       Licenciatura  \\\n",
       "0      Maestría  Ingeniero en tecnología ambiental   \n",
       "1  Licenciatura                                NaN   \n",
       "2   1erSemestre                      Ing.Petrolera   \n",
       "3      Maestria                          Geofisica   \n",
       "4  Licenciatura       Ingenieria Quimica Petrolera   \n",
       "5             3                          geofisica   \n",
       "6  Lecenciatura                     Ing. Petrolera   \n",
       "7  Licenciatura                 Ingeniería Química   \n",
       "\n",
       "                                            Proyecto                 Tutor  \\\n",
       "0                                            D-92011  Gusavo Sosa Iglesias   \n",
       "1  Recuperacion de aceite por inyeccion de flujo ...       Rodrigo Salazar   \n",
       "2                                                NaN  Dr.Leonid Shemeretov   \n",
       "3                Clasificacion de sismofacies con ML  Dr. Luis Velasquillo   \n",
       "4  Sintesis. Evaluacion y Caracterizacion de liqu...  Dr. Rafael Mtz Palou   \n",
       "5                                                 rn           velasquillo   \n",
       "6                               Diseño de BN para AF                   CLG   \n",
       "7  Síntesis de catalizadores base líquidos iónico...  Natalya V. Likhanova   \n",
       "\n",
       "            Nombre     Edad               Email  \\\n",
       "0              NaN      NaN                 NaN   \n",
       "1           Carlos  26 años                 NaN   \n",
       "2          Alberto       29  posavazquez@imp.mx   \n",
       "3        Alejandro       26                 NaN   \n",
       "4    Eliseo Andrei  18 años                 NaN   \n",
       "5              NaN       26                 NaN   \n",
       "6              NaN       26                 NaN   \n",
       "7  Mariana Yesenia       28                 NaN   \n",
       "\n",
       "                                       Pryecto                      e-mail  \\\n",
       "0                                          NaN                         NaN   \n",
       "1                                          NaN                         NaN   \n",
       "2  IA aplicada en la Ingeniería de Yacimientos                         NaN   \n",
       "3                                          NaN  brenaalejandro@hotmail.com   \n",
       "4                                          NaN                         NaN   \n",
       "5                                          NaN                         NaN   \n",
       "6                                          NaN                         NaN   \n",
       "7                                          NaN                         NaN   \n",
       "\n",
       "   nombres  \n",
       "0      NaN  \n",
       "1      NaN  \n",
       "2      NaN  \n",
       "3      NaN  \n",
       "4      NaN  \n",
       "5  rosario  \n",
       "6      NaN  \n",
       "7      NaN  "
      ]
     },
     "execution_count": 35,
     "metadata": {},
     "output_type": "execute_result"
    }
   ],
   "source": [
    "import pandas as pd\n",
    "my_data_1 = pd.Series({'Nombres': 'Diana Laura', 'Apellidos': 'López Morales', \n",
    "           'E-mail': 'ita.dianalopez@gmail.com', 'edad': 26, \n",
    "           'Grado':'Maestría', 'Licenciatura': 'Ingeniero en tecnología ambiental', \n",
    "           'Proyecto': 'D-92011', 'Tutor': 'Gusavo Sosa Iglesias'})\n",
    "my_data_2 = pd.Series({'Nombre':'Carlos', 'Apellidos':'Paredes Marcial', 'E-mail':'cpm199660@gmail.com', \n",
    "           'Edad':'26 años', 'Grado':'Licenciatura', \n",
    "           'Proyecto':'Recuperacion de aceite por inyeccion de flujo bifasico de surfractante y agua de baja salinidad', \n",
    "           'Tutor':'Rodrigo Salazar'})\n",
    "my_data_3 = pd.Series({'Nombre':'Alberto','Apellidos':'Vázquez Contreras',\n",
    "           'Email':'posavazquez@imp.mx','Edad':'29','Grado':'1erSemestre',\n",
    "           'Licenciatura':'Ing.Petrolera','Pryecto':'IA aplicada en la Ingeniería de Yacimientos',\n",
    "           'Tutor':'Dr.Leonid Shemeretov'})\n",
    "my_data_4 = pd.Series({'Nombre':'Alejandro','Apellidos':'Brena Hernandez', 'e-mail': 'brenaalejandro@hotmail.com','Edad':'26',\n",
    "       'Grado':'Maestria', 'Licenciatura':'Geofisica','Proyecto':'Clasificacion de sismofacies con ML',\n",
    "       'Tutor':'Dr. Luis Velasquillo'})\n",
    "my_data_5 = pd.Series({'Nombre':'Eliseo Andrei', 'Apellidos':'Martinez Angel', \n",
    "         'E-mail':'eliseoandrei@live.com.mx','Edad':'18 años',\n",
    "         'Grado':'Licenciatura','Licenciatura':'Ingenieria Quimica Petrolera',\n",
    "         'Proyecto':'Sintesis. Evaluacion y Caracterizacion de liquidos ionicos como catalizadores', \n",
    "         'Tutor':'Dr. Rafael Mtz Palou'})\n",
    "my_data_6 = pd.Series({1:'Nombres',2:'Apellidos',3:'E-mail',4:'Edad',5:'Grado',6:'Licenciatura',7:'Proyecto',8:'Tutor'})\n",
    "my_data_7 = pd.Series({\"A.\":\"Emilio\",\n",
    "        \"B.\":\"Leal Gómez\",\n",
    "        \"C\":\"em.lego1603@gmail.com\",\n",
    "        \"D\":30,\n",
    "          \"E\":\"Doctorado\",\n",
    "          \"F\":\"Química\",\n",
    "          \"G\":\"Síntesis, caracterización y evaluación de un agente de transferencia de hidrógeno sólido para la producción de diésel de ultra bajo azufre\",\n",
    "          \"H\":\"Dr. Jorge Ancheyta y Dr. Pablo Torres\"})\n",
    "my_data_8 = pd.Series({'nombres':'rosario','Apellidos': 'giron','E-mail': 'xaiio_@hotmail.com',\n",
    "                       'Edad':26,'Grado':3,'Licenciatura':'geofisica','Proyecto': 'rn','Tutor': 'velasquillo'})\n",
    "my_data_9 = pd.Series({\n",
    "           'Nombres':'Sergio Enrique',\n",
    "           'Apellidos':'de la Cruz',\n",
    "           'E-mail':'sdelacruzchable@gmail.com',\n",
    "           'Edad':26,\n",
    "           'Grado':'Lecenciatura',\n",
    "           'Licenciatura':'Ing. Petrolera',\n",
    "           'Proyecto':'Diseño de BN para AF',\n",
    "           'Tutor':'CLG'\n",
    "          })\n",
    "my_data_10 = pd.Series({\n",
    "    'Nombre':'Mariana Yesenia',\n",
    "    'Apellidos':'Piña Fernández',\n",
    "    'E-mail':'mayepifer@hotmail.com',\n",
    "    'Edad':28,\n",
    "    'Grado':'Licenciatura',\n",
    "    'Licenciatura':'Ingeniería Química',\n",
    "    'Proyecto':'Síntesis de catalizadores base líquidos iónicos para la reacción de alquilación',\n",
    "    'Tutor':'Natalya V. Likhanova'\n",
    "})\n",
    "\n",
    "df = pd.DataFrame([my_data_1,my_data_2, my_data_3,my_data_4,my_data_5,my_data_8,my_data_9,my_data_10])\n",
    "df"
   ]
  },
  {
   "cell_type": "code",
   "execution_count": 36,
   "metadata": {
    "colab": {
     "base_uri": "https://localhost:8080/",
     "height": 553
    },
    "id": "f6QFLLe-IiZ-",
    "outputId": "838fb825-e3a4-401a-e98f-a872eeab668f"
   },
   "outputs": [
    {
     "data": {
      "text/html": [
       "<div>\n",
       "<style scoped>\n",
       "    .dataframe tbody tr th:only-of-type {\n",
       "        vertical-align: middle;\n",
       "    }\n",
       "\n",
       "    .dataframe tbody tr th {\n",
       "        vertical-align: top;\n",
       "    }\n",
       "\n",
       "    .dataframe thead th {\n",
       "        text-align: right;\n",
       "    }\n",
       "</style>\n",
       "<table border=\"1\" class=\"dataframe\">\n",
       "  <thead>\n",
       "    <tr style=\"text-align: right;\">\n",
       "      <th></th>\n",
       "      <th>Nombres</th>\n",
       "      <th>Apellidos</th>\n",
       "      <th>E-mail</th>\n",
       "      <th>edad</th>\n",
       "      <th>Grado</th>\n",
       "      <th>Licenciatura</th>\n",
       "      <th>Proyecto</th>\n",
       "      <th>Tutor</th>\n",
       "      <th>Edad</th>\n",
       "      <th>Pryecto</th>\n",
       "    </tr>\n",
       "  </thead>\n",
       "  <tbody>\n",
       "    <tr>\n",
       "      <th>0</th>\n",
       "      <td>Diana Laura</td>\n",
       "      <td>López Morales</td>\n",
       "      <td>ita.dianalopez@gmail.com</td>\n",
       "      <td>26.0</td>\n",
       "      <td>Maestría</td>\n",
       "      <td>Ingeniero en tecnología ambiental</td>\n",
       "      <td>D-92011</td>\n",
       "      <td>Gusavo Sosa Iglesias</td>\n",
       "      <td>NaN</td>\n",
       "      <td>NaN</td>\n",
       "    </tr>\n",
       "    <tr>\n",
       "      <th>1</th>\n",
       "      <td>Carlos</td>\n",
       "      <td>Paredes Marcial</td>\n",
       "      <td>cpm199660@gmail.com</td>\n",
       "      <td>NaN</td>\n",
       "      <td>Licenciatura</td>\n",
       "      <td>NaN</td>\n",
       "      <td>Recuperacion de aceite por inyeccion de flujo ...</td>\n",
       "      <td>Rodrigo Salazar</td>\n",
       "      <td>26 años</td>\n",
       "      <td>NaN</td>\n",
       "    </tr>\n",
       "    <tr>\n",
       "      <th>2</th>\n",
       "      <td>Alberto</td>\n",
       "      <td>Vázquez Contreras</td>\n",
       "      <td>posavazquez@imp.mx</td>\n",
       "      <td>NaN</td>\n",
       "      <td>1erSemestre</td>\n",
       "      <td>Ing.Petrolera</td>\n",
       "      <td>NaN</td>\n",
       "      <td>Dr.Leonid Shemeretov</td>\n",
       "      <td>29</td>\n",
       "      <td>IA aplicada en la Ingeniería de Yacimientos</td>\n",
       "    </tr>\n",
       "    <tr>\n",
       "      <th>3</th>\n",
       "      <td>Alejandro</td>\n",
       "      <td>Brena Hernandez</td>\n",
       "      <td>brenaalejandro@hotmail.com</td>\n",
       "      <td>NaN</td>\n",
       "      <td>Maestria</td>\n",
       "      <td>Geofisica</td>\n",
       "      <td>Clasificacion de sismofacies con ML</td>\n",
       "      <td>Dr. Luis Velasquillo</td>\n",
       "      <td>26</td>\n",
       "      <td>NaN</td>\n",
       "    </tr>\n",
       "    <tr>\n",
       "      <th>4</th>\n",
       "      <td>Eliseo Andrei</td>\n",
       "      <td>Martinez Angel</td>\n",
       "      <td>eliseoandrei@live.com.mx</td>\n",
       "      <td>NaN</td>\n",
       "      <td>Licenciatura</td>\n",
       "      <td>Ingenieria Quimica Petrolera</td>\n",
       "      <td>Sintesis. Evaluacion y Caracterizacion de liqu...</td>\n",
       "      <td>Dr. Rafael Mtz Palou</td>\n",
       "      <td>18 años</td>\n",
       "      <td>NaN</td>\n",
       "    </tr>\n",
       "    <tr>\n",
       "      <th>5</th>\n",
       "      <td>rosario</td>\n",
       "      <td>giron</td>\n",
       "      <td>xaiio_@hotmail.com</td>\n",
       "      <td>NaN</td>\n",
       "      <td>3</td>\n",
       "      <td>geofisica</td>\n",
       "      <td>rn</td>\n",
       "      <td>velasquillo</td>\n",
       "      <td>26</td>\n",
       "      <td>NaN</td>\n",
       "    </tr>\n",
       "    <tr>\n",
       "      <th>6</th>\n",
       "      <td>Sergio Enrique</td>\n",
       "      <td>de la Cruz</td>\n",
       "      <td>sdelacruzchable@gmail.com</td>\n",
       "      <td>NaN</td>\n",
       "      <td>Lecenciatura</td>\n",
       "      <td>Ing. Petrolera</td>\n",
       "      <td>Diseño de BN para AF</td>\n",
       "      <td>CLG</td>\n",
       "      <td>26</td>\n",
       "      <td>NaN</td>\n",
       "    </tr>\n",
       "    <tr>\n",
       "      <th>7</th>\n",
       "      <td>Mariana Yesenia</td>\n",
       "      <td>Piña Fernández</td>\n",
       "      <td>mayepifer@hotmail.com</td>\n",
       "      <td>NaN</td>\n",
       "      <td>Licenciatura</td>\n",
       "      <td>Ingeniería Química</td>\n",
       "      <td>Síntesis de catalizadores base líquidos iónico...</td>\n",
       "      <td>Natalya V. Likhanova</td>\n",
       "      <td>28</td>\n",
       "      <td>NaN</td>\n",
       "    </tr>\n",
       "  </tbody>\n",
       "</table>\n",
       "</div>"
      ],
      "text/plain": [
       "           Nombres          Apellidos                      E-mail  edad  \\\n",
       "0      Diana Laura      López Morales    ita.dianalopez@gmail.com  26.0   \n",
       "1           Carlos    Paredes Marcial         cpm199660@gmail.com   NaN   \n",
       "2          Alberto  Vázquez Contreras          posavazquez@imp.mx   NaN   \n",
       "3        Alejandro    Brena Hernandez  brenaalejandro@hotmail.com   NaN   \n",
       "4    Eliseo Andrei     Martinez Angel    eliseoandrei@live.com.mx   NaN   \n",
       "5          rosario              giron          xaiio_@hotmail.com   NaN   \n",
       "6   Sergio Enrique         de la Cruz   sdelacruzchable@gmail.com   NaN   \n",
       "7  Mariana Yesenia     Piña Fernández       mayepifer@hotmail.com   NaN   \n",
       "\n",
       "          Grado                       Licenciatura  \\\n",
       "0      Maestría  Ingeniero en tecnología ambiental   \n",
       "1  Licenciatura                                NaN   \n",
       "2   1erSemestre                      Ing.Petrolera   \n",
       "3      Maestria                          Geofisica   \n",
       "4  Licenciatura       Ingenieria Quimica Petrolera   \n",
       "5             3                          geofisica   \n",
       "6  Lecenciatura                     Ing. Petrolera   \n",
       "7  Licenciatura                 Ingeniería Química   \n",
       "\n",
       "                                            Proyecto                 Tutor  \\\n",
       "0                                            D-92011  Gusavo Sosa Iglesias   \n",
       "1  Recuperacion de aceite por inyeccion de flujo ...       Rodrigo Salazar   \n",
       "2                                                NaN  Dr.Leonid Shemeretov   \n",
       "3                Clasificacion de sismofacies con ML  Dr. Luis Velasquillo   \n",
       "4  Sintesis. Evaluacion y Caracterizacion de liqu...  Dr. Rafael Mtz Palou   \n",
       "5                                                 rn           velasquillo   \n",
       "6                               Diseño de BN para AF                   CLG   \n",
       "7  Síntesis de catalizadores base líquidos iónico...  Natalya V. Likhanova   \n",
       "\n",
       "      Edad                                      Pryecto  \n",
       "0      NaN                                          NaN  \n",
       "1  26 años                                          NaN  \n",
       "2       29  IA aplicada en la Ingeniería de Yacimientos  \n",
       "3       26                                          NaN  \n",
       "4  18 años                                          NaN  \n",
       "5       26                                          NaN  \n",
       "6       26                                          NaN  \n",
       "7       28                                          NaN  "
      ]
     },
     "execution_count": 36,
     "metadata": {},
     "output_type": "execute_result"
    }
   ],
   "source": [
    "import pandas as pd\n",
    "my_data_1 = pd.Series({'Nombres': 'Diana Laura', 'Apellidos': 'López Morales', \n",
    "           'E-mail': 'ita.dianalopez@gmail.com', 'edad': 26, \n",
    "           'Grado':'Maestría', 'Licenciatura': 'Ingeniero en tecnología ambiental', \n",
    "           'Proyecto': 'D-92011', 'Tutor': 'Gusavo Sosa Iglesias'})\n",
    "my_data_2 = pd.Series({'Nombres':'Carlos', 'Apellidos':'Paredes Marcial', 'E-mail':'cpm199660@gmail.com', \n",
    "           'Edad':'26 años', 'Grado':'Licenciatura', \n",
    "           'Proyecto':'Recuperacion de aceite por inyeccion de flujo bifasico de surfractante y agua de baja salinidad', \n",
    "           'Tutor':'Rodrigo Salazar'})\n",
    "my_data_3 = pd.Series({'Nombres':'Alberto','Apellidos':'Vázquez Contreras',\n",
    "           'E-mail':'posavazquez@imp.mx','Edad':'29','Grado':'1erSemestre',\n",
    "           'Licenciatura':'Ing.Petrolera','Pryecto':'IA aplicada en la Ingeniería de Yacimientos',\n",
    "           'Tutor':'Dr.Leonid Shemeretov'})\n",
    "my_data_4 = pd.Series({'Nombres':'Alejandro','Apellidos':'Brena Hernandez', 'E-mail': 'brenaalejandro@hotmail.com','Edad':'26',\n",
    "       'Grado':'Maestria', 'Licenciatura':'Geofisica','Proyecto':'Clasificacion de sismofacies con ML',\n",
    "       'Tutor':'Dr. Luis Velasquillo'})\n",
    "my_data_5 = pd.Series({'Nombres':'Eliseo Andrei', 'Apellidos':'Martinez Angel', \n",
    "         'E-mail':'eliseoandrei@live.com.mx','Edad':'18 años',\n",
    "         'Grado':'Licenciatura','Licenciatura':'Ingenieria Quimica Petrolera',\n",
    "         'Proyecto':'Sintesis. Evaluacion y Caracterizacion de liquidos ionicos como catalizadores', \n",
    "         'Tutor':'Dr. Rafael Mtz Palou'})\n",
    "my_data_6 = pd.Series({1:'Nombres',2:'Apellidos',3:'E-mail',4:'Edad',5:'Grado',6:'Licenciatura',7:'Proyecto',8:'Tutor'})\n",
    "my_data_7 = pd.Series({\"A.\":\"Emilio\",\n",
    "        \"B.\":\"Leal Gómez\",\n",
    "        \"C\":\"em.lego1603@gmail.com\",\n",
    "        \"D\":30,\n",
    "          \"E\":\"Doctorado\",\n",
    "          \"F\":\"Química\",\n",
    "          \"G\":\"Síntesis, caracterización y evaluación de un agente de transferencia de hidrógeno sólido para la producción de diésel de ultra bajo azufre\",\n",
    "          \"H\":\"Dr. Jorge Ancheyta y Dr. Pablo Torres\"})\n",
    "my_data_8 = pd.Series({'Nombres':'rosario','Apellidos': 'giron','E-mail': 'xaiio_@hotmail.com',\n",
    "                       'Edad':26,'Grado':3,'Licenciatura':'geofisica','Proyecto': 'rn','Tutor': 'velasquillo'})\n",
    "my_data_9 = pd.Series({\n",
    "           'Nombres':'Sergio Enrique',\n",
    "           'Apellidos':'de la Cruz',\n",
    "           'E-mail':'sdelacruzchable@gmail.com',\n",
    "           'Edad':26,\n",
    "           'Grado':'Lecenciatura',\n",
    "           'Licenciatura':'Ing. Petrolera',\n",
    "           'Proyecto':'Diseño de BN para AF',\n",
    "           'Tutor':'CLG'\n",
    "          })\n",
    "my_data_10 = pd.Series({\n",
    "    'Nombres':'Mariana Yesenia',\n",
    "    'Apellidos':'Piña Fernández',\n",
    "    'E-mail':'mayepifer@hotmail.com',\n",
    "    'Edad':28,\n",
    "    'Grado':'Licenciatura',\n",
    "    'Licenciatura':'Ingeniería Química',\n",
    "    'Proyecto':'Síntesis de catalizadores base líquidos iónicos para la reacción de alquilación',\n",
    "    'Tutor':'Natalya V. Likhanova'\n",
    "})\n",
    "df_nan = pd.DataFrame([my_data_1, my_data_2, my_data_3,my_data_4,my_data_5,my_data_8,my_data_9,my_data_10])\n",
    "df_nan"
   ]
  },
  {
   "cell_type": "code",
   "execution_count": 37,
   "metadata": {},
   "outputs": [
    {
     "name": "stdout",
     "output_type": "stream",
     "text": [
      "<class 'pandas.core.frame.DataFrame'>\n",
      "RangeIndex: 8 entries, 0 to 7\n",
      "Data columns (total 14 columns):\n",
      " #   Column        Non-Null Count  Dtype  \n",
      "---  ------        --------------  -----  \n",
      " 0   Nombres       2 non-null      object \n",
      " 1   Apellidos     8 non-null      object \n",
      " 2   E-mail        6 non-null      object \n",
      " 3   edad          1 non-null      float64\n",
      " 4   Grado         8 non-null      object \n",
      " 5   Licenciatura  7 non-null      object \n",
      " 6   Proyecto      7 non-null      object \n",
      " 7   Tutor         8 non-null      object \n",
      " 8   Nombre        5 non-null      object \n",
      " 9   Edad          7 non-null      object \n",
      " 10  Email         1 non-null      object \n",
      " 11  Pryecto       1 non-null      object \n",
      " 12  e-mail        1 non-null      object \n",
      " 13  nombres       1 non-null      object \n",
      "dtypes: float64(1), object(13)\n",
      "memory usage: 1.0+ KB\n"
     ]
    }
   ],
   "source": [
    "df.info()"
   ]
  },
  {
   "cell_type": "code",
   "execution_count": 38,
   "metadata": {
    "colab": {
     "base_uri": "https://localhost:8080/",
     "height": 466
    },
    "id": "fI2Ps4pFIiZ_",
    "outputId": "667c3cff-e554-456f-9e64-bd5ff5290d2d"
   },
   "outputs": [
    {
     "data": {
      "text/html": [
       "<div>\n",
       "<style scoped>\n",
       "    .dataframe tbody tr th:only-of-type {\n",
       "        vertical-align: middle;\n",
       "    }\n",
       "\n",
       "    .dataframe tbody tr th {\n",
       "        vertical-align: top;\n",
       "    }\n",
       "\n",
       "    .dataframe thead th {\n",
       "        text-align: right;\n",
       "    }\n",
       "</style>\n",
       "<table border=\"1\" class=\"dataframe\">\n",
       "  <thead>\n",
       "    <tr style=\"text-align: right;\">\n",
       "      <th></th>\n",
       "      <th>Nombres</th>\n",
       "      <th>Apellidos</th>\n",
       "      <th>E-mail</th>\n",
       "      <th>Edad</th>\n",
       "      <th>Grado</th>\n",
       "      <th>Licenciatura</th>\n",
       "      <th>Proyecto</th>\n",
       "      <th>Tutor</th>\n",
       "    </tr>\n",
       "  </thead>\n",
       "  <tbody>\n",
       "    <tr>\n",
       "      <th>0</th>\n",
       "      <td>Diana Laura</td>\n",
       "      <td>López Morales</td>\n",
       "      <td>ita.dianalopez@gmail.com</td>\n",
       "      <td>26</td>\n",
       "      <td>Maestría</td>\n",
       "      <td>Ingeniero en tecnología ambiental</td>\n",
       "      <td>D-92011</td>\n",
       "      <td>Gusavo Sosa Iglesias</td>\n",
       "    </tr>\n",
       "    <tr>\n",
       "      <th>1</th>\n",
       "      <td>Carlos</td>\n",
       "      <td>Paredes Marcial</td>\n",
       "      <td>cpm199660@gmail.com</td>\n",
       "      <td>26 años</td>\n",
       "      <td>Licenciatura</td>\n",
       "      <td>NaN</td>\n",
       "      <td>Recuperacion de aceite por inyeccion de flujo ...</td>\n",
       "      <td>Rodrigo Salazar</td>\n",
       "    </tr>\n",
       "    <tr>\n",
       "      <th>2</th>\n",
       "      <td>Alberto</td>\n",
       "      <td>Vázquez Contreras</td>\n",
       "      <td>posavazquez@imp.mx</td>\n",
       "      <td>29</td>\n",
       "      <td>1erSemestre</td>\n",
       "      <td>Ing.Petrolera</td>\n",
       "      <td>IA aplicada en la Ingeniería de Yacimientos</td>\n",
       "      <td>Dr.Leonid Shemeretov</td>\n",
       "    </tr>\n",
       "    <tr>\n",
       "      <th>3</th>\n",
       "      <td>Alejandro</td>\n",
       "      <td>Brena Hernandez</td>\n",
       "      <td>brenaalejandro@hotmail.com</td>\n",
       "      <td>26</td>\n",
       "      <td>Maestria</td>\n",
       "      <td>Geofisica</td>\n",
       "      <td>Clasificacion de sismofacies con ML</td>\n",
       "      <td>Dr. Luis Velasquillo</td>\n",
       "    </tr>\n",
       "    <tr>\n",
       "      <th>4</th>\n",
       "      <td>Eliseo Andrei</td>\n",
       "      <td>Martinez Angel</td>\n",
       "      <td>eliseoandrei@live.com.mx</td>\n",
       "      <td>18 años</td>\n",
       "      <td>Licenciatura</td>\n",
       "      <td>Ingenieria Quimica Petrolera</td>\n",
       "      <td>Sintesis. Evaluacion y Caracterizacion de liqu...</td>\n",
       "      <td>Dr. Rafael Mtz Palou</td>\n",
       "    </tr>\n",
       "    <tr>\n",
       "      <th>5</th>\n",
       "      <td>rosario</td>\n",
       "      <td>giron</td>\n",
       "      <td>xaiio_@hotmail.com</td>\n",
       "      <td>26</td>\n",
       "      <td>3</td>\n",
       "      <td>geofisica</td>\n",
       "      <td>rn</td>\n",
       "      <td>velasquillo</td>\n",
       "    </tr>\n",
       "    <tr>\n",
       "      <th>6</th>\n",
       "      <td>Sergio Enrique</td>\n",
       "      <td>de la Cruz</td>\n",
       "      <td>sdelacruzchable@gmail.com</td>\n",
       "      <td>26</td>\n",
       "      <td>Lecenciatura</td>\n",
       "      <td>Ing. Petrolera</td>\n",
       "      <td>Diseño de BN para AF</td>\n",
       "      <td>CLG</td>\n",
       "    </tr>\n",
       "    <tr>\n",
       "      <th>7</th>\n",
       "      <td>Mariana Yesenia</td>\n",
       "      <td>Piña Fernández</td>\n",
       "      <td>mayepifer@hotmail.com</td>\n",
       "      <td>28</td>\n",
       "      <td>Licenciatura</td>\n",
       "      <td>Ingeniería Química</td>\n",
       "      <td>Síntesis de catalizadores base líquidos iónico...</td>\n",
       "      <td>Natalya V. Likhanova</td>\n",
       "    </tr>\n",
       "  </tbody>\n",
       "</table>\n",
       "</div>"
      ],
      "text/plain": [
       "           Nombres          Apellidos                      E-mail     Edad  \\\n",
       "0      Diana Laura      López Morales    ita.dianalopez@gmail.com       26   \n",
       "1           Carlos    Paredes Marcial         cpm199660@gmail.com  26 años   \n",
       "2          Alberto  Vázquez Contreras          posavazquez@imp.mx       29   \n",
       "3        Alejandro    Brena Hernandez  brenaalejandro@hotmail.com       26   \n",
       "4    Eliseo Andrei     Martinez Angel    eliseoandrei@live.com.mx  18 años   \n",
       "5          rosario              giron          xaiio_@hotmail.com       26   \n",
       "6   Sergio Enrique         de la Cruz   sdelacruzchable@gmail.com       26   \n",
       "7  Mariana Yesenia     Piña Fernández       mayepifer@hotmail.com       28   \n",
       "\n",
       "          Grado                       Licenciatura  \\\n",
       "0      Maestría  Ingeniero en tecnología ambiental   \n",
       "1  Licenciatura                                NaN   \n",
       "2   1erSemestre                      Ing.Petrolera   \n",
       "3      Maestria                          Geofisica   \n",
       "4  Licenciatura       Ingenieria Quimica Petrolera   \n",
       "5             3                          geofisica   \n",
       "6  Lecenciatura                     Ing. Petrolera   \n",
       "7  Licenciatura                 Ingeniería Química   \n",
       "\n",
       "                                            Proyecto                 Tutor  \n",
       "0                                            D-92011  Gusavo Sosa Iglesias  \n",
       "1  Recuperacion de aceite por inyeccion de flujo ...       Rodrigo Salazar  \n",
       "2        IA aplicada en la Ingeniería de Yacimientos  Dr.Leonid Shemeretov  \n",
       "3                Clasificacion de sismofacies con ML  Dr. Luis Velasquillo  \n",
       "4  Sintesis. Evaluacion y Caracterizacion de liqu...  Dr. Rafael Mtz Palou  \n",
       "5                                                 rn           velasquillo  \n",
       "6                               Diseño de BN para AF                   CLG  \n",
       "7  Síntesis de catalizadores base líquidos iónico...  Natalya V. Likhanova  "
      ]
     },
     "execution_count": 38,
     "metadata": {},
     "output_type": "execute_result"
    }
   ],
   "source": [
    "import pandas as pd\n",
    "my_data_1 = pd.Series({'Nombres': 'Diana Laura', 'Apellidos': 'López Morales', \n",
    "           'E-mail': 'ita.dianalopez@gmail.com', 'Edad': 26, \n",
    "           'Grado':'Maestría', 'Licenciatura': 'Ingeniero en tecnología ambiental', \n",
    "           'Proyecto': 'D-92011', 'Tutor': 'Gusavo Sosa Iglesias'})\n",
    "my_data_2 = pd.Series({'Nombres':'Carlos', 'Apellidos':'Paredes Marcial', 'E-mail':'cpm199660@gmail.com', \n",
    "           'Edad':'26 años', 'Grado':'Licenciatura', \n",
    "           'Proyecto':'Recuperacion de aceite por inyeccion de flujo bifasico de surfractante y agua de baja salinidad', \n",
    "           'Tutor':'Rodrigo Salazar'})\n",
    "my_data_3 = pd.Series({'Nombres':'Alberto','Apellidos':'Vázquez Contreras',\n",
    "           'E-mail':'posavazquez@imp.mx','Edad':'29','Grado':'1erSemestre',\n",
    "           'Licenciatura':'Ing.Petrolera','Proyecto':'IA aplicada en la Ingeniería de Yacimientos',\n",
    "           'Tutor':'Dr.Leonid Shemeretov'})\n",
    "my_data_4 = pd.Series({'Nombres':'Alejandro','Apellidos':'Brena Hernandez', 'E-mail': 'brenaalejandro@hotmail.com','Edad':'26',\n",
    "       'Grado':'Maestria', 'Licenciatura':'Geofisica','Proyecto':'Clasificacion de sismofacies con ML',\n",
    "       'Tutor':'Dr. Luis Velasquillo'})\n",
    "my_data_5 = pd.Series({'Nombres':'Eliseo Andrei', 'Apellidos':'Martinez Angel', \n",
    "         'E-mail':'eliseoandrei@live.com.mx','Edad':'18 años',\n",
    "         'Grado':'Licenciatura','Licenciatura':'Ingenieria Quimica Petrolera',\n",
    "         'Proyecto':'Sintesis. Evaluacion y Caracterizacion de liquidos ionicos como catalizadores', \n",
    "         'Tutor':'Dr. Rafael Mtz Palou'})\n",
    "my_data_6 = pd.Series({1:'Nombres',2:'Apellidos',3:'E-mail',4:'Edad',5:'Grado',6:'Licenciatura',7:'Proyecto',8:'Tutor'})\n",
    "my_data_7 = pd.Series({\"A.\":\"Emilio\",\n",
    "        \"B.\":\"Leal Gómez\",\n",
    "        \"C\":\"em.lego1603@gmail.com\",\n",
    "        \"D\":30,\n",
    "          \"E\":\"Doctorado\",\n",
    "          \"F\":\"Química\",\n",
    "          \"G\":\"Síntesis, caracterización y evaluación de un agente de transferencia de hidrógeno sólido para la producción de diésel de ultra bajo azufre\",\n",
    "          \"H\":\"Dr. Jorge Ancheyta y Dr. Pablo Torres\"})\n",
    "my_data_8 = pd.Series({'Nombres':'rosario','Apellidos': 'giron','E-mail': 'xaiio_@hotmail.com',\n",
    "                       'Edad':26,'Grado':3,'Licenciatura':'geofisica','Proyecto': 'rn','Tutor': 'velasquillo'})\n",
    "my_data_9 = pd.Series({\n",
    "           'Nombres':'Sergio Enrique',\n",
    "           'Apellidos':'de la Cruz',\n",
    "           'E-mail':'sdelacruzchable@gmail.com',\n",
    "           'Edad':26,\n",
    "           'Grado':'Lecenciatura',\n",
    "           'Licenciatura':'Ing. Petrolera',\n",
    "           'Proyecto':'Diseño de BN para AF',\n",
    "           'Tutor':'CLG'\n",
    "          })\n",
    "my_data_10 = pd.Series({\n",
    "    'Nombres':'Mariana Yesenia',\n",
    "    'Apellidos':'Piña Fernández',\n",
    "    'E-mail':'mayepifer@hotmail.com',\n",
    "    'Edad':28,\n",
    "    'Grado':'Licenciatura',\n",
    "    'Licenciatura':'Ingeniería Química',\n",
    "    'Proyecto':'Síntesis de catalizadores base líquidos iónicos para la reacción de alquilación',\n",
    "    'Tutor':'Natalya V. Likhanova'\n",
    "})\n",
    "df = pd.DataFrame([my_data_1, my_data_2, my_data_3,my_data_4,my_data_5,my_data_8,my_data_9,my_data_10])\n",
    "df"
   ]
  },
  {
   "cell_type": "code",
   "execution_count": 39,
   "metadata": {
    "colab": {
     "base_uri": "https://localhost:8080/",
     "height": 337
    },
    "id": "BwtgBsuRlCBn",
    "outputId": "d9132842-aa40-4573-9a91-dfbe4ee37d6e"
   },
   "outputs": [
    {
     "data": {
      "text/html": [
       "<div>\n",
       "<style scoped>\n",
       "    .dataframe tbody tr th:only-of-type {\n",
       "        vertical-align: middle;\n",
       "    }\n",
       "\n",
       "    .dataframe tbody tr th {\n",
       "        vertical-align: top;\n",
       "    }\n",
       "\n",
       "    .dataframe thead th {\n",
       "        text-align: right;\n",
       "    }\n",
       "</style>\n",
       "<table border=\"1\" class=\"dataframe\">\n",
       "  <thead>\n",
       "    <tr style=\"text-align: right;\">\n",
       "      <th></th>\n",
       "      <th>Nombres</th>\n",
       "      <th>Apellidos</th>\n",
       "      <th>E-mail</th>\n",
       "      <th>Edad</th>\n",
       "      <th>Grado</th>\n",
       "      <th>Licenciatura</th>\n",
       "      <th>Proyecto</th>\n",
       "      <th>Tutor</th>\n",
       "    </tr>\n",
       "  </thead>\n",
       "  <tbody>\n",
       "    <tr>\n",
       "      <th>0</th>\n",
       "      <td>Diana Laura</td>\n",
       "      <td>López Morales</td>\n",
       "      <td>ita.dianalopez@gmail.com</td>\n",
       "      <td>26</td>\n",
       "      <td>Maestría</td>\n",
       "      <td>Ingeniero en tecnología ambiental</td>\n",
       "      <td>D-92011</td>\n",
       "      <td>Gusavo Sosa Iglesias</td>\n",
       "    </tr>\n",
       "    <tr>\n",
       "      <th>1</th>\n",
       "      <td>Carlos</td>\n",
       "      <td>Paredes Marcial</td>\n",
       "      <td>cpm199660@gmail.com</td>\n",
       "      <td>26 años</td>\n",
       "      <td>Licenciatura</td>\n",
       "      <td>NaN</td>\n",
       "      <td>Recuperacion de aceite por inyeccion de flujo ...</td>\n",
       "      <td>Rodrigo Salazar</td>\n",
       "    </tr>\n",
       "    <tr>\n",
       "      <th>2</th>\n",
       "      <td>Alberto</td>\n",
       "      <td>Vázquez Contreras</td>\n",
       "      <td>posavazquez@imp.mx</td>\n",
       "      <td>29</td>\n",
       "      <td>1erSemestre</td>\n",
       "      <td>Ing.Petrolera</td>\n",
       "      <td>IA aplicada en la Ingeniería de Yacimientos</td>\n",
       "      <td>Dr.Leonid Shemeretov</td>\n",
       "    </tr>\n",
       "    <tr>\n",
       "      <th>3</th>\n",
       "      <td>Alejandro</td>\n",
       "      <td>Brena Hernandez</td>\n",
       "      <td>brenaalejandro@hotmail.com</td>\n",
       "      <td>26</td>\n",
       "      <td>Maestria</td>\n",
       "      <td>Geofisica</td>\n",
       "      <td>Clasificacion de sismofacies con ML</td>\n",
       "      <td>Dr. Luis Velasquillo</td>\n",
       "    </tr>\n",
       "    <tr>\n",
       "      <th>4</th>\n",
       "      <td>Eliseo Andrei</td>\n",
       "      <td>Martinez Angel</td>\n",
       "      <td>eliseoandrei@live.com.mx</td>\n",
       "      <td>18 años</td>\n",
       "      <td>Licenciatura</td>\n",
       "      <td>Ingenieria Quimica Petrolera</td>\n",
       "      <td>Sintesis. Evaluacion y Caracterizacion de liqu...</td>\n",
       "      <td>Dr. Rafael Mtz Palou</td>\n",
       "    </tr>\n",
       "  </tbody>\n",
       "</table>\n",
       "</div>"
      ],
      "text/plain": [
       "         Nombres          Apellidos                      E-mail     Edad  \\\n",
       "0    Diana Laura      López Morales    ita.dianalopez@gmail.com       26   \n",
       "1         Carlos    Paredes Marcial         cpm199660@gmail.com  26 años   \n",
       "2        Alberto  Vázquez Contreras          posavazquez@imp.mx       29   \n",
       "3      Alejandro    Brena Hernandez  brenaalejandro@hotmail.com       26   \n",
       "4  Eliseo Andrei     Martinez Angel    eliseoandrei@live.com.mx  18 años   \n",
       "\n",
       "          Grado                       Licenciatura  \\\n",
       "0      Maestría  Ingeniero en tecnología ambiental   \n",
       "1  Licenciatura                                NaN   \n",
       "2   1erSemestre                      Ing.Petrolera   \n",
       "3      Maestria                          Geofisica   \n",
       "4  Licenciatura       Ingenieria Quimica Petrolera   \n",
       "\n",
       "                                            Proyecto                 Tutor  \n",
       "0                                            D-92011  Gusavo Sosa Iglesias  \n",
       "1  Recuperacion de aceite por inyeccion de flujo ...       Rodrigo Salazar  \n",
       "2        IA aplicada en la Ingeniería de Yacimientos  Dr.Leonid Shemeretov  \n",
       "3                Clasificacion de sismofacies con ML  Dr. Luis Velasquillo  \n",
       "4  Sintesis. Evaluacion y Caracterizacion de liqu...  Dr. Rafael Mtz Palou  "
      ]
     },
     "execution_count": 39,
     "metadata": {},
     "output_type": "execute_result"
    }
   ],
   "source": [
    "df.head()"
   ]
  },
  {
   "cell_type": "code",
   "execution_count": 40,
   "metadata": {
    "colab": {
     "base_uri": "https://localhost:8080/"
    },
    "id": "vWEsLdpGbMkw",
    "outputId": "1296db56-b4cc-4694-ae30-48a1bee4cd73"
   },
   "outputs": [
    {
     "name": "stdout",
     "output_type": "stream",
     "text": [
      "<class 'pandas.core.frame.DataFrame'>\n",
      "RangeIndex: 8 entries, 0 to 7\n",
      "Data columns (total 8 columns):\n",
      " #   Column        Non-Null Count  Dtype \n",
      "---  ------        --------------  ----- \n",
      " 0   Nombres       8 non-null      object\n",
      " 1   Apellidos     8 non-null      object\n",
      " 2   E-mail        8 non-null      object\n",
      " 3   Edad          8 non-null      object\n",
      " 4   Grado         8 non-null      object\n",
      " 5   Licenciatura  7 non-null      object\n",
      " 6   Proyecto      8 non-null      object\n",
      " 7   Tutor         8 non-null      object\n",
      "dtypes: object(8)\n",
      "memory usage: 640.0+ bytes\n"
     ]
    }
   ],
   "source": [
    "df.info()"
   ]
  },
  {
   "cell_type": "code",
   "execution_count": 42,
   "metadata": {},
   "outputs": [
    {
     "data": {
      "text/plain": [
       "0        Diana Laura\n",
       "1             Carlos\n",
       "2            Alberto\n",
       "3          Alejandro\n",
       "4      Eliseo Andrei\n",
       "5            rosario\n",
       "6     Sergio Enrique\n",
       "7    Mariana Yesenia\n",
       "Name: Nombres, dtype: object"
      ]
     },
     "execution_count": 42,
     "metadata": {},
     "output_type": "execute_result"
    }
   ],
   "source": [
    "df[\"Nombres\"]"
   ]
  },
  {
   "cell_type": "code",
   "execution_count": 41,
   "metadata": {
    "colab": {
     "base_uri": "https://localhost:8080/"
    },
    "id": "QzqwUrEcic5t",
    "outputId": "1889b36d-aa2b-4eb8-af18-5a1a45688d1b"
   },
   "outputs": [
    {
     "data": {
      "text/plain": [
       "pandas.core.series.Series"
      ]
     },
     "execution_count": 41,
     "metadata": {},
     "output_type": "execute_result"
    }
   ],
   "source": [
    "type(df[\"Nombres\"])"
   ]
  },
  {
   "cell_type": "code",
   "execution_count": 43,
   "metadata": {
    "colab": {
     "base_uri": "https://localhost:8080/",
     "height": 497
    },
    "id": "HEmG_o8ZIiaB",
    "outputId": "90cbf0ac-ac59-4b67-d941-d45bc47648c4"
   },
   "outputs": [],
   "source": [
    "df_names = df.set_index('Nombres')"
   ]
  },
  {
   "cell_type": "code",
   "execution_count": 44,
   "metadata": {
    "colab": {
     "base_uri": "https://localhost:8080/",
     "height": 466
    },
    "id": "6-Xkp1j_IiaB",
    "outputId": "b674b840-f77f-4b66-84e7-a32eaea8ca8b"
   },
   "outputs": [
    {
     "data": {
      "text/html": [
       "<div>\n",
       "<style scoped>\n",
       "    .dataframe tbody tr th:only-of-type {\n",
       "        vertical-align: middle;\n",
       "    }\n",
       "\n",
       "    .dataframe tbody tr th {\n",
       "        vertical-align: top;\n",
       "    }\n",
       "\n",
       "    .dataframe thead th {\n",
       "        text-align: right;\n",
       "    }\n",
       "</style>\n",
       "<table border=\"1\" class=\"dataframe\">\n",
       "  <thead>\n",
       "    <tr style=\"text-align: right;\">\n",
       "      <th></th>\n",
       "      <th>Apellidos</th>\n",
       "      <th>E-mail</th>\n",
       "      <th>Edad</th>\n",
       "      <th>Grado</th>\n",
       "      <th>Licenciatura</th>\n",
       "      <th>Proyecto</th>\n",
       "      <th>Tutor</th>\n",
       "    </tr>\n",
       "    <tr>\n",
       "      <th>Nombres</th>\n",
       "      <th></th>\n",
       "      <th></th>\n",
       "      <th></th>\n",
       "      <th></th>\n",
       "      <th></th>\n",
       "      <th></th>\n",
       "      <th></th>\n",
       "    </tr>\n",
       "  </thead>\n",
       "  <tbody>\n",
       "    <tr>\n",
       "      <th>Diana Laura</th>\n",
       "      <td>López Morales</td>\n",
       "      <td>ita.dianalopez@gmail.com</td>\n",
       "      <td>26</td>\n",
       "      <td>Maestría</td>\n",
       "      <td>Ingeniero en tecnología ambiental</td>\n",
       "      <td>D-92011</td>\n",
       "      <td>Gusavo Sosa Iglesias</td>\n",
       "    </tr>\n",
       "    <tr>\n",
       "      <th>Carlos</th>\n",
       "      <td>Paredes Marcial</td>\n",
       "      <td>cpm199660@gmail.com</td>\n",
       "      <td>26 años</td>\n",
       "      <td>Licenciatura</td>\n",
       "      <td>NaN</td>\n",
       "      <td>Recuperacion de aceite por inyeccion de flujo ...</td>\n",
       "      <td>Rodrigo Salazar</td>\n",
       "    </tr>\n",
       "    <tr>\n",
       "      <th>Alberto</th>\n",
       "      <td>Vázquez Contreras</td>\n",
       "      <td>posavazquez@imp.mx</td>\n",
       "      <td>29</td>\n",
       "      <td>1erSemestre</td>\n",
       "      <td>Ing.Petrolera</td>\n",
       "      <td>IA aplicada en la Ingeniería de Yacimientos</td>\n",
       "      <td>Dr.Leonid Shemeretov</td>\n",
       "    </tr>\n",
       "    <tr>\n",
       "      <th>Alejandro</th>\n",
       "      <td>Brena Hernandez</td>\n",
       "      <td>brenaalejandro@hotmail.com</td>\n",
       "      <td>26</td>\n",
       "      <td>Maestria</td>\n",
       "      <td>Geofisica</td>\n",
       "      <td>Clasificacion de sismofacies con ML</td>\n",
       "      <td>Dr. Luis Velasquillo</td>\n",
       "    </tr>\n",
       "    <tr>\n",
       "      <th>Eliseo Andrei</th>\n",
       "      <td>Martinez Angel</td>\n",
       "      <td>eliseoandrei@live.com.mx</td>\n",
       "      <td>18 años</td>\n",
       "      <td>Licenciatura</td>\n",
       "      <td>Ingenieria Quimica Petrolera</td>\n",
       "      <td>Sintesis. Evaluacion y Caracterizacion de liqu...</td>\n",
       "      <td>Dr. Rafael Mtz Palou</td>\n",
       "    </tr>\n",
       "    <tr>\n",
       "      <th>rosario</th>\n",
       "      <td>giron</td>\n",
       "      <td>xaiio_@hotmail.com</td>\n",
       "      <td>26</td>\n",
       "      <td>3</td>\n",
       "      <td>geofisica</td>\n",
       "      <td>rn</td>\n",
       "      <td>velasquillo</td>\n",
       "    </tr>\n",
       "    <tr>\n",
       "      <th>Sergio Enrique</th>\n",
       "      <td>de la Cruz</td>\n",
       "      <td>sdelacruzchable@gmail.com</td>\n",
       "      <td>26</td>\n",
       "      <td>Lecenciatura</td>\n",
       "      <td>Ing. Petrolera</td>\n",
       "      <td>Diseño de BN para AF</td>\n",
       "      <td>CLG</td>\n",
       "    </tr>\n",
       "    <tr>\n",
       "      <th>Mariana Yesenia</th>\n",
       "      <td>Piña Fernández</td>\n",
       "      <td>mayepifer@hotmail.com</td>\n",
       "      <td>28</td>\n",
       "      <td>Licenciatura</td>\n",
       "      <td>Ingeniería Química</td>\n",
       "      <td>Síntesis de catalizadores base líquidos iónico...</td>\n",
       "      <td>Natalya V. Likhanova</td>\n",
       "    </tr>\n",
       "  </tbody>\n",
       "</table>\n",
       "</div>"
      ],
      "text/plain": [
       "                         Apellidos                      E-mail     Edad  \\\n",
       "Nombres                                                                   \n",
       "Diana Laura          López Morales    ita.dianalopez@gmail.com       26   \n",
       "Carlos             Paredes Marcial         cpm199660@gmail.com  26 años   \n",
       "Alberto          Vázquez Contreras          posavazquez@imp.mx       29   \n",
       "Alejandro          Brena Hernandez  brenaalejandro@hotmail.com       26   \n",
       "Eliseo Andrei       Martinez Angel    eliseoandrei@live.com.mx  18 años   \n",
       "rosario                      giron          xaiio_@hotmail.com       26   \n",
       "Sergio Enrique          de la Cruz   sdelacruzchable@gmail.com       26   \n",
       "Mariana Yesenia     Piña Fernández       mayepifer@hotmail.com       28   \n",
       "\n",
       "                        Grado                       Licenciatura  \\\n",
       "Nombres                                                            \n",
       "Diana Laura          Maestría  Ingeniero en tecnología ambiental   \n",
       "Carlos           Licenciatura                                NaN   \n",
       "Alberto           1erSemestre                      Ing.Petrolera   \n",
       "Alejandro            Maestria                          Geofisica   \n",
       "Eliseo Andrei    Licenciatura       Ingenieria Quimica Petrolera   \n",
       "rosario                     3                          geofisica   \n",
       "Sergio Enrique   Lecenciatura                     Ing. Petrolera   \n",
       "Mariana Yesenia  Licenciatura                 Ingeniería Química   \n",
       "\n",
       "                                                          Proyecto  \\\n",
       "Nombres                                                              \n",
       "Diana Laura                                                D-92011   \n",
       "Carlos           Recuperacion de aceite por inyeccion de flujo ...   \n",
       "Alberto                IA aplicada en la Ingeniería de Yacimientos   \n",
       "Alejandro                      Clasificacion de sismofacies con ML   \n",
       "Eliseo Andrei    Sintesis. Evaluacion y Caracterizacion de liqu...   \n",
       "rosario                                                         rn   \n",
       "Sergio Enrique                                Diseño de BN para AF   \n",
       "Mariana Yesenia  Síntesis de catalizadores base líquidos iónico...   \n",
       "\n",
       "                                Tutor  \n",
       "Nombres                                \n",
       "Diana Laura      Gusavo Sosa Iglesias  \n",
       "Carlos                Rodrigo Salazar  \n",
       "Alberto          Dr.Leonid Shemeretov  \n",
       "Alejandro        Dr. Luis Velasquillo  \n",
       "Eliseo Andrei    Dr. Rafael Mtz Palou  \n",
       "rosario                   velasquillo  \n",
       "Sergio Enrique                    CLG  \n",
       "Mariana Yesenia  Natalya V. Likhanova  "
      ]
     },
     "execution_count": 44,
     "metadata": {},
     "output_type": "execute_result"
    }
   ],
   "source": [
    "df_names"
   ]
  },
  {
   "cell_type": "code",
   "execution_count": 45,
   "metadata": {
    "colab": {
     "base_uri": "https://localhost:8080/"
    },
    "id": "LHQbN4bLIiaD",
    "outputId": "06c30d57-541c-48f4-9810-fd167d403a29"
   },
   "outputs": [
    {
     "data": {
      "text/plain": [
       "Index(['Apellidos', 'E-mail', 'Edad', 'Grado', 'Licenciatura', 'Proyecto',\n",
       "       'Tutor'],\n",
       "      dtype='object')"
      ]
     },
     "execution_count": 45,
     "metadata": {},
     "output_type": "execute_result"
    }
   ],
   "source": [
    "df_names.columns\n"
   ]
  },
  {
   "cell_type": "code",
   "execution_count": null,
   "metadata": {},
   "outputs": [],
   "source": []
  },
  {
   "cell_type": "code",
   "execution_count": 47,
   "metadata": {
    "colab": {
     "base_uri": "https://localhost:8080/"
    },
    "id": "KHqVvT-OIiaE",
    "outputId": "533bfd1f-959f-416b-d6c8-97fbe9b0e398"
   },
   "outputs": [
    {
     "data": {
      "text/plain": [
       "Apellidos                           López Morales\n",
       "E-mail                   ita.dianalopez@gmail.com\n",
       "Edad                                           26\n",
       "Grado                                    Maestría\n",
       "Licenciatura    Ingeniero en tecnología ambiental\n",
       "Proyecto                                  D-92011\n",
       "Tutor                        Gusavo Sosa Iglesias\n",
       "Name: Diana Laura, dtype: object"
      ]
     },
     "execution_count": 47,
     "metadata": {},
     "output_type": "execute_result"
    }
   ],
   "source": [
    "df_names.loc['Diana Laura']"
   ]
  },
  {
   "cell_type": "code",
   "execution_count": 48,
   "metadata": {
    "colab": {
     "base_uri": "https://localhost:8080/"
    },
    "id": "OXLADLuaIiaE",
    "outputId": "ddd8e584-ef05-434e-a4f4-1b0641aa8a44"
   },
   "outputs": [
    {
     "data": {
      "text/plain": [
       "pandas.core.series.Series"
      ]
     },
     "execution_count": 48,
     "metadata": {},
     "output_type": "execute_result"
    }
   ],
   "source": [
    "type(df_names.loc['Diana Laura'])"
   ]
  },
  {
   "cell_type": "code",
   "execution_count": 49,
   "metadata": {
    "colab": {
     "base_uri": "https://localhost:8080/",
     "height": 35
    },
    "id": "wj_TH8hYIiaF",
    "outputId": "13033497-5543-44c6-87be-b697fdc9dfc7"
   },
   "outputs": [
    {
     "data": {
      "text/plain": [
       "'Ingeniero en tecnología ambiental'"
      ]
     },
     "execution_count": 49,
     "metadata": {},
     "output_type": "execute_result"
    }
   ],
   "source": [
    "df_names.loc['Diana Laura', 'Licenciatura']"
   ]
  },
  {
   "cell_type": "code",
   "execution_count": 50,
   "metadata": {
    "colab": {
     "base_uri": "https://localhost:8080/",
     "height": 385
    },
    "id": "sCem4gcwIiaG",
    "outputId": "e2e05761-a719-48d5-df8b-d95b64ea8943"
   },
   "outputs": [
    {
     "data": {
      "text/html": [
       "<div>\n",
       "<style scoped>\n",
       "    .dataframe tbody tr th:only-of-type {\n",
       "        vertical-align: middle;\n",
       "    }\n",
       "\n",
       "    .dataframe tbody tr th {\n",
       "        vertical-align: top;\n",
       "    }\n",
       "\n",
       "    .dataframe thead th {\n",
       "        text-align: right;\n",
       "    }\n",
       "</style>\n",
       "<table border=\"1\" class=\"dataframe\">\n",
       "  <thead>\n",
       "    <tr style=\"text-align: right;\">\n",
       "      <th>Nombres</th>\n",
       "      <th>Diana Laura</th>\n",
       "      <th>Carlos</th>\n",
       "      <th>Alberto</th>\n",
       "      <th>Alejandro</th>\n",
       "      <th>Eliseo Andrei</th>\n",
       "      <th>rosario</th>\n",
       "      <th>Sergio Enrique</th>\n",
       "      <th>Mariana Yesenia</th>\n",
       "    </tr>\n",
       "  </thead>\n",
       "  <tbody>\n",
       "    <tr>\n",
       "      <th>Apellidos</th>\n",
       "      <td>López Morales</td>\n",
       "      <td>Paredes Marcial</td>\n",
       "      <td>Vázquez Contreras</td>\n",
       "      <td>Brena Hernandez</td>\n",
       "      <td>Martinez Angel</td>\n",
       "      <td>giron</td>\n",
       "      <td>de la Cruz</td>\n",
       "      <td>Piña Fernández</td>\n",
       "    </tr>\n",
       "    <tr>\n",
       "      <th>E-mail</th>\n",
       "      <td>ita.dianalopez@gmail.com</td>\n",
       "      <td>cpm199660@gmail.com</td>\n",
       "      <td>posavazquez@imp.mx</td>\n",
       "      <td>brenaalejandro@hotmail.com</td>\n",
       "      <td>eliseoandrei@live.com.mx</td>\n",
       "      <td>xaiio_@hotmail.com</td>\n",
       "      <td>sdelacruzchable@gmail.com</td>\n",
       "      <td>mayepifer@hotmail.com</td>\n",
       "    </tr>\n",
       "    <tr>\n",
       "      <th>Edad</th>\n",
       "      <td>26</td>\n",
       "      <td>26 años</td>\n",
       "      <td>29</td>\n",
       "      <td>26</td>\n",
       "      <td>18 años</td>\n",
       "      <td>26</td>\n",
       "      <td>26</td>\n",
       "      <td>28</td>\n",
       "    </tr>\n",
       "    <tr>\n",
       "      <th>Grado</th>\n",
       "      <td>Maestría</td>\n",
       "      <td>Licenciatura</td>\n",
       "      <td>1erSemestre</td>\n",
       "      <td>Maestria</td>\n",
       "      <td>Licenciatura</td>\n",
       "      <td>3</td>\n",
       "      <td>Lecenciatura</td>\n",
       "      <td>Licenciatura</td>\n",
       "    </tr>\n",
       "    <tr>\n",
       "      <th>Licenciatura</th>\n",
       "      <td>Ingeniero en tecnología ambiental</td>\n",
       "      <td>NaN</td>\n",
       "      <td>Ing.Petrolera</td>\n",
       "      <td>Geofisica</td>\n",
       "      <td>Ingenieria Quimica Petrolera</td>\n",
       "      <td>geofisica</td>\n",
       "      <td>Ing. Petrolera</td>\n",
       "      <td>Ingeniería Química</td>\n",
       "    </tr>\n",
       "    <tr>\n",
       "      <th>Proyecto</th>\n",
       "      <td>D-92011</td>\n",
       "      <td>Recuperacion de aceite por inyeccion de flujo ...</td>\n",
       "      <td>IA aplicada en la Ingeniería de Yacimientos</td>\n",
       "      <td>Clasificacion de sismofacies con ML</td>\n",
       "      <td>Sintesis. Evaluacion y Caracterizacion de liqu...</td>\n",
       "      <td>rn</td>\n",
       "      <td>Diseño de BN para AF</td>\n",
       "      <td>Síntesis de catalizadores base líquidos iónico...</td>\n",
       "    </tr>\n",
       "    <tr>\n",
       "      <th>Tutor</th>\n",
       "      <td>Gusavo Sosa Iglesias</td>\n",
       "      <td>Rodrigo Salazar</td>\n",
       "      <td>Dr.Leonid Shemeretov</td>\n",
       "      <td>Dr. Luis Velasquillo</td>\n",
       "      <td>Dr. Rafael Mtz Palou</td>\n",
       "      <td>velasquillo</td>\n",
       "      <td>CLG</td>\n",
       "      <td>Natalya V. Likhanova</td>\n",
       "    </tr>\n",
       "  </tbody>\n",
       "</table>\n",
       "</div>"
      ],
      "text/plain": [
       "Nombres                             Diana Laura  \\\n",
       "Apellidos                         López Morales   \n",
       "E-mail                 ita.dianalopez@gmail.com   \n",
       "Edad                                         26   \n",
       "Grado                                  Maestría   \n",
       "Licenciatura  Ingeniero en tecnología ambiental   \n",
       "Proyecto                                D-92011   \n",
       "Tutor                      Gusavo Sosa Iglesias   \n",
       "\n",
       "Nombres                                                  Carlos  \\\n",
       "Apellidos                                       Paredes Marcial   \n",
       "E-mail                                      cpm199660@gmail.com   \n",
       "Edad                                                    26 años   \n",
       "Grado                                              Licenciatura   \n",
       "Licenciatura                                                NaN   \n",
       "Proyecto      Recuperacion de aceite por inyeccion de flujo ...   \n",
       "Tutor                                           Rodrigo Salazar   \n",
       "\n",
       "Nombres                                           Alberto  \\\n",
       "Apellidos                               Vázquez Contreras   \n",
       "E-mail                                 posavazquez@imp.mx   \n",
       "Edad                                                   29   \n",
       "Grado                                         1erSemestre   \n",
       "Licenciatura                                Ing.Petrolera   \n",
       "Proyecto      IA aplicada en la Ingeniería de Yacimientos   \n",
       "Tutor                                Dr.Leonid Shemeretov   \n",
       "\n",
       "Nombres                                 Alejandro  \\\n",
       "Apellidos                         Brena Hernandez   \n",
       "E-mail                 brenaalejandro@hotmail.com   \n",
       "Edad                                           26   \n",
       "Grado                                    Maestria   \n",
       "Licenciatura                            Geofisica   \n",
       "Proyecto      Clasificacion de sismofacies con ML   \n",
       "Tutor                        Dr. Luis Velasquillo   \n",
       "\n",
       "Nombres                                           Eliseo Andrei  \\\n",
       "Apellidos                                        Martinez Angel   \n",
       "E-mail                                 eliseoandrei@live.com.mx   \n",
       "Edad                                                    18 años   \n",
       "Grado                                              Licenciatura   \n",
       "Licenciatura                       Ingenieria Quimica Petrolera   \n",
       "Proyecto      Sintesis. Evaluacion y Caracterizacion de liqu...   \n",
       "Tutor                                      Dr. Rafael Mtz Palou   \n",
       "\n",
       "Nombres                  rosario             Sergio Enrique  \\\n",
       "Apellidos                  giron                 de la Cruz   \n",
       "E-mail        xaiio_@hotmail.com  sdelacruzchable@gmail.com   \n",
       "Edad                          26                         26   \n",
       "Grado                          3               Lecenciatura   \n",
       "Licenciatura           geofisica             Ing. Petrolera   \n",
       "Proyecto                      rn       Diseño de BN para AF   \n",
       "Tutor                velasquillo                        CLG   \n",
       "\n",
       "Nombres                                         Mariana Yesenia  \n",
       "Apellidos                                        Piña Fernández  \n",
       "E-mail                                    mayepifer@hotmail.com  \n",
       "Edad                                                         28  \n",
       "Grado                                              Licenciatura  \n",
       "Licenciatura                                 Ingeniería Química  \n",
       "Proyecto      Síntesis de catalizadores base líquidos iónico...  \n",
       "Tutor                                      Natalya V. Likhanova  "
      ]
     },
     "execution_count": 50,
     "metadata": {},
     "output_type": "execute_result"
    }
   ],
   "source": [
    "df_names.T"
   ]
  },
  {
   "cell_type": "code",
   "execution_count": 51,
   "metadata": {
    "colab": {
     "base_uri": "https://localhost:8080/"
    },
    "id": "Luqi3ENZIiaH",
    "outputId": "aabd9d5a-3693-4ba1-a927-bf70fe74b224"
   },
   "outputs": [
    {
     "data": {
      "text/plain": [
       "Nombres\n",
       "Diana Laura        Ingeniero en tecnología ambiental\n",
       "Carlos                                           NaN\n",
       "Alberto                                Ing.Petrolera\n",
       "Alejandro                                  Geofisica\n",
       "Eliseo Andrei           Ingenieria Quimica Petrolera\n",
       "rosario                                    geofisica\n",
       "Sergio Enrique                        Ing. Petrolera\n",
       "Mariana Yesenia                   Ingeniería Química\n",
       "Name: Licenciatura, dtype: object"
      ]
     },
     "execution_count": 51,
     "metadata": {},
     "output_type": "execute_result"
    }
   ],
   "source": [
    "df_names.T.loc['Licenciatura']"
   ]
  },
  {
   "cell_type": "code",
   "execution_count": 52,
   "metadata": {
    "colab": {
     "base_uri": "https://localhost:8080/",
     "height": 497
    },
    "id": "rxIKh80FIiaH",
    "outputId": "a3c049f2-1994-44b4-8ebb-dd6809869ace"
   },
   "outputs": [
    {
     "data": {
      "text/plain": [
       "'Ing.Petrolera'"
      ]
     },
     "execution_count": 52,
     "metadata": {},
     "output_type": "execute_result"
    }
   ],
   "source": [
    "df_names.loc['Alberto']['Licenciatura']\n"
   ]
  },
  {
   "cell_type": "code",
   "execution_count": 53,
   "metadata": {
    "colab": {
     "base_uri": "https://localhost:8080/",
     "height": 311
    },
    "id": "QMP0jfSYIiaH",
    "outputId": "32ea8e92-765f-4a7c-8722-1b2450afdd7d"
   },
   "outputs": [
    {
     "ename": "KeyError",
     "evalue": "\"['Nombres'] not in index\"",
     "output_type": "error",
     "traceback": [
      "\u001b[1;31m---------------------------------------------------------------------------\u001b[0m",
      "\u001b[1;31mKeyError\u001b[0m                                  Traceback (most recent call last)",
      "\u001b[1;32m~\\AppData\\Local\\Temp/ipykernel_14208/4196247222.py\u001b[0m in \u001b[0;36m<module>\u001b[1;34m\u001b[0m\n\u001b[1;32m----> 1\u001b[1;33m \u001b[0mdf_names\u001b[0m\u001b[1;33m.\u001b[0m\u001b[0mloc\u001b[0m\u001b[1;33m[\u001b[0m\u001b[1;33m:\u001b[0m\u001b[1;33m,\u001b[0m\u001b[1;33m[\u001b[0m\u001b[1;34m'Nombres'\u001b[0m\u001b[1;33m,\u001b[0m \u001b[1;34m'Licenciatura'\u001b[0m\u001b[1;33m]\u001b[0m\u001b[1;33m]\u001b[0m\u001b[1;33m\u001b[0m\u001b[1;33m\u001b[0m\u001b[0m\n\u001b[0m",
      "\u001b[1;32m~\\Anaconda3\\lib\\site-packages\\pandas\\core\\indexing.py\u001b[0m in \u001b[0;36m__getitem__\u001b[1;34m(self, key)\u001b[0m\n\u001b[0;32m    923\u001b[0m                 \u001b[1;32mwith\u001b[0m \u001b[0msuppress\u001b[0m\u001b[1;33m(\u001b[0m\u001b[0mKeyError\u001b[0m\u001b[1;33m,\u001b[0m \u001b[0mIndexError\u001b[0m\u001b[1;33m)\u001b[0m\u001b[1;33m:\u001b[0m\u001b[1;33m\u001b[0m\u001b[1;33m\u001b[0m\u001b[0m\n\u001b[0;32m    924\u001b[0m                     \u001b[1;32mreturn\u001b[0m \u001b[0mself\u001b[0m\u001b[1;33m.\u001b[0m\u001b[0mobj\u001b[0m\u001b[1;33m.\u001b[0m\u001b[0m_get_value\u001b[0m\u001b[1;33m(\u001b[0m\u001b[1;33m*\u001b[0m\u001b[0mkey\u001b[0m\u001b[1;33m,\u001b[0m \u001b[0mtakeable\u001b[0m\u001b[1;33m=\u001b[0m\u001b[0mself\u001b[0m\u001b[1;33m.\u001b[0m\u001b[0m_takeable\u001b[0m\u001b[1;33m)\u001b[0m\u001b[1;33m\u001b[0m\u001b[1;33m\u001b[0m\u001b[0m\n\u001b[1;32m--> 925\u001b[1;33m             \u001b[1;32mreturn\u001b[0m \u001b[0mself\u001b[0m\u001b[1;33m.\u001b[0m\u001b[0m_getitem_tuple\u001b[0m\u001b[1;33m(\u001b[0m\u001b[0mkey\u001b[0m\u001b[1;33m)\u001b[0m\u001b[1;33m\u001b[0m\u001b[1;33m\u001b[0m\u001b[0m\n\u001b[0m\u001b[0;32m    926\u001b[0m         \u001b[1;32melse\u001b[0m\u001b[1;33m:\u001b[0m\u001b[1;33m\u001b[0m\u001b[1;33m\u001b[0m\u001b[0m\n\u001b[0;32m    927\u001b[0m             \u001b[1;31m# we by definition only have the 0th axis\u001b[0m\u001b[1;33m\u001b[0m\u001b[1;33m\u001b[0m\u001b[0m\n",
      "\u001b[1;32m~\\Anaconda3\\lib\\site-packages\\pandas\\core\\indexing.py\u001b[0m in \u001b[0;36m_getitem_tuple\u001b[1;34m(self, tup)\u001b[0m\n\u001b[0;32m   1107\u001b[0m             \u001b[1;32mreturn\u001b[0m \u001b[0mself\u001b[0m\u001b[1;33m.\u001b[0m\u001b[0m_multi_take\u001b[0m\u001b[1;33m(\u001b[0m\u001b[0mtup\u001b[0m\u001b[1;33m)\u001b[0m\u001b[1;33m\u001b[0m\u001b[1;33m\u001b[0m\u001b[0m\n\u001b[0;32m   1108\u001b[0m \u001b[1;33m\u001b[0m\u001b[0m\n\u001b[1;32m-> 1109\u001b[1;33m         \u001b[1;32mreturn\u001b[0m \u001b[0mself\u001b[0m\u001b[1;33m.\u001b[0m\u001b[0m_getitem_tuple_same_dim\u001b[0m\u001b[1;33m(\u001b[0m\u001b[0mtup\u001b[0m\u001b[1;33m)\u001b[0m\u001b[1;33m\u001b[0m\u001b[1;33m\u001b[0m\u001b[0m\n\u001b[0m\u001b[0;32m   1110\u001b[0m \u001b[1;33m\u001b[0m\u001b[0m\n\u001b[0;32m   1111\u001b[0m     \u001b[1;32mdef\u001b[0m \u001b[0m_get_label\u001b[0m\u001b[1;33m(\u001b[0m\u001b[0mself\u001b[0m\u001b[1;33m,\u001b[0m \u001b[0mlabel\u001b[0m\u001b[1;33m,\u001b[0m \u001b[0maxis\u001b[0m\u001b[1;33m:\u001b[0m \u001b[0mint\u001b[0m\u001b[1;33m)\u001b[0m\u001b[1;33m:\u001b[0m\u001b[1;33m\u001b[0m\u001b[1;33m\u001b[0m\u001b[0m\n",
      "\u001b[1;32m~\\Anaconda3\\lib\\site-packages\\pandas\\core\\indexing.py\u001b[0m in \u001b[0;36m_getitem_tuple_same_dim\u001b[1;34m(self, tup)\u001b[0m\n\u001b[0;32m    804\u001b[0m                 \u001b[1;32mcontinue\u001b[0m\u001b[1;33m\u001b[0m\u001b[1;33m\u001b[0m\u001b[0m\n\u001b[0;32m    805\u001b[0m \u001b[1;33m\u001b[0m\u001b[0m\n\u001b[1;32m--> 806\u001b[1;33m             \u001b[0mretval\u001b[0m \u001b[1;33m=\u001b[0m \u001b[0mgetattr\u001b[0m\u001b[1;33m(\u001b[0m\u001b[0mretval\u001b[0m\u001b[1;33m,\u001b[0m \u001b[0mself\u001b[0m\u001b[1;33m.\u001b[0m\u001b[0mname\u001b[0m\u001b[1;33m)\u001b[0m\u001b[1;33m.\u001b[0m\u001b[0m_getitem_axis\u001b[0m\u001b[1;33m(\u001b[0m\u001b[0mkey\u001b[0m\u001b[1;33m,\u001b[0m \u001b[0maxis\u001b[0m\u001b[1;33m=\u001b[0m\u001b[0mi\u001b[0m\u001b[1;33m)\u001b[0m\u001b[1;33m\u001b[0m\u001b[1;33m\u001b[0m\u001b[0m\n\u001b[0m\u001b[0;32m    807\u001b[0m             \u001b[1;31m# We should never have retval.ndim < self.ndim, as that should\u001b[0m\u001b[1;33m\u001b[0m\u001b[1;33m\u001b[0m\u001b[0m\n\u001b[0;32m    808\u001b[0m             \u001b[1;31m#  be handled by the _getitem_lowerdim call above.\u001b[0m\u001b[1;33m\u001b[0m\u001b[1;33m\u001b[0m\u001b[0m\n",
      "\u001b[1;32m~\\Anaconda3\\lib\\site-packages\\pandas\\core\\indexing.py\u001b[0m in \u001b[0;36m_getitem_axis\u001b[1;34m(self, key, axis)\u001b[0m\n\u001b[0;32m   1151\u001b[0m                     \u001b[1;32mraise\u001b[0m \u001b[0mValueError\u001b[0m\u001b[1;33m(\u001b[0m\u001b[1;34m\"Cannot index with multidimensional key\"\u001b[0m\u001b[1;33m)\u001b[0m\u001b[1;33m\u001b[0m\u001b[1;33m\u001b[0m\u001b[0m\n\u001b[0;32m   1152\u001b[0m \u001b[1;33m\u001b[0m\u001b[0m\n\u001b[1;32m-> 1153\u001b[1;33m                 \u001b[1;32mreturn\u001b[0m \u001b[0mself\u001b[0m\u001b[1;33m.\u001b[0m\u001b[0m_getitem_iterable\u001b[0m\u001b[1;33m(\u001b[0m\u001b[0mkey\u001b[0m\u001b[1;33m,\u001b[0m \u001b[0maxis\u001b[0m\u001b[1;33m=\u001b[0m\u001b[0maxis\u001b[0m\u001b[1;33m)\u001b[0m\u001b[1;33m\u001b[0m\u001b[1;33m\u001b[0m\u001b[0m\n\u001b[0m\u001b[0;32m   1154\u001b[0m \u001b[1;33m\u001b[0m\u001b[0m\n\u001b[0;32m   1155\u001b[0m             \u001b[1;31m# nested tuple slicing\u001b[0m\u001b[1;33m\u001b[0m\u001b[1;33m\u001b[0m\u001b[0m\n",
      "\u001b[1;32m~\\Anaconda3\\lib\\site-packages\\pandas\\core\\indexing.py\u001b[0m in \u001b[0;36m_getitem_iterable\u001b[1;34m(self, key, axis)\u001b[0m\n\u001b[0;32m   1091\u001b[0m \u001b[1;33m\u001b[0m\u001b[0m\n\u001b[0;32m   1092\u001b[0m         \u001b[1;31m# A collection of keys\u001b[0m\u001b[1;33m\u001b[0m\u001b[1;33m\u001b[0m\u001b[0m\n\u001b[1;32m-> 1093\u001b[1;33m         \u001b[0mkeyarr\u001b[0m\u001b[1;33m,\u001b[0m \u001b[0mindexer\u001b[0m \u001b[1;33m=\u001b[0m \u001b[0mself\u001b[0m\u001b[1;33m.\u001b[0m\u001b[0m_get_listlike_indexer\u001b[0m\u001b[1;33m(\u001b[0m\u001b[0mkey\u001b[0m\u001b[1;33m,\u001b[0m \u001b[0maxis\u001b[0m\u001b[1;33m)\u001b[0m\u001b[1;33m\u001b[0m\u001b[1;33m\u001b[0m\u001b[0m\n\u001b[0m\u001b[0;32m   1094\u001b[0m         return self.obj._reindex_with_indexers(\n\u001b[0;32m   1095\u001b[0m             \u001b[1;33m{\u001b[0m\u001b[0maxis\u001b[0m\u001b[1;33m:\u001b[0m \u001b[1;33m[\u001b[0m\u001b[0mkeyarr\u001b[0m\u001b[1;33m,\u001b[0m \u001b[0mindexer\u001b[0m\u001b[1;33m]\u001b[0m\u001b[1;33m}\u001b[0m\u001b[1;33m,\u001b[0m \u001b[0mcopy\u001b[0m\u001b[1;33m=\u001b[0m\u001b[1;32mTrue\u001b[0m\u001b[1;33m,\u001b[0m \u001b[0mallow_dups\u001b[0m\u001b[1;33m=\u001b[0m\u001b[1;32mTrue\u001b[0m\u001b[1;33m\u001b[0m\u001b[1;33m\u001b[0m\u001b[0m\n",
      "\u001b[1;32m~\\Anaconda3\\lib\\site-packages\\pandas\\core\\indexing.py\u001b[0m in \u001b[0;36m_get_listlike_indexer\u001b[1;34m(self, key, axis)\u001b[0m\n\u001b[0;32m   1312\u001b[0m             \u001b[0mkeyarr\u001b[0m\u001b[1;33m,\u001b[0m \u001b[0mindexer\u001b[0m\u001b[1;33m,\u001b[0m \u001b[0mnew_indexer\u001b[0m \u001b[1;33m=\u001b[0m \u001b[0max\u001b[0m\u001b[1;33m.\u001b[0m\u001b[0m_reindex_non_unique\u001b[0m\u001b[1;33m(\u001b[0m\u001b[0mkeyarr\u001b[0m\u001b[1;33m)\u001b[0m\u001b[1;33m\u001b[0m\u001b[1;33m\u001b[0m\u001b[0m\n\u001b[0;32m   1313\u001b[0m \u001b[1;33m\u001b[0m\u001b[0m\n\u001b[1;32m-> 1314\u001b[1;33m         \u001b[0mself\u001b[0m\u001b[1;33m.\u001b[0m\u001b[0m_validate_read_indexer\u001b[0m\u001b[1;33m(\u001b[0m\u001b[0mkeyarr\u001b[0m\u001b[1;33m,\u001b[0m \u001b[0mindexer\u001b[0m\u001b[1;33m,\u001b[0m \u001b[0maxis\u001b[0m\u001b[1;33m)\u001b[0m\u001b[1;33m\u001b[0m\u001b[1;33m\u001b[0m\u001b[0m\n\u001b[0m\u001b[0;32m   1315\u001b[0m \u001b[1;33m\u001b[0m\u001b[0m\n\u001b[0;32m   1316\u001b[0m         if needs_i8_conversion(ax.dtype) or isinstance(\n",
      "\u001b[1;32m~\\Anaconda3\\lib\\site-packages\\pandas\\core\\indexing.py\u001b[0m in \u001b[0;36m_validate_read_indexer\u001b[1;34m(self, key, indexer, axis)\u001b[0m\n\u001b[0;32m   1375\u001b[0m \u001b[1;33m\u001b[0m\u001b[0m\n\u001b[0;32m   1376\u001b[0m             \u001b[0mnot_found\u001b[0m \u001b[1;33m=\u001b[0m \u001b[0mlist\u001b[0m\u001b[1;33m(\u001b[0m\u001b[0mensure_index\u001b[0m\u001b[1;33m(\u001b[0m\u001b[0mkey\u001b[0m\u001b[1;33m)\u001b[0m\u001b[1;33m[\u001b[0m\u001b[0mmissing_mask\u001b[0m\u001b[1;33m.\u001b[0m\u001b[0mnonzero\u001b[0m\u001b[1;33m(\u001b[0m\u001b[1;33m)\u001b[0m\u001b[1;33m[\u001b[0m\u001b[1;36m0\u001b[0m\u001b[1;33m]\u001b[0m\u001b[1;33m]\u001b[0m\u001b[1;33m.\u001b[0m\u001b[0munique\u001b[0m\u001b[1;33m(\u001b[0m\u001b[1;33m)\u001b[0m\u001b[1;33m)\u001b[0m\u001b[1;33m\u001b[0m\u001b[1;33m\u001b[0m\u001b[0m\n\u001b[1;32m-> 1377\u001b[1;33m             \u001b[1;32mraise\u001b[0m \u001b[0mKeyError\u001b[0m\u001b[1;33m(\u001b[0m\u001b[1;34mf\"{not_found} not in index\"\u001b[0m\u001b[1;33m)\u001b[0m\u001b[1;33m\u001b[0m\u001b[1;33m\u001b[0m\u001b[0m\n\u001b[0m\u001b[0;32m   1378\u001b[0m \u001b[1;33m\u001b[0m\u001b[0m\n\u001b[0;32m   1379\u001b[0m \u001b[1;33m\u001b[0m\u001b[0m\n",
      "\u001b[1;31mKeyError\u001b[0m: \"['Nombres'] not in index\""
     ]
    }
   ],
   "source": [
    "df_names.loc[:,['Nombres', 'Licenciatura']]"
   ]
  },
  {
   "cell_type": "code",
   "execution_count": 54,
   "metadata": {
    "colab": {
     "base_uri": "https://localhost:8080/",
     "height": 300
    },
    "id": "i3Vk6Uv4IiaI",
    "outputId": "7a2b6e93-b9cf-4798-f3dd-15c35cdd7ae2"
   },
   "outputs": [
    {
     "data": {
      "text/html": [
       "<div>\n",
       "<style scoped>\n",
       "    .dataframe tbody tr th:only-of-type {\n",
       "        vertical-align: middle;\n",
       "    }\n",
       "\n",
       "    .dataframe tbody tr th {\n",
       "        vertical-align: top;\n",
       "    }\n",
       "\n",
       "    .dataframe thead th {\n",
       "        text-align: right;\n",
       "    }\n",
       "</style>\n",
       "<table border=\"1\" class=\"dataframe\">\n",
       "  <thead>\n",
       "    <tr style=\"text-align: right;\">\n",
       "      <th></th>\n",
       "      <th>Nombres</th>\n",
       "      <th>Licenciatura</th>\n",
       "    </tr>\n",
       "  </thead>\n",
       "  <tbody>\n",
       "    <tr>\n",
       "      <th>0</th>\n",
       "      <td>Diana Laura</td>\n",
       "      <td>Ingeniero en tecnología ambiental</td>\n",
       "    </tr>\n",
       "    <tr>\n",
       "      <th>1</th>\n",
       "      <td>Carlos</td>\n",
       "      <td>NaN</td>\n",
       "    </tr>\n",
       "    <tr>\n",
       "      <th>2</th>\n",
       "      <td>Alberto</td>\n",
       "      <td>Ing.Petrolera</td>\n",
       "    </tr>\n",
       "    <tr>\n",
       "      <th>3</th>\n",
       "      <td>Alejandro</td>\n",
       "      <td>Geofisica</td>\n",
       "    </tr>\n",
       "    <tr>\n",
       "      <th>4</th>\n",
       "      <td>Eliseo Andrei</td>\n",
       "      <td>Ingenieria Quimica Petrolera</td>\n",
       "    </tr>\n",
       "    <tr>\n",
       "      <th>5</th>\n",
       "      <td>rosario</td>\n",
       "      <td>geofisica</td>\n",
       "    </tr>\n",
       "    <tr>\n",
       "      <th>6</th>\n",
       "      <td>Sergio Enrique</td>\n",
       "      <td>Ing. Petrolera</td>\n",
       "    </tr>\n",
       "    <tr>\n",
       "      <th>7</th>\n",
       "      <td>Mariana Yesenia</td>\n",
       "      <td>Ingeniería Química</td>\n",
       "    </tr>\n",
       "  </tbody>\n",
       "</table>\n",
       "</div>"
      ],
      "text/plain": [
       "           Nombres                       Licenciatura\n",
       "0      Diana Laura  Ingeniero en tecnología ambiental\n",
       "1           Carlos                                NaN\n",
       "2          Alberto                      Ing.Petrolera\n",
       "3        Alejandro                          Geofisica\n",
       "4    Eliseo Andrei       Ingenieria Quimica Petrolera\n",
       "5          rosario                          geofisica\n",
       "6   Sergio Enrique                     Ing. Petrolera\n",
       "7  Mariana Yesenia                 Ingeniería Química"
      ]
     },
     "execution_count": 54,
     "metadata": {},
     "output_type": "execute_result"
    }
   ],
   "source": [
    "df.loc[:,['Nombres', 'Licenciatura']]"
   ]
  },
  {
   "cell_type": "code",
   "execution_count": 55,
   "metadata": {
    "colab": {
     "base_uri": "https://localhost:8080/",
     "height": 269
    },
    "id": "kV1YBqqdh4ow",
    "outputId": "7b154e74-68e9-43ce-dee7-b58611c3fc38"
   },
   "outputs": [
    {
     "data": {
      "text/html": [
       "<div>\n",
       "<style scoped>\n",
       "    .dataframe tbody tr th:only-of-type {\n",
       "        vertical-align: middle;\n",
       "    }\n",
       "\n",
       "    .dataframe tbody tr th {\n",
       "        vertical-align: top;\n",
       "    }\n",
       "\n",
       "    .dataframe thead th {\n",
       "        text-align: right;\n",
       "    }\n",
       "</style>\n",
       "<table border=\"1\" class=\"dataframe\">\n",
       "  <thead>\n",
       "    <tr style=\"text-align: right;\">\n",
       "      <th></th>\n",
       "      <th>Nombres</th>\n",
       "      <th>Licenciatura</th>\n",
       "    </tr>\n",
       "  </thead>\n",
       "  <tbody>\n",
       "    <tr>\n",
       "      <th>0</th>\n",
       "      <td>Diana Laura</td>\n",
       "      <td>Ingeniero en tecnología ambiental</td>\n",
       "    </tr>\n",
       "    <tr>\n",
       "      <th>2</th>\n",
       "      <td>Alberto</td>\n",
       "      <td>Ing.Petrolera</td>\n",
       "    </tr>\n",
       "    <tr>\n",
       "      <th>3</th>\n",
       "      <td>Alejandro</td>\n",
       "      <td>Geofisica</td>\n",
       "    </tr>\n",
       "    <tr>\n",
       "      <th>4</th>\n",
       "      <td>Eliseo Andrei</td>\n",
       "      <td>Ingenieria Quimica Petrolera</td>\n",
       "    </tr>\n",
       "    <tr>\n",
       "      <th>5</th>\n",
       "      <td>rosario</td>\n",
       "      <td>geofisica</td>\n",
       "    </tr>\n",
       "    <tr>\n",
       "      <th>6</th>\n",
       "      <td>Sergio Enrique</td>\n",
       "      <td>Ing. Petrolera</td>\n",
       "    </tr>\n",
       "    <tr>\n",
       "      <th>7</th>\n",
       "      <td>Mariana Yesenia</td>\n",
       "      <td>Ingeniería Química</td>\n",
       "    </tr>\n",
       "  </tbody>\n",
       "</table>\n",
       "</div>"
      ],
      "text/plain": [
       "           Nombres                       Licenciatura\n",
       "0      Diana Laura  Ingeniero en tecnología ambiental\n",
       "2          Alberto                      Ing.Petrolera\n",
       "3        Alejandro                          Geofisica\n",
       "4    Eliseo Andrei       Ingenieria Quimica Petrolera\n",
       "5          rosario                          geofisica\n",
       "6   Sergio Enrique                     Ing. Petrolera\n",
       "7  Mariana Yesenia                 Ingeniería Química"
      ]
     },
     "execution_count": 55,
     "metadata": {},
     "output_type": "execute_result"
    }
   ],
   "source": [
    "df.loc[:,['Nombres', 'Licenciatura']].dropna()"
   ]
  },
  {
   "cell_type": "code",
   "execution_count": 56,
   "metadata": {
    "colab": {
     "base_uri": "https://localhost:8080/"
    },
    "id": "vV2uNgjAIiaI",
    "outputId": "c2ec6b77-067a-4455-b6e1-76973e3fc594"
   },
   "outputs": [
    {
     "data": {
      "text/plain": [
       "RangeIndex(start=0, stop=8, step=1)"
      ]
     },
     "execution_count": 56,
     "metadata": {},
     "output_type": "execute_result"
    }
   ],
   "source": [
    "df.index"
   ]
  },
  {
   "cell_type": "code",
   "execution_count": 57,
   "metadata": {
    "colab": {
     "base_uri": "https://localhost:8080/"
    },
    "id": "eLibEvxEIiaJ",
    "outputId": "8fb24996-26d0-431f-97ed-eaf4a38e8cef"
   },
   "outputs": [
    {
     "data": {
      "text/plain": [
       "Index(['Diana Laura', 'Carlos', 'Alberto', 'Alejandro', 'Eliseo Andrei',\n",
       "       'rosario', 'Sergio Enrique', 'Mariana Yesenia'],\n",
       "      dtype='object', name='Nombres')"
      ]
     },
     "execution_count": 57,
     "metadata": {},
     "output_type": "execute_result"
    }
   ],
   "source": [
    "df_names.index"
   ]
  },
  {
   "cell_type": "code",
   "execution_count": 58,
   "metadata": {
    "colab": {
     "base_uri": "https://localhost:8080/"
    },
    "id": "gvGxQipmiNEy",
    "outputId": "6e4c95ca-4323-4eca-d53b-3eef2756ecb8"
   },
   "outputs": [
    {
     "data": {
      "text/plain": [
       "Index(['Nombres', 'Apellidos', 'E-mail', 'Edad', 'Grado', 'Licenciatura',\n",
       "       'Proyecto', 'Tutor'],\n",
       "      dtype='object')"
      ]
     },
     "execution_count": 58,
     "metadata": {},
     "output_type": "execute_result"
    }
   ],
   "source": [
    "df.columns"
   ]
  },
  {
   "cell_type": "code",
   "execution_count": 59,
   "metadata": {
    "colab": {
     "base_uri": "https://localhost:8080/",
     "height": 336
    },
    "id": "GM8KCv2hIiaJ",
    "outputId": "f5c11bae-1df8-45e3-97d5-72432040591b"
   },
   "outputs": [
    {
     "data": {
      "text/html": [
       "<div>\n",
       "<style scoped>\n",
       "    .dataframe tbody tr th:only-of-type {\n",
       "        vertical-align: middle;\n",
       "    }\n",
       "\n",
       "    .dataframe tbody tr th {\n",
       "        vertical-align: top;\n",
       "    }\n",
       "\n",
       "    .dataframe thead th {\n",
       "        text-align: right;\n",
       "    }\n",
       "</style>\n",
       "<table border=\"1\" class=\"dataframe\">\n",
       "  <thead>\n",
       "    <tr style=\"text-align: right;\">\n",
       "      <th>Nombres</th>\n",
       "      <th>Diana Laura</th>\n",
       "      <th>Carlos</th>\n",
       "      <th>Alberto</th>\n",
       "      <th>Alejandro</th>\n",
       "      <th>Eliseo Andrei</th>\n",
       "      <th>rosario</th>\n",
       "      <th>Sergio Enrique</th>\n",
       "      <th>Mariana Yesenia</th>\n",
       "    </tr>\n",
       "  </thead>\n",
       "  <tbody>\n",
       "    <tr>\n",
       "      <th>Apellidos</th>\n",
       "      <td>López Morales</td>\n",
       "      <td>Paredes Marcial</td>\n",
       "      <td>Vázquez Contreras</td>\n",
       "      <td>Brena Hernandez</td>\n",
       "      <td>Martinez Angel</td>\n",
       "      <td>giron</td>\n",
       "      <td>de la Cruz</td>\n",
       "      <td>Piña Fernández</td>\n",
       "    </tr>\n",
       "    <tr>\n",
       "      <th>E-mail</th>\n",
       "      <td>ita.dianalopez@gmail.com</td>\n",
       "      <td>cpm199660@gmail.com</td>\n",
       "      <td>posavazquez@imp.mx</td>\n",
       "      <td>brenaalejandro@hotmail.com</td>\n",
       "      <td>eliseoandrei@live.com.mx</td>\n",
       "      <td>xaiio_@hotmail.com</td>\n",
       "      <td>sdelacruzchable@gmail.com</td>\n",
       "      <td>mayepifer@hotmail.com</td>\n",
       "    </tr>\n",
       "    <tr>\n",
       "      <th>Edad</th>\n",
       "      <td>26</td>\n",
       "      <td>26 años</td>\n",
       "      <td>29</td>\n",
       "      <td>26</td>\n",
       "      <td>18 años</td>\n",
       "      <td>26</td>\n",
       "      <td>26</td>\n",
       "      <td>28</td>\n",
       "    </tr>\n",
       "    <tr>\n",
       "      <th>Grado</th>\n",
       "      <td>Maestría</td>\n",
       "      <td>Licenciatura</td>\n",
       "      <td>1erSemestre</td>\n",
       "      <td>Maestria</td>\n",
       "      <td>Licenciatura</td>\n",
       "      <td>3</td>\n",
       "      <td>Lecenciatura</td>\n",
       "      <td>Licenciatura</td>\n",
       "    </tr>\n",
       "    <tr>\n",
       "      <th>Proyecto</th>\n",
       "      <td>D-92011</td>\n",
       "      <td>Recuperacion de aceite por inyeccion de flujo ...</td>\n",
       "      <td>IA aplicada en la Ingeniería de Yacimientos</td>\n",
       "      <td>Clasificacion de sismofacies con ML</td>\n",
       "      <td>Sintesis. Evaluacion y Caracterizacion de liqu...</td>\n",
       "      <td>rn</td>\n",
       "      <td>Diseño de BN para AF</td>\n",
       "      <td>Síntesis de catalizadores base líquidos iónico...</td>\n",
       "    </tr>\n",
       "    <tr>\n",
       "      <th>Tutor</th>\n",
       "      <td>Gusavo Sosa Iglesias</td>\n",
       "      <td>Rodrigo Salazar</td>\n",
       "      <td>Dr.Leonid Shemeretov</td>\n",
       "      <td>Dr. Luis Velasquillo</td>\n",
       "      <td>Dr. Rafael Mtz Palou</td>\n",
       "      <td>velasquillo</td>\n",
       "      <td>CLG</td>\n",
       "      <td>Natalya V. Likhanova</td>\n",
       "    </tr>\n",
       "  </tbody>\n",
       "</table>\n",
       "</div>"
      ],
      "text/plain": [
       "Nombres                 Diana Laura  \\\n",
       "Apellidos             López Morales   \n",
       "E-mail     ita.dianalopez@gmail.com   \n",
       "Edad                             26   \n",
       "Grado                      Maestría   \n",
       "Proyecto                    D-92011   \n",
       "Tutor          Gusavo Sosa Iglesias   \n",
       "\n",
       "Nombres                                               Carlos  \\\n",
       "Apellidos                                    Paredes Marcial   \n",
       "E-mail                                   cpm199660@gmail.com   \n",
       "Edad                                                 26 años   \n",
       "Grado                                           Licenciatura   \n",
       "Proyecto   Recuperacion de aceite por inyeccion de flujo ...   \n",
       "Tutor                                        Rodrigo Salazar   \n",
       "\n",
       "Nombres                                        Alberto  \\\n",
       "Apellidos                            Vázquez Contreras   \n",
       "E-mail                              posavazquez@imp.mx   \n",
       "Edad                                                29   \n",
       "Grado                                      1erSemestre   \n",
       "Proyecto   IA aplicada en la Ingeniería de Yacimientos   \n",
       "Tutor                             Dr.Leonid Shemeretov   \n",
       "\n",
       "Nombres                              Alejandro  \\\n",
       "Apellidos                      Brena Hernandez   \n",
       "E-mail              brenaalejandro@hotmail.com   \n",
       "Edad                                        26   \n",
       "Grado                                 Maestria   \n",
       "Proyecto   Clasificacion de sismofacies con ML   \n",
       "Tutor                     Dr. Luis Velasquillo   \n",
       "\n",
       "Nombres                                        Eliseo Andrei  \\\n",
       "Apellidos                                     Martinez Angel   \n",
       "E-mail                              eliseoandrei@live.com.mx   \n",
       "Edad                                                 18 años   \n",
       "Grado                                           Licenciatura   \n",
       "Proyecto   Sintesis. Evaluacion y Caracterizacion de liqu...   \n",
       "Tutor                                   Dr. Rafael Mtz Palou   \n",
       "\n",
       "Nombres               rosario             Sergio Enrique  \\\n",
       "Apellidos               giron                 de la Cruz   \n",
       "E-mail     xaiio_@hotmail.com  sdelacruzchable@gmail.com   \n",
       "Edad                       26                         26   \n",
       "Grado                       3               Lecenciatura   \n",
       "Proyecto                   rn       Diseño de BN para AF   \n",
       "Tutor             velasquillo                        CLG   \n",
       "\n",
       "Nombres                                      Mariana Yesenia  \n",
       "Apellidos                                     Piña Fernández  \n",
       "E-mail                                 mayepifer@hotmail.com  \n",
       "Edad                                                      28  \n",
       "Grado                                           Licenciatura  \n",
       "Proyecto   Síntesis de catalizadores base líquidos iónico...  \n",
       "Tutor                                   Natalya V. Likhanova  "
      ]
     },
     "execution_count": 59,
     "metadata": {},
     "output_type": "execute_result"
    }
   ],
   "source": [
    "df2 = df_names.T.drop('Licenciatura')\n",
    "df2"
   ]
  },
  {
   "cell_type": "code",
   "execution_count": 60,
   "metadata": {
    "colab": {
     "base_uri": "https://localhost:8080/",
     "height": 448
    },
    "id": "RTXuG2jtIiaK",
    "outputId": "6e9257e3-16cb-4961-868e-48c20880e200"
   },
   "outputs": [
    {
     "data": {
      "text/html": [
       "<div>\n",
       "<style scoped>\n",
       "    .dataframe tbody tr th:only-of-type {\n",
       "        vertical-align: middle;\n",
       "    }\n",
       "\n",
       "    .dataframe tbody tr th {\n",
       "        vertical-align: top;\n",
       "    }\n",
       "\n",
       "    .dataframe thead th {\n",
       "        text-align: right;\n",
       "    }\n",
       "</style>\n",
       "<table border=\"1\" class=\"dataframe\">\n",
       "  <thead>\n",
       "    <tr style=\"text-align: right;\">\n",
       "      <th></th>\n",
       "      <th>Apellidos</th>\n",
       "      <th>E-mail</th>\n",
       "      <th>Edad</th>\n",
       "      <th>Grado</th>\n",
       "      <th>Licenciatura</th>\n",
       "      <th>Proyecto</th>\n",
       "      <th>Tutor</th>\n",
       "    </tr>\n",
       "    <tr>\n",
       "      <th>Nombres</th>\n",
       "      <th></th>\n",
       "      <th></th>\n",
       "      <th></th>\n",
       "      <th></th>\n",
       "      <th></th>\n",
       "      <th></th>\n",
       "      <th></th>\n",
       "    </tr>\n",
       "  </thead>\n",
       "  <tbody>\n",
       "    <tr>\n",
       "      <th>Diana Laura</th>\n",
       "      <td>López Morales</td>\n",
       "      <td>ita.dianalopez@gmail.com</td>\n",
       "      <td>26</td>\n",
       "      <td>Maestría</td>\n",
       "      <td>Ingeniero en tecnología ambiental</td>\n",
       "      <td>D-92011</td>\n",
       "      <td>Gusavo Sosa Iglesias</td>\n",
       "    </tr>\n",
       "    <tr>\n",
       "      <th>Carlos</th>\n",
       "      <td>Paredes Marcial</td>\n",
       "      <td>cpm199660@gmail.com</td>\n",
       "      <td>26 años</td>\n",
       "      <td>Licenciatura</td>\n",
       "      <td>NaN</td>\n",
       "      <td>Recuperacion de aceite por inyeccion de flujo ...</td>\n",
       "      <td>Rodrigo Salazar</td>\n",
       "    </tr>\n",
       "    <tr>\n",
       "      <th>Alberto</th>\n",
       "      <td>Vázquez Contreras</td>\n",
       "      <td>posavazquez@imp.mx</td>\n",
       "      <td>29</td>\n",
       "      <td>1erSemestre</td>\n",
       "      <td>Ing.Petrolera</td>\n",
       "      <td>IA aplicada en la Ingeniería de Yacimientos</td>\n",
       "      <td>Dr.Leonid Shemeretov</td>\n",
       "    </tr>\n",
       "    <tr>\n",
       "      <th>Eliseo Andrei</th>\n",
       "      <td>Martinez Angel</td>\n",
       "      <td>eliseoandrei@live.com.mx</td>\n",
       "      <td>18 años</td>\n",
       "      <td>Licenciatura</td>\n",
       "      <td>Ingenieria Quimica Petrolera</td>\n",
       "      <td>Sintesis. Evaluacion y Caracterizacion de liqu...</td>\n",
       "      <td>Dr. Rafael Mtz Palou</td>\n",
       "    </tr>\n",
       "    <tr>\n",
       "      <th>rosario</th>\n",
       "      <td>giron</td>\n",
       "      <td>xaiio_@hotmail.com</td>\n",
       "      <td>26</td>\n",
       "      <td>3</td>\n",
       "      <td>geofisica</td>\n",
       "      <td>rn</td>\n",
       "      <td>velasquillo</td>\n",
       "    </tr>\n",
       "    <tr>\n",
       "      <th>Sergio Enrique</th>\n",
       "      <td>de la Cruz</td>\n",
       "      <td>sdelacruzchable@gmail.com</td>\n",
       "      <td>26</td>\n",
       "      <td>Lecenciatura</td>\n",
       "      <td>Ing. Petrolera</td>\n",
       "      <td>Diseño de BN para AF</td>\n",
       "      <td>CLG</td>\n",
       "    </tr>\n",
       "    <tr>\n",
       "      <th>Mariana Yesenia</th>\n",
       "      <td>Piña Fernández</td>\n",
       "      <td>mayepifer@hotmail.com</td>\n",
       "      <td>28</td>\n",
       "      <td>Licenciatura</td>\n",
       "      <td>Ingeniería Química</td>\n",
       "      <td>Síntesis de catalizadores base líquidos iónico...</td>\n",
       "      <td>Natalya V. Likhanova</td>\n",
       "    </tr>\n",
       "  </tbody>\n",
       "</table>\n",
       "</div>"
      ],
      "text/plain": [
       "                         Apellidos                     E-mail     Edad  \\\n",
       "Nombres                                                                  \n",
       "Diana Laura          López Morales   ita.dianalopez@gmail.com       26   \n",
       "Carlos             Paredes Marcial        cpm199660@gmail.com  26 años   \n",
       "Alberto          Vázquez Contreras         posavazquez@imp.mx       29   \n",
       "Eliseo Andrei       Martinez Angel   eliseoandrei@live.com.mx  18 años   \n",
       "rosario                      giron         xaiio_@hotmail.com       26   \n",
       "Sergio Enrique          de la Cruz  sdelacruzchable@gmail.com       26   \n",
       "Mariana Yesenia     Piña Fernández      mayepifer@hotmail.com       28   \n",
       "\n",
       "                        Grado                       Licenciatura  \\\n",
       "Nombres                                                            \n",
       "Diana Laura          Maestría  Ingeniero en tecnología ambiental   \n",
       "Carlos           Licenciatura                                NaN   \n",
       "Alberto           1erSemestre                      Ing.Petrolera   \n",
       "Eliseo Andrei    Licenciatura       Ingenieria Quimica Petrolera   \n",
       "rosario                     3                          geofisica   \n",
       "Sergio Enrique   Lecenciatura                     Ing. Petrolera   \n",
       "Mariana Yesenia  Licenciatura                 Ingeniería Química   \n",
       "\n",
       "                                                          Proyecto  \\\n",
       "Nombres                                                              \n",
       "Diana Laura                                                D-92011   \n",
       "Carlos           Recuperacion de aceite por inyeccion de flujo ...   \n",
       "Alberto                IA aplicada en la Ingeniería de Yacimientos   \n",
       "Eliseo Andrei    Sintesis. Evaluacion y Caracterizacion de liqu...   \n",
       "rosario                                                         rn   \n",
       "Sergio Enrique                                Diseño de BN para AF   \n",
       "Mariana Yesenia  Síntesis de catalizadores base líquidos iónico...   \n",
       "\n",
       "                                Tutor  \n",
       "Nombres                                \n",
       "Diana Laura      Gusavo Sosa Iglesias  \n",
       "Carlos                Rodrigo Salazar  \n",
       "Alberto          Dr.Leonid Shemeretov  \n",
       "Eliseo Andrei    Dr. Rafael Mtz Palou  \n",
       "rosario                   velasquillo  \n",
       "Sergio Enrique                    CLG  \n",
       "Mariana Yesenia  Natalya V. Likhanova  "
      ]
     },
     "execution_count": 60,
     "metadata": {},
     "output_type": "execute_result"
    }
   ],
   "source": [
    "copy_df = df_names.copy()\n",
    "copy_df = copy_df.drop('Alejandro')\n",
    "copy_df"
   ]
  },
  {
   "cell_type": "code",
   "execution_count": 61,
   "metadata": {
    "id": "EWWmLhP6IiaK"
   },
   "outputs": [],
   "source": [
    "copy_df.drop?"
   ]
  },
  {
   "cell_type": "code",
   "execution_count": 62,
   "metadata": {},
   "outputs": [
    {
     "data": {
      "text/html": [
       "<div>\n",
       "<style scoped>\n",
       "    .dataframe tbody tr th:only-of-type {\n",
       "        vertical-align: middle;\n",
       "    }\n",
       "\n",
       "    .dataframe tbody tr th {\n",
       "        vertical-align: top;\n",
       "    }\n",
       "\n",
       "    .dataframe thead th {\n",
       "        text-align: right;\n",
       "    }\n",
       "</style>\n",
       "<table border=\"1\" class=\"dataframe\">\n",
       "  <thead>\n",
       "    <tr style=\"text-align: right;\">\n",
       "      <th></th>\n",
       "      <th>Nombres</th>\n",
       "      <th>Apellidos</th>\n",
       "      <th>E-mail</th>\n",
       "      <th>edad</th>\n",
       "      <th>Grado</th>\n",
       "      <th>Licenciatura</th>\n",
       "      <th>Proyecto</th>\n",
       "      <th>Tutor</th>\n",
       "      <th>Edad</th>\n",
       "      <th>Pryecto</th>\n",
       "    </tr>\n",
       "  </thead>\n",
       "  <tbody>\n",
       "    <tr>\n",
       "      <th>0</th>\n",
       "      <td>Diana Laura</td>\n",
       "      <td>López Morales</td>\n",
       "      <td>ita.dianalopez@gmail.com</td>\n",
       "      <td>26.0</td>\n",
       "      <td>Maestría</td>\n",
       "      <td>Ingeniero en tecnología ambiental</td>\n",
       "      <td>D-92011</td>\n",
       "      <td>Gusavo Sosa Iglesias</td>\n",
       "      <td>NaN</td>\n",
       "      <td>NaN</td>\n",
       "    </tr>\n",
       "    <tr>\n",
       "      <th>1</th>\n",
       "      <td>Carlos</td>\n",
       "      <td>Paredes Marcial</td>\n",
       "      <td>cpm199660@gmail.com</td>\n",
       "      <td>NaN</td>\n",
       "      <td>Licenciatura</td>\n",
       "      <td>NaN</td>\n",
       "      <td>Recuperacion de aceite por inyeccion de flujo ...</td>\n",
       "      <td>Rodrigo Salazar</td>\n",
       "      <td>26 años</td>\n",
       "      <td>NaN</td>\n",
       "    </tr>\n",
       "    <tr>\n",
       "      <th>2</th>\n",
       "      <td>Alberto</td>\n",
       "      <td>Vázquez Contreras</td>\n",
       "      <td>posavazquez@imp.mx</td>\n",
       "      <td>NaN</td>\n",
       "      <td>1erSemestre</td>\n",
       "      <td>Ing.Petrolera</td>\n",
       "      <td>NaN</td>\n",
       "      <td>Dr.Leonid Shemeretov</td>\n",
       "      <td>29</td>\n",
       "      <td>IA aplicada en la Ingeniería de Yacimientos</td>\n",
       "    </tr>\n",
       "    <tr>\n",
       "      <th>3</th>\n",
       "      <td>Alejandro</td>\n",
       "      <td>Brena Hernandez</td>\n",
       "      <td>brenaalejandro@hotmail.com</td>\n",
       "      <td>NaN</td>\n",
       "      <td>Maestria</td>\n",
       "      <td>Geofisica</td>\n",
       "      <td>Clasificacion de sismofacies con ML</td>\n",
       "      <td>Dr. Luis Velasquillo</td>\n",
       "      <td>26</td>\n",
       "      <td>NaN</td>\n",
       "    </tr>\n",
       "    <tr>\n",
       "      <th>4</th>\n",
       "      <td>Eliseo Andrei</td>\n",
       "      <td>Martinez Angel</td>\n",
       "      <td>eliseoandrei@live.com.mx</td>\n",
       "      <td>NaN</td>\n",
       "      <td>Licenciatura</td>\n",
       "      <td>Ingenieria Quimica Petrolera</td>\n",
       "      <td>Sintesis. Evaluacion y Caracterizacion de liqu...</td>\n",
       "      <td>Dr. Rafael Mtz Palou</td>\n",
       "      <td>18 años</td>\n",
       "      <td>NaN</td>\n",
       "    </tr>\n",
       "    <tr>\n",
       "      <th>5</th>\n",
       "      <td>rosario</td>\n",
       "      <td>giron</td>\n",
       "      <td>xaiio_@hotmail.com</td>\n",
       "      <td>NaN</td>\n",
       "      <td>3</td>\n",
       "      <td>geofisica</td>\n",
       "      <td>rn</td>\n",
       "      <td>velasquillo</td>\n",
       "      <td>26</td>\n",
       "      <td>NaN</td>\n",
       "    </tr>\n",
       "    <tr>\n",
       "      <th>6</th>\n",
       "      <td>Sergio Enrique</td>\n",
       "      <td>de la Cruz</td>\n",
       "      <td>sdelacruzchable@gmail.com</td>\n",
       "      <td>NaN</td>\n",
       "      <td>Lecenciatura</td>\n",
       "      <td>Ing. Petrolera</td>\n",
       "      <td>Diseño de BN para AF</td>\n",
       "      <td>CLG</td>\n",
       "      <td>26</td>\n",
       "      <td>NaN</td>\n",
       "    </tr>\n",
       "    <tr>\n",
       "      <th>7</th>\n",
       "      <td>Mariana Yesenia</td>\n",
       "      <td>Piña Fernández</td>\n",
       "      <td>mayepifer@hotmail.com</td>\n",
       "      <td>NaN</td>\n",
       "      <td>Licenciatura</td>\n",
       "      <td>Ingeniería Química</td>\n",
       "      <td>Síntesis de catalizadores base líquidos iónico...</td>\n",
       "      <td>Natalya V. Likhanova</td>\n",
       "      <td>28</td>\n",
       "      <td>NaN</td>\n",
       "    </tr>\n",
       "  </tbody>\n",
       "</table>\n",
       "</div>"
      ],
      "text/plain": [
       "           Nombres          Apellidos                      E-mail  edad  \\\n",
       "0      Diana Laura      López Morales    ita.dianalopez@gmail.com  26.0   \n",
       "1           Carlos    Paredes Marcial         cpm199660@gmail.com   NaN   \n",
       "2          Alberto  Vázquez Contreras          posavazquez@imp.mx   NaN   \n",
       "3        Alejandro    Brena Hernandez  brenaalejandro@hotmail.com   NaN   \n",
       "4    Eliseo Andrei     Martinez Angel    eliseoandrei@live.com.mx   NaN   \n",
       "5          rosario              giron          xaiio_@hotmail.com   NaN   \n",
       "6   Sergio Enrique         de la Cruz   sdelacruzchable@gmail.com   NaN   \n",
       "7  Mariana Yesenia     Piña Fernández       mayepifer@hotmail.com   NaN   \n",
       "\n",
       "          Grado                       Licenciatura  \\\n",
       "0      Maestría  Ingeniero en tecnología ambiental   \n",
       "1  Licenciatura                                NaN   \n",
       "2   1erSemestre                      Ing.Petrolera   \n",
       "3      Maestria                          Geofisica   \n",
       "4  Licenciatura       Ingenieria Quimica Petrolera   \n",
       "5             3                          geofisica   \n",
       "6  Lecenciatura                     Ing. Petrolera   \n",
       "7  Licenciatura                 Ingeniería Química   \n",
       "\n",
       "                                            Proyecto                 Tutor  \\\n",
       "0                                            D-92011  Gusavo Sosa Iglesias   \n",
       "1  Recuperacion de aceite por inyeccion de flujo ...       Rodrigo Salazar   \n",
       "2                                                NaN  Dr.Leonid Shemeretov   \n",
       "3                Clasificacion de sismofacies con ML  Dr. Luis Velasquillo   \n",
       "4  Sintesis. Evaluacion y Caracterizacion de liqu...  Dr. Rafael Mtz Palou   \n",
       "5                                                 rn           velasquillo   \n",
       "6                               Diseño de BN para AF                   CLG   \n",
       "7  Síntesis de catalizadores base líquidos iónico...  Natalya V. Likhanova   \n",
       "\n",
       "      Edad                                      Pryecto  \n",
       "0      NaN                                          NaN  \n",
       "1  26 años                                          NaN  \n",
       "2       29  IA aplicada en la Ingeniería de Yacimientos  \n",
       "3       26                                          NaN  \n",
       "4  18 años                                          NaN  \n",
       "5       26                                          NaN  \n",
       "6       26                                          NaN  \n",
       "7       28                                          NaN  "
      ]
     },
     "execution_count": 62,
     "metadata": {},
     "output_type": "execute_result"
    }
   ],
   "source": [
    "df_nan"
   ]
  },
  {
   "cell_type": "code",
   "execution_count": 63,
   "metadata": {
    "colab": {
     "base_uri": "https://localhost:8080/",
     "height": 49
    },
    "id": "ElxIux9SPUgK",
    "outputId": "a95b17c1-a269-4b2d-9803-9eb07b4ec4a3"
   },
   "outputs": [
    {
     "data": {
      "text/html": [
       "<div>\n",
       "<style scoped>\n",
       "    .dataframe tbody tr th:only-of-type {\n",
       "        vertical-align: middle;\n",
       "    }\n",
       "\n",
       "    .dataframe tbody tr th {\n",
       "        vertical-align: top;\n",
       "    }\n",
       "\n",
       "    .dataframe thead th {\n",
       "        text-align: right;\n",
       "    }\n",
       "</style>\n",
       "<table border=\"1\" class=\"dataframe\">\n",
       "  <thead>\n",
       "    <tr style=\"text-align: right;\">\n",
       "      <th></th>\n",
       "      <th>Nombres</th>\n",
       "      <th>Apellidos</th>\n",
       "      <th>E-mail</th>\n",
       "      <th>edad</th>\n",
       "      <th>Grado</th>\n",
       "      <th>Licenciatura</th>\n",
       "      <th>Proyecto</th>\n",
       "      <th>Tutor</th>\n",
       "      <th>Edad</th>\n",
       "      <th>Pryecto</th>\n",
       "    </tr>\n",
       "  </thead>\n",
       "  <tbody>\n",
       "  </tbody>\n",
       "</table>\n",
       "</div>"
      ],
      "text/plain": [
       "Empty DataFrame\n",
       "Columns: [Nombres, Apellidos, E-mail, edad, Grado, Licenciatura, Proyecto, Tutor, Edad, Pryecto]\n",
       "Index: []"
      ]
     },
     "execution_count": 63,
     "metadata": {},
     "output_type": "execute_result"
    }
   ],
   "source": [
    "df_nan.dropna()"
   ]
  },
  {
   "cell_type": "code",
   "execution_count": 64,
   "metadata": {
    "colab": {
     "base_uri": "https://localhost:8080/",
     "height": 466
    },
    "id": "JL7sI9U1RmuY",
    "outputId": "97b88262-9f0c-48f2-f02b-59d1a62ed8c4"
   },
   "outputs": [
    {
     "data": {
      "text/html": [
       "<div>\n",
       "<style scoped>\n",
       "    .dataframe tbody tr th:only-of-type {\n",
       "        vertical-align: middle;\n",
       "    }\n",
       "\n",
       "    .dataframe tbody tr th {\n",
       "        vertical-align: top;\n",
       "    }\n",
       "\n",
       "    .dataframe thead th {\n",
       "        text-align: right;\n",
       "    }\n",
       "</style>\n",
       "<table border=\"1\" class=\"dataframe\">\n",
       "  <thead>\n",
       "    <tr style=\"text-align: right;\">\n",
       "      <th></th>\n",
       "      <th>Nombres</th>\n",
       "      <th>Apellidos</th>\n",
       "      <th>E-mail</th>\n",
       "      <th>Grado</th>\n",
       "      <th>Licenciatura</th>\n",
       "      <th>Proyecto</th>\n",
       "      <th>Tutor</th>\n",
       "      <th>Edad</th>\n",
       "    </tr>\n",
       "  </thead>\n",
       "  <tbody>\n",
       "    <tr>\n",
       "      <th>0</th>\n",
       "      <td>Diana Laura</td>\n",
       "      <td>López Morales</td>\n",
       "      <td>ita.dianalopez@gmail.com</td>\n",
       "      <td>Maestría</td>\n",
       "      <td>Ingeniero en tecnología ambiental</td>\n",
       "      <td>D-92011</td>\n",
       "      <td>Gusavo Sosa Iglesias</td>\n",
       "      <td>NaN</td>\n",
       "    </tr>\n",
       "    <tr>\n",
       "      <th>1</th>\n",
       "      <td>Carlos</td>\n",
       "      <td>Paredes Marcial</td>\n",
       "      <td>cpm199660@gmail.com</td>\n",
       "      <td>Licenciatura</td>\n",
       "      <td>NaN</td>\n",
       "      <td>Recuperacion de aceite por inyeccion de flujo ...</td>\n",
       "      <td>Rodrigo Salazar</td>\n",
       "      <td>26 años</td>\n",
       "    </tr>\n",
       "    <tr>\n",
       "      <th>2</th>\n",
       "      <td>Alberto</td>\n",
       "      <td>Vázquez Contreras</td>\n",
       "      <td>posavazquez@imp.mx</td>\n",
       "      <td>1erSemestre</td>\n",
       "      <td>Ing.Petrolera</td>\n",
       "      <td>NaN</td>\n",
       "      <td>Dr.Leonid Shemeretov</td>\n",
       "      <td>29</td>\n",
       "    </tr>\n",
       "    <tr>\n",
       "      <th>3</th>\n",
       "      <td>Alejandro</td>\n",
       "      <td>Brena Hernandez</td>\n",
       "      <td>brenaalejandro@hotmail.com</td>\n",
       "      <td>Maestria</td>\n",
       "      <td>Geofisica</td>\n",
       "      <td>Clasificacion de sismofacies con ML</td>\n",
       "      <td>Dr. Luis Velasquillo</td>\n",
       "      <td>26</td>\n",
       "    </tr>\n",
       "    <tr>\n",
       "      <th>4</th>\n",
       "      <td>Eliseo Andrei</td>\n",
       "      <td>Martinez Angel</td>\n",
       "      <td>eliseoandrei@live.com.mx</td>\n",
       "      <td>Licenciatura</td>\n",
       "      <td>Ingenieria Quimica Petrolera</td>\n",
       "      <td>Sintesis. Evaluacion y Caracterizacion de liqu...</td>\n",
       "      <td>Dr. Rafael Mtz Palou</td>\n",
       "      <td>18 años</td>\n",
       "    </tr>\n",
       "    <tr>\n",
       "      <th>5</th>\n",
       "      <td>rosario</td>\n",
       "      <td>giron</td>\n",
       "      <td>xaiio_@hotmail.com</td>\n",
       "      <td>3</td>\n",
       "      <td>geofisica</td>\n",
       "      <td>rn</td>\n",
       "      <td>velasquillo</td>\n",
       "      <td>26</td>\n",
       "    </tr>\n",
       "    <tr>\n",
       "      <th>6</th>\n",
       "      <td>Sergio Enrique</td>\n",
       "      <td>de la Cruz</td>\n",
       "      <td>sdelacruzchable@gmail.com</td>\n",
       "      <td>Lecenciatura</td>\n",
       "      <td>Ing. Petrolera</td>\n",
       "      <td>Diseño de BN para AF</td>\n",
       "      <td>CLG</td>\n",
       "      <td>26</td>\n",
       "    </tr>\n",
       "    <tr>\n",
       "      <th>7</th>\n",
       "      <td>Mariana Yesenia</td>\n",
       "      <td>Piña Fernández</td>\n",
       "      <td>mayepifer@hotmail.com</td>\n",
       "      <td>Licenciatura</td>\n",
       "      <td>Ingeniería Química</td>\n",
       "      <td>Síntesis de catalizadores base líquidos iónico...</td>\n",
       "      <td>Natalya V. Likhanova</td>\n",
       "      <td>28</td>\n",
       "    </tr>\n",
       "  </tbody>\n",
       "</table>\n",
       "</div>"
      ],
      "text/plain": [
       "           Nombres          Apellidos                      E-mail  \\\n",
       "0      Diana Laura      López Morales    ita.dianalopez@gmail.com   \n",
       "1           Carlos    Paredes Marcial         cpm199660@gmail.com   \n",
       "2          Alberto  Vázquez Contreras          posavazquez@imp.mx   \n",
       "3        Alejandro    Brena Hernandez  brenaalejandro@hotmail.com   \n",
       "4    Eliseo Andrei     Martinez Angel    eliseoandrei@live.com.mx   \n",
       "5          rosario              giron          xaiio_@hotmail.com   \n",
       "6   Sergio Enrique         de la Cruz   sdelacruzchable@gmail.com   \n",
       "7  Mariana Yesenia     Piña Fernández       mayepifer@hotmail.com   \n",
       "\n",
       "          Grado                       Licenciatura  \\\n",
       "0      Maestría  Ingeniero en tecnología ambiental   \n",
       "1  Licenciatura                                NaN   \n",
       "2   1erSemestre                      Ing.Petrolera   \n",
       "3      Maestria                          Geofisica   \n",
       "4  Licenciatura       Ingenieria Quimica Petrolera   \n",
       "5             3                          geofisica   \n",
       "6  Lecenciatura                     Ing. Petrolera   \n",
       "7  Licenciatura                 Ingeniería Química   \n",
       "\n",
       "                                            Proyecto                 Tutor  \\\n",
       "0                                            D-92011  Gusavo Sosa Iglesias   \n",
       "1  Recuperacion de aceite por inyeccion de flujo ...       Rodrigo Salazar   \n",
       "2                                                NaN  Dr.Leonid Shemeretov   \n",
       "3                Clasificacion de sismofacies con ML  Dr. Luis Velasquillo   \n",
       "4  Sintesis. Evaluacion y Caracterizacion de liqu...  Dr. Rafael Mtz Palou   \n",
       "5                                                 rn           velasquillo   \n",
       "6                               Diseño de BN para AF                   CLG   \n",
       "7  Síntesis de catalizadores base líquidos iónico...  Natalya V. Likhanova   \n",
       "\n",
       "      Edad  \n",
       "0      NaN  \n",
       "1  26 años  \n",
       "2       29  \n",
       "3       26  \n",
       "4  18 años  \n",
       "5       26  \n",
       "6       26  \n",
       "7       28  "
      ]
     },
     "execution_count": 64,
     "metadata": {},
     "output_type": "execute_result"
    }
   ],
   "source": [
    "df_nan_1 = df_nan.drop(columns=['edad','Pryecto'])\n",
    "df_nan_1"
   ]
  },
  {
   "cell_type": "code",
   "execution_count": 65,
   "metadata": {
    "colab": {
     "base_uri": "https://localhost:8080/",
     "height": 320
    },
    "id": "rauk9gQWRvXk",
    "outputId": "c1ecdd68-2bad-45e4-b7bd-8930f5f38b45"
   },
   "outputs": [
    {
     "data": {
      "text/html": [
       "<div>\n",
       "<style scoped>\n",
       "    .dataframe tbody tr th:only-of-type {\n",
       "        vertical-align: middle;\n",
       "    }\n",
       "\n",
       "    .dataframe tbody tr th {\n",
       "        vertical-align: top;\n",
       "    }\n",
       "\n",
       "    .dataframe thead th {\n",
       "        text-align: right;\n",
       "    }\n",
       "</style>\n",
       "<table border=\"1\" class=\"dataframe\">\n",
       "  <thead>\n",
       "    <tr style=\"text-align: right;\">\n",
       "      <th></th>\n",
       "      <th>Nombres</th>\n",
       "      <th>Apellidos</th>\n",
       "      <th>E-mail</th>\n",
       "      <th>Grado</th>\n",
       "      <th>Licenciatura</th>\n",
       "      <th>Proyecto</th>\n",
       "      <th>Tutor</th>\n",
       "      <th>Edad</th>\n",
       "    </tr>\n",
       "  </thead>\n",
       "  <tbody>\n",
       "    <tr>\n",
       "      <th>3</th>\n",
       "      <td>Alejandro</td>\n",
       "      <td>Brena Hernandez</td>\n",
       "      <td>brenaalejandro@hotmail.com</td>\n",
       "      <td>Maestria</td>\n",
       "      <td>Geofisica</td>\n",
       "      <td>Clasificacion de sismofacies con ML</td>\n",
       "      <td>Dr. Luis Velasquillo</td>\n",
       "      <td>26</td>\n",
       "    </tr>\n",
       "    <tr>\n",
       "      <th>4</th>\n",
       "      <td>Eliseo Andrei</td>\n",
       "      <td>Martinez Angel</td>\n",
       "      <td>eliseoandrei@live.com.mx</td>\n",
       "      <td>Licenciatura</td>\n",
       "      <td>Ingenieria Quimica Petrolera</td>\n",
       "      <td>Sintesis. Evaluacion y Caracterizacion de liqu...</td>\n",
       "      <td>Dr. Rafael Mtz Palou</td>\n",
       "      <td>18 años</td>\n",
       "    </tr>\n",
       "    <tr>\n",
       "      <th>5</th>\n",
       "      <td>rosario</td>\n",
       "      <td>giron</td>\n",
       "      <td>xaiio_@hotmail.com</td>\n",
       "      <td>3</td>\n",
       "      <td>geofisica</td>\n",
       "      <td>rn</td>\n",
       "      <td>velasquillo</td>\n",
       "      <td>26</td>\n",
       "    </tr>\n",
       "    <tr>\n",
       "      <th>6</th>\n",
       "      <td>Sergio Enrique</td>\n",
       "      <td>de la Cruz</td>\n",
       "      <td>sdelacruzchable@gmail.com</td>\n",
       "      <td>Lecenciatura</td>\n",
       "      <td>Ing. Petrolera</td>\n",
       "      <td>Diseño de BN para AF</td>\n",
       "      <td>CLG</td>\n",
       "      <td>26</td>\n",
       "    </tr>\n",
       "    <tr>\n",
       "      <th>7</th>\n",
       "      <td>Mariana Yesenia</td>\n",
       "      <td>Piña Fernández</td>\n",
       "      <td>mayepifer@hotmail.com</td>\n",
       "      <td>Licenciatura</td>\n",
       "      <td>Ingeniería Química</td>\n",
       "      <td>Síntesis de catalizadores base líquidos iónico...</td>\n",
       "      <td>Natalya V. Likhanova</td>\n",
       "      <td>28</td>\n",
       "    </tr>\n",
       "  </tbody>\n",
       "</table>\n",
       "</div>"
      ],
      "text/plain": [
       "           Nombres        Apellidos                      E-mail         Grado  \\\n",
       "3        Alejandro  Brena Hernandez  brenaalejandro@hotmail.com      Maestria   \n",
       "4    Eliseo Andrei   Martinez Angel    eliseoandrei@live.com.mx  Licenciatura   \n",
       "5          rosario            giron          xaiio_@hotmail.com             3   \n",
       "6   Sergio Enrique       de la Cruz   sdelacruzchable@gmail.com  Lecenciatura   \n",
       "7  Mariana Yesenia   Piña Fernández       mayepifer@hotmail.com  Licenciatura   \n",
       "\n",
       "                   Licenciatura  \\\n",
       "3                     Geofisica   \n",
       "4  Ingenieria Quimica Petrolera   \n",
       "5                     geofisica   \n",
       "6                Ing. Petrolera   \n",
       "7            Ingeniería Química   \n",
       "\n",
       "                                            Proyecto                 Tutor  \\\n",
       "3                Clasificacion de sismofacies con ML  Dr. Luis Velasquillo   \n",
       "4  Sintesis. Evaluacion y Caracterizacion de liqu...  Dr. Rafael Mtz Palou   \n",
       "5                                                 rn           velasquillo   \n",
       "6                               Diseño de BN para AF                   CLG   \n",
       "7  Síntesis de catalizadores base líquidos iónico...  Natalya V. Likhanova   \n",
       "\n",
       "      Edad  \n",
       "3       26  \n",
       "4  18 años  \n",
       "5       26  \n",
       "6       26  \n",
       "7       28  "
      ]
     },
     "execution_count": 65,
     "metadata": {},
     "output_type": "execute_result"
    }
   ],
   "source": [
    "df_nan_2 = df_nan_1.dropna()\n",
    "df_nan_2"
   ]
  },
  {
   "cell_type": "code",
   "execution_count": 67,
   "metadata": {
    "colab": {
     "base_uri": "https://localhost:8080/",
     "height": 424
    },
    "id": "3jrtc3YXIiaK",
    "outputId": "33313859-6e0f-4762-91a1-8cc02ce5e97e"
   },
   "outputs": [
    {
     "name": "stderr",
     "output_type": "stream",
     "text": [
      "C:\\Users\\gbdiaz\\AppData\\Local\\Temp/ipykernel_14208/1735709236.py:3: SettingWithCopyWarning: \n",
      "A value is trying to be set on a copy of a slice from a DataFrame.\n",
      "Try using .loc[row_indexer,col_indexer] = value instead\n",
      "\n",
      "See the caveats in the documentation: https://pandas.pydata.org/pandas-docs/stable/user_guide/indexing.html#returning-a-view-versus-a-copy\n",
      "  df_nan_2['Calificación'] = l\n"
     ]
    },
    {
     "data": {
      "text/html": [
       "<div>\n",
       "<style scoped>\n",
       "    .dataframe tbody tr th:only-of-type {\n",
       "        vertical-align: middle;\n",
       "    }\n",
       "\n",
       "    .dataframe tbody tr th {\n",
       "        vertical-align: top;\n",
       "    }\n",
       "\n",
       "    .dataframe thead th {\n",
       "        text-align: right;\n",
       "    }\n",
       "</style>\n",
       "<table border=\"1\" class=\"dataframe\">\n",
       "  <thead>\n",
       "    <tr style=\"text-align: right;\">\n",
       "      <th></th>\n",
       "      <th>Nombres</th>\n",
       "      <th>Apellidos</th>\n",
       "      <th>E-mail</th>\n",
       "      <th>Grado</th>\n",
       "      <th>Licenciatura</th>\n",
       "      <th>Proyecto</th>\n",
       "      <th>Tutor</th>\n",
       "      <th>Edad</th>\n",
       "      <th>Calificación</th>\n",
       "    </tr>\n",
       "  </thead>\n",
       "  <tbody>\n",
       "    <tr>\n",
       "      <th>3</th>\n",
       "      <td>Alejandro</td>\n",
       "      <td>Brena Hernandez</td>\n",
       "      <td>brenaalejandro@hotmail.com</td>\n",
       "      <td>Maestria</td>\n",
       "      <td>Geofisica</td>\n",
       "      <td>Clasificacion de sismofacies con ML</td>\n",
       "      <td>Dr. Luis Velasquillo</td>\n",
       "      <td>26</td>\n",
       "      <td>3</td>\n",
       "    </tr>\n",
       "    <tr>\n",
       "      <th>4</th>\n",
       "      <td>Eliseo Andrei</td>\n",
       "      <td>Martinez Angel</td>\n",
       "      <td>eliseoandrei@live.com.mx</td>\n",
       "      <td>Licenciatura</td>\n",
       "      <td>Ingenieria Quimica Petrolera</td>\n",
       "      <td>Sintesis. Evaluacion y Caracterizacion de liqu...</td>\n",
       "      <td>Dr. Rafael Mtz Palou</td>\n",
       "      <td>18 años</td>\n",
       "      <td>1</td>\n",
       "    </tr>\n",
       "    <tr>\n",
       "      <th>5</th>\n",
       "      <td>rosario</td>\n",
       "      <td>giron</td>\n",
       "      <td>xaiio_@hotmail.com</td>\n",
       "      <td>3</td>\n",
       "      <td>geofisica</td>\n",
       "      <td>rn</td>\n",
       "      <td>velasquillo</td>\n",
       "      <td>26</td>\n",
       "      <td>7</td>\n",
       "    </tr>\n",
       "    <tr>\n",
       "      <th>6</th>\n",
       "      <td>Sergio Enrique</td>\n",
       "      <td>de la Cruz</td>\n",
       "      <td>sdelacruzchable@gmail.com</td>\n",
       "      <td>Lecenciatura</td>\n",
       "      <td>Ing. Petrolera</td>\n",
       "      <td>Diseño de BN para AF</td>\n",
       "      <td>CLG</td>\n",
       "      <td>26</td>\n",
       "      <td>6</td>\n",
       "    </tr>\n",
       "    <tr>\n",
       "      <th>7</th>\n",
       "      <td>Mariana Yesenia</td>\n",
       "      <td>Piña Fernández</td>\n",
       "      <td>mayepifer@hotmail.com</td>\n",
       "      <td>Licenciatura</td>\n",
       "      <td>Ingeniería Química</td>\n",
       "      <td>Síntesis de catalizadores base líquidos iónico...</td>\n",
       "      <td>Natalya V. Likhanova</td>\n",
       "      <td>28</td>\n",
       "      <td>7</td>\n",
       "    </tr>\n",
       "  </tbody>\n",
       "</table>\n",
       "</div>"
      ],
      "text/plain": [
       "           Nombres        Apellidos                      E-mail         Grado  \\\n",
       "3        Alejandro  Brena Hernandez  brenaalejandro@hotmail.com      Maestria   \n",
       "4    Eliseo Andrei   Martinez Angel    eliseoandrei@live.com.mx  Licenciatura   \n",
       "5          rosario            giron          xaiio_@hotmail.com             3   \n",
       "6   Sergio Enrique       de la Cruz   sdelacruzchable@gmail.com  Lecenciatura   \n",
       "7  Mariana Yesenia   Piña Fernández       mayepifer@hotmail.com  Licenciatura   \n",
       "\n",
       "                   Licenciatura  \\\n",
       "3                     Geofisica   \n",
       "4  Ingenieria Quimica Petrolera   \n",
       "5                     geofisica   \n",
       "6                Ing. Petrolera   \n",
       "7            Ingeniería Química   \n",
       "\n",
       "                                            Proyecto                 Tutor  \\\n",
       "3                Clasificacion de sismofacies con ML  Dr. Luis Velasquillo   \n",
       "4  Sintesis. Evaluacion y Caracterizacion de liqu...  Dr. Rafael Mtz Palou   \n",
       "5                                                 rn           velasquillo   \n",
       "6                               Diseño de BN para AF                   CLG   \n",
       "7  Síntesis de catalizadores base líquidos iónico...  Natalya V. Likhanova   \n",
       "\n",
       "      Edad  Calificación  \n",
       "3       26             3  \n",
       "4  18 años             1  \n",
       "5       26             7  \n",
       "6       26             6  \n",
       "7       28             7  "
      ]
     },
     "execution_count": 67,
     "metadata": {},
     "output_type": "execute_result"
    }
   ],
   "source": [
    "import numpy as np\n",
    "l = np.random.randint(10, size=(len(df_nan_2)))\n",
    "df_nan_2['Calificación'] = l\n",
    "df_nan_2"
   ]
  },
  {
   "cell_type": "code",
   "execution_count": 68,
   "metadata": {
    "colab": {
     "base_uri": "https://localhost:8080/"
    },
    "id": "MkoZjBuYTGsi",
    "outputId": "f27de8ef-1028-438d-d4a6-3c5558ef7354"
   },
   "outputs": [
    {
     "data": {
      "text/plain": [
       "array([3, 1, 7, 6])"
      ]
     },
     "execution_count": 68,
     "metadata": {},
     "output_type": "execute_result"
    }
   ],
   "source": [
    "df_nan_2['Calificación'].unique()"
   ]
  },
  {
   "cell_type": "code",
   "execution_count": 69,
   "metadata": {},
   "outputs": [
    {
     "data": {
      "text/html": [
       "<div>\n",
       "<style scoped>\n",
       "    .dataframe tbody tr th:only-of-type {\n",
       "        vertical-align: middle;\n",
       "    }\n",
       "\n",
       "    .dataframe tbody tr th {\n",
       "        vertical-align: top;\n",
       "    }\n",
       "\n",
       "    .dataframe thead th {\n",
       "        text-align: right;\n",
       "    }\n",
       "</style>\n",
       "<table border=\"1\" class=\"dataframe\">\n",
       "  <thead>\n",
       "    <tr style=\"text-align: right;\">\n",
       "      <th></th>\n",
       "      <th>Nombres</th>\n",
       "      <th>Apellidos</th>\n",
       "      <th>E-mail</th>\n",
       "      <th>Grado</th>\n",
       "      <th>Licenciatura</th>\n",
       "      <th>Proyecto</th>\n",
       "      <th>Tutor</th>\n",
       "      <th>Edad</th>\n",
       "      <th>Calificación</th>\n",
       "    </tr>\n",
       "  </thead>\n",
       "  <tbody>\n",
       "    <tr>\n",
       "      <th>3</th>\n",
       "      <td>NaN</td>\n",
       "      <td>NaN</td>\n",
       "      <td>NaN</td>\n",
       "      <td>NaN</td>\n",
       "      <td>NaN</td>\n",
       "      <td>NaN</td>\n",
       "      <td>NaN</td>\n",
       "      <td>NaN</td>\n",
       "      <td>NaN</td>\n",
       "    </tr>\n",
       "    <tr>\n",
       "      <th>4</th>\n",
       "      <td>NaN</td>\n",
       "      <td>NaN</td>\n",
       "      <td>NaN</td>\n",
       "      <td>NaN</td>\n",
       "      <td>NaN</td>\n",
       "      <td>NaN</td>\n",
       "      <td>NaN</td>\n",
       "      <td>NaN</td>\n",
       "      <td>NaN</td>\n",
       "    </tr>\n",
       "    <tr>\n",
       "      <th>5</th>\n",
       "      <td>rosario</td>\n",
       "      <td>giron</td>\n",
       "      <td>xaiio_@hotmail.com</td>\n",
       "      <td>3</td>\n",
       "      <td>geofisica</td>\n",
       "      <td>rn</td>\n",
       "      <td>velasquillo</td>\n",
       "      <td>26</td>\n",
       "      <td>7.0</td>\n",
       "    </tr>\n",
       "    <tr>\n",
       "      <th>6</th>\n",
       "      <td>Sergio Enrique</td>\n",
       "      <td>de la Cruz</td>\n",
       "      <td>sdelacruzchable@gmail.com</td>\n",
       "      <td>Lecenciatura</td>\n",
       "      <td>Ing. Petrolera</td>\n",
       "      <td>Diseño de BN para AF</td>\n",
       "      <td>CLG</td>\n",
       "      <td>26</td>\n",
       "      <td>6.0</td>\n",
       "    </tr>\n",
       "    <tr>\n",
       "      <th>7</th>\n",
       "      <td>Mariana Yesenia</td>\n",
       "      <td>Piña Fernández</td>\n",
       "      <td>mayepifer@hotmail.com</td>\n",
       "      <td>Licenciatura</td>\n",
       "      <td>Ingeniería Química</td>\n",
       "      <td>Síntesis de catalizadores base líquidos iónico...</td>\n",
       "      <td>Natalya V. Likhanova</td>\n",
       "      <td>28</td>\n",
       "      <td>7.0</td>\n",
       "    </tr>\n",
       "  </tbody>\n",
       "</table>\n",
       "</div>"
      ],
      "text/plain": [
       "           Nombres       Apellidos                     E-mail         Grado  \\\n",
       "3              NaN             NaN                        NaN           NaN   \n",
       "4              NaN             NaN                        NaN           NaN   \n",
       "5          rosario           giron         xaiio_@hotmail.com             3   \n",
       "6   Sergio Enrique      de la Cruz  sdelacruzchable@gmail.com  Lecenciatura   \n",
       "7  Mariana Yesenia  Piña Fernández      mayepifer@hotmail.com  Licenciatura   \n",
       "\n",
       "         Licenciatura                                           Proyecto  \\\n",
       "3                 NaN                                                NaN   \n",
       "4                 NaN                                                NaN   \n",
       "5           geofisica                                                 rn   \n",
       "6      Ing. Petrolera                               Diseño de BN para AF   \n",
       "7  Ingeniería Química  Síntesis de catalizadores base líquidos iónico...   \n",
       "\n",
       "                  Tutor Edad  Calificación  \n",
       "3                   NaN  NaN           NaN  \n",
       "4                   NaN  NaN           NaN  \n",
       "5           velasquillo   26           7.0  \n",
       "6                   CLG   26           6.0  \n",
       "7  Natalya V. Likhanova   28           7.0  "
      ]
     },
     "execution_count": 69,
     "metadata": {},
     "output_type": "execute_result"
    }
   ],
   "source": [
    "df_nan_2.where(df_nan_2['Calificación']>=6)"
   ]
  },
  {
   "cell_type": "code",
   "execution_count": 70,
   "metadata": {
    "colab": {
     "base_uri": "https://localhost:8080/",
     "height": 240
    },
    "id": "VW32Po4vQ60k",
    "outputId": "64af76bc-2d2f-4618-d739-5cbe1c87d9e8"
   },
   "outputs": [
    {
     "data": {
      "text/html": [
       "<div>\n",
       "<style scoped>\n",
       "    .dataframe tbody tr th:only-of-type {\n",
       "        vertical-align: middle;\n",
       "    }\n",
       "\n",
       "    .dataframe tbody tr th {\n",
       "        vertical-align: top;\n",
       "    }\n",
       "\n",
       "    .dataframe thead th {\n",
       "        text-align: right;\n",
       "    }\n",
       "</style>\n",
       "<table border=\"1\" class=\"dataframe\">\n",
       "  <thead>\n",
       "    <tr style=\"text-align: right;\">\n",
       "      <th></th>\n",
       "      <th>Nombres</th>\n",
       "      <th>Apellidos</th>\n",
       "      <th>E-mail</th>\n",
       "      <th>Grado</th>\n",
       "      <th>Licenciatura</th>\n",
       "      <th>Proyecto</th>\n",
       "      <th>Tutor</th>\n",
       "      <th>Edad</th>\n",
       "      <th>Calificación</th>\n",
       "    </tr>\n",
       "  </thead>\n",
       "  <tbody>\n",
       "    <tr>\n",
       "      <th>5</th>\n",
       "      <td>rosario</td>\n",
       "      <td>giron</td>\n",
       "      <td>xaiio_@hotmail.com</td>\n",
       "      <td>3</td>\n",
       "      <td>geofisica</td>\n",
       "      <td>rn</td>\n",
       "      <td>velasquillo</td>\n",
       "      <td>26</td>\n",
       "      <td>7.0</td>\n",
       "    </tr>\n",
       "    <tr>\n",
       "      <th>6</th>\n",
       "      <td>Sergio Enrique</td>\n",
       "      <td>de la Cruz</td>\n",
       "      <td>sdelacruzchable@gmail.com</td>\n",
       "      <td>Lecenciatura</td>\n",
       "      <td>Ing. Petrolera</td>\n",
       "      <td>Diseño de BN para AF</td>\n",
       "      <td>CLG</td>\n",
       "      <td>26</td>\n",
       "      <td>6.0</td>\n",
       "    </tr>\n",
       "    <tr>\n",
       "      <th>7</th>\n",
       "      <td>Mariana Yesenia</td>\n",
       "      <td>Piña Fernández</td>\n",
       "      <td>mayepifer@hotmail.com</td>\n",
       "      <td>Licenciatura</td>\n",
       "      <td>Ingeniería Química</td>\n",
       "      <td>Síntesis de catalizadores base líquidos iónico...</td>\n",
       "      <td>Natalya V. Likhanova</td>\n",
       "      <td>28</td>\n",
       "      <td>7.0</td>\n",
       "    </tr>\n",
       "  </tbody>\n",
       "</table>\n",
       "</div>"
      ],
      "text/plain": [
       "           Nombres       Apellidos                     E-mail         Grado  \\\n",
       "5          rosario           giron         xaiio_@hotmail.com             3   \n",
       "6   Sergio Enrique      de la Cruz  sdelacruzchable@gmail.com  Lecenciatura   \n",
       "7  Mariana Yesenia  Piña Fernández      mayepifer@hotmail.com  Licenciatura   \n",
       "\n",
       "         Licenciatura                                           Proyecto  \\\n",
       "5           geofisica                                                 rn   \n",
       "6      Ing. Petrolera                               Diseño de BN para AF   \n",
       "7  Ingeniería Química  Síntesis de catalizadores base líquidos iónico...   \n",
       "\n",
       "                  Tutor Edad  Calificación  \n",
       "5           velasquillo   26           7.0  \n",
       "6                   CLG   26           6.0  \n",
       "7  Natalya V. Likhanova   28           7.0  "
      ]
     },
     "execution_count": 70,
     "metadata": {},
     "output_type": "execute_result"
    }
   ],
   "source": [
    "df_nan_2.where(df_nan_2['Calificación']>=6).dropna()"
   ]
  },
  {
   "cell_type": "code",
   "execution_count": 71,
   "metadata": {
    "colab": {
     "base_uri": "https://localhost:8080/",
     "height": 320
    },
    "id": "1boxKjV2my_M",
    "outputId": "de2227e8-edbd-4d16-eb4e-db25e2bdcc75"
   },
   "outputs": [
    {
     "data": {
      "text/html": [
       "<div>\n",
       "<style scoped>\n",
       "    .dataframe tbody tr th:only-of-type {\n",
       "        vertical-align: middle;\n",
       "    }\n",
       "\n",
       "    .dataframe tbody tr th {\n",
       "        vertical-align: top;\n",
       "    }\n",
       "\n",
       "    .dataframe thead th {\n",
       "        text-align: right;\n",
       "    }\n",
       "</style>\n",
       "<table border=\"1\" class=\"dataframe\">\n",
       "  <thead>\n",
       "    <tr style=\"text-align: right;\">\n",
       "      <th></th>\n",
       "      <th>Nombres</th>\n",
       "      <th>Apellidos</th>\n",
       "      <th>E-mail</th>\n",
       "      <th>Grado</th>\n",
       "      <th>Licenciatura</th>\n",
       "      <th>Proyecto</th>\n",
       "      <th>Tutor</th>\n",
       "      <th>Edad</th>\n",
       "      <th>Calificación</th>\n",
       "    </tr>\n",
       "  </thead>\n",
       "  <tbody>\n",
       "    <tr>\n",
       "      <th>4</th>\n",
       "      <td>Eliseo Andrei</td>\n",
       "      <td>Martinez Angel</td>\n",
       "      <td>eliseoandrei@live.com.mx</td>\n",
       "      <td>Licenciatura</td>\n",
       "      <td>Ingenieria Quimica Petrolera</td>\n",
       "      <td>Sintesis. Evaluacion y Caracterizacion de liqu...</td>\n",
       "      <td>Dr. Rafael Mtz Palou</td>\n",
       "      <td>18 años</td>\n",
       "      <td>1</td>\n",
       "    </tr>\n",
       "    <tr>\n",
       "      <th>3</th>\n",
       "      <td>Alejandro</td>\n",
       "      <td>Brena Hernandez</td>\n",
       "      <td>brenaalejandro@hotmail.com</td>\n",
       "      <td>Maestria</td>\n",
       "      <td>Geofisica</td>\n",
       "      <td>Clasificacion de sismofacies con ML</td>\n",
       "      <td>Dr. Luis Velasquillo</td>\n",
       "      <td>26</td>\n",
       "      <td>3</td>\n",
       "    </tr>\n",
       "    <tr>\n",
       "      <th>6</th>\n",
       "      <td>Sergio Enrique</td>\n",
       "      <td>de la Cruz</td>\n",
       "      <td>sdelacruzchable@gmail.com</td>\n",
       "      <td>Lecenciatura</td>\n",
       "      <td>Ing. Petrolera</td>\n",
       "      <td>Diseño de BN para AF</td>\n",
       "      <td>CLG</td>\n",
       "      <td>26</td>\n",
       "      <td>6</td>\n",
       "    </tr>\n",
       "    <tr>\n",
       "      <th>5</th>\n",
       "      <td>rosario</td>\n",
       "      <td>giron</td>\n",
       "      <td>xaiio_@hotmail.com</td>\n",
       "      <td>3</td>\n",
       "      <td>geofisica</td>\n",
       "      <td>rn</td>\n",
       "      <td>velasquillo</td>\n",
       "      <td>26</td>\n",
       "      <td>7</td>\n",
       "    </tr>\n",
       "    <tr>\n",
       "      <th>7</th>\n",
       "      <td>Mariana Yesenia</td>\n",
       "      <td>Piña Fernández</td>\n",
       "      <td>mayepifer@hotmail.com</td>\n",
       "      <td>Licenciatura</td>\n",
       "      <td>Ingeniería Química</td>\n",
       "      <td>Síntesis de catalizadores base líquidos iónico...</td>\n",
       "      <td>Natalya V. Likhanova</td>\n",
       "      <td>28</td>\n",
       "      <td>7</td>\n",
       "    </tr>\n",
       "  </tbody>\n",
       "</table>\n",
       "</div>"
      ],
      "text/plain": [
       "           Nombres        Apellidos                      E-mail         Grado  \\\n",
       "4    Eliseo Andrei   Martinez Angel    eliseoandrei@live.com.mx  Licenciatura   \n",
       "3        Alejandro  Brena Hernandez  brenaalejandro@hotmail.com      Maestria   \n",
       "6   Sergio Enrique       de la Cruz   sdelacruzchable@gmail.com  Lecenciatura   \n",
       "5          rosario            giron          xaiio_@hotmail.com             3   \n",
       "7  Mariana Yesenia   Piña Fernández       mayepifer@hotmail.com  Licenciatura   \n",
       "\n",
       "                   Licenciatura  \\\n",
       "4  Ingenieria Quimica Petrolera   \n",
       "3                     Geofisica   \n",
       "6                Ing. Petrolera   \n",
       "5                     geofisica   \n",
       "7            Ingeniería Química   \n",
       "\n",
       "                                            Proyecto                 Tutor  \\\n",
       "4  Sintesis. Evaluacion y Caracterizacion de liqu...  Dr. Rafael Mtz Palou   \n",
       "3                Clasificacion de sismofacies con ML  Dr. Luis Velasquillo   \n",
       "6                               Diseño de BN para AF                   CLG   \n",
       "5                                                 rn           velasquillo   \n",
       "7  Síntesis de catalizadores base líquidos iónico...  Natalya V. Likhanova   \n",
       "\n",
       "      Edad  Calificación  \n",
       "4  18 años             1  \n",
       "3       26             3  \n",
       "6       26             6  \n",
       "5       26             7  \n",
       "7       28             7  "
      ]
     },
     "execution_count": 71,
     "metadata": {},
     "output_type": "execute_result"
    }
   ],
   "source": [
    "df_nan_2.sort_values('Calificación')"
   ]
  },
  {
   "cell_type": "code",
   "execution_count": 72,
   "metadata": {
    "colab": {
     "base_uri": "https://localhost:8080/",
     "height": 206
    },
    "id": "WTZpkerWUN7j",
    "outputId": "2af91367-bc4e-4861-831d-9c054d24a64a"
   },
   "outputs": [
    {
     "data": {
      "text/html": [
       "<div>\n",
       "<style scoped>\n",
       "    .dataframe tbody tr th:only-of-type {\n",
       "        vertical-align: middle;\n",
       "    }\n",
       "\n",
       "    .dataframe tbody tr th {\n",
       "        vertical-align: top;\n",
       "    }\n",
       "\n",
       "    .dataframe thead th {\n",
       "        text-align: right;\n",
       "    }\n",
       "</style>\n",
       "<table border=\"1\" class=\"dataframe\">\n",
       "  <thead>\n",
       "    <tr style=\"text-align: right;\">\n",
       "      <th></th>\n",
       "      <th>Nombres</th>\n",
       "      <th>E-mail</th>\n",
       "      <th>Calificación</th>\n",
       "    </tr>\n",
       "  </thead>\n",
       "  <tbody>\n",
       "    <tr>\n",
       "      <th>4</th>\n",
       "      <td>Eliseo Andrei</td>\n",
       "      <td>eliseoandrei@live.com.mx</td>\n",
       "      <td>1</td>\n",
       "    </tr>\n",
       "    <tr>\n",
       "      <th>3</th>\n",
       "      <td>Alejandro</td>\n",
       "      <td>brenaalejandro@hotmail.com</td>\n",
       "      <td>3</td>\n",
       "    </tr>\n",
       "    <tr>\n",
       "      <th>6</th>\n",
       "      <td>Sergio Enrique</td>\n",
       "      <td>sdelacruzchable@gmail.com</td>\n",
       "      <td>6</td>\n",
       "    </tr>\n",
       "    <tr>\n",
       "      <th>5</th>\n",
       "      <td>rosario</td>\n",
       "      <td>xaiio_@hotmail.com</td>\n",
       "      <td>7</td>\n",
       "    </tr>\n",
       "    <tr>\n",
       "      <th>7</th>\n",
       "      <td>Mariana Yesenia</td>\n",
       "      <td>mayepifer@hotmail.com</td>\n",
       "      <td>7</td>\n",
       "    </tr>\n",
       "  </tbody>\n",
       "</table>\n",
       "</div>"
      ],
      "text/plain": [
       "           Nombres                      E-mail  Calificación\n",
       "4    Eliseo Andrei    eliseoandrei@live.com.mx             1\n",
       "3        Alejandro  brenaalejandro@hotmail.com             3\n",
       "6   Sergio Enrique   sdelacruzchable@gmail.com             6\n",
       "5          rosario          xaiio_@hotmail.com             7\n",
       "7  Mariana Yesenia       mayepifer@hotmail.com             7"
      ]
     },
     "execution_count": 72,
     "metadata": {},
     "output_type": "execute_result"
    }
   ],
   "source": [
    "columnas = [\"Nombres\",\"E-mail\",\"Calificación\"]\n",
    "df_nan_2 = df_nan_2[columnas].sort_values('Calificación')\n",
    "df_nan_2"
   ]
  },
  {
   "cell_type": "code",
   "execution_count": 73,
   "metadata": {
    "colab": {
     "base_uri": "https://localhost:8080/"
    },
    "id": "C9fRncw2naBw",
    "outputId": "3d6a2ceb-bb91-4a27-9940-1ef4a85848db"
   },
   "outputs": [
    {
     "data": {
      "text/plain": [
       "7    2\n",
       "1    1\n",
       "3    1\n",
       "6    1\n",
       "Name: Calificación, dtype: int64"
      ]
     },
     "execution_count": 73,
     "metadata": {},
     "output_type": "execute_result"
    }
   ],
   "source": [
    "df_nan_2[\"Calificación\"].value_counts()"
   ]
  },
  {
   "cell_type": "code",
   "execution_count": 74,
   "metadata": {},
   "outputs": [
    {
     "data": {
      "text/html": [
       "<div>\n",
       "<style scoped>\n",
       "    .dataframe tbody tr th:only-of-type {\n",
       "        vertical-align: middle;\n",
       "    }\n",
       "\n",
       "    .dataframe tbody tr th {\n",
       "        vertical-align: top;\n",
       "    }\n",
       "\n",
       "    .dataframe thead th {\n",
       "        text-align: right;\n",
       "    }\n",
       "</style>\n",
       "<table border=\"1\" class=\"dataframe\">\n",
       "  <thead>\n",
       "    <tr style=\"text-align: right;\">\n",
       "      <th></th>\n",
       "      <th>Apellidos</th>\n",
       "      <th>E-mail</th>\n",
       "      <th>Edad</th>\n",
       "      <th>Grado</th>\n",
       "      <th>Licenciatura</th>\n",
       "      <th>Proyecto</th>\n",
       "      <th>Tutor</th>\n",
       "    </tr>\n",
       "    <tr>\n",
       "      <th>Nombres</th>\n",
       "      <th></th>\n",
       "      <th></th>\n",
       "      <th></th>\n",
       "      <th></th>\n",
       "      <th></th>\n",
       "      <th></th>\n",
       "      <th></th>\n",
       "    </tr>\n",
       "  </thead>\n",
       "  <tbody>\n",
       "    <tr>\n",
       "      <th>Diana Laura</th>\n",
       "      <td>López Morales</td>\n",
       "      <td>ita.dianalopez@gmail.com</td>\n",
       "      <td>26</td>\n",
       "      <td>Maestría</td>\n",
       "      <td>Ingeniero en tecnología ambiental</td>\n",
       "      <td>D-92011</td>\n",
       "      <td>Gusavo Sosa Iglesias</td>\n",
       "    </tr>\n",
       "    <tr>\n",
       "      <th>Carlos</th>\n",
       "      <td>Paredes Marcial</td>\n",
       "      <td>cpm199660@gmail.com</td>\n",
       "      <td>26 años</td>\n",
       "      <td>Licenciatura</td>\n",
       "      <td>NaN</td>\n",
       "      <td>Recuperacion de aceite por inyeccion de flujo ...</td>\n",
       "      <td>Rodrigo Salazar</td>\n",
       "    </tr>\n",
       "    <tr>\n",
       "      <th>Alberto</th>\n",
       "      <td>Vázquez Contreras</td>\n",
       "      <td>posavazquez@imp.mx</td>\n",
       "      <td>29</td>\n",
       "      <td>1erSemestre</td>\n",
       "      <td>Ing.Petrolera</td>\n",
       "      <td>IA aplicada en la Ingeniería de Yacimientos</td>\n",
       "      <td>Dr.Leonid Shemeretov</td>\n",
       "    </tr>\n",
       "    <tr>\n",
       "      <th>Alejandro</th>\n",
       "      <td>Brena Hernandez</td>\n",
       "      <td>brenaalejandro@hotmail.com</td>\n",
       "      <td>26</td>\n",
       "      <td>Maestria</td>\n",
       "      <td>Geofisica</td>\n",
       "      <td>Clasificacion de sismofacies con ML</td>\n",
       "      <td>Dr. Luis Velasquillo</td>\n",
       "    </tr>\n",
       "    <tr>\n",
       "      <th>Eliseo Andrei</th>\n",
       "      <td>Martinez Angel</td>\n",
       "      <td>eliseoandrei@live.com.mx</td>\n",
       "      <td>18 años</td>\n",
       "      <td>Licenciatura</td>\n",
       "      <td>Ingenieria Quimica Petrolera</td>\n",
       "      <td>Sintesis. Evaluacion y Caracterizacion de liqu...</td>\n",
       "      <td>Dr. Rafael Mtz Palou</td>\n",
       "    </tr>\n",
       "    <tr>\n",
       "      <th>rosario</th>\n",
       "      <td>giron</td>\n",
       "      <td>xaiio_@hotmail.com</td>\n",
       "      <td>26</td>\n",
       "      <td>3</td>\n",
       "      <td>geofisica</td>\n",
       "      <td>rn</td>\n",
       "      <td>velasquillo</td>\n",
       "    </tr>\n",
       "    <tr>\n",
       "      <th>Sergio Enrique</th>\n",
       "      <td>de la Cruz</td>\n",
       "      <td>sdelacruzchable@gmail.com</td>\n",
       "      <td>26</td>\n",
       "      <td>Lecenciatura</td>\n",
       "      <td>Ing. Petrolera</td>\n",
       "      <td>Diseño de BN para AF</td>\n",
       "      <td>CLG</td>\n",
       "    </tr>\n",
       "    <tr>\n",
       "      <th>Mariana Yesenia</th>\n",
       "      <td>Piña Fernández</td>\n",
       "      <td>mayepifer@hotmail.com</td>\n",
       "      <td>28</td>\n",
       "      <td>Licenciatura</td>\n",
       "      <td>Ingeniería Química</td>\n",
       "      <td>Síntesis de catalizadores base líquidos iónico...</td>\n",
       "      <td>Natalya V. Likhanova</td>\n",
       "    </tr>\n",
       "  </tbody>\n",
       "</table>\n",
       "</div>"
      ],
      "text/plain": [
       "                         Apellidos                      E-mail     Edad  \\\n",
       "Nombres                                                                   \n",
       "Diana Laura          López Morales    ita.dianalopez@gmail.com       26   \n",
       "Carlos             Paredes Marcial         cpm199660@gmail.com  26 años   \n",
       "Alberto          Vázquez Contreras          posavazquez@imp.mx       29   \n",
       "Alejandro          Brena Hernandez  brenaalejandro@hotmail.com       26   \n",
       "Eliseo Andrei       Martinez Angel    eliseoandrei@live.com.mx  18 años   \n",
       "rosario                      giron          xaiio_@hotmail.com       26   \n",
       "Sergio Enrique          de la Cruz   sdelacruzchable@gmail.com       26   \n",
       "Mariana Yesenia     Piña Fernández       mayepifer@hotmail.com       28   \n",
       "\n",
       "                        Grado                       Licenciatura  \\\n",
       "Nombres                                                            \n",
       "Diana Laura          Maestría  Ingeniero en tecnología ambiental   \n",
       "Carlos           Licenciatura                                NaN   \n",
       "Alberto           1erSemestre                      Ing.Petrolera   \n",
       "Alejandro            Maestria                          Geofisica   \n",
       "Eliseo Andrei    Licenciatura       Ingenieria Quimica Petrolera   \n",
       "rosario                     3                          geofisica   \n",
       "Sergio Enrique   Lecenciatura                     Ing. Petrolera   \n",
       "Mariana Yesenia  Licenciatura                 Ingeniería Química   \n",
       "\n",
       "                                                          Proyecto  \\\n",
       "Nombres                                                              \n",
       "Diana Laura                                                D-92011   \n",
       "Carlos           Recuperacion de aceite por inyeccion de flujo ...   \n",
       "Alberto                IA aplicada en la Ingeniería de Yacimientos   \n",
       "Alejandro                      Clasificacion de sismofacies con ML   \n",
       "Eliseo Andrei    Sintesis. Evaluacion y Caracterizacion de liqu...   \n",
       "rosario                                                         rn   \n",
       "Sergio Enrique                                Diseño de BN para AF   \n",
       "Mariana Yesenia  Síntesis de catalizadores base líquidos iónico...   \n",
       "\n",
       "                                Tutor  \n",
       "Nombres                                \n",
       "Diana Laura      Gusavo Sosa Iglesias  \n",
       "Carlos                Rodrigo Salazar  \n",
       "Alberto          Dr.Leonid Shemeretov  \n",
       "Alejandro        Dr. Luis Velasquillo  \n",
       "Eliseo Andrei    Dr. Rafael Mtz Palou  \n",
       "rosario                   velasquillo  \n",
       "Sergio Enrique                    CLG  \n",
       "Mariana Yesenia  Natalya V. Likhanova  "
      ]
     },
     "execution_count": 74,
     "metadata": {},
     "output_type": "execute_result"
    }
   ],
   "source": [
    "df_names"
   ]
  },
  {
   "cell_type": "code",
   "execution_count": 75,
   "metadata": {
    "id": "vGlS6W1qspvi"
   },
   "outputs": [
    {
     "name": "stdout",
     "output_type": "stream",
     "text": [
      "Nombres\n",
      "Diana Laura             26\n",
      "Carlos             26 años\n",
      "Alberto                 29\n",
      "Alejandro               26\n",
      "Eliseo Andrei      18 años\n",
      "rosario                 26\n",
      "Sergio Enrique          26\n",
      "Mariana Yesenia         28\n",
      "Name: Edad, dtype: object\n",
      "<class 'pandas.core.series.Series'>\n"
     ]
    }
   ],
   "source": [
    "Edades = df_names['Edad']\n",
    "print(Edades)\n",
    "print(type(Edades))"
   ]
  },
  {
   "cell_type": "code",
   "execution_count": 76,
   "metadata": {
    "id": "IfKw0B8wIiaL"
   },
   "outputs": [
    {
     "data": {
      "text/html": [
       "<div>\n",
       "<style scoped>\n",
       "    .dataframe tbody tr th:only-of-type {\n",
       "        vertical-align: middle;\n",
       "    }\n",
       "\n",
       "    .dataframe tbody tr th {\n",
       "        vertical-align: top;\n",
       "    }\n",
       "\n",
       "    .dataframe thead th {\n",
       "        text-align: right;\n",
       "    }\n",
       "</style>\n",
       "<table border=\"1\" class=\"dataframe\">\n",
       "  <thead>\n",
       "    <tr style=\"text-align: right;\">\n",
       "      <th></th>\n",
       "      <th>Apellidos</th>\n",
       "      <th>E-mail</th>\n",
       "      <th>Edad</th>\n",
       "      <th>Grado</th>\n",
       "      <th>Licenciatura</th>\n",
       "      <th>Proyecto</th>\n",
       "      <th>Tutor</th>\n",
       "    </tr>\n",
       "    <tr>\n",
       "      <th>Nombres</th>\n",
       "      <th></th>\n",
       "      <th></th>\n",
       "      <th></th>\n",
       "      <th></th>\n",
       "      <th></th>\n",
       "      <th></th>\n",
       "      <th></th>\n",
       "    </tr>\n",
       "  </thead>\n",
       "  <tbody>\n",
       "    <tr>\n",
       "      <th>Diana Laura</th>\n",
       "      <td>López Morales</td>\n",
       "      <td>ita.dianalopez@gmail.com</td>\n",
       "      <td>26</td>\n",
       "      <td>Maestría</td>\n",
       "      <td>Ingeniero en tecnología ambiental</td>\n",
       "      <td>D-92011</td>\n",
       "      <td>Gusavo Sosa Iglesias</td>\n",
       "    </tr>\n",
       "    <tr>\n",
       "      <th>Carlos</th>\n",
       "      <td>Paredes Marcial</td>\n",
       "      <td>cpm199660@gmail.com</td>\n",
       "      <td>26 años</td>\n",
       "      <td>Licenciatura</td>\n",
       "      <td>NaN</td>\n",
       "      <td>Recuperacion de aceite por inyeccion de flujo ...</td>\n",
       "      <td>Rodrigo Salazar</td>\n",
       "    </tr>\n",
       "    <tr>\n",
       "      <th>Alberto</th>\n",
       "      <td>Vázquez Contreras</td>\n",
       "      <td>posavazquez@imp.mx</td>\n",
       "      <td>29</td>\n",
       "      <td>1erSemestre</td>\n",
       "      <td>Ing.Petrolera</td>\n",
       "      <td>IA aplicada en la Ingeniería de Yacimientos</td>\n",
       "      <td>Dr.Leonid Shemeretov</td>\n",
       "    </tr>\n",
       "    <tr>\n",
       "      <th>Alejandro</th>\n",
       "      <td>Brena Hernandez</td>\n",
       "      <td>brenaalejandro@hotmail.com</td>\n",
       "      <td>26</td>\n",
       "      <td>Maestria</td>\n",
       "      <td>Geofisica</td>\n",
       "      <td>Clasificacion de sismofacies con ML</td>\n",
       "      <td>Dr. Luis Velasquillo</td>\n",
       "    </tr>\n",
       "    <tr>\n",
       "      <th>rosario</th>\n",
       "      <td>giron</td>\n",
       "      <td>xaiio_@hotmail.com</td>\n",
       "      <td>26</td>\n",
       "      <td>3</td>\n",
       "      <td>geofisica</td>\n",
       "      <td>rn</td>\n",
       "      <td>velasquillo</td>\n",
       "    </tr>\n",
       "    <tr>\n",
       "      <th>Sergio Enrique</th>\n",
       "      <td>de la Cruz</td>\n",
       "      <td>sdelacruzchable@gmail.com</td>\n",
       "      <td>26</td>\n",
       "      <td>Lecenciatura</td>\n",
       "      <td>Ing. Petrolera</td>\n",
       "      <td>Diseño de BN para AF</td>\n",
       "      <td>CLG</td>\n",
       "    </tr>\n",
       "    <tr>\n",
       "      <th>Mariana Yesenia</th>\n",
       "      <td>Piña Fernández</td>\n",
       "      <td>mayepifer@hotmail.com</td>\n",
       "      <td>28</td>\n",
       "      <td>Licenciatura</td>\n",
       "      <td>Ingeniería Química</td>\n",
       "      <td>Síntesis de catalizadores base líquidos iónico...</td>\n",
       "      <td>Natalya V. Likhanova</td>\n",
       "    </tr>\n",
       "  </tbody>\n",
       "</table>\n",
       "</div>"
      ],
      "text/plain": [
       "                         Apellidos                      E-mail     Edad  \\\n",
       "Nombres                                                                   \n",
       "Diana Laura          López Morales    ita.dianalopez@gmail.com       26   \n",
       "Carlos             Paredes Marcial         cpm199660@gmail.com  26 años   \n",
       "Alberto          Vázquez Contreras          posavazquez@imp.mx       29   \n",
       "Alejandro          Brena Hernandez  brenaalejandro@hotmail.com       26   \n",
       "rosario                      giron          xaiio_@hotmail.com       26   \n",
       "Sergio Enrique          de la Cruz   sdelacruzchable@gmail.com       26   \n",
       "Mariana Yesenia     Piña Fernández       mayepifer@hotmail.com       28   \n",
       "\n",
       "                        Grado                       Licenciatura  \\\n",
       "Nombres                                                            \n",
       "Diana Laura          Maestría  Ingeniero en tecnología ambiental   \n",
       "Carlos           Licenciatura                                NaN   \n",
       "Alberto           1erSemestre                      Ing.Petrolera   \n",
       "Alejandro            Maestria                          Geofisica   \n",
       "rosario                     3                          geofisica   \n",
       "Sergio Enrique   Lecenciatura                     Ing. Petrolera   \n",
       "Mariana Yesenia  Licenciatura                 Ingeniería Química   \n",
       "\n",
       "                                                          Proyecto  \\\n",
       "Nombres                                                              \n",
       "Diana Laura                                                D-92011   \n",
       "Carlos           Recuperacion de aceite por inyeccion de flujo ...   \n",
       "Alberto                IA aplicada en la Ingeniería de Yacimientos   \n",
       "Alejandro                      Clasificacion de sismofacies con ML   \n",
       "rosario                                                         rn   \n",
       "Sergio Enrique                                Diseño de BN para AF   \n",
       "Mariana Yesenia  Síntesis de catalizadores base líquidos iónico...   \n",
       "\n",
       "                                Tutor  \n",
       "Nombres                                \n",
       "Diana Laura      Gusavo Sosa Iglesias  \n",
       "Carlos                Rodrigo Salazar  \n",
       "Alberto          Dr.Leonid Shemeretov  \n",
       "Alejandro        Dr. Luis Velasquillo  \n",
       "rosario                   velasquillo  \n",
       "Sergio Enrique                    CLG  \n",
       "Mariana Yesenia  Natalya V. Likhanova  "
      ]
     },
     "execution_count": 76,
     "metadata": {},
     "output_type": "execute_result"
    }
   ],
   "source": [
    "df4 = df_names.drop('Eliseo Andrei')\n",
    "df4"
   ]
  },
  {
   "cell_type": "code",
   "execution_count": 77,
   "metadata": {},
   "outputs": [
    {
     "data": {
      "text/html": [
       "<div>\n",
       "<style scoped>\n",
       "    .dataframe tbody tr th:only-of-type {\n",
       "        vertical-align: middle;\n",
       "    }\n",
       "\n",
       "    .dataframe tbody tr th {\n",
       "        vertical-align: top;\n",
       "    }\n",
       "\n",
       "    .dataframe thead th {\n",
       "        text-align: right;\n",
       "    }\n",
       "</style>\n",
       "<table border=\"1\" class=\"dataframe\">\n",
       "  <thead>\n",
       "    <tr style=\"text-align: right;\">\n",
       "      <th></th>\n",
       "      <th>Apellidos</th>\n",
       "      <th>E-mail</th>\n",
       "      <th>Edad</th>\n",
       "      <th>Grado</th>\n",
       "      <th>Licenciatura</th>\n",
       "      <th>Proyecto</th>\n",
       "      <th>Tutor</th>\n",
       "    </tr>\n",
       "    <tr>\n",
       "      <th>Nombres</th>\n",
       "      <th></th>\n",
       "      <th></th>\n",
       "      <th></th>\n",
       "      <th></th>\n",
       "      <th></th>\n",
       "      <th></th>\n",
       "      <th></th>\n",
       "    </tr>\n",
       "  </thead>\n",
       "  <tbody>\n",
       "    <tr>\n",
       "      <th>Diana Laura</th>\n",
       "      <td>López Morales</td>\n",
       "      <td>ita.dianalopez@gmail.com</td>\n",
       "      <td>26</td>\n",
       "      <td>Maestría</td>\n",
       "      <td>Ingeniero en tecnología ambiental</td>\n",
       "      <td>D-92011</td>\n",
       "      <td>Gusavo Sosa Iglesias</td>\n",
       "    </tr>\n",
       "    <tr>\n",
       "      <th>Alberto</th>\n",
       "      <td>Vázquez Contreras</td>\n",
       "      <td>posavazquez@imp.mx</td>\n",
       "      <td>29</td>\n",
       "      <td>1erSemestre</td>\n",
       "      <td>Ing.Petrolera</td>\n",
       "      <td>IA aplicada en la Ingeniería de Yacimientos</td>\n",
       "      <td>Dr.Leonid Shemeretov</td>\n",
       "    </tr>\n",
       "    <tr>\n",
       "      <th>Alejandro</th>\n",
       "      <td>Brena Hernandez</td>\n",
       "      <td>brenaalejandro@hotmail.com</td>\n",
       "      <td>26</td>\n",
       "      <td>Maestria</td>\n",
       "      <td>Geofisica</td>\n",
       "      <td>Clasificacion de sismofacies con ML</td>\n",
       "      <td>Dr. Luis Velasquillo</td>\n",
       "    </tr>\n",
       "    <tr>\n",
       "      <th>rosario</th>\n",
       "      <td>giron</td>\n",
       "      <td>xaiio_@hotmail.com</td>\n",
       "      <td>26</td>\n",
       "      <td>3</td>\n",
       "      <td>geofisica</td>\n",
       "      <td>rn</td>\n",
       "      <td>velasquillo</td>\n",
       "    </tr>\n",
       "    <tr>\n",
       "      <th>Sergio Enrique</th>\n",
       "      <td>de la Cruz</td>\n",
       "      <td>sdelacruzchable@gmail.com</td>\n",
       "      <td>26</td>\n",
       "      <td>Lecenciatura</td>\n",
       "      <td>Ing. Petrolera</td>\n",
       "      <td>Diseño de BN para AF</td>\n",
       "      <td>CLG</td>\n",
       "    </tr>\n",
       "    <tr>\n",
       "      <th>Mariana Yesenia</th>\n",
       "      <td>Piña Fernández</td>\n",
       "      <td>mayepifer@hotmail.com</td>\n",
       "      <td>28</td>\n",
       "      <td>Licenciatura</td>\n",
       "      <td>Ingeniería Química</td>\n",
       "      <td>Síntesis de catalizadores base líquidos iónico...</td>\n",
       "      <td>Natalya V. Likhanova</td>\n",
       "    </tr>\n",
       "  </tbody>\n",
       "</table>\n",
       "</div>"
      ],
      "text/plain": [
       "                         Apellidos                      E-mail Edad  \\\n",
       "Nombres                                                               \n",
       "Diana Laura          López Morales    ita.dianalopez@gmail.com   26   \n",
       "Alberto          Vázquez Contreras          posavazquez@imp.mx   29   \n",
       "Alejandro          Brena Hernandez  brenaalejandro@hotmail.com   26   \n",
       "rosario                      giron          xaiio_@hotmail.com   26   \n",
       "Sergio Enrique          de la Cruz   sdelacruzchable@gmail.com   26   \n",
       "Mariana Yesenia     Piña Fernández       mayepifer@hotmail.com   28   \n",
       "\n",
       "                        Grado                       Licenciatura  \\\n",
       "Nombres                                                            \n",
       "Diana Laura          Maestría  Ingeniero en tecnología ambiental   \n",
       "Alberto           1erSemestre                      Ing.Petrolera   \n",
       "Alejandro            Maestria                          Geofisica   \n",
       "rosario                     3                          geofisica   \n",
       "Sergio Enrique   Lecenciatura                     Ing. Petrolera   \n",
       "Mariana Yesenia  Licenciatura                 Ingeniería Química   \n",
       "\n",
       "                                                          Proyecto  \\\n",
       "Nombres                                                              \n",
       "Diana Laura                                                D-92011   \n",
       "Alberto                IA aplicada en la Ingeniería de Yacimientos   \n",
       "Alejandro                      Clasificacion de sismofacies con ML   \n",
       "rosario                                                         rn   \n",
       "Sergio Enrique                                Diseño de BN para AF   \n",
       "Mariana Yesenia  Síntesis de catalizadores base líquidos iónico...   \n",
       "\n",
       "                                Tutor  \n",
       "Nombres                                \n",
       "Diana Laura      Gusavo Sosa Iglesias  \n",
       "Alberto          Dr.Leonid Shemeretov  \n",
       "Alejandro        Dr. Luis Velasquillo  \n",
       "rosario                   velasquillo  \n",
       "Sergio Enrique                    CLG  \n",
       "Mariana Yesenia  Natalya V. Likhanova  "
      ]
     },
     "execution_count": 77,
     "metadata": {},
     "output_type": "execute_result"
    }
   ],
   "source": [
    "df4 = df4.drop('Carlos')\n",
    "\n",
    "df4"
   ]
  },
  {
   "cell_type": "code",
   "execution_count": 78,
   "metadata": {
    "id": "GaL_2ucxIiaL"
   },
   "outputs": [
    {
     "data": {
      "text/plain": [
       "Apellidos                           López Morales\n",
       "E-mail                   ita.dianalopez@gmail.com\n",
       "Edad                                           26\n",
       "Grado                                    Maestría\n",
       "Licenciatura    Ingeniero en tecnología ambiental\n",
       "Proyecto                                  D-92011\n",
       "Tutor                        Gusavo Sosa Iglesias\n",
       "Name: Diana Laura, dtype: object"
      ]
     },
     "execution_count": 78,
     "metadata": {},
     "output_type": "execute_result"
    }
   ],
   "source": [
    "df4.iloc[0]"
   ]
  },
  {
   "cell_type": "code",
   "execution_count": 79,
   "metadata": {
    "id": "kEvID4lGIiaL"
   },
   "outputs": [
    {
     "data": {
      "text/plain": [
       "'Diana Laura'"
      ]
     },
     "execution_count": 79,
     "metadata": {},
     "output_type": "execute_result"
    }
   ],
   "source": [
    "df4.index[0]\n"
   ]
  },
  {
   "cell_type": "code",
   "execution_count": 80,
   "metadata": {
    "id": "YqFJ1DsrIiaM"
   },
   "outputs": [
    {
     "name": "stdout",
     "output_type": "stream",
     "text": [
      "Diana Laura 26\n",
      "Alberto 29\n",
      "Alejandro 26\n",
      "rosario 26\n",
      "Sergio Enrique 26\n",
      "Mariana Yesenia 28\n"
     ]
    }
   ],
   "source": [
    "for idx in range(len(df4)):\n",
    "    print(df4.index[idx],df4.iloc[idx][\"Edad\"])"
   ]
  },
  {
   "cell_type": "code",
   "execution_count": 81,
   "metadata": {
    "id": "ISueWNruIiaM"
   },
   "outputs": [
    {
     "name": "stdout",
     "output_type": "stream",
     "text": [
      "Diana Laura 36\n"
     ]
    },
    {
     "ename": "TypeError",
     "evalue": "can only concatenate str (not \"int\") to str",
     "output_type": "error",
     "traceback": [
      "\u001b[1;31m---------------------------------------------------------------------------\u001b[0m",
      "\u001b[1;31mTypeError\u001b[0m                                 Traceback (most recent call last)",
      "\u001b[1;32m~\\AppData\\Local\\Temp/ipykernel_14208/2185824983.py\u001b[0m in \u001b[0;36m<module>\u001b[1;34m\u001b[0m\n\u001b[0;32m      1\u001b[0m \u001b[1;32mfor\u001b[0m \u001b[0midx\u001b[0m \u001b[1;32min\u001b[0m \u001b[0mrange\u001b[0m\u001b[1;33m(\u001b[0m\u001b[0mlen\u001b[0m\u001b[1;33m(\u001b[0m\u001b[0mdf4\u001b[0m\u001b[1;33m)\u001b[0m\u001b[1;33m)\u001b[0m\u001b[1;33m:\u001b[0m\u001b[1;33m\u001b[0m\u001b[1;33m\u001b[0m\u001b[0m\n\u001b[1;32m----> 2\u001b[1;33m     \u001b[0mdf4\u001b[0m\u001b[1;33m.\u001b[0m\u001b[0miloc\u001b[0m\u001b[1;33m[\u001b[0m\u001b[0midx\u001b[0m\u001b[1;33m]\u001b[0m\u001b[1;33m[\u001b[0m\u001b[1;34m\"Edad\"\u001b[0m\u001b[1;33m]\u001b[0m \u001b[1;33m=\u001b[0m \u001b[0mdf4\u001b[0m\u001b[1;33m.\u001b[0m\u001b[0miloc\u001b[0m\u001b[1;33m[\u001b[0m\u001b[0midx\u001b[0m\u001b[1;33m]\u001b[0m\u001b[1;33m[\u001b[0m\u001b[1;34m\"Edad\"\u001b[0m\u001b[1;33m]\u001b[0m\u001b[1;33m+\u001b[0m\u001b[1;36m10\u001b[0m\u001b[1;33m\u001b[0m\u001b[1;33m\u001b[0m\u001b[0m\n\u001b[0m\u001b[0;32m      3\u001b[0m     \u001b[0mprint\u001b[0m\u001b[1;33m(\u001b[0m\u001b[0mdf4\u001b[0m\u001b[1;33m.\u001b[0m\u001b[0mindex\u001b[0m\u001b[1;33m[\u001b[0m\u001b[0midx\u001b[0m\u001b[1;33m]\u001b[0m\u001b[1;33m,\u001b[0m\u001b[0mdf4\u001b[0m\u001b[1;33m.\u001b[0m\u001b[0miloc\u001b[0m\u001b[1;33m[\u001b[0m\u001b[0midx\u001b[0m\u001b[1;33m]\u001b[0m\u001b[1;33m[\u001b[0m\u001b[1;34m\"Edad\"\u001b[0m\u001b[1;33m]\u001b[0m\u001b[1;33m)\u001b[0m\u001b[1;33m\u001b[0m\u001b[1;33m\u001b[0m\u001b[0m\n",
      "\u001b[1;31mTypeError\u001b[0m: can only concatenate str (not \"int\") to str"
     ]
    }
   ],
   "source": [
    "for idx in range(len(df4)):\n",
    "    df4.iloc[idx][\"Edad\"] = df4.iloc[idx][\"Edad\"]+10\n",
    "    print(df4.index[idx],df4.iloc[idx][\"Edad\"])"
   ]
  },
  {
   "cell_type": "code",
   "execution_count": 82,
   "metadata": {},
   "outputs": [
    {
     "data": {
      "text/html": [
       "<div>\n",
       "<style scoped>\n",
       "    .dataframe tbody tr th:only-of-type {\n",
       "        vertical-align: middle;\n",
       "    }\n",
       "\n",
       "    .dataframe tbody tr th {\n",
       "        vertical-align: top;\n",
       "    }\n",
       "\n",
       "    .dataframe thead th {\n",
       "        text-align: right;\n",
       "    }\n",
       "</style>\n",
       "<table border=\"1\" class=\"dataframe\">\n",
       "  <thead>\n",
       "    <tr style=\"text-align: right;\">\n",
       "      <th></th>\n",
       "      <th>Apellidos</th>\n",
       "      <th>E-mail</th>\n",
       "      <th>Edad</th>\n",
       "      <th>Grado</th>\n",
       "      <th>Licenciatura</th>\n",
       "      <th>Proyecto</th>\n",
       "      <th>Tutor</th>\n",
       "    </tr>\n",
       "    <tr>\n",
       "      <th>Nombres</th>\n",
       "      <th></th>\n",
       "      <th></th>\n",
       "      <th></th>\n",
       "      <th></th>\n",
       "      <th></th>\n",
       "      <th></th>\n",
       "      <th></th>\n",
       "    </tr>\n",
       "  </thead>\n",
       "  <tbody>\n",
       "    <tr>\n",
       "      <th>Diana Laura</th>\n",
       "      <td>López Morales</td>\n",
       "      <td>ita.dianalopez@gmail.com</td>\n",
       "      <td>36</td>\n",
       "      <td>Maestría</td>\n",
       "      <td>Ingeniero en tecnología ambiental</td>\n",
       "      <td>D-92011</td>\n",
       "      <td>Gusavo Sosa Iglesias</td>\n",
       "    </tr>\n",
       "    <tr>\n",
       "      <th>Alberto</th>\n",
       "      <td>Vázquez Contreras</td>\n",
       "      <td>posavazquez@imp.mx</td>\n",
       "      <td>29</td>\n",
       "      <td>1erSemestre</td>\n",
       "      <td>Ing.Petrolera</td>\n",
       "      <td>IA aplicada en la Ingeniería de Yacimientos</td>\n",
       "      <td>Dr.Leonid Shemeretov</td>\n",
       "    </tr>\n",
       "    <tr>\n",
       "      <th>Alejandro</th>\n",
       "      <td>Brena Hernandez</td>\n",
       "      <td>brenaalejandro@hotmail.com</td>\n",
       "      <td>26</td>\n",
       "      <td>Maestria</td>\n",
       "      <td>Geofisica</td>\n",
       "      <td>Clasificacion de sismofacies con ML</td>\n",
       "      <td>Dr. Luis Velasquillo</td>\n",
       "    </tr>\n",
       "    <tr>\n",
       "      <th>rosario</th>\n",
       "      <td>giron</td>\n",
       "      <td>xaiio_@hotmail.com</td>\n",
       "      <td>26</td>\n",
       "      <td>3</td>\n",
       "      <td>geofisica</td>\n",
       "      <td>rn</td>\n",
       "      <td>velasquillo</td>\n",
       "    </tr>\n",
       "    <tr>\n",
       "      <th>Sergio Enrique</th>\n",
       "      <td>de la Cruz</td>\n",
       "      <td>sdelacruzchable@gmail.com</td>\n",
       "      <td>26</td>\n",
       "      <td>Lecenciatura</td>\n",
       "      <td>Ing. Petrolera</td>\n",
       "      <td>Diseño de BN para AF</td>\n",
       "      <td>CLG</td>\n",
       "    </tr>\n",
       "    <tr>\n",
       "      <th>Mariana Yesenia</th>\n",
       "      <td>Piña Fernández</td>\n",
       "      <td>mayepifer@hotmail.com</td>\n",
       "      <td>28</td>\n",
       "      <td>Licenciatura</td>\n",
       "      <td>Ingeniería Química</td>\n",
       "      <td>Síntesis de catalizadores base líquidos iónico...</td>\n",
       "      <td>Natalya V. Likhanova</td>\n",
       "    </tr>\n",
       "  </tbody>\n",
       "</table>\n",
       "</div>"
      ],
      "text/plain": [
       "                         Apellidos                      E-mail Edad  \\\n",
       "Nombres                                                               \n",
       "Diana Laura          López Morales    ita.dianalopez@gmail.com   36   \n",
       "Alberto          Vázquez Contreras          posavazquez@imp.mx   29   \n",
       "Alejandro          Brena Hernandez  brenaalejandro@hotmail.com   26   \n",
       "rosario                      giron          xaiio_@hotmail.com   26   \n",
       "Sergio Enrique          de la Cruz   sdelacruzchable@gmail.com   26   \n",
       "Mariana Yesenia     Piña Fernández       mayepifer@hotmail.com   28   \n",
       "\n",
       "                        Grado                       Licenciatura  \\\n",
       "Nombres                                                            \n",
       "Diana Laura          Maestría  Ingeniero en tecnología ambiental   \n",
       "Alberto           1erSemestre                      Ing.Petrolera   \n",
       "Alejandro            Maestria                          Geofisica   \n",
       "rosario                     3                          geofisica   \n",
       "Sergio Enrique   Lecenciatura                     Ing. Petrolera   \n",
       "Mariana Yesenia  Licenciatura                 Ingeniería Química   \n",
       "\n",
       "                                                          Proyecto  \\\n",
       "Nombres                                                              \n",
       "Diana Laura                                                D-92011   \n",
       "Alberto                IA aplicada en la Ingeniería de Yacimientos   \n",
       "Alejandro                      Clasificacion de sismofacies con ML   \n",
       "rosario                                                         rn   \n",
       "Sergio Enrique                                Diseño de BN para AF   \n",
       "Mariana Yesenia  Síntesis de catalizadores base líquidos iónico...   \n",
       "\n",
       "                                Tutor  \n",
       "Nombres                                \n",
       "Diana Laura      Gusavo Sosa Iglesias  \n",
       "Alberto          Dr.Leonid Shemeretov  \n",
       "Alejandro        Dr. Luis Velasquillo  \n",
       "rosario                   velasquillo  \n",
       "Sergio Enrique                    CLG  \n",
       "Mariana Yesenia  Natalya V. Likhanova  "
      ]
     },
     "execution_count": 82,
     "metadata": {},
     "output_type": "execute_result"
    }
   ],
   "source": [
    "df4"
   ]
  },
  {
   "cell_type": "code",
   "execution_count": 83,
   "metadata": {},
   "outputs": [
    {
     "name": "stdout",
     "output_type": "stream",
     "text": [
      "Diana Laura 36 <class 'int'>\n",
      "Alberto 29 <class 'str'>\n",
      "Alejandro 26 <class 'str'>\n",
      "rosario 26 <class 'int'>\n",
      "Sergio Enrique 26 <class 'int'>\n",
      "Mariana Yesenia 28 <class 'int'>\n"
     ]
    }
   ],
   "source": [
    "for idx in range(len(df4)):\n",
    "    print(df4.index[idx],df4.iloc[idx][\"Edad\"],type(df4.iloc[idx][\"Edad\"]))"
   ]
  },
  {
   "cell_type": "code",
   "execution_count": 84,
   "metadata": {
    "id": "dPwSgJvxIiaM"
   },
   "outputs": [
    {
     "name": "stdout",
     "output_type": "stream",
     "text": [
      "Diana Laura 56\n",
      "Alberto 49\n",
      "Alejandro 46\n",
      "rosario 46\n",
      "Sergio Enrique 46\n",
      "Mariana Yesenia 48\n"
     ]
    }
   ],
   "source": [
    "for idx in range(len(df4)):\n",
    "    df4.iloc[idx][\"Edad\"] = int(df4.iloc[idx][\"Edad\"])+10\n",
    "    print(df4.index[idx],int(df4.iloc[idx][\"Edad\"])+10)\n",
    "    "
   ]
  },
  {
   "cell_type": "code",
   "execution_count": 85,
   "metadata": {
    "id": "wSWRPqpmIiaN"
   },
   "outputs": [
    {
     "name": "stdout",
     "output_type": "stream",
     "text": [
      "0 46 <class 'int'>\n",
      "1 39 <class 'int'>\n",
      "2 36 <class 'int'>\n",
      "3 36 <class 'int'>\n",
      "4 36 <class 'int'>\n",
      "5 38 <class 'int'>\n"
     ]
    }
   ],
   "source": [
    "Edades = df4['Edad']\n",
    "#print(Edades)\n",
    "for i in range(len(Edades)):\n",
    "    Edades[i] = int(Edades[i])\n",
    "    print(i,Edades[i],type(Edades[i]))\n",
    "    "
   ]
  },
  {
   "cell_type": "code",
   "execution_count": 86,
   "metadata": {
    "id": "QppGKHvQIiaO"
   },
   "outputs": [
    {
     "data": {
      "text/html": [
       "<div>\n",
       "<style scoped>\n",
       "    .dataframe tbody tr th:only-of-type {\n",
       "        vertical-align: middle;\n",
       "    }\n",
       "\n",
       "    .dataframe tbody tr th {\n",
       "        vertical-align: top;\n",
       "    }\n",
       "\n",
       "    .dataframe thead th {\n",
       "        text-align: right;\n",
       "    }\n",
       "</style>\n",
       "<table border=\"1\" class=\"dataframe\">\n",
       "  <thead>\n",
       "    <tr style=\"text-align: right;\">\n",
       "      <th></th>\n",
       "      <th>Apellidos</th>\n",
       "      <th>E-mail</th>\n",
       "      <th>Edad</th>\n",
       "      <th>Grado</th>\n",
       "      <th>Licenciatura</th>\n",
       "      <th>Proyecto</th>\n",
       "      <th>Tutor</th>\n",
       "    </tr>\n",
       "    <tr>\n",
       "      <th>Nombres</th>\n",
       "      <th></th>\n",
       "      <th></th>\n",
       "      <th></th>\n",
       "      <th></th>\n",
       "      <th></th>\n",
       "      <th></th>\n",
       "      <th></th>\n",
       "    </tr>\n",
       "  </thead>\n",
       "  <tbody>\n",
       "    <tr>\n",
       "      <th>Diana Laura</th>\n",
       "      <td>López Morales</td>\n",
       "      <td>ita.dianalopez@gmail.com</td>\n",
       "      <td>46</td>\n",
       "      <td>Maestría</td>\n",
       "      <td>Ingeniero en tecnología ambiental</td>\n",
       "      <td>D-92011</td>\n",
       "      <td>Gusavo Sosa Iglesias</td>\n",
       "    </tr>\n",
       "    <tr>\n",
       "      <th>Alberto</th>\n",
       "      <td>Vázquez Contreras</td>\n",
       "      <td>posavazquez@imp.mx</td>\n",
       "      <td>39</td>\n",
       "      <td>1erSemestre</td>\n",
       "      <td>Ing.Petrolera</td>\n",
       "      <td>IA aplicada en la Ingeniería de Yacimientos</td>\n",
       "      <td>Dr.Leonid Shemeretov</td>\n",
       "    </tr>\n",
       "    <tr>\n",
       "      <th>Alejandro</th>\n",
       "      <td>Brena Hernandez</td>\n",
       "      <td>brenaalejandro@hotmail.com</td>\n",
       "      <td>36</td>\n",
       "      <td>Maestria</td>\n",
       "      <td>Geofisica</td>\n",
       "      <td>Clasificacion de sismofacies con ML</td>\n",
       "      <td>Dr. Luis Velasquillo</td>\n",
       "    </tr>\n",
       "    <tr>\n",
       "      <th>rosario</th>\n",
       "      <td>giron</td>\n",
       "      <td>xaiio_@hotmail.com</td>\n",
       "      <td>36</td>\n",
       "      <td>3</td>\n",
       "      <td>geofisica</td>\n",
       "      <td>rn</td>\n",
       "      <td>velasquillo</td>\n",
       "    </tr>\n",
       "    <tr>\n",
       "      <th>Sergio Enrique</th>\n",
       "      <td>de la Cruz</td>\n",
       "      <td>sdelacruzchable@gmail.com</td>\n",
       "      <td>36</td>\n",
       "      <td>Lecenciatura</td>\n",
       "      <td>Ing. Petrolera</td>\n",
       "      <td>Diseño de BN para AF</td>\n",
       "      <td>CLG</td>\n",
       "    </tr>\n",
       "    <tr>\n",
       "      <th>Mariana Yesenia</th>\n",
       "      <td>Piña Fernández</td>\n",
       "      <td>mayepifer@hotmail.com</td>\n",
       "      <td>38</td>\n",
       "      <td>Licenciatura</td>\n",
       "      <td>Ingeniería Química</td>\n",
       "      <td>Síntesis de catalizadores base líquidos iónico...</td>\n",
       "      <td>Natalya V. Likhanova</td>\n",
       "    </tr>\n",
       "  </tbody>\n",
       "</table>\n",
       "</div>"
      ],
      "text/plain": [
       "                         Apellidos                      E-mail Edad  \\\n",
       "Nombres                                                               \n",
       "Diana Laura          López Morales    ita.dianalopez@gmail.com   46   \n",
       "Alberto          Vázquez Contreras          posavazquez@imp.mx   39   \n",
       "Alejandro          Brena Hernandez  brenaalejandro@hotmail.com   36   \n",
       "rosario                      giron          xaiio_@hotmail.com   36   \n",
       "Sergio Enrique          de la Cruz   sdelacruzchable@gmail.com   36   \n",
       "Mariana Yesenia     Piña Fernández       mayepifer@hotmail.com   38   \n",
       "\n",
       "                        Grado                       Licenciatura  \\\n",
       "Nombres                                                            \n",
       "Diana Laura          Maestría  Ingeniero en tecnología ambiental   \n",
       "Alberto           1erSemestre                      Ing.Petrolera   \n",
       "Alejandro            Maestria                          Geofisica   \n",
       "rosario                     3                          geofisica   \n",
       "Sergio Enrique   Lecenciatura                     Ing. Petrolera   \n",
       "Mariana Yesenia  Licenciatura                 Ingeniería Química   \n",
       "\n",
       "                                                          Proyecto  \\\n",
       "Nombres                                                              \n",
       "Diana Laura                                                D-92011   \n",
       "Alberto                IA aplicada en la Ingeniería de Yacimientos   \n",
       "Alejandro                      Clasificacion de sismofacies con ML   \n",
       "rosario                                                         rn   \n",
       "Sergio Enrique                                Diseño de BN para AF   \n",
       "Mariana Yesenia  Síntesis de catalizadores base líquidos iónico...   \n",
       "\n",
       "                                Tutor  \n",
       "Nombres                                \n",
       "Diana Laura      Gusavo Sosa Iglesias  \n",
       "Alberto          Dr.Leonid Shemeretov  \n",
       "Alejandro        Dr. Luis Velasquillo  \n",
       "rosario                   velasquillo  \n",
       "Sergio Enrique                    CLG  \n",
       "Mariana Yesenia  Natalya V. Likhanova  "
      ]
     },
     "execution_count": 86,
     "metadata": {},
     "output_type": "execute_result"
    }
   ],
   "source": [
    "df4['Edad'] = Edades\n",
    "df4"
   ]
  },
  {
   "cell_type": "code",
   "execution_count": 87,
   "metadata": {
    "id": "zOO8xLGOIiaO"
   },
   "outputs": [
    {
     "data": {
      "text/html": [
       "<div>\n",
       "<style scoped>\n",
       "    .dataframe tbody tr th:only-of-type {\n",
       "        vertical-align: middle;\n",
       "    }\n",
       "\n",
       "    .dataframe tbody tr th {\n",
       "        vertical-align: top;\n",
       "    }\n",
       "\n",
       "    .dataframe thead th {\n",
       "        text-align: right;\n",
       "    }\n",
       "</style>\n",
       "<table border=\"1\" class=\"dataframe\">\n",
       "  <thead>\n",
       "    <tr style=\"text-align: right;\">\n",
       "      <th></th>\n",
       "      <th>Apellidos</th>\n",
       "      <th>E-mail</th>\n",
       "      <th>Edad</th>\n",
       "      <th>Grado</th>\n",
       "      <th>Licenciatura</th>\n",
       "      <th>Proyecto</th>\n",
       "      <th>Tutor</th>\n",
       "    </tr>\n",
       "    <tr>\n",
       "      <th>Nombres</th>\n",
       "      <th></th>\n",
       "      <th></th>\n",
       "      <th></th>\n",
       "      <th></th>\n",
       "      <th></th>\n",
       "      <th></th>\n",
       "      <th></th>\n",
       "    </tr>\n",
       "  </thead>\n",
       "  <tbody>\n",
       "    <tr>\n",
       "      <th>Diana Laura</th>\n",
       "      <td>López Morales</td>\n",
       "      <td>ita.dianalopez@gmail.com</td>\n",
       "      <td>56</td>\n",
       "      <td>Maestría</td>\n",
       "      <td>Ingeniero en tecnología ambiental</td>\n",
       "      <td>D-92011</td>\n",
       "      <td>Gusavo Sosa Iglesias</td>\n",
       "    </tr>\n",
       "    <tr>\n",
       "      <th>Alberto</th>\n",
       "      <td>Vázquez Contreras</td>\n",
       "      <td>posavazquez@imp.mx</td>\n",
       "      <td>49</td>\n",
       "      <td>1erSemestre</td>\n",
       "      <td>Ing.Petrolera</td>\n",
       "      <td>IA aplicada en la Ingeniería de Yacimientos</td>\n",
       "      <td>Dr.Leonid Shemeretov</td>\n",
       "    </tr>\n",
       "    <tr>\n",
       "      <th>Alejandro</th>\n",
       "      <td>Brena Hernandez</td>\n",
       "      <td>brenaalejandro@hotmail.com</td>\n",
       "      <td>46</td>\n",
       "      <td>Maestria</td>\n",
       "      <td>Geofisica</td>\n",
       "      <td>Clasificacion de sismofacies con ML</td>\n",
       "      <td>Dr. Luis Velasquillo</td>\n",
       "    </tr>\n",
       "    <tr>\n",
       "      <th>rosario</th>\n",
       "      <td>giron</td>\n",
       "      <td>xaiio_@hotmail.com</td>\n",
       "      <td>46</td>\n",
       "      <td>3</td>\n",
       "      <td>geofisica</td>\n",
       "      <td>rn</td>\n",
       "      <td>velasquillo</td>\n",
       "    </tr>\n",
       "    <tr>\n",
       "      <th>Sergio Enrique</th>\n",
       "      <td>de la Cruz</td>\n",
       "      <td>sdelacruzchable@gmail.com</td>\n",
       "      <td>46</td>\n",
       "      <td>Lecenciatura</td>\n",
       "      <td>Ing. Petrolera</td>\n",
       "      <td>Diseño de BN para AF</td>\n",
       "      <td>CLG</td>\n",
       "    </tr>\n",
       "    <tr>\n",
       "      <th>Mariana Yesenia</th>\n",
       "      <td>Piña Fernández</td>\n",
       "      <td>mayepifer@hotmail.com</td>\n",
       "      <td>48</td>\n",
       "      <td>Licenciatura</td>\n",
       "      <td>Ingeniería Química</td>\n",
       "      <td>Síntesis de catalizadores base líquidos iónico...</td>\n",
       "      <td>Natalya V. Likhanova</td>\n",
       "    </tr>\n",
       "  </tbody>\n",
       "</table>\n",
       "</div>"
      ],
      "text/plain": [
       "                         Apellidos                      E-mail Edad  \\\n",
       "Nombres                                                               \n",
       "Diana Laura          López Morales    ita.dianalopez@gmail.com   56   \n",
       "Alberto          Vázquez Contreras          posavazquez@imp.mx   49   \n",
       "Alejandro          Brena Hernandez  brenaalejandro@hotmail.com   46   \n",
       "rosario                      giron          xaiio_@hotmail.com   46   \n",
       "Sergio Enrique          de la Cruz   sdelacruzchable@gmail.com   46   \n",
       "Mariana Yesenia     Piña Fernández       mayepifer@hotmail.com   48   \n",
       "\n",
       "                        Grado                       Licenciatura  \\\n",
       "Nombres                                                            \n",
       "Diana Laura          Maestría  Ingeniero en tecnología ambiental   \n",
       "Alberto           1erSemestre                      Ing.Petrolera   \n",
       "Alejandro            Maestria                          Geofisica   \n",
       "rosario                     3                          geofisica   \n",
       "Sergio Enrique   Lecenciatura                     Ing. Petrolera   \n",
       "Mariana Yesenia  Licenciatura                 Ingeniería Química   \n",
       "\n",
       "                                                          Proyecto  \\\n",
       "Nombres                                                              \n",
       "Diana Laura                                                D-92011   \n",
       "Alberto                IA aplicada en la Ingeniería de Yacimientos   \n",
       "Alejandro                      Clasificacion de sismofacies con ML   \n",
       "rosario                                                         rn   \n",
       "Sergio Enrique                                Diseño de BN para AF   \n",
       "Mariana Yesenia  Síntesis de catalizadores base líquidos iónico...   \n",
       "\n",
       "                                Tutor  \n",
       "Nombres                                \n",
       "Diana Laura      Gusavo Sosa Iglesias  \n",
       "Alberto          Dr.Leonid Shemeretov  \n",
       "Alejandro        Dr. Luis Velasquillo  \n",
       "rosario                   velasquillo  \n",
       "Sergio Enrique                    CLG  \n",
       "Mariana Yesenia  Natalya V. Likhanova  "
      ]
     },
     "execution_count": 87,
     "metadata": {},
     "output_type": "execute_result"
    }
   ],
   "source": [
    "df4['Edad'] = df4['Edad'] + 10\n",
    "df4"
   ]
  },
  {
   "cell_type": "markdown",
   "metadata": {
    "id": "dyGfvfhq-fNe"
   },
   "source": [
    "## Guardar DataFrames\n",
    "\n",
    "Para guardar los dataframes se puede usar las siguientes instrucciones:\n",
    "\n",
    "```\n",
    "df.to_csv('df.csv')\n",
    "df.to_excel(\"df.xlsx\")\n",
    "df.to_csv(r'Datos.txt', header=None, index=None, sep='\\t', mode='a')\n",
    "```\n"
   ]
  },
  {
   "cell_type": "code",
   "execution_count": 88,
   "metadata": {
    "id": "M439FnC6KeTV"
   },
   "outputs": [],
   "source": [
    "df_names.to_csv('df_names.csv')"
   ]
  },
  {
   "cell_type": "code",
   "execution_count": 89,
   "metadata": {},
   "outputs": [],
   "source": [
    "df.to_csv('df.csv')"
   ]
  },
  {
   "cell_type": "code",
   "execution_count": 90,
   "metadata": {},
   "outputs": [],
   "source": [
    "df_names.to_excel('df_names.xlsx')"
   ]
  },
  {
   "cell_type": "code",
   "execution_count": 91,
   "metadata": {},
   "outputs": [],
   "source": [
    "df_names.to_excel('df_names.xlsx',sheet_name='Datos')"
   ]
  },
  {
   "cell_type": "code",
   "execution_count": 92,
   "metadata": {},
   "outputs": [],
   "source": [
    "df.to_csv(r'Datos_1.txt', sep='\\t', mode='a')"
   ]
  },
  {
   "cell_type": "code",
   "execution_count": 93,
   "metadata": {},
   "outputs": [],
   "source": [
    "df.to_csv(r'Datos.txt', header=None, index=None, sep='\\t', mode='a')"
   ]
  },
  {
   "cell_type": "markdown",
   "metadata": {},
   "source": [
    "## Leer DataFrames\n",
    "\n",
    "Para leer los dataframes se puede usar la siguiente instrucción:\n",
    "\n",
    "```\n",
    "df = pd.read_csv('df.csv')\n",
    "```"
   ]
  },
  {
   "cell_type": "code",
   "execution_count": 94,
   "metadata": {},
   "outputs": [
    {
     "data": {
      "text/html": [
       "<div>\n",
       "<style scoped>\n",
       "    .dataframe tbody tr th:only-of-type {\n",
       "        vertical-align: middle;\n",
       "    }\n",
       "\n",
       "    .dataframe tbody tr th {\n",
       "        vertical-align: top;\n",
       "    }\n",
       "\n",
       "    .dataframe thead th {\n",
       "        text-align: right;\n",
       "    }\n",
       "</style>\n",
       "<table border=\"1\" class=\"dataframe\">\n",
       "  <thead>\n",
       "    <tr style=\"text-align: right;\">\n",
       "      <th></th>\n",
       "      <th>Nombres</th>\n",
       "      <th>Apellidos</th>\n",
       "      <th>E-mail</th>\n",
       "      <th>Edad</th>\n",
       "      <th>Grado</th>\n",
       "      <th>Licenciatura</th>\n",
       "      <th>Proyecto</th>\n",
       "      <th>Tutor</th>\n",
       "    </tr>\n",
       "  </thead>\n",
       "  <tbody>\n",
       "    <tr>\n",
       "      <th>0</th>\n",
       "      <td>Diana Laura</td>\n",
       "      <td>López Morales</td>\n",
       "      <td>ita.dianalopez@gmail.com</td>\n",
       "      <td>26</td>\n",
       "      <td>Maestría</td>\n",
       "      <td>Ingeniero en tecnología ambiental</td>\n",
       "      <td>D-92011</td>\n",
       "      <td>Gusavo Sosa Iglesias</td>\n",
       "    </tr>\n",
       "    <tr>\n",
       "      <th>1</th>\n",
       "      <td>Carlos</td>\n",
       "      <td>Paredes Marcial</td>\n",
       "      <td>cpm199660@gmail.com</td>\n",
       "      <td>26 años</td>\n",
       "      <td>Licenciatura</td>\n",
       "      <td>NaN</td>\n",
       "      <td>Recuperacion de aceite por inyeccion de flujo ...</td>\n",
       "      <td>Rodrigo Salazar</td>\n",
       "    </tr>\n",
       "    <tr>\n",
       "      <th>2</th>\n",
       "      <td>Alberto</td>\n",
       "      <td>Vázquez Contreras</td>\n",
       "      <td>posavazquez@imp.mx</td>\n",
       "      <td>29</td>\n",
       "      <td>1erSemestre</td>\n",
       "      <td>Ing.Petrolera</td>\n",
       "      <td>IA aplicada en la Ingeniería de Yacimientos</td>\n",
       "      <td>Dr.Leonid Shemeretov</td>\n",
       "    </tr>\n",
       "    <tr>\n",
       "      <th>3</th>\n",
       "      <td>Alejandro</td>\n",
       "      <td>Brena Hernandez</td>\n",
       "      <td>brenaalejandro@hotmail.com</td>\n",
       "      <td>26</td>\n",
       "      <td>Maestria</td>\n",
       "      <td>Geofisica</td>\n",
       "      <td>Clasificacion de sismofacies con ML</td>\n",
       "      <td>Dr. Luis Velasquillo</td>\n",
       "    </tr>\n",
       "    <tr>\n",
       "      <th>4</th>\n",
       "      <td>Eliseo Andrei</td>\n",
       "      <td>Martinez Angel</td>\n",
       "      <td>eliseoandrei@live.com.mx</td>\n",
       "      <td>18 años</td>\n",
       "      <td>Licenciatura</td>\n",
       "      <td>Ingenieria Quimica Petrolera</td>\n",
       "      <td>Sintesis. Evaluacion y Caracterizacion de liqu...</td>\n",
       "      <td>Dr. Rafael Mtz Palou</td>\n",
       "    </tr>\n",
       "    <tr>\n",
       "      <th>5</th>\n",
       "      <td>rosario</td>\n",
       "      <td>giron</td>\n",
       "      <td>xaiio_@hotmail.com</td>\n",
       "      <td>26</td>\n",
       "      <td>3</td>\n",
       "      <td>geofisica</td>\n",
       "      <td>rn</td>\n",
       "      <td>velasquillo</td>\n",
       "    </tr>\n",
       "    <tr>\n",
       "      <th>6</th>\n",
       "      <td>Sergio Enrique</td>\n",
       "      <td>de la Cruz</td>\n",
       "      <td>sdelacruzchable@gmail.com</td>\n",
       "      <td>26</td>\n",
       "      <td>Lecenciatura</td>\n",
       "      <td>Ing. Petrolera</td>\n",
       "      <td>Diseño de BN para AF</td>\n",
       "      <td>CLG</td>\n",
       "    </tr>\n",
       "    <tr>\n",
       "      <th>7</th>\n",
       "      <td>Mariana Yesenia</td>\n",
       "      <td>Piña Fernández</td>\n",
       "      <td>mayepifer@hotmail.com</td>\n",
       "      <td>28</td>\n",
       "      <td>Licenciatura</td>\n",
       "      <td>Ingeniería Química</td>\n",
       "      <td>Síntesis de catalizadores base líquidos iónico...</td>\n",
       "      <td>Natalya V. Likhanova</td>\n",
       "    </tr>\n",
       "  </tbody>\n",
       "</table>\n",
       "</div>"
      ],
      "text/plain": [
       "           Nombres          Apellidos                      E-mail     Edad  \\\n",
       "0      Diana Laura      López Morales    ita.dianalopez@gmail.com       26   \n",
       "1           Carlos    Paredes Marcial         cpm199660@gmail.com  26 años   \n",
       "2          Alberto  Vázquez Contreras          posavazquez@imp.mx       29   \n",
       "3        Alejandro    Brena Hernandez  brenaalejandro@hotmail.com       26   \n",
       "4    Eliseo Andrei     Martinez Angel    eliseoandrei@live.com.mx  18 años   \n",
       "5          rosario              giron          xaiio_@hotmail.com       26   \n",
       "6   Sergio Enrique         de la Cruz   sdelacruzchable@gmail.com       26   \n",
       "7  Mariana Yesenia     Piña Fernández       mayepifer@hotmail.com       28   \n",
       "\n",
       "          Grado                       Licenciatura  \\\n",
       "0      Maestría  Ingeniero en tecnología ambiental   \n",
       "1  Licenciatura                                NaN   \n",
       "2   1erSemestre                      Ing.Petrolera   \n",
       "3      Maestria                          Geofisica   \n",
       "4  Licenciatura       Ingenieria Quimica Petrolera   \n",
       "5             3                          geofisica   \n",
       "6  Lecenciatura                     Ing. Petrolera   \n",
       "7  Licenciatura                 Ingeniería Química   \n",
       "\n",
       "                                            Proyecto                 Tutor  \n",
       "0                                            D-92011  Gusavo Sosa Iglesias  \n",
       "1  Recuperacion de aceite por inyeccion de flujo ...       Rodrigo Salazar  \n",
       "2        IA aplicada en la Ingeniería de Yacimientos  Dr.Leonid Shemeretov  \n",
       "3                Clasificacion de sismofacies con ML  Dr. Luis Velasquillo  \n",
       "4  Sintesis. Evaluacion y Caracterizacion de liqu...  Dr. Rafael Mtz Palou  \n",
       "5                                                 rn           velasquillo  \n",
       "6                               Diseño de BN para AF                   CLG  \n",
       "7  Síntesis de catalizadores base líquidos iónico...  Natalya V. Likhanova  "
      ]
     },
     "execution_count": 94,
     "metadata": {},
     "output_type": "execute_result"
    }
   ],
   "source": [
    "df_read = pd.read_csv('df_names.csv')\n",
    "df_read"
   ]
  },
  {
   "cell_type": "code",
   "execution_count": 95,
   "metadata": {},
   "outputs": [
    {
     "data": {
      "text/html": [
       "<div>\n",
       "<style scoped>\n",
       "    .dataframe tbody tr th:only-of-type {\n",
       "        vertical-align: middle;\n",
       "    }\n",
       "\n",
       "    .dataframe tbody tr th {\n",
       "        vertical-align: top;\n",
       "    }\n",
       "\n",
       "    .dataframe thead th {\n",
       "        text-align: right;\n",
       "    }\n",
       "</style>\n",
       "<table border=\"1\" class=\"dataframe\">\n",
       "  <thead>\n",
       "    <tr style=\"text-align: right;\">\n",
       "      <th></th>\n",
       "      <th>Unnamed: 0</th>\n",
       "      <th>Nombres</th>\n",
       "      <th>Apellidos</th>\n",
       "      <th>E-mail</th>\n",
       "      <th>Edad</th>\n",
       "      <th>Grado</th>\n",
       "      <th>Licenciatura</th>\n",
       "      <th>Proyecto</th>\n",
       "      <th>Tutor</th>\n",
       "    </tr>\n",
       "  </thead>\n",
       "  <tbody>\n",
       "    <tr>\n",
       "      <th>0</th>\n",
       "      <td>0</td>\n",
       "      <td>Diana Laura</td>\n",
       "      <td>López Morales</td>\n",
       "      <td>ita.dianalopez@gmail.com</td>\n",
       "      <td>26</td>\n",
       "      <td>Maestría</td>\n",
       "      <td>Ingeniero en tecnología ambiental</td>\n",
       "      <td>D-92011</td>\n",
       "      <td>Gusavo Sosa Iglesias</td>\n",
       "    </tr>\n",
       "    <tr>\n",
       "      <th>1</th>\n",
       "      <td>1</td>\n",
       "      <td>Carlos</td>\n",
       "      <td>Paredes Marcial</td>\n",
       "      <td>cpm199660@gmail.com</td>\n",
       "      <td>26 años</td>\n",
       "      <td>Licenciatura</td>\n",
       "      <td>NaN</td>\n",
       "      <td>Recuperacion de aceite por inyeccion de flujo ...</td>\n",
       "      <td>Rodrigo Salazar</td>\n",
       "    </tr>\n",
       "    <tr>\n",
       "      <th>2</th>\n",
       "      <td>2</td>\n",
       "      <td>Alberto</td>\n",
       "      <td>Vázquez Contreras</td>\n",
       "      <td>posavazquez@imp.mx</td>\n",
       "      <td>29</td>\n",
       "      <td>1erSemestre</td>\n",
       "      <td>Ing.Petrolera</td>\n",
       "      <td>IA aplicada en la Ingeniería de Yacimientos</td>\n",
       "      <td>Dr.Leonid Shemeretov</td>\n",
       "    </tr>\n",
       "    <tr>\n",
       "      <th>3</th>\n",
       "      <td>3</td>\n",
       "      <td>Alejandro</td>\n",
       "      <td>Brena Hernandez</td>\n",
       "      <td>brenaalejandro@hotmail.com</td>\n",
       "      <td>26</td>\n",
       "      <td>Maestria</td>\n",
       "      <td>Geofisica</td>\n",
       "      <td>Clasificacion de sismofacies con ML</td>\n",
       "      <td>Dr. Luis Velasquillo</td>\n",
       "    </tr>\n",
       "    <tr>\n",
       "      <th>4</th>\n",
       "      <td>4</td>\n",
       "      <td>Eliseo Andrei</td>\n",
       "      <td>Martinez Angel</td>\n",
       "      <td>eliseoandrei@live.com.mx</td>\n",
       "      <td>18 años</td>\n",
       "      <td>Licenciatura</td>\n",
       "      <td>Ingenieria Quimica Petrolera</td>\n",
       "      <td>Sintesis. Evaluacion y Caracterizacion de liqu...</td>\n",
       "      <td>Dr. Rafael Mtz Palou</td>\n",
       "    </tr>\n",
       "    <tr>\n",
       "      <th>5</th>\n",
       "      <td>5</td>\n",
       "      <td>rosario</td>\n",
       "      <td>giron</td>\n",
       "      <td>xaiio_@hotmail.com</td>\n",
       "      <td>26</td>\n",
       "      <td>3</td>\n",
       "      <td>geofisica</td>\n",
       "      <td>rn</td>\n",
       "      <td>velasquillo</td>\n",
       "    </tr>\n",
       "    <tr>\n",
       "      <th>6</th>\n",
       "      <td>6</td>\n",
       "      <td>Sergio Enrique</td>\n",
       "      <td>de la Cruz</td>\n",
       "      <td>sdelacruzchable@gmail.com</td>\n",
       "      <td>26</td>\n",
       "      <td>Lecenciatura</td>\n",
       "      <td>Ing. Petrolera</td>\n",
       "      <td>Diseño de BN para AF</td>\n",
       "      <td>CLG</td>\n",
       "    </tr>\n",
       "    <tr>\n",
       "      <th>7</th>\n",
       "      <td>7</td>\n",
       "      <td>Mariana Yesenia</td>\n",
       "      <td>Piña Fernández</td>\n",
       "      <td>mayepifer@hotmail.com</td>\n",
       "      <td>28</td>\n",
       "      <td>Licenciatura</td>\n",
       "      <td>Ingeniería Química</td>\n",
       "      <td>Síntesis de catalizadores base líquidos iónico...</td>\n",
       "      <td>Natalya V. Likhanova</td>\n",
       "    </tr>\n",
       "  </tbody>\n",
       "</table>\n",
       "</div>"
      ],
      "text/plain": [
       "   Unnamed: 0          Nombres          Apellidos                      E-mail  \\\n",
       "0           0      Diana Laura      López Morales    ita.dianalopez@gmail.com   \n",
       "1           1           Carlos    Paredes Marcial         cpm199660@gmail.com   \n",
       "2           2          Alberto  Vázquez Contreras          posavazquez@imp.mx   \n",
       "3           3        Alejandro    Brena Hernandez  brenaalejandro@hotmail.com   \n",
       "4           4    Eliseo Andrei     Martinez Angel    eliseoandrei@live.com.mx   \n",
       "5           5          rosario              giron          xaiio_@hotmail.com   \n",
       "6           6   Sergio Enrique         de la Cruz   sdelacruzchable@gmail.com   \n",
       "7           7  Mariana Yesenia     Piña Fernández       mayepifer@hotmail.com   \n",
       "\n",
       "      Edad         Grado                       Licenciatura  \\\n",
       "0       26      Maestría  Ingeniero en tecnología ambiental   \n",
       "1  26 años  Licenciatura                                NaN   \n",
       "2       29   1erSemestre                      Ing.Petrolera   \n",
       "3       26      Maestria                          Geofisica   \n",
       "4  18 años  Licenciatura       Ingenieria Quimica Petrolera   \n",
       "5       26             3                          geofisica   \n",
       "6       26  Lecenciatura                     Ing. Petrolera   \n",
       "7       28  Licenciatura                 Ingeniería Química   \n",
       "\n",
       "                                            Proyecto                 Tutor  \n",
       "0                                            D-92011  Gusavo Sosa Iglesias  \n",
       "1  Recuperacion de aceite por inyeccion de flujo ...       Rodrigo Salazar  \n",
       "2        IA aplicada en la Ingeniería de Yacimientos  Dr.Leonid Shemeretov  \n",
       "3                Clasificacion de sismofacies con ML  Dr. Luis Velasquillo  \n",
       "4  Sintesis. Evaluacion y Caracterizacion de liqu...  Dr. Rafael Mtz Palou  \n",
       "5                                                 rn           velasquillo  \n",
       "6                               Diseño de BN para AF                   CLG  \n",
       "7  Síntesis de catalizadores base líquidos iónico...  Natalya V. Likhanova  "
      ]
     },
     "execution_count": 95,
     "metadata": {},
     "output_type": "execute_result"
    }
   ],
   "source": [
    "df_read = pd.read_csv('df.csv')\n",
    "df_read"
   ]
  },
  {
   "cell_type": "code",
   "execution_count": 96,
   "metadata": {},
   "outputs": [
    {
     "data": {
      "text/html": [
       "<div>\n",
       "<style scoped>\n",
       "    .dataframe tbody tr th:only-of-type {\n",
       "        vertical-align: middle;\n",
       "    }\n",
       "\n",
       "    .dataframe tbody tr th {\n",
       "        vertical-align: top;\n",
       "    }\n",
       "\n",
       "    .dataframe thead th {\n",
       "        text-align: right;\n",
       "    }\n",
       "</style>\n",
       "<table border=\"1\" class=\"dataframe\">\n",
       "  <thead>\n",
       "    <tr style=\"text-align: right;\">\n",
       "      <th></th>\n",
       "      <th>Apellidos</th>\n",
       "      <th>E-mail</th>\n",
       "      <th>Edad</th>\n",
       "      <th>Grado</th>\n",
       "      <th>Licenciatura</th>\n",
       "      <th>Proyecto</th>\n",
       "      <th>Tutor</th>\n",
       "    </tr>\n",
       "    <tr>\n",
       "      <th>Nombres</th>\n",
       "      <th></th>\n",
       "      <th></th>\n",
       "      <th></th>\n",
       "      <th></th>\n",
       "      <th></th>\n",
       "      <th></th>\n",
       "      <th></th>\n",
       "    </tr>\n",
       "  </thead>\n",
       "  <tbody>\n",
       "    <tr>\n",
       "      <th>Diana Laura</th>\n",
       "      <td>López Morales</td>\n",
       "      <td>ita.dianalopez@gmail.com</td>\n",
       "      <td>26</td>\n",
       "      <td>Maestría</td>\n",
       "      <td>Ingeniero en tecnología ambiental</td>\n",
       "      <td>D-92011</td>\n",
       "      <td>Gusavo Sosa Iglesias</td>\n",
       "    </tr>\n",
       "    <tr>\n",
       "      <th>Carlos</th>\n",
       "      <td>Paredes Marcial</td>\n",
       "      <td>cpm199660@gmail.com</td>\n",
       "      <td>26 años</td>\n",
       "      <td>Licenciatura</td>\n",
       "      <td>NaN</td>\n",
       "      <td>Recuperacion de aceite por inyeccion de flujo ...</td>\n",
       "      <td>Rodrigo Salazar</td>\n",
       "    </tr>\n",
       "    <tr>\n",
       "      <th>Alberto</th>\n",
       "      <td>Vázquez Contreras</td>\n",
       "      <td>posavazquez@imp.mx</td>\n",
       "      <td>29</td>\n",
       "      <td>1erSemestre</td>\n",
       "      <td>Ing.Petrolera</td>\n",
       "      <td>IA aplicada en la Ingeniería de Yacimientos</td>\n",
       "      <td>Dr.Leonid Shemeretov</td>\n",
       "    </tr>\n",
       "    <tr>\n",
       "      <th>Alejandro</th>\n",
       "      <td>Brena Hernandez</td>\n",
       "      <td>brenaalejandro@hotmail.com</td>\n",
       "      <td>26</td>\n",
       "      <td>Maestria</td>\n",
       "      <td>Geofisica</td>\n",
       "      <td>Clasificacion de sismofacies con ML</td>\n",
       "      <td>Dr. Luis Velasquillo</td>\n",
       "    </tr>\n",
       "    <tr>\n",
       "      <th>Eliseo Andrei</th>\n",
       "      <td>Martinez Angel</td>\n",
       "      <td>eliseoandrei@live.com.mx</td>\n",
       "      <td>18 años</td>\n",
       "      <td>Licenciatura</td>\n",
       "      <td>Ingenieria Quimica Petrolera</td>\n",
       "      <td>Sintesis. Evaluacion y Caracterizacion de liqu...</td>\n",
       "      <td>Dr. Rafael Mtz Palou</td>\n",
       "    </tr>\n",
       "    <tr>\n",
       "      <th>rosario</th>\n",
       "      <td>giron</td>\n",
       "      <td>xaiio_@hotmail.com</td>\n",
       "      <td>26</td>\n",
       "      <td>3</td>\n",
       "      <td>geofisica</td>\n",
       "      <td>rn</td>\n",
       "      <td>velasquillo</td>\n",
       "    </tr>\n",
       "    <tr>\n",
       "      <th>Sergio Enrique</th>\n",
       "      <td>de la Cruz</td>\n",
       "      <td>sdelacruzchable@gmail.com</td>\n",
       "      <td>26</td>\n",
       "      <td>Lecenciatura</td>\n",
       "      <td>Ing. Petrolera</td>\n",
       "      <td>Diseño de BN para AF</td>\n",
       "      <td>CLG</td>\n",
       "    </tr>\n",
       "    <tr>\n",
       "      <th>Mariana Yesenia</th>\n",
       "      <td>Piña Fernández</td>\n",
       "      <td>mayepifer@hotmail.com</td>\n",
       "      <td>28</td>\n",
       "      <td>Licenciatura</td>\n",
       "      <td>Ingeniería Química</td>\n",
       "      <td>Síntesis de catalizadores base líquidos iónico...</td>\n",
       "      <td>Natalya V. Likhanova</td>\n",
       "    </tr>\n",
       "  </tbody>\n",
       "</table>\n",
       "</div>"
      ],
      "text/plain": [
       "                         Apellidos                      E-mail     Edad  \\\n",
       "Nombres                                                                   \n",
       "Diana Laura          López Morales    ita.dianalopez@gmail.com       26   \n",
       "Carlos             Paredes Marcial         cpm199660@gmail.com  26 años   \n",
       "Alberto          Vázquez Contreras          posavazquez@imp.mx       29   \n",
       "Alejandro          Brena Hernandez  brenaalejandro@hotmail.com       26   \n",
       "Eliseo Andrei       Martinez Angel    eliseoandrei@live.com.mx  18 años   \n",
       "rosario                      giron          xaiio_@hotmail.com       26   \n",
       "Sergio Enrique          de la Cruz   sdelacruzchable@gmail.com       26   \n",
       "Mariana Yesenia     Piña Fernández       mayepifer@hotmail.com       28   \n",
       "\n",
       "                        Grado                       Licenciatura  \\\n",
       "Nombres                                                            \n",
       "Diana Laura          Maestría  Ingeniero en tecnología ambiental   \n",
       "Carlos           Licenciatura                                NaN   \n",
       "Alberto           1erSemestre                      Ing.Petrolera   \n",
       "Alejandro            Maestria                          Geofisica   \n",
       "Eliseo Andrei    Licenciatura       Ingenieria Quimica Petrolera   \n",
       "rosario                     3                          geofisica   \n",
       "Sergio Enrique   Lecenciatura                     Ing. Petrolera   \n",
       "Mariana Yesenia  Licenciatura                 Ingeniería Química   \n",
       "\n",
       "                                                          Proyecto  \\\n",
       "Nombres                                                              \n",
       "Diana Laura                                                D-92011   \n",
       "Carlos           Recuperacion de aceite por inyeccion de flujo ...   \n",
       "Alberto                IA aplicada en la Ingeniería de Yacimientos   \n",
       "Alejandro                      Clasificacion de sismofacies con ML   \n",
       "Eliseo Andrei    Sintesis. Evaluacion y Caracterizacion de liqu...   \n",
       "rosario                                                         rn   \n",
       "Sergio Enrique                                Diseño de BN para AF   \n",
       "Mariana Yesenia  Síntesis de catalizadores base líquidos iónico...   \n",
       "\n",
       "                                Tutor  \n",
       "Nombres                                \n",
       "Diana Laura      Gusavo Sosa Iglesias  \n",
       "Carlos                Rodrigo Salazar  \n",
       "Alberto          Dr.Leonid Shemeretov  \n",
       "Alejandro        Dr. Luis Velasquillo  \n",
       "Eliseo Andrei    Dr. Rafael Mtz Palou  \n",
       "rosario                   velasquillo  \n",
       "Sergio Enrique                    CLG  \n",
       "Mariana Yesenia  Natalya V. Likhanova  "
      ]
     },
     "execution_count": 96,
     "metadata": {},
     "output_type": "execute_result"
    }
   ],
   "source": [
    "df_read = pd.read_csv('df_names.csv', index_col=0)\n",
    "df_read"
   ]
  },
  {
   "cell_type": "code",
   "execution_count": 97,
   "metadata": {},
   "outputs": [
    {
     "data": {
      "text/html": [
       "<div>\n",
       "<style scoped>\n",
       "    .dataframe tbody tr th:only-of-type {\n",
       "        vertical-align: middle;\n",
       "    }\n",
       "\n",
       "    .dataframe tbody tr th {\n",
       "        vertical-align: top;\n",
       "    }\n",
       "\n",
       "    .dataframe thead th {\n",
       "        text-align: right;\n",
       "    }\n",
       "</style>\n",
       "<table border=\"1\" class=\"dataframe\">\n",
       "  <thead>\n",
       "    <tr style=\"text-align: right;\">\n",
       "      <th></th>\n",
       "      <th>Apellidos</th>\n",
       "      <th>E-mail</th>\n",
       "      <th>Edad</th>\n",
       "      <th>Grado</th>\n",
       "      <th>Licenciatura</th>\n",
       "      <th>Proyecto</th>\n",
       "      <th>Tutor</th>\n",
       "    </tr>\n",
       "    <tr>\n",
       "      <th>Nombres</th>\n",
       "      <th></th>\n",
       "      <th></th>\n",
       "      <th></th>\n",
       "      <th></th>\n",
       "      <th></th>\n",
       "      <th></th>\n",
       "      <th></th>\n",
       "    </tr>\n",
       "  </thead>\n",
       "  <tbody>\n",
       "    <tr>\n",
       "      <th>Diana Laura</th>\n",
       "      <td>López Morales</td>\n",
       "      <td>ita.dianalopez@gmail.com</td>\n",
       "      <td>26</td>\n",
       "      <td>Maestría</td>\n",
       "      <td>Ingeniero en tecnología ambiental</td>\n",
       "      <td>D-92011</td>\n",
       "      <td>Gusavo Sosa Iglesias</td>\n",
       "    </tr>\n",
       "    <tr>\n",
       "      <th>Carlos</th>\n",
       "      <td>Paredes Marcial</td>\n",
       "      <td>cpm199660@gmail.com</td>\n",
       "      <td>26 años</td>\n",
       "      <td>Licenciatura</td>\n",
       "      <td>NaN</td>\n",
       "      <td>Recuperacion de aceite por inyeccion de flujo ...</td>\n",
       "      <td>Rodrigo Salazar</td>\n",
       "    </tr>\n",
       "    <tr>\n",
       "      <th>Alberto</th>\n",
       "      <td>Vázquez Contreras</td>\n",
       "      <td>posavazquez@imp.mx</td>\n",
       "      <td>29</td>\n",
       "      <td>1erSemestre</td>\n",
       "      <td>Ing.Petrolera</td>\n",
       "      <td>IA aplicada en la Ingeniería de Yacimientos</td>\n",
       "      <td>Dr.Leonid Shemeretov</td>\n",
       "    </tr>\n",
       "    <tr>\n",
       "      <th>Alejandro</th>\n",
       "      <td>Brena Hernandez</td>\n",
       "      <td>brenaalejandro@hotmail.com</td>\n",
       "      <td>26</td>\n",
       "      <td>Maestria</td>\n",
       "      <td>Geofisica</td>\n",
       "      <td>Clasificacion de sismofacies con ML</td>\n",
       "      <td>Dr. Luis Velasquillo</td>\n",
       "    </tr>\n",
       "    <tr>\n",
       "      <th>Eliseo Andrei</th>\n",
       "      <td>Martinez Angel</td>\n",
       "      <td>eliseoandrei@live.com.mx</td>\n",
       "      <td>18 años</td>\n",
       "      <td>Licenciatura</td>\n",
       "      <td>Ingenieria Quimica Petrolera</td>\n",
       "      <td>Sintesis. Evaluacion y Caracterizacion de liqu...</td>\n",
       "      <td>Dr. Rafael Mtz Palou</td>\n",
       "    </tr>\n",
       "    <tr>\n",
       "      <th>rosario</th>\n",
       "      <td>giron</td>\n",
       "      <td>xaiio_@hotmail.com</td>\n",
       "      <td>26</td>\n",
       "      <td>3</td>\n",
       "      <td>geofisica</td>\n",
       "      <td>rn</td>\n",
       "      <td>velasquillo</td>\n",
       "    </tr>\n",
       "    <tr>\n",
       "      <th>Sergio Enrique</th>\n",
       "      <td>de la Cruz</td>\n",
       "      <td>sdelacruzchable@gmail.com</td>\n",
       "      <td>26</td>\n",
       "      <td>Lecenciatura</td>\n",
       "      <td>Ing. Petrolera</td>\n",
       "      <td>Diseño de BN para AF</td>\n",
       "      <td>CLG</td>\n",
       "    </tr>\n",
       "    <tr>\n",
       "      <th>Mariana Yesenia</th>\n",
       "      <td>Piña Fernández</td>\n",
       "      <td>mayepifer@hotmail.com</td>\n",
       "      <td>28</td>\n",
       "      <td>Licenciatura</td>\n",
       "      <td>Ingeniería Química</td>\n",
       "      <td>Síntesis de catalizadores base líquidos iónico...</td>\n",
       "      <td>Natalya V. Likhanova</td>\n",
       "    </tr>\n",
       "  </tbody>\n",
       "</table>\n",
       "</div>"
      ],
      "text/plain": [
       "                         Apellidos                      E-mail     Edad  \\\n",
       "Nombres                                                                   \n",
       "Diana Laura          López Morales    ita.dianalopez@gmail.com       26   \n",
       "Carlos             Paredes Marcial         cpm199660@gmail.com  26 años   \n",
       "Alberto          Vázquez Contreras          posavazquez@imp.mx       29   \n",
       "Alejandro          Brena Hernandez  brenaalejandro@hotmail.com       26   \n",
       "Eliseo Andrei       Martinez Angel    eliseoandrei@live.com.mx  18 años   \n",
       "rosario                      giron          xaiio_@hotmail.com       26   \n",
       "Sergio Enrique          de la Cruz   sdelacruzchable@gmail.com       26   \n",
       "Mariana Yesenia     Piña Fernández       mayepifer@hotmail.com       28   \n",
       "\n",
       "                        Grado                       Licenciatura  \\\n",
       "Nombres                                                            \n",
       "Diana Laura          Maestría  Ingeniero en tecnología ambiental   \n",
       "Carlos           Licenciatura                                NaN   \n",
       "Alberto           1erSemestre                      Ing.Petrolera   \n",
       "Alejandro            Maestria                          Geofisica   \n",
       "Eliseo Andrei    Licenciatura       Ingenieria Quimica Petrolera   \n",
       "rosario                     3                          geofisica   \n",
       "Sergio Enrique   Lecenciatura                     Ing. Petrolera   \n",
       "Mariana Yesenia  Licenciatura                 Ingeniería Química   \n",
       "\n",
       "                                                          Proyecto  \\\n",
       "Nombres                                                              \n",
       "Diana Laura                                                D-92011   \n",
       "Carlos           Recuperacion de aceite por inyeccion de flujo ...   \n",
       "Alberto                IA aplicada en la Ingeniería de Yacimientos   \n",
       "Alejandro                      Clasificacion de sismofacies con ML   \n",
       "Eliseo Andrei    Sintesis. Evaluacion y Caracterizacion de liqu...   \n",
       "rosario                                                         rn   \n",
       "Sergio Enrique                                Diseño de BN para AF   \n",
       "Mariana Yesenia  Síntesis de catalizadores base líquidos iónico...   \n",
       "\n",
       "                                Tutor  \n",
       "Nombres                                \n",
       "Diana Laura      Gusavo Sosa Iglesias  \n",
       "Carlos                Rodrigo Salazar  \n",
       "Alberto          Dr.Leonid Shemeretov  \n",
       "Alejandro        Dr. Luis Velasquillo  \n",
       "Eliseo Andrei    Dr. Rafael Mtz Palou  \n",
       "rosario                   velasquillo  \n",
       "Sergio Enrique                    CLG  \n",
       "Mariana Yesenia  Natalya V. Likhanova  "
      ]
     },
     "execution_count": 97,
     "metadata": {},
     "output_type": "execute_result"
    }
   ],
   "source": [
    "df_read = pd.read_excel('df_names.xlsx', index_col=0)\n",
    "df_read"
   ]
  },
  {
   "cell_type": "code",
   "execution_count": 98,
   "metadata": {},
   "outputs": [
    {
     "data": {
      "text/html": [
       "<div>\n",
       "<style scoped>\n",
       "    .dataframe tbody tr th:only-of-type {\n",
       "        vertical-align: middle;\n",
       "    }\n",
       "\n",
       "    .dataframe tbody tr th {\n",
       "        vertical-align: top;\n",
       "    }\n",
       "\n",
       "    .dataframe thead th {\n",
       "        text-align: right;\n",
       "    }\n",
       "</style>\n",
       "<table border=\"1\" class=\"dataframe\">\n",
       "  <thead>\n",
       "    <tr style=\"text-align: right;\">\n",
       "      <th></th>\n",
       "      <th>0</th>\n",
       "      <th>1</th>\n",
       "      <th>2</th>\n",
       "      <th>3</th>\n",
       "      <th>4</th>\n",
       "      <th>5</th>\n",
       "      <th>6</th>\n",
       "      <th>7</th>\n",
       "    </tr>\n",
       "  </thead>\n",
       "  <tbody>\n",
       "    <tr>\n",
       "      <th>0</th>\n",
       "      <td>Diana Laura</td>\n",
       "      <td>López Morales</td>\n",
       "      <td>ita.dianalopez@gmail.com</td>\n",
       "      <td>26</td>\n",
       "      <td>Maestría</td>\n",
       "      <td>Ingeniero en tecnología ambiental</td>\n",
       "      <td>D-92011</td>\n",
       "      <td>Gusavo Sosa Iglesias</td>\n",
       "    </tr>\n",
       "  </tbody>\n",
       "</table>\n",
       "</div>"
      ],
      "text/plain": [
       "             0              1                         2   3         4  \\\n",
       "0  Diana Laura  López Morales  ita.dianalopez@gmail.com  26  Maestría   \n",
       "\n",
       "                                   5        6                     7  \n",
       "0  Ingeniero en tecnología ambiental  D-92011  Gusavo Sosa Iglesias  "
      ]
     },
     "execution_count": 98,
     "metadata": {},
     "output_type": "execute_result"
    }
   ],
   "source": [
    "df_read = pd.read_csv('Data.txt', sep=\"\\t\", header=None)\n",
    "df_read\n"
   ]
  },
  {
   "cell_type": "code",
   "execution_count": 99,
   "metadata": {},
   "outputs": [
    {
     "data": {
      "text/plain": [
       "0                          Diana Laura\n",
       "1                        López Morales\n",
       "2             ita.dianalopez@gmail.com\n",
       "3                                   26\n",
       "4                             Maestría\n",
       "5    Ingeniero en tecnología ambiental\n",
       "6                              D-92011\n",
       "7                 Gusavo Sosa Iglesias\n",
       "Name: 0, dtype: object"
      ]
     },
     "execution_count": 99,
     "metadata": {},
     "output_type": "execute_result"
    }
   ],
   "source": [
    "df_read.iloc[0]"
   ]
  },
  {
   "cell_type": "code",
   "execution_count": 100,
   "metadata": {},
   "outputs": [
    {
     "data": {
      "text/plain": [
       "'Diana Laura'"
      ]
     },
     "execution_count": 100,
     "metadata": {},
     "output_type": "execute_result"
    }
   ],
   "source": [
    "df_read.iloc[0][0]"
   ]
  },
  {
   "cell_type": "markdown",
   "metadata": {
    "id": "yRsilxLSIiaP"
   },
   "source": [
    "# Otras formas de crear data Frames\n",
    "\n",
    "\n",
    "## De listas"
   ]
  },
  {
   "cell_type": "code",
   "execution_count": 102,
   "metadata": {
    "id": "1osQ4HxEIiaP"
   },
   "outputs": [
    {
     "data": {
      "text/html": [
       "<div>\n",
       "<style scoped>\n",
       "    .dataframe tbody tr th:only-of-type {\n",
       "        vertical-align: middle;\n",
       "    }\n",
       "\n",
       "    .dataframe tbody tr th {\n",
       "        vertical-align: top;\n",
       "    }\n",
       "\n",
       "    .dataframe thead th {\n",
       "        text-align: right;\n",
       "    }\n",
       "</style>\n",
       "<table border=\"1\" class=\"dataframe\">\n",
       "  <thead>\n",
       "    <tr style=\"text-align: right;\">\n",
       "      <th></th>\n",
       "      <th>Numeros</th>\n",
       "    </tr>\n",
       "  </thead>\n",
       "  <tbody>\n",
       "    <tr>\n",
       "      <th>0</th>\n",
       "      <td>10</td>\n",
       "    </tr>\n",
       "    <tr>\n",
       "      <th>1</th>\n",
       "      <td>20</td>\n",
       "    </tr>\n",
       "    <tr>\n",
       "      <th>2</th>\n",
       "      <td>30</td>\n",
       "    </tr>\n",
       "    <tr>\n",
       "      <th>3</th>\n",
       "      <td>40</td>\n",
       "    </tr>\n",
       "    <tr>\n",
       "      <th>4</th>\n",
       "      <td>50</td>\n",
       "    </tr>\n",
       "    <tr>\n",
       "      <th>5</th>\n",
       "      <td>60</td>\n",
       "    </tr>\n",
       "  </tbody>\n",
       "</table>\n",
       "</div>"
      ],
      "text/plain": [
       "   Numeros\n",
       "0       10\n",
       "1       20\n",
       "2       30\n",
       "3       40\n",
       "4       50\n",
       "5       60"
      ]
     },
     "execution_count": 102,
     "metadata": {},
     "output_type": "execute_result"
    }
   ],
   "source": [
    "#Primero se crea la lista de datos a usar.\n",
    "data = [10,20,30,40,50,60]\n",
    "  \n",
    "#Se crea la Data Frame usando el nombre Numeros para la columna.\n",
    "df = pd.DataFrame(data, columns=['Numeros'])\n",
    "  \n",
    "# print dataframe.\n",
    "df"
   ]
  },
  {
   "cell_type": "markdown",
   "metadata": {
    "id": "j-3aifQRIiaQ"
   },
   "source": [
    "## De listas de listas"
   ]
  },
  {
   "cell_type": "code",
   "execution_count": 103,
   "metadata": {
    "id": "F61_9CfpIiaQ"
   },
   "outputs": [
    {
     "data": {
      "text/html": [
       "<div>\n",
       "<style scoped>\n",
       "    .dataframe tbody tr th:only-of-type {\n",
       "        vertical-align: middle;\n",
       "    }\n",
       "\n",
       "    .dataframe tbody tr th {\n",
       "        vertical-align: top;\n",
       "    }\n",
       "\n",
       "    .dataframe thead th {\n",
       "        text-align: right;\n",
       "    }\n",
       "</style>\n",
       "<table border=\"1\" class=\"dataframe\">\n",
       "  <thead>\n",
       "    <tr style=\"text-align: right;\">\n",
       "      <th></th>\n",
       "      <th>Nombre</th>\n",
       "      <th>Edad</th>\n",
       "    </tr>\n",
       "  </thead>\n",
       "  <tbody>\n",
       "    <tr>\n",
       "      <th>0</th>\n",
       "      <td>juan</td>\n",
       "      <td>10</td>\n",
       "    </tr>\n",
       "    <tr>\n",
       "      <th>1</th>\n",
       "      <td>pepe</td>\n",
       "      <td>15</td>\n",
       "    </tr>\n",
       "    <tr>\n",
       "      <th>2</th>\n",
       "      <td>julia</td>\n",
       "      <td>14</td>\n",
       "    </tr>\n",
       "  </tbody>\n",
       "</table>\n",
       "</div>"
      ],
      "text/plain": [
       "  Nombre  Edad\n",
       "0   juan    10\n",
       "1   pepe    15\n",
       "2  julia    14"
      ]
     },
     "execution_count": 103,
     "metadata": {},
     "output_type": "execute_result"
    }
   ],
   "source": [
    "#Primero se crea la lista de listas, cada elemento corresponde al par del nombre y edad de una persona.\n",
    "data = [['juan', 10], ['pepe', 15], ['julia', 14]]\n",
    "  \n",
    "#Luego creamos la Data Frame y nombramos las columnas como Nombre y Edad\n",
    "df = pd.DataFrame(data, columns=['Nombre', 'Edad'])\n",
    "  \n",
    "df"
   ]
  },
  {
   "cell_type": "markdown",
   "metadata": {
    "id": "PPc3KqtwIiaR"
   },
   "source": [
    "# Diccionarios con listas\n",
    "Para crear una Data Frame de un diccionario de arreglos o listas, todos los arreglos deben ser del mismo tamaño. El indice debe ser del mismo tamaño que los arreglos, si no se declara el indice, se toma el tamaño del areglo, n, y el indice es range(n)."
   ]
  },
  {
   "cell_type": "code",
   "execution_count": 104,
   "metadata": {
    "id": "ShEEuDA5IiaR"
   },
   "outputs": [
    {
     "data": {
      "text/html": [
       "<div>\n",
       "<style scoped>\n",
       "    .dataframe tbody tr th:only-of-type {\n",
       "        vertical-align: middle;\n",
       "    }\n",
       "\n",
       "    .dataframe tbody tr th {\n",
       "        vertical-align: top;\n",
       "    }\n",
       "\n",
       "    .dataframe thead th {\n",
       "        text-align: right;\n",
       "    }\n",
       "</style>\n",
       "<table border=\"1\" class=\"dataframe\">\n",
       "  <thead>\n",
       "    <tr style=\"text-align: right;\">\n",
       "      <th></th>\n",
       "      <th>Nombre</th>\n",
       "      <th>Edad</th>\n",
       "    </tr>\n",
       "  </thead>\n",
       "  <tbody>\n",
       "    <tr>\n",
       "      <th>0</th>\n",
       "      <td>juan</td>\n",
       "      <td>20</td>\n",
       "    </tr>\n",
       "    <tr>\n",
       "      <th>1</th>\n",
       "      <td>pepe</td>\n",
       "      <td>21</td>\n",
       "    </tr>\n",
       "    <tr>\n",
       "      <th>2</th>\n",
       "      <td>julia</td>\n",
       "      <td>19</td>\n",
       "    </tr>\n",
       "    <tr>\n",
       "      <th>3</th>\n",
       "      <td>ana</td>\n",
       "      <td>18</td>\n",
       "    </tr>\n",
       "  </tbody>\n",
       "</table>\n",
       "</div>"
      ],
      "text/plain": [
       "  Nombre  Edad\n",
       "0   juan    20\n",
       "1   pepe    21\n",
       "2  julia    19\n",
       "3    ana    18"
      ]
     },
     "execution_count": 104,
     "metadata": {},
     "output_type": "execute_result"
    }
   ],
   "source": [
    "\n",
    "data = {'Nombre': ['juan', 'pepe', 'julia', 'ana'],\n",
    "        'Edad': [20, 21, 19, 18]}\n",
    "\n",
    "df = pd.DataFrame(data)\n",
    "  \n",
    "\n",
    "df"
   ]
  },
  {
   "cell_type": "markdown",
   "metadata": {
    "id": "Vf7PrGOBIiaS"
   },
   "source": [
    "## Dando las etiquetas explicitamente\n"
   ]
  },
  {
   "cell_type": "code",
   "execution_count": 105,
   "metadata": {
    "id": "hMRiFsycIiaS"
   },
   "outputs": [
    {
     "data": {
      "text/html": [
       "<div>\n",
       "<style scoped>\n",
       "    .dataframe tbody tr th:only-of-type {\n",
       "        vertical-align: middle;\n",
       "    }\n",
       "\n",
       "    .dataframe tbody tr th {\n",
       "        vertical-align: top;\n",
       "    }\n",
       "\n",
       "    .dataframe thead th {\n",
       "        text-align: right;\n",
       "    }\n",
       "</style>\n",
       "<table border=\"1\" class=\"dataframe\">\n",
       "  <thead>\n",
       "    <tr style=\"text-align: right;\">\n",
       "      <th></th>\n",
       "      <th>Nombre</th>\n",
       "      <th>Calificacion</th>\n",
       "    </tr>\n",
       "  </thead>\n",
       "  <tbody>\n",
       "    <tr>\n",
       "      <th>rank1</th>\n",
       "      <td>juan</td>\n",
       "      <td>99</td>\n",
       "    </tr>\n",
       "    <tr>\n",
       "      <th>rank2</th>\n",
       "      <td>pepe</td>\n",
       "      <td>98</td>\n",
       "    </tr>\n",
       "    <tr>\n",
       "      <th>rank3</th>\n",
       "      <td>julia</td>\n",
       "      <td>95</td>\n",
       "    </tr>\n",
       "    <tr>\n",
       "      <th>rank4</th>\n",
       "      <td>ana</td>\n",
       "      <td>90</td>\n",
       "    </tr>\n",
       "  </tbody>\n",
       "</table>\n",
       "</div>"
      ],
      "text/plain": [
       "      Nombre  Calificacion\n",
       "rank1   juan            99\n",
       "rank2   pepe            98\n",
       "rank3  julia            95\n",
       "rank4    ana            90"
      ]
     },
     "execution_count": 105,
     "metadata": {},
     "output_type": "execute_result"
    }
   ],
   "source": [
    "\n",
    "data = {'Nombre': ['juan', 'pepe', 'julia', 'ana'],\n",
    "        'Calificacion': [99, 98, 95, 90]}\n",
    "\n",
    "df = pd.DataFrame(data, index=['rank1',\n",
    "                               'rank2',\n",
    "                               'rank3',\n",
    "                               'rank4'])\n",
    "  \n",
    "df"
   ]
  },
  {
   "cell_type": "markdown",
   "metadata": {
    "id": "kH-emazxIiaS"
   },
   "source": [
    "## Pasando listas de diccionarios \n",
    "Se pueden crear Data Frames usando las listas de un diccionario como los datos de entrada. Por defecto, las claves del diccionario se usan como columnas."
   ]
  },
  {
   "cell_type": "code",
   "execution_count": 106,
   "metadata": {
    "id": "rwz1EnaCIiaT"
   },
   "outputs": [
    {
     "data": {
      "text/html": [
       "<div>\n",
       "<style scoped>\n",
       "    .dataframe tbody tr th:only-of-type {\n",
       "        vertical-align: middle;\n",
       "    }\n",
       "\n",
       "    .dataframe tbody tr th {\n",
       "        vertical-align: top;\n",
       "    }\n",
       "\n",
       "    .dataframe thead th {\n",
       "        text-align: right;\n",
       "    }\n",
       "</style>\n",
       "<table border=\"1\" class=\"dataframe\">\n",
       "  <thead>\n",
       "    <tr style=\"text-align: right;\">\n",
       "      <th></th>\n",
       "      <th>a</th>\n",
       "      <th>b</th>\n",
       "      <th>c</th>\n",
       "    </tr>\n",
       "  </thead>\n",
       "  <tbody>\n",
       "    <tr>\n",
       "      <th>0</th>\n",
       "      <td>1</td>\n",
       "      <td>2</td>\n",
       "      <td>3</td>\n",
       "    </tr>\n",
       "    <tr>\n",
       "      <th>1</th>\n",
       "      <td>10</td>\n",
       "      <td>20</td>\n",
       "      <td>30</td>\n",
       "    </tr>\n",
       "  </tbody>\n",
       "</table>\n",
       "</div>"
      ],
      "text/plain": [
       "    a   b   c\n",
       "0   1   2   3\n",
       "1  10  20  30"
      ]
     },
     "execution_count": 106,
     "metadata": {},
     "output_type": "execute_result"
    }
   ],
   "source": [
    "\n",
    "data = [{'a': 1, 'b': 2, 'c': 3},\n",
    "        {'a': 10, 'b': 20, 'c': 30}]\n",
    "  \n",
    "\n",
    "df = pd.DataFrame(data)\n",
    "\n",
    "df"
   ]
  },
  {
   "cell_type": "code",
   "execution_count": 108,
   "metadata": {
    "id": "nGO6KbePIiaT"
   },
   "outputs": [
    {
     "data": {
      "text/html": [
       "<div>\n",
       "<style scoped>\n",
       "    .dataframe tbody tr th:only-of-type {\n",
       "        vertical-align: middle;\n",
       "    }\n",
       "\n",
       "    .dataframe tbody tr th {\n",
       "        vertical-align: top;\n",
       "    }\n",
       "\n",
       "    .dataframe thead th {\n",
       "        text-align: right;\n",
       "    }\n",
       "</style>\n",
       "<table border=\"1\" class=\"dataframe\">\n",
       "  <thead>\n",
       "    <tr style=\"text-align: right;\">\n",
       "      <th></th>\n",
       "      <th>b</th>\n",
       "      <th>c</th>\n",
       "      <th>a</th>\n",
       "    </tr>\n",
       "  </thead>\n",
       "  <tbody>\n",
       "    <tr>\n",
       "      <th>primero</th>\n",
       "      <td>2</td>\n",
       "      <td>3</td>\n",
       "      <td>NaN</td>\n",
       "    </tr>\n",
       "    <tr>\n",
       "      <th>segundo</th>\n",
       "      <td>20</td>\n",
       "      <td>30</td>\n",
       "      <td>10.0</td>\n",
       "    </tr>\n",
       "  </tbody>\n",
       "</table>\n",
       "</div>"
      ],
      "text/plain": [
       "          b   c     a\n",
       "primero   2   3   NaN\n",
       "segundo  20  30  10.0"
      ]
     },
     "execution_count": 108,
     "metadata": {},
     "output_type": "execute_result"
    }
   ],
   "source": [
    "#Se puede usar un diccionario con indices de fila\n",
    "data = [{'b': 2, 'c': 3}, {'a': 10, 'b': 20, 'c': 30}]\n",
    "  \n",
    "df = pd.DataFrame(data, index=['primero', 'segundo'])\n",
    "\n",
    "df"
   ]
  },
  {
   "cell_type": "code",
   "execution_count": 113,
   "metadata": {
    "id": "JxOrgepLIiaU"
   },
   "outputs": [
    {
     "name": "stdout",
     "output_type": "stream",
     "text": [
      "         a   b\n",
      "primero  1   2\n",
      "segundo  5  10 \n",
      "\n"
     ]
    },
    {
     "data": {
      "text/html": [
       "<div>\n",
       "<style scoped>\n",
       "    .dataframe tbody tr th:only-of-type {\n",
       "        vertical-align: middle;\n",
       "    }\n",
       "\n",
       "    .dataframe tbody tr th {\n",
       "        vertical-align: top;\n",
       "    }\n",
       "\n",
       "    .dataframe thead th {\n",
       "        text-align: right;\n",
       "    }\n",
       "</style>\n",
       "<table border=\"1\" class=\"dataframe\">\n",
       "  <thead>\n",
       "    <tr style=\"text-align: right;\">\n",
       "      <th></th>\n",
       "      <th>a</th>\n",
       "      <th>b</th>\n",
       "    </tr>\n",
       "  </thead>\n",
       "  <tbody>\n",
       "    <tr>\n",
       "      <th>primero</th>\n",
       "      <td>1</td>\n",
       "      <td>2</td>\n",
       "    </tr>\n",
       "    <tr>\n",
       "      <th>segundo</th>\n",
       "      <td>5</td>\n",
       "      <td>10</td>\n",
       "    </tr>\n",
       "  </tbody>\n",
       "</table>\n",
       "</div>"
      ],
      "text/plain": [
       "         a   b\n",
       "primero  1   2\n",
       "segundo  5  10"
      ]
     },
     "execution_count": 113,
     "metadata": {},
     "output_type": "execute_result"
    }
   ],
   "source": [
    "#O tambien, usando indices tanto para filas como para columnas\n",
    "\n",
    "data = [{'a': 1, 'b': 2},\n",
    "        {'a': 5, 'b': 10, 'c': 20}]\n",
    "  \n",
    "\n",
    "df1 = pd.DataFrame(data, index=['primero',\n",
    "                                'segundo'],\n",
    "                   columns=['a', 'b'])\n",
    "  \n",
    "\n",
    "df2 = pd.DataFrame(data, index=['primero',\n",
    "                                'segundo'],\n",
    "                   columns=['a', 'b'])\n",
    "\n",
    "print(df1, \"\\n\")\n",
    "  \n",
    "\n",
    "df2"
   ]
  },
  {
   "cell_type": "code",
   "execution_count": null,
   "metadata": {},
   "outputs": [],
   "source": []
  }
 ],
 "metadata": {
  "colab": {
   "provenance": []
  },
  "kernelspec": {
   "display_name": "Python 3 (ipykernel)",
   "language": "python",
   "name": "python3"
  },
  "language_info": {
   "codemirror_mode": {
    "name": "ipython",
    "version": 3
   },
   "file_extension": ".py",
   "mimetype": "text/x-python",
   "name": "python",
   "nbconvert_exporter": "python",
   "pygments_lexer": "ipython3",
   "version": "3.9.7"
  }
 },
 "nbformat": 4,
 "nbformat_minor": 1
}
