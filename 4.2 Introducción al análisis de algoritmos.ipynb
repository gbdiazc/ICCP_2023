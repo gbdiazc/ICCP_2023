{
 "cells": [
  {
   "cell_type": "markdown",
   "id": "8f7f5f46",
   "metadata": {},
   "source": [
    "# Funciones recursivas\n",
    "\n",
    "Una función **recursiva** es una función que se llama a sí misma. \n",
    "\n",
    "Toda función recursiva tiene dos componentes: un __caso base__ y un __paso recursivo__. El __caso base__ suele ser la entrada más pequeña y tiene una solución fácilmente verificable. Este es también el mecanismo que evita que la función se llame a sí misma para siempre. El __paso recursivo__ es el conjunto de todos los casos en los que se realiza una __llamada recursiva__, o una llamada de función a sí misma.\n",
    "\n",
    "Como funciona la recursividada par calcular el factorial de un entero? El factorial de un entero $n$ es $1 \\times 2 \\times 3 \\times ... \\times (n - 1) \\times n$. La definición recursiva se puede escribir:\n",
    "\n",
    "\n",
    "\\begin{equation}\n",
    "f(n) = \\begin{cases}\n",
    "    1 &\\text{si $n=1$}\\\\\n",
    "    n \\times f(n-1) & \\text{de lo contrario}\\\\\n",
    "    \\end{cases}\n",
    "\\end{equation}\n",
    "\n",
    "El caso base es $n = 1$, que es trivial de calcular: $f(1) = 1$. En el paso recursivo, $n$ se multiplica por el resultado de una llamada recursiva al factorial de $n - 1$.\n"
   ]
  },
  {
   "cell_type": "code",
   "execution_count": 2,
   "id": "4cbf1907",
   "metadata": {},
   "outputs": [],
   "source": [
    "def factorial(n):\n",
    "    \"\"\"Calcula el factorial de n, \n",
    "    un entero positivo.\n",
    "    \"\"\"\n",
    "    if n == 1: # Caso Base!\n",
    "        return 1\n",
    "    else: # Paso recursivo\n",
    "        return n * factorial(n - 1) # Llamada recursiva   "
   ]
  },
  {
   "cell_type": "code",
   "execution_count": 3,
   "id": "f9856cc6",
   "metadata": {},
   "outputs": [
    {
     "data": {
      "text/plain": [
       "1"
      ]
     },
     "execution_count": 3,
     "metadata": {},
     "output_type": "execute_result"
    }
   ],
   "source": [
    "factorial(1)"
   ]
  },
  {
   "cell_type": "code",
   "execution_count": 4,
   "id": "69dcc2c0",
   "metadata": {},
   "outputs": [
    {
     "data": {
      "text/plain": [
       "2"
      ]
     },
     "execution_count": 4,
     "metadata": {},
     "output_type": "execute_result"
    }
   ],
   "source": [
    "factorial(2)"
   ]
  },
  {
   "cell_type": "code",
   "execution_count": 5,
   "id": "ff110d21",
   "metadata": {},
   "outputs": [
    {
     "data": {
      "text/plain": [
       "6"
      ]
     },
     "execution_count": 5,
     "metadata": {},
     "output_type": "execute_result"
    }
   ],
   "source": [
    "factorial(3)"
   ]
  },
  {
   "cell_type": "markdown",
   "id": "9d88cb3b",
   "metadata": {},
   "source": [
    "__¿QUÉ PASA?__ \n",
    "\n",
    "Cuando Python ejecuta una función, crea un espacio de trabajo para las variables que se crean en esa función, y cada vez que una función llama a otra función, esperará hasta que esa función devuelva una respuesta antes de continuar. \n",
    "\n",
    "En programación, este espacio de trabajo se llama pila, los elementos en una pila se agregan o eliminan desde la parte superior de la pila hasta la parte inferior, en un orden de \"último en entrar, primero en salir\". \n",
    "\n",
    "Por ejemplo, en `np.sin(np.tan(x))`, `sin` debe esperar a que `tan` devuelva una respuesta antes de que pueda evaluarse. Aunque una función recursiva se llama a sí misma, se aplican las mismas reglas.\n",
    "\n",
    "1. Se realiza una llamada a `factorial(3)`, se abre un nuevo espacio de trabajo para calcular `factorial(3)`.\n",
    "2. El valor del argumento de entrada 3 se compara con 1. Dado que no son iguales, se ejecuta la instrucción else.\n",
    "3. Se debe calcular `3*factorial(2)`. Se abre un nuevo espacio de trabajo para calcular `factorial(2)`.\n",
    "4. El valor del argumento de entrada 2 se compara con 1. Dado que no son iguales, se ejecuta la instrucción else.\n",
    "5. Debe calcularse `2*factorial(1)`. Se abre un nuevo espacio de trabajo para calcular `factorial(1)`.\n",
    "6. El valor del argumento de entrada 1 se compara con 1. Dado que son iguales, se ejecuta la instrucción if.\n",
    "7. A la variable de retorno se le asigna el valor 1. `factorial(1)` termina con la salida 1.\n",
    "8. `2*factorial(1)` se puede resolver en $2 \\times 1 = 2$. A la salida se le asigna el valor 2. `factorial(2)` termina con la salida 2.\n",
    "9. `3*factorial(2)` se puede resolver en $3 \\times 2 = 6$. A la salida se le asigna el valor 6. `factorial(3)` termina con la salida 6."
   ]
  },
  {
   "cell_type": "markdown",
   "id": "218053f4",
   "metadata": {},
   "source": [
    "El orden de las llamadas recursivas se puede representar mediante un árbol de recursividad que se muestra en la siguiente figura para `factorial(3)`. Un árbol de recursión es un diagrama de las llamadas a funciones conectadas por flechas numeradas para representar el orden en que se realizaron las llamadas.\n",
    "\n",
    "<img src=\"./Images/factorial.png\" title=\"Árbol de recurrencias para factorial(3)\" width=\"200\"/>"
   ]
  },
  {
   "cell_type": "code",
   "execution_count": 6,
   "id": "7f7eb129",
   "metadata": {},
   "outputs": [
    {
     "name": "stdout",
     "output_type": "stream",
     "text": [
      "Estamos en un paso recursivo, n =  3\n",
      "Realizamos la operación 3 * factorial(2)\n",
      "Estamos en un paso recursivo, n =  2\n",
      "Realizamos la operación 2 * factorial(1)\n",
      "Llegamos al caso base, n = 1\n"
     ]
    },
    {
     "data": {
      "text/plain": [
       "6"
      ]
     },
     "execution_count": 6,
     "metadata": {},
     "output_type": "execute_result"
    }
   ],
   "source": [
    "def factorial(n):\n",
    "    \"\"\"Calcula el factorial de n, \n",
    "    un entero positivo.\n",
    "    \"\"\"\n",
    "    if n == 1: # Caso Base!\n",
    "        print(\"Llegamos al caso base, n = 1\")\n",
    "        return 1\n",
    "    else: # Paso recursivo\n",
    "        print(\"Estamos en un paso recursivo, n = \",n)\n",
    "        print(\"Realizamos la operación {} * factorial({})\".format(n,n-1))\n",
    "        return n * factorial(n - 1) # Llamada recursiva   \n",
    "    \n",
    "factorial(3)"
   ]
  },
  {
   "cell_type": "markdown",
   "id": "ddf54f70",
   "metadata": {},
   "source": [
    "# Funciones iterativas\n",
    "## Ciclos for (for-loop)\n",
    "\n",
    "Un **for-loop** es un conjunto de instrucciones que se repite o itera para cada valor en una secuencia. A veces, los ciclos for se denominan **bucles definidos** porque tienen un comienzo y un final predefinidos limitados por la secuencia.\n",
    "\n",
    "La sintaxis general de ciclo for es la siguiente.\n",
    "\n",
    "**CONSTRUCCIÓN**: For-loop\n",
    "\n",
    "```python\n",
    "for variable a iterar in secuencia:\n",
    "    code block\n",
    "```\n",
    "\n",
    "Un ciclo for asigna la **variable** al primer elemento de la secuencia. Ejecuta todo en el bloque de código. Luego asigna la variable de bucle al siguiente elemento de la secuencia y ejecuta el bloque de código nuevamente. Continúa hasta que no hay más elementos en la secuencia para asignar."
   ]
  },
  {
   "cell_type": "code",
   "execution_count": 9,
   "id": "b0080d44",
   "metadata": {},
   "outputs": [
    {
     "name": "stdout",
     "output_type": "stream",
     "text": [
      "6\n"
     ]
    }
   ],
   "source": [
    "n = 0\n",
    "#for i in range(1, 4):\n",
    "for i in [1,2,3]:\n",
    "    n = n + i\n",
    "    \n",
    "print(n)"
   ]
  },
  {
   "cell_type": "markdown",
   "id": "41e4bff7",
   "metadata": {},
   "source": [
    "**¿Qué pasa?**\n",
    "\n",
    "0. La función *rango(1, 4)* genera una lista de números que comienza en 1 y termina en 3, la función rango finciona como sigue \n",
    "\n",
    "  **rango(inicio, parada, paso)**\n",
    "  \n",
    "en donde el *paso* es opcional con 1 como valor predeterminado, puede ser sustituido por una lista o un array con los valores requeridos\n",
    "\n",
    "   **[1,2,3]**\n",
    "\n",
    "1. A la variable *n* se le asigna el valor 0.\n",
    "\n",
    "2. A la variable *i* se le asigna el valor 1.\n",
    "\n",
    "3. A la variable *n* se le asigna el valor *n + i* \n",
    "\n",
    "($0 + 1 = 1$).\n",
    "\n",
    "4. A la variable *i* se le asigna el valor 2.\n",
    "\n",
    "5. A la variable *n* se le asigna el valor *n + i* \n",
    "\n",
    "($1 + 2 = 3$).\n",
    "\n",
    "6. A la variable *i* se le asigna el valor 3.\n",
    "\n",
    "7. A la variable *n* se le asigna el valor *n + i* \n",
    "\n",
    "($3 + 3 = 6$).\n",
    "\n",
    "8. Sin más valores para asignar en la lista, el ciclo for termina con *n = 6*."
   ]
  },
  {
   "cell_type": "code",
   "execution_count": 10,
   "id": "51d9e923",
   "metadata": {},
   "outputs": [
    {
     "name": "stdout",
     "output_type": "stream",
     "text": [
      "Valor inicial de n =  0\n",
      "Valor de i =  1\n",
      "Nuevo valor de n =  1\n",
      "Valor inicial de n =  1\n",
      "Valor de i =  2\n",
      "Nuevo valor de n =  3\n",
      "Valor inicial de n =  3\n",
      "Valor de i =  3\n",
      "Nuevo valor de n =  6\n"
     ]
    }
   ],
   "source": [
    "n = 0\n",
    "for i in range(1, 4):\n",
    "    print(\"Valor inicial de n = \",n)\n",
    "    print(\"Valor de i = \",i)\n",
    "    n = n + i\n",
    "    print(\"Nuevo valor de n = \",n)\n"
   ]
  },
  {
   "cell_type": "markdown",
   "id": "f09f4244",
   "metadata": {},
   "source": [
    "## Ciclos for anidados\n",
    "\n",
    "Los ciclos anidados son ciclos dentro de otro ciclo, funcionan de adentro hacia afuera, es decir, el ciclo exterior continúa hasta que acabe el ciclo interior\n",
    "\n",
    "La sintaxis general de un ciclo for anidado es la siguiente.\n",
    "\n",
    "**CONSTRUCCIÓN**: For-loop anidado\n",
    "\n",
    "```python\n",
    "for variable a iterar in secuencia:\n",
    "    for variable2 a iterar in secuencia2:\n",
    "        code block\n",
    "```\n",
    "\n",
    "Un ciclo for asigna la **variable** al primer elemento de la secuencia. Ejecuta todo en el bloque de código, incluyendo el segundo ciclo for en el cual signa la **variable2** al primer elemento de la secuencia2, posteriormente asigna la variable2  al siguiente elemento de la secuencia2 y ejecuta el bloque de código nuevamente hasta que no hay más elementos en la secuencia2 para asignar, una vez acabada la secuencia2 continua con el siguiente elemento de la secuencia 1.\n"
   ]
  },
  {
   "cell_type": "code",
   "execution_count": 11,
   "id": "d5eb7ab6",
   "metadata": {},
   "outputs": [
    {
     "name": "stdout",
     "output_type": "stream",
     "text": [
      "Inicia secuencia 1\n",
      "Secuencia 1\n",
      "Valor de i =  1\n",
      "Valor inicial de n =  0\n",
      "Nuevo valor de n = n + i =  1\n",
      "##################################################\n",
      "Inicia secuencia 2\n",
      "---------------------------------------------\n",
      "Secuencia 2\n",
      "Valor de i =  1\n",
      "Valor de j =  1\n",
      "Valor inicial de n =  1\n",
      "Nuevo valor de n = n + j =  2\n",
      "---------------------------------------------\n",
      "---------------------------------------------\n",
      "Secuencia 2\n",
      "Valor de i =  1\n",
      "Valor de j =  2\n",
      "Valor inicial de n =  2\n",
      "Nuevo valor de n = n + j =  4\n",
      "---------------------------------------------\n",
      "Acaba secuencia 2\n",
      "##################################################\n",
      "Secuencia 1\n",
      "Valor de i =  2\n",
      "Valor inicial de n =  4\n",
      "Nuevo valor de n = n + i =  6\n",
      "##################################################\n",
      "Inicia secuencia 2\n",
      "---------------------------------------------\n",
      "Secuencia 2\n",
      "Valor de i =  2\n",
      "Valor de j =  1\n",
      "Valor inicial de n =  6\n",
      "Nuevo valor de n = n + j =  7\n",
      "---------------------------------------------\n",
      "---------------------------------------------\n",
      "Secuencia 2\n",
      "Valor de i =  2\n",
      "Valor de j =  2\n",
      "Valor inicial de n =  7\n",
      "Nuevo valor de n = n + j =  9\n",
      "---------------------------------------------\n",
      "Acaba secuencia 2\n",
      "##################################################\n",
      "Acaba secuencia 1\n"
     ]
    }
   ],
   "source": [
    "n = 0\n",
    "secuencia1 = range(1, 3)\n",
    "secuencia2 = range(1, 3)\n",
    "\n",
    "print(\"Inicia secuencia 1\")\n",
    "for i in secuencia1:\n",
    "    print(\"Secuencia 1\")\n",
    "    print(\"Valor de i = \",i)\n",
    "    print(\"Valor inicial de n = \",n)\n",
    "    n = n + i\n",
    "    print(\"Nuevo valor de n = n + i = \",n)\n",
    "    print(\"##################################################\")\n",
    "    print(\"Inicia secuencia 2\")\n",
    "    for j in secuencia2:\n",
    "        print(\"---------------------------------------------\")\n",
    "        print(\"Secuencia 2\")\n",
    "        print(\"Valor de i = \",i)\n",
    "        print(\"Valor de j = \",j)\n",
    "        print(\"Valor inicial de n = \",n)\n",
    "        n = n + j\n",
    "        print(\"Nuevo valor de n = n + j = \",n)\n",
    "        print(\"---------------------------------------------\")\n",
    "    print(\"Acaba secuencia 2\")\n",
    "    print(\"##################################################\")\n",
    "    \n",
    "print(\"Acaba secuencia 1\")\n"
   ]
  },
  {
   "cell_type": "markdown",
   "id": "87b7f68e",
   "metadata": {},
   "source": [
    "## List comprehension\n",
    "En Python, hay otras formas de hacer iteraciones, las comprensiones de lista *List comprehension** (diccionario, conjunto) son una forma importante y popular. Las comprensiones permiten crear secuencias a partir de otra secuencia con una sintaxis muy compacta. \n",
    "\n",
    "**CONSTRUCCIÓN:** List comprehension\n",
    "\n",
    "```python\n",
    "[Output Input_sequence Conditions]\n",
    "```\n",
    "\n",
    "Ejemplo:\n",
    "\n",
    "Elevar al cuadrado los numeros en x y guardarlos en la lista y\n"
   ]
  },
  {
   "cell_type": "code",
   "execution_count": 12,
   "id": "d6ffb9a2",
   "metadata": {},
   "outputs": [
    {
     "name": "stdout",
     "output_type": "stream",
     "text": [
      "[0, 1, 4, 9, 16]\n"
     ]
    }
   ],
   "source": [
    "# Ciclo usual\n",
    "x = range(5)\n",
    "y = []\n",
    "\n",
    "for i in x:\n",
    "    y.append(i**2)\n",
    "print(y)\n"
   ]
  },
  {
   "cell_type": "code",
   "execution_count": 13,
   "id": "f3d2ee04",
   "metadata": {},
   "outputs": [
    {
     "name": "stdout",
     "output_type": "stream",
     "text": [
      "[0, 1, 4, 9, 16]\n"
     ]
    }
   ],
   "source": [
    "# List comprehension\n",
    "y = [i**2 for i in x]\n",
    "print(y)"
   ]
  },
  {
   "cell_type": "markdown",
   "id": "a111a9de",
   "metadata": {},
   "source": [
    "También podemos agregar condiciones a la lista, por ejemplo si solo queremos los numeros pares al cuadrado de la secuencia anterior\n"
   ]
  },
  {
   "cell_type": "code",
   "execution_count": 15,
   "id": "6df1cdb2",
   "metadata": {},
   "outputs": [
    {
     "name": "stdout",
     "output_type": "stream",
     "text": [
      "[0, 4, 16]\n"
     ]
    }
   ],
   "source": [
    "y = [i**2 for i in range(5) if i%2 == 0]\n",
    "print(y)"
   ]
  },
  {
   "cell_type": "markdown",
   "id": "eadd76db",
   "metadata": {},
   "source": [
    "También se pueden hacer listas con ciclos anidados\n"
   ]
  },
  {
   "cell_type": "code",
   "execution_count": 16,
   "id": "cc8afe97",
   "metadata": {},
   "outputs": [
    {
     "name": "stdout",
     "output_type": "stream",
     "text": [
      "[0, 1, 1, 2, 2, 3, 3, 4, 4, 5]\n"
     ]
    }
   ],
   "source": [
    "# Ciclo usual\n",
    "y = []\n",
    "for i in range(5):\n",
    "    for j in range(2):\n",
    "        y.append(i + j)\n",
    "print(y)"
   ]
  },
  {
   "cell_type": "code",
   "execution_count": 17,
   "id": "d118b951",
   "metadata": {},
   "outputs": [
    {
     "name": "stdout",
     "output_type": "stream",
     "text": [
      "[0, 1, 1, 2, 2, 3, 3, 4, 4, 5]\n"
     ]
    }
   ],
   "source": [
    "# List comprehension\n",
    "y = [i + j for i in range(5) for j in range(2)]\n",
    "print(y)"
   ]
  },
  {
   "cell_type": "markdown",
   "id": "1d6910e2",
   "metadata": {},
   "source": [
    "Adicionalmente podemos usarlas con diccionarios\n"
   ]
  },
  {
   "cell_type": "code",
   "execution_count": 18,
   "id": "969cefb0",
   "metadata": {},
   "outputs": [
    {
     "data": {
      "text/plain": [
       "{'a': 1, 'b': 4, 'c': 9, 'd': 16, 'e': 25}"
      ]
     },
     "execution_count": 18,
     "metadata": {},
     "output_type": "execute_result"
    }
   ],
   "source": [
    "x = {'a': 1, 'b': 2, 'c': 3, 'd': 4, 'e': 5}\n",
    "\n",
    "{key:v**2 for (key, v) in x.items()}"
   ]
  },
  {
   "cell_type": "code",
   "execution_count": null,
   "id": "8dd06235",
   "metadata": {},
   "outputs": [],
   "source": []
  }
 ],
 "metadata": {
  "kernelspec": {
   "display_name": "Python 3 (ipykernel)",
   "language": "python",
   "name": "python3"
  },
  "language_info": {
   "codemirror_mode": {
    "name": "ipython",
    "version": 3
   },
   "file_extension": ".py",
   "mimetype": "text/x-python",
   "name": "python",
   "nbconvert_exporter": "python",
   "pygments_lexer": "ipython3",
   "version": "3.9.7"
  }
 },
 "nbformat": 4,
 "nbformat_minor": 5
}
