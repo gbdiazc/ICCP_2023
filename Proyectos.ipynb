{
 "cells": [
  {
   "cell_type": "markdown",
   "id": "eb739cf2",
   "metadata": {},
   "source": [
    "# Proyectos finales\n",
    "\n",
    "Se debe seleccionar un problema y se debe poner:\n",
    "\n",
    "1. Descripción del problema\n",
    "\n",
    "2. Descripción del algoritmo:\n",
    "\n",
    "    Que hace el código\n",
    "    \n",
    "    Datos de entrada y salida\n",
    "    \n",
    "    Pseudocódigo\n",
    "    \n",
    "    Analisis de complejidad\n",
    "    \n",
    "    \n",
    "3. Código comentado indicando que hace cada parte del código\n",
    "\n",
    "4. Gráficas y resultados \n"
   ]
  },
  {
   "cell_type": "markdown",
   "id": "dc5421ed",
   "metadata": {},
   "source": [
    "# Modelos de permeabilidades relativas de tres fases\n",
    "\n",
    "Los sistemas de tres fases (agua-aceite-gas) se describen con los parametros empíricos obtenidos experimentalmente, mostrados a continuación:\n",
    " \n",
    "Swr = 0.1, Sorw = 0.4, Sorg = 0.2, Sgr = 0.05, krw0 = 0.3, krow0= 0.8, krog0 = 0.8, krg0 = 0.3, Nw = 2.0, Ng = 2.0, Now = 2.0, Nog = 2.0. \n",
    "\n",
    "Construir una función que calcule las permeabilidades relativas (krw, kro, krg) y hacer un DataFrame con los valores de cada fase. Grafica las curvas de permeabilidad relativa.\n"
   ]
  },
  {
   "cell_type": "markdown",
   "id": "7e613f92",
   "metadata": {},
   "source": [
    "## Analisis de datos con pandas\n",
    "Hacer un analisis de un dataframe con pandas, mostrar estadísticas y puntos importantes."
   ]
  },
  {
   "cell_type": "markdown",
   "id": "4f19348f",
   "metadata": {},
   "source": [
    "## Perceptrón\n",
    "Construir un clasificador lineal, es decir, a partir de un conjunto de datos linealmente separable, escribir una función que reciba como entrada una serie de datos y de salida los clasifique.\n"
   ]
  },
  {
   "cell_type": "markdown",
   "id": "6e97696c",
   "metadata": {},
   "source": [
    "## Algorítmo de optimización (PSO: Particle Swarm Optimization)\n",
    "Construir una función de optimización que encuentre el mínimo de una función dada usando la heurística conocida como Particle Swarm Optimization. "
   ]
  },
  {
   "cell_type": "markdown",
   "id": "003e9a7a",
   "metadata": {},
   "source": [
    "## Método de Jacobi para solución de sistemas lineales\n",
    "Construir una función que encuentre la solución de un sistema lineal iterativamente con el método de Jacobi"
   ]
  }
 ],
 "metadata": {
  "kernelspec": {
   "display_name": "Python 3 (ipykernel)",
   "language": "python",
   "name": "python3"
  },
  "language_info": {
   "codemirror_mode": {
    "name": "ipython",
    "version": 3
   },
   "file_extension": ".py",
   "mimetype": "text/x-python",
   "name": "python",
   "nbconvert_exporter": "python",
   "pygments_lexer": "ipython3",
   "version": "3.9.7"
  }
 },
 "nbformat": 4,
 "nbformat_minor": 5
}
