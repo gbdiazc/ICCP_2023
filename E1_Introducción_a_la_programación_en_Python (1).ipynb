{
  "cells": [
    {
      "cell_type": "markdown",
      "id": "c55866a0",
      "metadata": {
        "id": "c55866a0"
      },
      "source": [
        "1.1 Asignar el valor 2 a la variable x y el valor 3 a la variable y e imprimirlas\n",
        "\n",
        "1.2 Sumar ambas variables en z e imprimirla\n",
        "\n",
        "1.3 Borrar la variable x e imprimir todas las variables"
      ]
    },
    {
      "cell_type": "code",
      "execution_count": null,
      "id": "bf445b22",
      "metadata": {
        "id": "bf445b22"
      },
      "outputs": [],
      "source": [
        "# 1.1\n"
      ]
    },
    {
      "cell_type": "code",
      "execution_count": null,
      "id": "2fba173a",
      "metadata": {
        "id": "2fba173a"
      },
      "outputs": [],
      "source": [
        "# 1.2\n"
      ]
    },
    {
      "cell_type": "code",
      "execution_count": null,
      "id": "9aa97e70",
      "metadata": {
        "id": "9aa97e70"
      },
      "outputs": [],
      "source": [
        "# 1.3\n"
      ]
    },
    {
      "cell_type": "markdown",
      "id": "22acfcc5",
      "metadata": {
        "id": "22acfcc5"
      },
      "source": [
        "2. Dados x = 10 and y = 3, calcular las siguientes operaciones e imprimir los resultados\n",
        "\n",
        "```\n",
        "u = x + y\n",
        "v = xy\n",
        "w = x/y\n",
        "z = x - y\n",
        "r = x**9\n",
        "s = y*3\n",
        "p = x**y\n",
        "```\n"
      ]
    },
    {
      "cell_type": "code",
      "execution_count": null,
      "id": "77e1027a",
      "metadata": {
        "id": "77e1027a"
      },
      "outputs": [],
      "source": [
        "# 2\n",
        "\n"
      ]
    },
    {
      "cell_type": "markdown",
      "id": "fffdf9f6",
      "metadata": {
        "id": "fffdf9f6"
      },
      "source": [
        "3.1 Crear una cadena de nombre S que contenga las variavles '123' a la variable S. Convierta la cadena en un tipo flotante y asigne la salida a la variable N, imprimir ambas variables\n",
        "\n",
        "3.2 Verifique que S es una cadena y N es un flotante (imprimir)\n",
        "\n",
        "3.3 Sumar los elementos de S en la variable sum_S y de N en sum_N, imprimir sum_S y sum_N y el tipo de datos de amvas variables"
      ]
    },
    {
      "cell_type": "code",
      "execution_count": null,
      "id": "91906c21",
      "metadata": {
        "id": "91906c21"
      },
      "outputs": [],
      "source": [
        "# 3.1\n"
      ]
    },
    {
      "cell_type": "code",
      "execution_count": null,
      "id": "72bc19d6",
      "metadata": {
        "id": "72bc19d6"
      },
      "outputs": [],
      "source": [
        "# 3.2\n"
      ]
    },
    {
      "cell_type": "code",
      "execution_count": null,
      "id": "30cf0737",
      "metadata": {
        "id": "30cf0737"
      },
      "outputs": [],
      "source": [
        "# 3.3\n"
      ]
    },
    {
      "cell_type": "markdown",
      "id": "dbcfac43",
      "metadata": {
        "id": "dbcfac43"
      },
      "source": [
        "4. Asigne la cadena 'HOLA' a la variable s1 y la cadena 'hola' a la variable s2. Usa el operador *==* para mostrar que no son iguales. Mostrar que s1 y s2 son iguales si se usa el método *s1.lower()* en s1. Mostrar que s1 y s2 son iguales si se usa el método *s2.upper()* en s2"
      ]
    },
    {
      "cell_type": "code",
      "execution_count": null,
      "id": "449d436a",
      "metadata": {
        "id": "449d436a"
      },
      "outputs": [],
      "source": [
        "# 4\n"
      ]
    },
    {
      "cell_type": "markdown",
      "id": "ed1c7e2e",
      "metadata": {
        "id": "ed1c7e2e"
      },
      "source": [
        "5. Contar el número de letras que tiene la siguiente oración e imprimir la oración, seguida del numero de letras que tiene, \n",
        "\n",
        "    x = \"Instituto Mexicano del Petróleo\" \n",
        "    \n",
        "    y = \"Nombre completo\"\n",
        "    "
      ]
    },
    {
      "cell_type": "code",
      "execution_count": null,
      "id": "0d7ce97b",
      "metadata": {
        "id": "0d7ce97b"
      },
      "outputs": [],
      "source": [
        "# 5\n"
      ]
    },
    {
      "cell_type": "markdown",
      "id": "861f8528",
      "metadata": {
        "id": "861f8528"
      },
      "source": [
        "6.1 Crear una lista *lista_a* con los números  [1, 2, 3, 4, 20, 6, 7, 8, 9, 10], imprir y agregar el número 5 y quitar el 20, imprimir la lista\n",
        "\n",
        "6.2 Ordenar la lista *lista_a* de forma ascendente e imprimirla"
      ]
    },
    {
      "cell_type": "code",
      "execution_count": null,
      "id": "36b1f91c",
      "metadata": {
        "id": "36b1f91c"
      },
      "outputs": [],
      "source": [
        "# 6.1\n"
      ]
    },
    {
      "cell_type": "code",
      "execution_count": null,
      "id": "bb6d0d88",
      "metadata": {
        "id": "bb6d0d88"
      },
      "outputs": [],
      "source": [
        "# 6.2\n"
      ]
    },
    {
      "cell_type": "markdown",
      "id": "9bdd0500",
      "metadata": {
        "id": "9bdd0500"
      },
      "source": [
        "7.1 Crear un conjunto \"C\" con todas las letras del diccionario en español\n",
        "\n",
        "7.2 Contar los elementos de \"C\"\n",
        "\n",
        "7.3 Imprimir el conjunto \"C\" y el tamaño de este conjunto\n"
      ]
    },
    {
      "cell_type": "code",
      "execution_count": null,
      "id": "a5868d19",
      "metadata": {
        "id": "a5868d19"
      },
      "outputs": [],
      "source": [
        "# 7.1\n"
      ]
    },
    {
      "cell_type": "code",
      "execution_count": null,
      "id": "6cf67f6e",
      "metadata": {
        "id": "6cf67f6e"
      },
      "outputs": [],
      "source": [
        "# 7.2\n"
      ]
    },
    {
      "cell_type": "code",
      "execution_count": null,
      "id": "b7d7b016",
      "metadata": {
        "id": "b7d7b016"
      },
      "outputs": [],
      "source": [
        "# 7.3\n"
      ]
    },
    {
      "cell_type": "markdown",
      "id": "7374936c",
      "metadata": {
        "id": "7374936c"
      },
      "source": [
        "8.1 Crear un diccionaro \"D\" con todas las letras del diccionario en español y asignarles el número de letras, e.g. A tiene valor 1, B valor 2, etc\n",
        "\n",
        "8.2 Imprimir cada letra con su respectivo valor\n",
        "\n",
        "8.3 Seleccionar las letras de tu nombre y sumar los valores correspondientes a cada letra, imprimir tu nombre y el total de la suma\n"
      ]
    },
    {
      "cell_type": "code",
      "execution_count": null,
      "id": "3bebf19c",
      "metadata": {
        "id": "3bebf19c"
      },
      "outputs": [],
      "source": [
        "# 8.1\n"
      ]
    },
    {
      "cell_type": "code",
      "execution_count": null,
      "id": "802304e2",
      "metadata": {
        "id": "802304e2"
      },
      "outputs": [],
      "source": [
        "# 8.2\n"
      ]
    },
    {
      "cell_type": "code",
      "execution_count": null,
      "id": "6a456255",
      "metadata": {
        "id": "6a456255"
      },
      "outputs": [],
      "source": [
        "# 8.3\n"
      ]
    },
    {
      "cell_type": "markdown",
      "id": "8354c56c",
      "metadata": {
        "id": "8354c56c"
      },
      "source": [
        "9. Escribe tu nombre completo y separalo en una lista que contenga todos los elementos de tu nombre\n"
      ]
    },
    {
      "cell_type": "code",
      "execution_count": null,
      "id": "7f8db8cb",
      "metadata": {
        "id": "7f8db8cb"
      },
      "outputs": [],
      "source": [
        "# 9\n"
      ]
    },
    {
      "cell_type": "markdown",
      "source": [
        "10.1 Realiza una lista que se llame lista vieja con los siguientes elementos [[1,1,1], [2,2,2],[3,3,3]] y busca su id de referencia en la memoria (usa el comando id()).\n",
        "\n",
        "10.2 Iguala la lista vieja con otra lista qiue se llame lista nueva y busca el lugar de referencia de la nueva lista\n",
        "\n",
        "10.3 Adiciona la lista [4] a la vieja lista e imprime la nueva lista.\n",
        "\n",
        "10.4 Copia la vieja lista utilizando deep copy y nombrala nueva lista 2 (importar librería copy, usar comando copy.copy())\n",
        "\n",
        "10.5 Imprime los id's de referencia de la vieja lista y de la nueva lista 2\n",
        "\n",
        "10.6 Adiciona la lista [5] en la vieja lista e imprime lista vieja y lista nueva 2"
      ],
      "metadata": {
        "id": "SfItTXEb4BSB"
      },
      "id": "SfItTXEb4BSB"
    },
    {
      "cell_type": "code",
      "source": [
        "\n"
      ],
      "metadata": {
        "id": "zc8kE51H59O6"
      },
      "id": "zc8kE51H59O6",
      "execution_count": null,
      "outputs": []
    },
    {
      "cell_type": "code",
      "execution_count": null,
      "id": "0910dc3c",
      "metadata": {
        "id": "0910dc3c"
      },
      "outputs": [],
      "source": [
        "11. Crear un diccionario con nombre my_data que contenga:\n",
        "    1. Nombres \n",
        "    2. Apellidos\n",
        "    3. E-mail\n",
        "    4. Edad\n",
        "    5. Grado \n",
        "    6. Licenciatura\n",
        "    7. Proyecto\n",
        "    8. Tutor"
      ]
    },
    {
      "cell_type": "code",
      "execution_count": null,
      "id": "2a8c9d5c",
      "metadata": {
        "id": "2a8c9d5c"
      },
      "outputs": [],
      "source": [
        "# 11\n"
      ]
    },
    {
      "cell_type": "markdown",
      "source": [
        "12. Realiza un código que tome 2 numeros dados por un usuario y verifique si la suma es menor, mayor o igual que 10\n",
        "\n"
      ],
      "metadata": {
        "id": "2mK-hqQmOUMk"
      },
      "id": "2mK-hqQmOUMk"
    },
    {
      "cell_type": "code",
      "execution_count": 6,
      "id": "d3e28147",
      "metadata": {
        "id": "d3e28147"
      },
      "outputs": [],
      "source": [
        "# 12\n"
      ]
    },
    {
      "cell_type": "markdown",
      "source": [
        "13. Realiza un código que tome tre números de un usuario y verifique si todos los numeros son iguales o almenos dos de ellos son iguales"
      ],
      "metadata": {
        "id": "LqwiMyn30ZwN"
      },
      "id": "LqwiMyn30ZwN"
    },
    {
      "cell_type": "code",
      "source": [
        "# 13\n",
        "\n"
      ],
      "metadata": {
        "id": "_9UuDB-O0mlD"
      },
      "id": "_9UuDB-O0mlD",
      "execution_count": 7,
      "outputs": []
    },
    {
      "cell_type": "markdown",
      "source": [
        "14. Realizar un código que lea dos números de terminal y una operacion, y que imprima la operación que se está realizando, asi como los resultados, las operaciones a realizar son las siguientes:\n",
        "\n",
        "    \"+\"\n",
        "\n",
        "    \"-\"\n",
        "\n",
        "    \"*\"\n",
        "    \n",
        "    \"/\""
      ],
      "metadata": {
        "id": "nhEHQBL1w9Ig"
      },
      "id": "nhEHQBL1w9Ig"
    },
    {
      "cell_type": "code",
      "source": [
        "# 14\n"
      ],
      "metadata": {
        "id": "h6YEI_eFsjt9"
      },
      "id": "h6YEI_eFsjt9",
      "execution_count": 8,
      "outputs": []
    },
    {
      "cell_type": "markdown",
      "source": [
        "15. Realiza un programa que lea una variable dada en un tipo de unidades, imprima la variable de entrada con sus unidades, y la convierta a las unidades dadas, imprima su valor y las nuevas unidades\n",
        "\n",
        "\n",
        "1.   Atmosferas a Pascales / Pascales a atmósferas\n",
        "2.   Bares a Pascales / Pascales a bares\n",
        "3.   Pies a metros / metros a pies\n",
        "4.   Metros a centímetros / centímetros a metros\n",
        "5.   Darcys a metros / metros a Darcys\n",
        "6.   Centi Poiseilles a Pascales*s / Pascales*s a Centi Poiseilles\n",
        "\n",
        "\n"
      ],
      "metadata": {
        "id": "0jDwfTm3s1Ng"
      },
      "id": "0jDwfTm3s1Ng"
    },
    {
      "cell_type": "code",
      "source": [
        "# 15"
      ],
      "metadata": {
        "id": "oMgrb6xGuy8o"
      },
      "id": "oMgrb6xGuy8o",
      "execution_count": null,
      "outputs": []
    },
    {
      "cell_type": "markdown",
      "source": [
        "16. Hacer una tabla en markdow que muestre el valor requerido para convertir las unidades del ejercicio anterior\n"
      ],
      "metadata": {
        "id": "5olhtpkSr6Jc"
      },
      "id": "5olhtpkSr6Jc"
    },
    {
      "cell_type": "markdown",
      "source": [
        "# 16"
      ],
      "metadata": {
        "id": "gQKxQCLKu1y9"
      },
      "id": "gQKxQCLKu1y9"
    }
  ],
  "metadata": {
    "kernelspec": {
      "display_name": "Python 3 (ipykernel)",
      "language": "python",
      "name": "python3"
    },
    "language_info": {
      "codemirror_mode": {
        "name": "ipython",
        "version": 3
      },
      "file_extension": ".py",
      "mimetype": "text/x-python",
      "name": "python",
      "nbconvert_exporter": "python",
      "pygments_lexer": "ipython3",
      "version": "3.9.7"
    },
    "colab": {
      "provenance": []
    }
  },
  "nbformat": 4,
  "nbformat_minor": 5
}