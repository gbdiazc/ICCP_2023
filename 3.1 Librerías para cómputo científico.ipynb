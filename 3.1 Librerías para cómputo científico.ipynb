{
 "cells": [
  {
   "cell_type": "markdown",
   "id": "50a5c995",
   "metadata": {},
   "source": [
    "# Librerias\n",
    "Como se mencionó anteriormente, las librerias son conjuntos de funciones que realizan funciones específicas, algunas de ellas son:\n",
    "\n",
    "<img src=\"../Images/wrapper.png\" title=\"Python wrappers\" width=\"600\"/>\n",
    "\n",
    "    \n",
    "\n",
    "## Instalación en equipo local\n",
    "Para instalar librerías se recomienda crear un **entorno virtual** e instalar las librerías requeridas para cada proyecto en el entorno correspondiente al proyecto en cuestión.\n",
    "\n",
    "Para crear un entorno virual en linux o en la terminal de windows se abre la terminal de anaconda *Anaconda Prompt*, con *Python* 3\n",
    "\n",
    "1.   Crear entorno virtual: \n",
    "\n",
    "`\\$conda create -n my_env python=3.5 numpy sympy`\n",
    "\n",
    "\n",
    "2.   Activar entorno virtual:\n",
    "\n",
    "`\\$conda activate my_env`\n",
    "\n",
    "3.   Instalar más librerías:\n",
    "\n",
    "`(my_env)\\$conda install sympy`\n",
    "\n",
    "4.   Instalar jupyter-notebook\n",
    "\n",
    "`(my_env)\\$conda install -c conda-forge jupyterlab`\n",
    "\n",
    "5.   Abrir jupyter-notebook\n",
    "\n",
    "`(my_env)\\$jupyter-notebook`\n",
    "\n",
    "6. Llamar librerías\n",
    "\n",
    "`(my_env)\\$import librería`\n",
    "\n",
    "\n",
    "## Anaconda Navigator\n",
    "\n",
    "<img src=\"../Images/new_env.png\" title=\"Create Environment\" width=\"600\"/>"
   ]
  },
  {
   "cell_type": "markdown",
   "id": "07f42f0b",
   "metadata": {},
   "source": [
    "## Sympy\n",
    "\n",
    "Para llamar la librería de cálculo simbolico [sympy]: https://www.sympy.org/en/index.html, esta se importa como sigue \n",
    "\n",
    "\\begin{array}{llL} \n",
    "import  & \\text{sympy }            &    as &   \\text{ sp}\\\\ \n",
    "\\end{array}\n",
    "\n",
    "Su propósito es realizar cálculos de manera simbolica, es decir con variables que no tienen un valor definido de la forma mas sencilla posible, estas variables simbolicas se tienen que declarar de forma explícita.\n",
    "\n",
    "Esta librería es capas de simplificar expresiones, calcular derivadas, integrales, limites, resolver ecuaciones, trabajar con matrices, etc."
   ]
  },
  {
   "cell_type": "code",
   "execution_count": null,
   "id": "733bd054",
   "metadata": {},
   "outputs": [],
   "source": [
    "from sympy import symbols\n",
    "x, y = symbols('x y')\n",
    "expr = x + 2*y\n",
    "expr\n"
   ]
  },
  {
   "cell_type": "code",
   "execution_count": null,
   "id": "3c3c2002",
   "metadata": {},
   "outputs": [],
   "source": [
    "expr + 1"
   ]
  },
  {
   "cell_type": "code",
   "execution_count": null,
   "id": "f6168bad",
   "metadata": {},
   "outputs": [],
   "source": [
    "expr - x"
   ]
  },
  {
   "cell_type": "code",
   "execution_count": null,
   "id": "32146406",
   "metadata": {},
   "outputs": [],
   "source": [
    "x*expr"
   ]
  },
  {
   "cell_type": "code",
   "execution_count": null,
   "id": "5a431e05",
   "metadata": {},
   "outputs": [],
   "source": [
    "from sympy import expand, factor\n",
    "expanded_expr = expand(x*expr)\n",
    "expanded_expr\n"
   ]
  },
  {
   "cell_type": "code",
   "execution_count": null,
   "id": "4e4bbe76",
   "metadata": {},
   "outputs": [],
   "source": [
    "factor(expanded_expr)"
   ]
  },
  {
   "cell_type": "markdown",
   "id": "4680c4bf",
   "metadata": {},
   "source": [
    "### Integrales\n",
    "\n",
    "\n",
    "$\\int(e^x sin(x)+e^x cos(x))dx$"
   ]
  },
  {
   "cell_type": "code",
   "execution_count": null,
   "id": "3fb401b0",
   "metadata": {},
   "outputs": [],
   "source": [
    "from sympy import *\n",
    "x, t, z, nu = symbols('x t z nu')\n",
    "integrate(exp(x)*sin(x) + exp(x)*cos(x), x)"
   ]
  },
  {
   "cell_type": "markdown",
   "id": "72a7281e",
   "metadata": {},
   "source": [
    "$\\int_{-\\infty}^{\\infty}(sin(x^2)dx$"
   ]
  },
  {
   "cell_type": "code",
   "execution_count": null,
   "id": "e6a6e713",
   "metadata": {},
   "outputs": [],
   "source": [
    "integrate(sin(x**2), (x, -oo, oo))"
   ]
  },
  {
   "cell_type": "markdown",
   "id": "93474107",
   "metadata": {},
   "source": [
    "### Derivadas\n",
    "\n",
    "\n",
    "$\\frac{d(e^x sin(x))}{dx}$"
   ]
  },
  {
   "cell_type": "code",
   "execution_count": null,
   "id": "a2baf2bc",
   "metadata": {},
   "outputs": [],
   "source": [
    "diff(sin(x)*exp(x), x)"
   ]
  },
  {
   "cell_type": "markdown",
   "id": "19dbb01c",
   "metadata": {},
   "source": [
    "### Limites\n",
    "\n",
    "$lim_{x\\rightarrow 0} \\frac{sin(x)}{x}$"
   ]
  },
  {
   "cell_type": "code",
   "execution_count": null,
   "id": "1eb86be0",
   "metadata": {},
   "outputs": [],
   "source": [
    "limit(sin(x)/x, x, 0)"
   ]
  },
  {
   "cell_type": "markdown",
   "id": "78b25a9e",
   "metadata": {},
   "source": [
    "### Solución de ecuaciones\n",
    "\n",
    "$x^2-2=0$\n"
   ]
  },
  {
   "cell_type": "code",
   "execution_count": null,
   "id": "b6660820",
   "metadata": {},
   "outputs": [],
   "source": [
    "solve(x**2 - 2, x)"
   ]
  },
  {
   "cell_type": "markdown",
   "id": "6b6a697e",
   "metadata": {},
   "source": [
    "$y''-y = e^t$"
   ]
  },
  {
   "cell_type": "code",
   "execution_count": null,
   "id": "a9a67a20",
   "metadata": {},
   "outputs": [],
   "source": [
    "y = Function('y')\n",
    "dsolve(Eq(y(t).diff(t, t) - y(t), exp(t)), y(t))"
   ]
  },
  {
   "cell_type": "markdown",
   "id": "7b8ce4e8",
   "metadata": {},
   "source": [
    "### Imprimir usando latex \n",
    "\n",
    "\n",
    "$\\int_0 ^{\\pi} cos(x)^2dx$"
   ]
  },
  {
   "cell_type": "code",
   "execution_count": null,
   "id": "e7ee76ff",
   "metadata": {},
   "outputs": [],
   "source": [
    "latex(Integral(cos(x)**2, (x, 0, pi)))"
   ]
  },
  {
   "cell_type": "markdown",
   "id": "1d8477d4",
   "metadata": {},
   "source": [
    "\n",
    "## Numpy \n",
    "\n",
    "[numpy]: https://www.numpy.org/devdocs/user/quickstart.html\n",
    "\n",
    "Con la librería de numpy se pueden crear vectores y matrices de la siguiente forma:\n",
    "\n",
    "\n",
    "* Vector con N entradas \n",
    "\n",
    "    x = np.array([1, 2, ..., N]) \n",
    "\n",
    " \n",
    "* Vector con N ceros    \n",
    "\n",
    "    x = np.zeros(N)\n",
    "\n",
    "\n",
    "* Vector con N unos  \n",
    "\n",
    "    x = np.ones(N)\n",
    "    \n",
    "    \n",
    "* Matriz con (N,N) entradas \n",
    "\n",
    "   A = np.array(([1, 2, ..., N],[1, 2, ..., N],[1, 2, ..., N],[1, 2, ..., N]))\n"
   ]
  },
  {
   "cell_type": "code",
   "execution_count": null,
   "id": "8c8b28b3",
   "metadata": {},
   "outputs": [],
   "source": [
    "# Ejemplos\n",
    "import numpy as np\n",
    "N = 4\n",
    "\n",
    "# Vector con 4 entradas distintas de cero\n",
    "x = np.array([1, 2, 3, 4])    \n",
    "print('x = {}'.format(x))\n",
    "print('tTipo de variable: {}'.format(type(x)))"
   ]
  },
  {
   "cell_type": "code",
   "execution_count": null,
   "id": "090e3563",
   "metadata": {},
   "outputs": [],
   "source": [
    "# Vector con 4 entradas iguales a cero\n",
    "x = np.zeros(N)\n",
    "print('x = {}'.format(x))\n"
   ]
  },
  {
   "cell_type": "code",
   "execution_count": null,
   "id": "2c0d5441",
   "metadata": {},
   "outputs": [],
   "source": [
    "# Vector con 4 entradas iguales a uno\n",
    "x = np.ones(N)\n",
    "print('x = {}'.format(x))\n"
   ]
  },
  {
   "cell_type": "code",
   "execution_count": null,
   "id": "89a5bd4d",
   "metadata": {},
   "outputs": [],
   "source": [
    "# Vector con 4 entradas aleatorias\n",
    "x = np.random.random(N)\n",
    "print('x = {}'.format(x))\n"
   ]
  },
  {
   "cell_type": "code",
   "execution_count": null,
   "id": "67dacc9f",
   "metadata": {},
   "outputs": [],
   "source": [
    "# Vector con numeros enteros del 0 al 15\n",
    "x = np.arange(0,15)\n",
    "print('x = {}'.format(x))\n"
   ]
  },
  {
   "cell_type": "code",
   "execution_count": null,
   "id": "ccc46d32",
   "metadata": {},
   "outputs": [],
   "source": [
    "# Vector conmultiplos de 5 del 0 al 100\n",
    "x = np.arange(0,100,5)\n",
    "print('x = {}'.format(x))\n",
    "\n"
   ]
  },
  {
   "cell_type": "code",
   "execution_count": null,
   "id": "bd7c109f",
   "metadata": {},
   "outputs": [],
   "source": [
    "# Seleccionae un elemento del vector x\n",
    "x_0 = x[0]\n",
    "print('x = {}'.format(x_0))\n"
   ]
  },
  {
   "cell_type": "code",
   "execution_count": null,
   "id": "c8223b4c",
   "metadata": {},
   "outputs": [],
   "source": [
    "# Invertir el vector x\n",
    "x_1 = x[::-1]\n",
    "print('x = {}'.format(x_1))\n"
   ]
  },
  {
   "cell_type": "code",
   "execution_count": null,
   "id": "5d6a902d",
   "metadata": {},
   "outputs": [],
   "source": [
    "# Encontrar los indices que no son ceros de un vector\n",
    "x = np.array([1,2,4,2,4,0,1,0,0,0,12,4,5,6,7,0])\n",
    "nz = np.argwhere( x!=0 )\n",
    "print('En donde no es zero el vector x = {} no es cero,\\n nz = {}'.format(x,nz))"
   ]
  },
  {
   "cell_type": "code",
   "execution_count": null,
   "id": "9832f554",
   "metadata": {},
   "outputs": [],
   "source": [
    "print('x[1] = {}'.format(x[1]))"
   ]
  },
  {
   "cell_type": "code",
   "execution_count": null,
   "id": "5873e991",
   "metadata": {},
   "outputs": [],
   "source": [
    "# Crear una matriz 3x3 con valores de 0 a 8\n",
    "A = np.arange(0,9).reshape(3,3)\n",
    "print('A = \\n{}'.format(A))\n",
    "print('tTipo de variable: {}'.format(type(A)))"
   ]
  },
  {
   "cell_type": "code",
   "execution_count": null,
   "id": "ba7c3c49",
   "metadata": {},
   "outputs": [],
   "source": [
    "# Matrix de cuatro por cuatro\n",
    "A = np.array(([1, 2, 3, 4],[1, 2, 3, 4],[1, 2, 3, 4],[1, 2, 3, 4]))\n",
    "print('A = \\n{}'.format(A))\n"
   ]
  },
  {
   "cell_type": "code",
   "execution_count": null,
   "id": "01b0f9e4",
   "metadata": {},
   "outputs": [],
   "source": [
    "# Matriz identidad de 3x3\n",
    "A = np.identity(3)\n",
    "print('A = \\n{}'.format(A))\n"
   ]
  },
  {
   "cell_type": "code",
   "execution_count": null,
   "id": "5c00280d",
   "metadata": {},
   "outputs": [],
   "source": [
    "# Matriz de numeros aleatorios de 3x3x3\n",
    "A = np.random.random((3,3,3))\n",
    "print('A = \\n{}'.format(A))\n"
   ]
  }
 ],
 "metadata": {
  "kernelspec": {
   "display_name": "Python 3 (ipykernel)",
   "language": "python",
   "name": "python3"
  },
  "language_info": {
   "codemirror_mode": {
    "name": "ipython",
    "version": 3
   },
   "file_extension": ".py",
   "mimetype": "text/x-python",
   "name": "python",
   "nbconvert_exporter": "python",
   "pygments_lexer": "ipython3",
   "version": "3.9.7"
  }
 },
 "nbformat": 4,
 "nbformat_minor": 5
}
