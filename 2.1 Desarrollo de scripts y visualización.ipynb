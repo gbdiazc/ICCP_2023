{
 "cells": [
  {
   "cell_type": "markdown",
   "metadata": {
    "id": "bcvskIywz2J9"
   },
   "source": [
    "# Graficas \n",
    "### Graficas 2D\n",
    "Python cuenta con varias librerias que contienen funciones predefinidas. Para usarlas, se tienen que importar con la función *import*. En este curso se utilizará una libreria con funciones matemáticas [numpy] y una librería para graficar [matplotlib](https://matplotlib.org/gallery/index.html#gallery). Si el nombre de la librería es muy largo, se pueden renombrar con *as*.\n",
    "\n",
    "\\begin{array}{llL} \n",
    "import  & \\text{numpy }            &    as &   \\text{ np}\\\\ \n",
    "import  & \\text{matplotlib.pyplot }&    as &   \\text{ plt}\\\\ \n",
    "\\end{array}\n",
    "\n",
    "#### Matplotlib\n",
    "Esta librería sirve para graficar funciones, la sintaxis básica es:\n",
    "\n",
    "import matplotlib.pyplot as plt\n",
    "%matplotlib notebook\n",
    "\n",
    "* Graficar x vs y \n",
    "\n",
    "*plt.plot(x,y)*\n",
    "* Agregar título \n",
    "\n",
    "*plt.title('Grafica de x vs y', fontsize=16)*\n",
    "* Agregar nombre al eje x \n",
    "\n",
    "*plt.xlabel('Valores', fontsize=14)*\n",
    "* Agregar nombre al eje y \n",
    "\n",
    "*plt.ylabel('Promedios', fontsize=14)*\n",
    "* Mostrar la gráfica\n",
    "\n",
    "*plt.show()*"
   ]
  },
  {
   "cell_type": "code",
   "execution_count": null,
   "metadata": {
    "colab": {
     "base_uri": "https://localhost:8080/",
     "height": 303
    },
    "executionInfo": {
     "elapsed": 1557,
     "status": "ok",
     "timestamp": 1674683792734,
     "user": {
      "displayName": "Luis Antonio",
      "userId": "10599916469398678728"
     },
     "user_tz": 360
    },
    "id": "pj_y-8qiz2KA",
    "outputId": "a2db605a-68d2-4a00-fb86-45cee25c679e"
   },
   "outputs": [],
   "source": [
    "# Ejemplo: Gráfica de la función $f(x)= 2x^2$\n",
    "\n",
    "import numpy as np\n",
    "import matplotlib.pyplot as plt\n",
    "N = 10\n",
    "x = np.array([x for x in range(N)]) \n",
    "y = 2 * x**2\n",
    "plt.plot(x,y)\n",
    "plt.title('Grafica de x vs $f(x)$', fontsize=16)\n",
    "plt.xlabel('x', fontsize=14)\n",
    "plt.ylabel('$f(x)$', fontsize=14)\n",
    "plt.show()\n"
   ]
  },
  {
   "cell_type": "markdown",
   "metadata": {
    "id": "q7xNSxxFz2KC"
   },
   "source": [
    "Para modificar las lineas o el color, se pueden agregar opciones extra en la instrucción de graficar. Por ejemplo podemos agregar 'ro' para poner circulos rojos "
   ]
  },
  {
   "cell_type": "code",
   "execution_count": null,
   "metadata": {
    "colab": {
     "base_uri": "https://localhost:8080/",
     "height": 303
    },
    "executionInfo": {
     "elapsed": 402,
     "status": "ok",
     "timestamp": 1674683804766,
     "user": {
      "displayName": "Luis Antonio",
      "userId": "10599916469398678728"
     },
     "user_tz": 360
    },
    "id": "DXLAD-tUz2KC",
    "outputId": "1db56d21-d9fb-4d6f-a7b4-f32e9923baba"
   },
   "outputs": [],
   "source": [
    "N = 10\n",
    "x = np.array([x for x in range(N)]) \n",
    "#x = np.linspace(0,N, 100)\n",
    "y = 2 * x**2\n",
    "plt.plot(x,y,'ro')\n",
    "plt.title('Grafica de x vs $f(x)$', fontsize=16)\n",
    "plt.xlabel('x', fontsize=14)\n",
    "plt.ylabel('$f(x)$', fontsize=14)\n",
    "plt.show()\n"
   ]
  },
  {
   "cell_type": "markdown",
   "metadata": {
    "id": "yxeAjO3jz2KC"
   },
   "source": [
    "Las posibilidades se muestran a continuación\n",
    "\n",
    "\n",
    "| Symbol  | Description  | Symbol  |  Description |\n",
    "|:---:|:---:|:---:|:---:|\n",
    "|  b | blue  |  T |  T |\n",
    "|  g | green |  s | square  |\n",
    "|  r |  red |  d |  diamond |\n",
    "|  c |  cyan |  v | triangle (down)  |\n",
    "|  m |  magenta | ^  | triangle (up)   |\n",
    "|  y |  yellow | <  | triangle (left)   |\n",
    "|  k | black  |  > |  triangle (right)  |\n",
    "|  w |  white | p  | pentagram  |\n",
    "|  . |  point |  h |  hexagram |\n",
    "|  o |  circle | -  |  solid |\n",
    "|  x | x-mark  |  : |  dotted |\n",
    "|  + |  plus | -.  | dashdot  |\n",
    "|  * |  star |  --  | dashed  |\n",
    "\n",
    "\n",
    "Tambien se pueden cambiar cualquier parte de la figura, el tamaño, los nombres de los ejes, su tamaño, con *fontsize*. Existen unos estilos predefinidos que tienen valores dados, las posibilidades se encuentran como sigue: "
   ]
  },
  {
   "cell_type": "code",
   "execution_count": null,
   "metadata": {
    "colab": {
     "base_uri": "https://localhost:8080/"
    },
    "executionInfo": {
     "elapsed": 377,
     "status": "ok",
     "timestamp": 1674683857304,
     "user": {
      "displayName": "Luis Antonio",
      "userId": "10599916469398678728"
     },
     "user_tz": 360
    },
    "id": "CAt14wf_z2KD",
    "outputId": "e4eb5910-debe-4cba-89df-fbc7d31577ee"
   },
   "outputs": [],
   "source": [
    "print(plt.style.available)"
   ]
  },
  {
   "cell_type": "code",
   "execution_count": null,
   "metadata": {
    "colab": {
     "base_uri": "https://localhost:8080/",
     "height": 427
    },
    "executionInfo": {
     "elapsed": 487,
     "status": "ok",
     "timestamp": 1674684185409,
     "user": {
      "displayName": "Luis Antonio",
      "userId": "10599916469398678728"
     },
     "user_tz": 360
    },
    "id": "nK9G0jGIz2KD",
    "outputId": "9e3222e4-cbf6-4225-ad50-8e1a150f3643"
   },
   "outputs": [],
   "source": [
    "plt.style.use('seaborn-muted')\n",
    "plt.figure(figsize = (10,6))\n",
    "N = 10\n",
    "x = np.array([x for x in range(N)]) \n",
    "#x = np.linspace(0,N, 100)\n",
    "y = 5 * x**2\n",
    "plt.plot(y, 'bo')\n",
    "y =  x**3\n",
    "plt.plot(y,'g*')\n",
    "plt.title('Grafica de x vs $f(x)$')\n",
    "plt.xlabel('x')\n",
    "plt.ylabel('$f(x)$')\n",
    "plt.show()"
   ]
  },
  {
   "cell_type": "markdown",
   "metadata": {
    "id": "xN3pUBlVz2KD"
   },
   "source": [
    "Se puede agregar los nombres de cada grafica, usando la función *legend* y agregando un argumento llamado *label* en el comando de graficar *plot*. La función leyenda también toma el argumento *loc* para indicar en donde se ubican los nombres."
   ]
  },
  {
   "cell_type": "code",
   "execution_count": null,
   "metadata": {
    "colab": {
     "base_uri": "https://localhost:8080/",
     "height": 427
    },
    "executionInfo": {
     "elapsed": 578,
     "status": "ok",
     "timestamp": 1674684296261,
     "user": {
      "displayName": "Luis Antonio",
      "userId": "10599916469398678728"
     },
     "user_tz": 360
    },
    "id": "20KdCUs7z2KD",
    "outputId": "2867ec96-6c83-4cf6-bc7c-9b501d6b26af"
   },
   "outputs": [],
   "source": [
    "plt.style.use('seaborn-poster')\n",
    "plt.figure(figsize = (10,6))\n",
    "N = 10\n",
    "x = np.array([x for x in range(N)]) \n",
    "#x = np.linspace(0,N, 100)\n",
    "y = 5 * x**2\n",
    "plt.plot(x, y, 'bo', label = '$f(x) = 5x^2$')\n",
    "y =  x**3\n",
    "plt.plot(x, y, 'r*', label = '$f(x) = x^3$')\n",
    "plt.title('Grafica de x vs $f(x)$')\n",
    "plt.xlabel('x')\n",
    "plt.ylabel('$f(x)$')\n",
    "plt.legend(loc = 0)\n",
    "plt.show()"
   ]
  },
  {
   "cell_type": "markdown",
   "metadata": {
    "id": "2oDhN9Y2z2KE"
   },
   "source": [
    "También se pueden cambiar los límites de cada eje usando las funciones *xlim* o *ylim*, y agregar la funcion *grid* para agregar una malla a la figura. \n"
   ]
  },
  {
   "cell_type": "code",
   "execution_count": null,
   "metadata": {
    "colab": {
     "base_uri": "https://localhost:8080/",
     "height": 427
    },
    "executionInfo": {
     "elapsed": 439,
     "status": "ok",
     "timestamp": 1674684334169,
     "user": {
      "displayName": "Luis Antonio",
      "userId": "10599916469398678728"
     },
     "user_tz": 360
    },
    "id": "Kt55F7Ovz2KE",
    "outputId": "a99ca73d-4392-418b-d037-413707504d54"
   },
   "outputs": [],
   "source": [
    "plt.style.use('seaborn-poster')\n",
    "\n",
    "plt.figure(figsize = (10,6))\n",
    "N = 10\n",
    "x = np.array([x for x in range(N)]) \n",
    "#x = np.linspace(0,N, 100)\n",
    "y = 5 * x**2\n",
    "plt.plot(x, y, 'bo', label = '$f(x) = 5x^2$')\n",
    "y =  x**3\n",
    "plt.plot(x, y, 'r*', label = '$f(x) = x^3$')\n",
    "plt.title('Grafica de x vs $f(x)$')\n",
    "plt.xlabel('x')\n",
    "plt.ylabel('$f(x)$')\n",
    "plt.legend(loc = 2)\n",
    "\n",
    "plt.xlim(-5,12)\n",
    "plt.ylim(-100,800)\n",
    "plt.grid()\n",
    "plt.show()"
   ]
  },
  {
   "cell_type": "markdown",
   "metadata": {
    "id": "7PQPQEsUz2KE"
   },
   "source": [
    "También se puede hacer una tabla de graficas en una sola figura con la función  *subplot* que tiene 3 entradas: \n",
    "- Número de renglones \n",
    "- Número de columnas\n",
    "- Cual elemento de la tabla se va a graficar\n",
    "\n",
    "Adicionalmente, hay varias funciones que se pueden para realizar graficas específicas: \n",
    "- *scatter*:  es similar a plot solo que usa siempre circulos, scatter(x,y) es equivalente a  plot(x,y,'o')\n",
    "- *bar*: grafica barras centradas en x con altura y\n",
    "- *loglog*: escala logaritmica en los ejes x y y\n",
    "- *semilogx*: escala logaritmica en el eje x\n",
    "- *semilogy*: escala logaritmica en el eje "
   ]
  },
  {
   "cell_type": "code",
   "execution_count": null,
   "metadata": {
    "colab": {
     "base_uri": "https://localhost:8080/",
     "height": 585
    },
    "executionInfo": {
     "elapsed": 1440,
     "status": "ok",
     "timestamp": 1674684706957,
     "user": {
      "displayName": "Luis Antonio",
      "userId": "10599916469398678728"
     },
     "user_tz": 360
    },
    "id": "ULD_ooBYz2KE",
    "outputId": "f2a1d4e8-454d-476d-84cb-34e3a0738e10"
   },
   "outputs": [],
   "source": [
    "plt.style.use('seaborn-darkgrid')\n",
    "x = np.arange(11)\n",
    "y = x**2\n",
    "\n",
    "plt.figure(figsize = (14, 8))\n",
    "\n",
    "plt.subplot(2, 3, 1)\n",
    "plt.plot(x,y)\n",
    "plt.title('Plot')\n",
    "plt.xlabel('X')\n",
    "plt.ylabel('Y')\n",
    "plt.grid()\n",
    "\n",
    "plt.subplot(2, 3, 2)\n",
    "plt.scatter(x,y)\n",
    "plt.title('Scatter')\n",
    "plt.xlabel('X')\n",
    "plt.ylabel('Y')\n",
    "plt.grid()\n",
    "\n",
    "plt.subplot(2, 3, 3)\n",
    "plt.bar(x,y)\n",
    "plt.title('Bar')\n",
    "plt.xlabel('X')\n",
    "plt.ylabel('Y')\n",
    "plt.grid()\n",
    "\n",
    "plt.subplot(2, 3, 4)\n",
    "plt.loglog(x,y)\n",
    "plt.title('Loglog')\n",
    "plt.xlabel('X')\n",
    "plt.ylabel('Y')\n",
    "plt.grid(which='both')\n",
    "\n",
    "plt.subplot(2, 3, 5)\n",
    "plt.semilogx(x,y)\n",
    "plt.title('Semilogx')\n",
    "plt.xlabel('X')\n",
    "plt.ylabel('Y')\n",
    "plt.grid(which='both')\n",
    "\n",
    "plt.subplot(2, 3, 6)\n",
    "plt.semilogy(x,y)\n",
    "plt.title('Semilogy')\n",
    "plt.xlabel('X')\n",
    "plt.ylabel('Y')\n",
    "plt.grid()\n",
    "\n",
    "plt.tight_layout()\n",
    "\n",
    "plt.show()"
   ]
  },
  {
   "cell_type": "markdown",
   "metadata": {
    "id": "amSVjFVIz2KE"
   },
   "source": [
    "Para guardar las figuras se usa la función `plt.savefig`. "
   ]
  },
  {
   "cell_type": "code",
   "execution_count": null,
   "metadata": {
    "id": "zNUeAJdUz2KF",
    "outputId": "7d421b5c-a216-4c5f-bae9-aa46034c24e8"
   },
   "outputs": [],
   "source": [
    "plt.figure(figsize = (8,6))\n",
    "plt.plot(x,y)\n",
    "plt.xlabel('X')\n",
    "plt.ylabel('Y')\n",
    "plt.savefig('figura.pdf') # pdf, jpg, png ..."
   ]
  },
  {
   "cell_type": "markdown",
   "metadata": {
    "id": "2XLre2ubz2KF"
   },
   "source": [
    "## Gráficas 3D\n",
    "Para hacer gráficas en 3D con matplotlib, se tiene que importar la herramienta *mplot3d*, que permite que matplotlib haga gráficas en 3D.\n",
    "\n",
    "Para crear los ejes en 3D se usa la función *ax = plt.axes(projection='3d')* y se agregan datos, nombres de los ejes, etc.\n",
    "\n"
   ]
  },
  {
   "cell_type": "code",
   "execution_count": null,
   "metadata": {
    "colab": {
     "base_uri": "https://localhost:8080/",
     "height": 575
    },
    "executionInfo": {
     "elapsed": 462,
     "status": "ok",
     "timestamp": 1674685074521,
     "user": {
      "displayName": "Luis Antonio",
      "userId": "10599916469398678728"
     },
     "user_tz": 360
    },
    "id": "wEgNgMQsz2KF",
    "outputId": "b58e6732-775b-487e-9a33-c0287520d73f"
   },
   "outputs": [],
   "source": [
    "import numpy as np\n",
    "from mpl_toolkits import mplot3d\n",
    "import matplotlib.pyplot as plt\n",
    "plt.style.use('seaborn-poster')\n",
    "fig = plt.figure(figsize = (10,10))\n",
    "ax = plt.axes(projection='3d')\n",
    "plt.show()"
   ]
  },
  {
   "cell_type": "code",
   "execution_count": null,
   "metadata": {
    "colab": {
     "base_uri": "https://localhost:8080/",
     "height": 466
    },
    "executionInfo": {
     "elapsed": 659,
     "status": "ok",
     "timestamp": 1674685173078,
     "user": {
      "displayName": "Luis Antonio",
      "userId": "10599916469398678728"
     },
     "user_tz": 360
    },
    "id": "yqfDjabSz2KF",
    "outputId": "0b630219-5297-452a-ba0c-a1da3fc8a842"
   },
   "outputs": [],
   "source": [
    "fig = plt.figure(figsize = (8,8))\n",
    "ax = plt.axes(projection='3d')\n",
    "ax.grid()\n",
    "t = np.arange(0, 10*np.pi, np.pi/50)\n",
    "x = np.sin(t)\n",
    "y = np.cos(t)\n",
    "\n",
    "ax.plot3D(x, y, t)\n",
    "ax.set_title('3D Parametric Plot')\n",
    "\n",
    "# Set axes label\n",
    "ax.set_xlabel('x', labelpad=20)\n",
    "ax.set_ylabel('y', labelpad=20)\n",
    "ax.set_zlabel('t', labelpad=20)\n",
    "\n",
    "plt.show()"
   ]
  },
  {
   "cell_type": "markdown",
   "metadata": {
    "id": "wL948S9nz2KF"
   },
   "source": [
    "Podemos usar el comando \"%matplotlib notebook\" para hacer la grafica interactiva"
   ]
  },
  {
   "cell_type": "code",
   "execution_count": null,
   "metadata": {
    "id": "raGaYDmFz2KF",
    "outputId": "0f52e6bb-fb77-4334-e59f-cdedccb64009"
   },
   "outputs": [],
   "source": [
    "%matplotlib notebook\n",
    "fig = plt.figure(figsize = (8,8))\n",
    "ax = plt.axes(projection='3d')\n",
    "ax.grid()\n",
    "t = np.arange(0, 10*np.pi, np.pi/50)\n",
    "x = np.sin(t)\n",
    "y = np.cos(t)\n",
    "\n",
    "ax.plot3D(x, y, t)\n",
    "ax.set_title('3D Parametric Plot')\n",
    "\n",
    "# Set axes label\n",
    "ax.set_xlabel('x', labelpad=20)\n",
    "ax.set_ylabel('y', labelpad=20)\n",
    "ax.set_zlabel('t', labelpad=20)\n",
    "\n",
    "plt.show()"
   ]
  },
  {
   "cell_type": "markdown",
   "metadata": {
    "id": "15Ua473dz2KF"
   },
   "source": [
    "Para que la grafica deje de ser interactiva se usa el comando \"%matplotlib inline\""
   ]
  },
  {
   "cell_type": "code",
   "execution_count": null,
   "metadata": {
    "colab": {
     "base_uri": "https://localhost:8080/",
     "height": 575
    },
    "executionInfo": {
     "elapsed": 511,
     "status": "ok",
     "timestamp": 1674685852923,
     "user": {
      "displayName": "Luis Antonio",
      "userId": "10599916469398678728"
     },
     "user_tz": 360
    },
    "id": "nnAxHcD2z2KG",
    "outputId": "906bce3d-67a4-49b7-bb42-9513e7f9130c"
   },
   "outputs": [],
   "source": [
    "%matplotlib inline\n",
    "x = np.random.random(50)\n",
    "y = np.random.random(50)\n",
    "z = np.random.random(50)\n",
    "\n",
    "fig = plt.figure(figsize = (10,10))\n",
    "ax = plt.axes(projection='3d')\n",
    "ax.grid()\n",
    "\n",
    "ax.scatter(x, y, z, c = 'r', s = 50)\n",
    "ax.set_title('3D Scatter Plot')\n",
    "\n",
    "# Set axes label\n",
    "ax.set_xlabel('x', labelpad=20)\n",
    "ax.set_ylabel('y', labelpad=20)\n",
    "ax.set_zlabel('z', labelpad=20)\n",
    "\n",
    "plt.show()"
   ]
  },
  {
   "cell_type": "markdown",
   "metadata": {
    "id": "eF-_HtGvz2KG"
   },
   "source": [
    "Para crear la malla es necesario convertir los vectores en matrices, esto se hace con la función *meshgrid*"
   ]
  },
  {
   "cell_type": "code",
   "execution_count": null,
   "metadata": {
    "id": "fsZuwMlxz2KG",
    "outputId": "afda0904-8c7e-4723-a9d3-f51e22feca72"
   },
   "outputs": [],
   "source": [
    "x = [1, 2, 3, 4]\n",
    "y = [3, 4, 5]\n",
    "X, Y = np.meshgrid(x, y)\n",
    "print(X)"
   ]
  },
  {
   "cell_type": "code",
   "execution_count": null,
   "metadata": {
    "id": "A2vv58B9z2KG",
    "outputId": "f0e7e4ed-291f-4709-fb89-87a9941aece5"
   },
   "outputs": [],
   "source": [
    "print(Y)"
   ]
  },
  {
   "cell_type": "markdown",
   "metadata": {
    "id": "GUJ7Lz7Cz2KG"
   },
   "source": [
    "Para graficar superficies, se usa la función *plot_surface(X,Y,Z)*, en donde la malla se genera con la función *meshgrid*, and $Z = f (X,Y)$ or $Z (i,j) = f (X (i,j),Y (i,j))$.\n",
    "Tambien se puede agregar un mapa de color con la opcion *plt.cm.cividis* en el comando que grafica la superficie.\n"
   ]
  },
  {
   "cell_type": "code",
   "execution_count": null,
   "metadata": {
    "id": "Gd0QRfmyz2KG",
    "outputId": "84efc98c-3479-40f5-bc12-e957ac2a090b"
   },
   "outputs": [],
   "source": [
    "fig = plt.figure(figsize = (12,10))\n",
    "ax = plt.axes(projection='3d')\n",
    "\n",
    "x = np.arange(-5, 5.1, 0.2)\n",
    "y = np.arange(-5, 5.1, 0.2)\n",
    "\n",
    "X, Y = np.meshgrid(x, y)\n",
    "Z = np.sin(X)*np.cos(Y)\n",
    "\n",
    "surf = ax.plot_surface(X, Y, Z, cmap = plt.cm.cividis)\n",
    "\n",
    "# Set axes label\n",
    "ax.set_xlabel('x', labelpad=20)\n",
    "ax.set_ylabel('y', labelpad=20)\n",
    "ax.set_zlabel('z', labelpad=20)\n",
    "\n",
    "fig.colorbar(surf, shrink=0.5, aspect=8)\n",
    "\n",
    "plt.show()"
   ]
  },
  {
   "cell_type": "code",
   "execution_count": null,
   "metadata": {
    "id": "T6CxTVPbz2KG"
   },
   "outputs": [],
   "source": []
  }
 ],
 "metadata": {
  "colab": {
   "provenance": []
  },
  "kernelspec": {
   "display_name": "Python 3 (ipykernel)",
   "language": "python",
   "name": "python3"
  },
  "language_info": {
   "codemirror_mode": {
    "name": "ipython",
    "version": 3
   },
   "file_extension": ".py",
   "mimetype": "text/x-python",
   "name": "python",
   "nbconvert_exporter": "python",
   "pygments_lexer": "ipython3",
   "version": "3.9.7"
  }
 },
 "nbformat": 4,
 "nbformat_minor": 1
}
